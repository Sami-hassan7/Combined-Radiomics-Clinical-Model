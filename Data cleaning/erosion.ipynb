{
 "cells": [
  {
   "cell_type": "code",
   "execution_count": null,
   "metadata": {},
   "outputs": [],
   "source": [
    "import os\n",
    "import SimpleITK as sitk\n",
    "import numpy as np\n",
    "\n",
    "# Function to reduce voxel size using erosion and resampling\n",
    "def reduce_voxel_size(input_image_path, output_image_path, target_voxel_size_mm=(5.0, 5.0, 5.0)):\n",
    "    # Load the input MRI image\n",
    "    input_image = sitk.ReadImage(input_image_path)\n",
    "\n",
    "    # Convert the input image to a supported pixel type (e.g., sitkInt16)\n",
    "    input_image = sitk.Cast(input_image, sitk.sitkInt16)\n",
    "\n",
    "    # Compute the target voxel spacing\n",
    "    target_spacing = np.array(target_voxel_size_mm)\n",
    "\n",
    "    # Get the current voxel spacing of the input image\n",
    "    current_spacing = input_image.GetSpacing()\n",
    "\n",
    "    # Compute the resampling factor based on the ratio of target spacing to current spacing\n",
    "    resampling_factor = current_spacing / target_spacing\n",
    "\n",
    "    # Compute the target size (dimensions) for resampling based on resampling factor\n",
    "    target_size = np.ceil(np.array(input_image.GetSize()) * resampling_factor).astype(int).tolist()\n",
    "\n",
    "    # Create the identity transformation for resampling\n",
    "    transform = sitk.Transform()\n",
    "\n",
    "    # Resample the input image to achieve the target voxel size and dimensions\n",
    "    resampled_image = sitk.Resample(input_image, target_size, transform,\n",
    "                                     sitk.sitkLinear, input_image.GetOrigin(),\n",
    "                                     target_spacing, input_image.GetDirection(),\n",
    "                                     0, input_image.GetPixelID())\n",
    "\n",
    "    # Save the resampled image to the output path\n",
    "    sitk.WriteImage(resampled_image, output_image_path)\n",
    "\n",
    "    print(f\"Image successfully resampled to {target_voxel_size_mm} mm voxel size and saved to {output_image_path}\")\n",
    "\n",
    "# Input and output folders\n",
    "input_folder = \"/Intern Programming/data/UMCGOPC_MRI_nii_zscoreinHNmask\"\n",
    "output_folder = '/Intern Programming/data/output/UMCGOPC_MRI_nii_zscoreinHNmask_5mm'\n",
    "\n",
    "# Desired voxel size in mm\n",
    "target_voxel_size_mm = (5.0, 5.0, 5.0)\n",
    "\n",
    "# Iterate through all NIfTI files in the input folder\n",
    "for filename in os.listdir(input_folder):\n",
    "    if filename.endswith('.nii.gz'):\n",
    "        input_image_path = os.path.join(input_folder, filename)\n",
    "        output_image_path = os.path.join(output_folder, filename)\n",
    "\n",
    "        # Reduce voxel size for the current input image and save to output folder\n",
    "        reduce_voxel_size(input_image_path, output_image_path, target_voxel_size_mm)\n"
   ]
  },
  {
   "cell_type": "code",
   "execution_count": 9,
   "metadata": {},
   "outputs": [
    {
     "name": "stdout",
     "output_type": "stream",
     "text": [
      "Voxel size (spacing): (5.0, 5.0, 5.0) mm\n"
     ]
    }
   ],
   "source": [
    "import SimpleITK as sitk\n",
    "\n",
    "# Function to get voxel size (spacing) from a NIfTI file\n",
    "def get_voxel_size(nii_file_path):\n",
    "    # Load the NIfTI image\n",
    "    image = sitk.ReadImage(nii_file_path)\n",
    "\n",
    "    # Get the voxel spacing (size of each voxel in millimeters)\n",
    "    voxel_size = image.GetSpacing()\n",
    "\n",
    "    return voxel_size\n",
    "\n",
    "# Example usage:\n",
    "nii_file_path = \"/Intern Programming/data/output/UMCGOPC_MRI_nii_zscoreinHNmask_5mm/UMCG-0020715_t1.nii.gz\"\n",
    "\n",
    "# Get the voxel size (spacing) of the NIfTI file\n",
    "voxel_size = get_voxel_size(nii_file_path)\n",
    "\n",
    "# Print the voxel size (spacing) in millimeters\n",
    "print(f\"Voxel size (spacing): {voxel_size} mm\")\n"
   ]
  },
  {
   "cell_type": "code",
   "execution_count": null,
   "metadata": {},
   "outputs": [],
   "source": [
    "# The whole original one \n",
    "\n",
    "import os\n",
    "import SimpleITK as sitk\n",
    "\n",
    "import pandas as pd\n",
    "\n",
    "# Define the path to the directory containing the CT images and GTV masks\n",
    "path_to_data_t1 = \"/Intern Programming/data/output/UMCGOPC_MRI_nii_zscoreinHNmask\"\n",
    "path_to_data_t1gt0tt = \"/Intern Programming/data/t1t2_gtv\"\n",
    "# clinical data path \n",
    "clc_data_path  = ('/Intern Programming/data/OPCdigits_333_split_t1good.csv') \n",
    "clc_data = pd.read_csv( clc_data_path ).drop(columns=['Unnamed: 0'])\n",
    "\n",
    "\n",
    "# Get a list of the CT images and GTV masks in the directory\n",
    "patients_number = 333\n",
    "files = clc_data[ 'PatientID' ]\n",
    "IDs = range(patients_number)\n",
    "\n",
    "# Load each CT image and GTV mask into a list\n",
    "mri_images = [os.path.join(path_to_data_t1, x + '_t1.nii.gz') for x in files]\n",
    "gtv_masks = [os.path.join(path_to_data_t1gt0tt, x + '_gtvpttot1.nii.gz') for x in files] # gtvpt or gtvtot\n",
    "\n",
    "\n",
    "from radiomics import featureextractor\n",
    "\n",
    "# Create a PyRadiomics feature extractor object\n",
    "extractor = featureextractor.RadiomicsFeatureExtractor()\n",
    "\n",
    "# Specify the features you want to extract\n",
    "extractor.disableAllFeatures()\n",
    "extractor.enableFeatureClassByName('shape')\n",
    "extractor.enableFeatureClassByName('firstorder')\n",
    "extractor.enableFeatureClassByName('glcm')\n",
    "extractor.enableFeatureClassByName('gldm')\n",
    "extractor.enableFeatureClassByName('glrlm')\n",
    "extractor.enableFeatureClassByName('glszm')\n",
    "extractor.enableFeatureClassByName('ngtdm')\n",
    "\n",
    "# Specify the discretization of the image intensities\n",
    "extractor.settings[\"binWidth\"] = 25 # look at papers\n",
    "extractor.settings[\"resampledPixelSpacing\"] = (1.0, 1.0, 1.0) \n",
    " \n",
    "# Specify the resampling of the image and mask\n",
    "extractor.settings[\"interpolator\"] = \"sitkLinear\"\n",
    "extractor.settings[\"resamplingInterpolator\"] = \"sitkNearestNeighbor\"\n",
    "extractor.settings[\"correctMask\"] = True\n",
    "\n",
    "\n",
    "# Initialize an empty list to store DataFrames for each patient\n",
    "feature_dfs = []\n",
    "\n",
    "# Iterate over patients and extract features\n",
    "for i, (patient_id, ct_image_path, gtv_mask_path) in enumerate(zip(files, mri_images, gtv_masks)):\n",
    "    #try:\n",
    "        ct_image = sitk.ReadImage(ct_image_path)\n",
    "        gtv_mask = sitk.ReadImage(gtv_mask_path)\n",
    "        features = extractor.execute(ct_image, gtv_mask)\n",
    "\n",
    "        \n",
    "        \n",
    "        # Add patient ID to features dictionary\n",
    "        features['PatientID'] = patient_id\n",
    "        \n",
    "        # Convert features dictionary to DataFrame and append to feature_dfs list\n",
    "        #features_df = pd.DataFrame(features, index=[0])  # Create DataFrame with a single row\n",
    "        feature_dfs.append(features)\n",
    "   \n",
    "\n",
    "\n"
   ]
  },
  {
   "cell_type": "code",
   "execution_count": 22,
   "metadata": {},
   "outputs": [
    {
     "name": "stderr",
     "output_type": "stream",
     "text": [
      "GLCM is symmetrical, therefore Sum Average = 2 * Joint Average, only 1 needs to be calculated\n"
     ]
    },
    {
     "name": "stdout",
     "output_type": "stream",
     "text": [
      "Successfully extracted features for patient UMCG-0573601\n"
     ]
    },
    {
     "name": "stderr",
     "output_type": "stream",
     "text": [
      "GLCM is symmetrical, therefore Sum Average = 2 * Joint Average, only 1 needs to be calculated\n"
     ]
    },
    {
     "name": "stdout",
     "output_type": "stream",
     "text": [
      "Successfully extracted features for patient UMCG-6395952\n"
     ]
    },
    {
     "name": "stderr",
     "output_type": "stream",
     "text": [
      "GLCM is symmetrical, therefore Sum Average = 2 * Joint Average, only 1 needs to be calculated\n"
     ]
    },
    {
     "name": "stdout",
     "output_type": "stream",
     "text": [
      "Successfully extracted features for patient UMCG-5908531\n"
     ]
    },
    {
     "name": "stderr",
     "output_type": "stream",
     "text": [
      "GLCM is symmetrical, therefore Sum Average = 2 * Joint Average, only 1 needs to be calculated\n"
     ]
    },
    {
     "name": "stdout",
     "output_type": "stream",
     "text": [
      "Successfully extracted features for patient UMCG-6754277\n"
     ]
    },
    {
     "name": "stderr",
     "output_type": "stream",
     "text": [
      "GLCM is symmetrical, therefore Sum Average = 2 * Joint Average, only 1 needs to be calculated\n"
     ]
    },
    {
     "name": "stdout",
     "output_type": "stream",
     "text": [
      "Successfully extracted features for patient UMCG-1955182\n"
     ]
    },
    {
     "name": "stderr",
     "output_type": "stream",
     "text": [
      "GLCM is symmetrical, therefore Sum Average = 2 * Joint Average, only 1 needs to be calculated\n"
     ]
    },
    {
     "name": "stdout",
     "output_type": "stream",
     "text": [
      "Successfully extracted features for patient UMCG-7579675\n"
     ]
    },
    {
     "name": "stderr",
     "output_type": "stream",
     "text": [
      "GLCM is symmetrical, therefore Sum Average = 2 * Joint Average, only 1 needs to be calculated\n"
     ]
    },
    {
     "name": "stdout",
     "output_type": "stream",
     "text": [
      "Successfully extracted features for patient UMCG-9152961\n"
     ]
    },
    {
     "name": "stderr",
     "output_type": "stream",
     "text": [
      "GLCM is symmetrical, therefore Sum Average = 2 * Joint Average, only 1 needs to be calculated\n"
     ]
    },
    {
     "name": "stdout",
     "output_type": "stream",
     "text": [
      "Successfully extracted features for patient UMCG-8529090\n"
     ]
    },
    {
     "name": "stderr",
     "output_type": "stream",
     "text": [
      "GLCM is symmetrical, therefore Sum Average = 2 * Joint Average, only 1 needs to be calculated\n"
     ]
    },
    {
     "name": "stdout",
     "output_type": "stream",
     "text": [
      "Successfully extracted features for patient UMCG-7859122\n"
     ]
    },
    {
     "name": "stderr",
     "output_type": "stream",
     "text": [
      "GLCM is symmetrical, therefore Sum Average = 2 * Joint Average, only 1 needs to be calculated\n"
     ]
    },
    {
     "name": "stdout",
     "output_type": "stream",
     "text": [
      "Successfully extracted features for patient UMCG-1966976\n"
     ]
    },
    {
     "name": "stderr",
     "output_type": "stream",
     "text": [
      "GLCM is symmetrical, therefore Sum Average = 2 * Joint Average, only 1 needs to be calculated\n"
     ]
    },
    {
     "name": "stdout",
     "output_type": "stream",
     "text": [
      "Successfully extracted features for patient UMCG-7632467\n"
     ]
    },
    {
     "name": "stderr",
     "output_type": "stream",
     "text": [
      "GLCM is symmetrical, therefore Sum Average = 2 * Joint Average, only 1 needs to be calculated\n"
     ]
    },
    {
     "name": "stdout",
     "output_type": "stream",
     "text": [
      "Successfully extracted features for patient UMCG-8038025\n"
     ]
    },
    {
     "name": "stderr",
     "output_type": "stream",
     "text": [
      "GLCM is symmetrical, therefore Sum Average = 2 * Joint Average, only 1 needs to be calculated\n"
     ]
    },
    {
     "name": "stdout",
     "output_type": "stream",
     "text": [
      "Successfully extracted features for patient UMCG-7914173\n"
     ]
    },
    {
     "name": "stderr",
     "output_type": "stream",
     "text": [
      "GLCM is symmetrical, therefore Sum Average = 2 * Joint Average, only 1 needs to be calculated\n"
     ]
    },
    {
     "name": "stdout",
     "output_type": "stream",
     "text": [
      "Successfully extracted features for patient UMCG-7230221\n"
     ]
    },
    {
     "name": "stderr",
     "output_type": "stream",
     "text": [
      "GLCM is symmetrical, therefore Sum Average = 2 * Joint Average, only 1 needs to be calculated\n"
     ]
    },
    {
     "name": "stdout",
     "output_type": "stream",
     "text": [
      "Successfully extracted features for patient UMCG-5355109\n"
     ]
    },
    {
     "name": "stderr",
     "output_type": "stream",
     "text": [
      "GLCM is symmetrical, therefore Sum Average = 2 * Joint Average, only 1 needs to be calculated\n"
     ]
    },
    {
     "name": "stdout",
     "output_type": "stream",
     "text": [
      "Successfully extracted features for patient UMCG-9848352\n"
     ]
    },
    {
     "name": "stderr",
     "output_type": "stream",
     "text": [
      "GLCM is symmetrical, therefore Sum Average = 2 * Joint Average, only 1 needs to be calculated\n"
     ]
    },
    {
     "name": "stdout",
     "output_type": "stream",
     "text": [
      "Successfully extracted features for patient UMCG-9869113\n"
     ]
    },
    {
     "name": "stderr",
     "output_type": "stream",
     "text": [
      "GLCM is symmetrical, therefore Sum Average = 2 * Joint Average, only 1 needs to be calculated\n"
     ]
    },
    {
     "name": "stdout",
     "output_type": "stream",
     "text": [
      "Successfully extracted features for patient UMCG-9867081\n"
     ]
    },
    {
     "name": "stderr",
     "output_type": "stream",
     "text": [
      "GLCM is symmetrical, therefore Sum Average = 2 * Joint Average, only 1 needs to be calculated\n"
     ]
    },
    {
     "name": "stdout",
     "output_type": "stream",
     "text": [
      "Successfully extracted features for patient UMCG-2690513\n"
     ]
    },
    {
     "name": "stderr",
     "output_type": "stream",
     "text": [
      "GLCM is symmetrical, therefore Sum Average = 2 * Joint Average, only 1 needs to be calculated\n"
     ]
    },
    {
     "name": "stdout",
     "output_type": "stream",
     "text": [
      "Successfully extracted features for patient UMCG-9878177\n"
     ]
    },
    {
     "name": "stderr",
     "output_type": "stream",
     "text": [
      "GLCM is symmetrical, therefore Sum Average = 2 * Joint Average, only 1 needs to be calculated\n"
     ]
    },
    {
     "name": "stdout",
     "output_type": "stream",
     "text": [
      "Successfully extracted features for patient UMCG-9899837\n"
     ]
    },
    {
     "name": "stderr",
     "output_type": "stream",
     "text": [
      "GLCM is symmetrical, therefore Sum Average = 2 * Joint Average, only 1 needs to be calculated\n"
     ]
    },
    {
     "name": "stdout",
     "output_type": "stream",
     "text": [
      "Successfully extracted features for patient UMCG-4392265\n"
     ]
    },
    {
     "name": "stderr",
     "output_type": "stream",
     "text": [
      "GLCM is symmetrical, therefore Sum Average = 2 * Joint Average, only 1 needs to be calculated\n"
     ]
    },
    {
     "name": "stdout",
     "output_type": "stream",
     "text": [
      "Successfully extracted features for patient UMCG-9919987\n"
     ]
    },
    {
     "name": "stderr",
     "output_type": "stream",
     "text": [
      "GLCM is symmetrical, therefore Sum Average = 2 * Joint Average, only 1 needs to be calculated\n"
     ]
    },
    {
     "name": "stdout",
     "output_type": "stream",
     "text": [
      "Successfully extracted features for patient UMCG-3378098\n"
     ]
    },
    {
     "name": "stderr",
     "output_type": "stream",
     "text": [
      "GLCM is symmetrical, therefore Sum Average = 2 * Joint Average, only 1 needs to be calculated\n"
     ]
    },
    {
     "name": "stdout",
     "output_type": "stream",
     "text": [
      "Successfully extracted features for patient UMCG-9980149\n"
     ]
    },
    {
     "name": "stderr",
     "output_type": "stream",
     "text": [
      "GLCM is symmetrical, therefore Sum Average = 2 * Joint Average, only 1 needs to be calculated\n"
     ]
    },
    {
     "name": "stdout",
     "output_type": "stream",
     "text": [
      "Successfully extracted features for patient UMCG-0021879\n"
     ]
    },
    {
     "name": "stderr",
     "output_type": "stream",
     "text": [
      "GLCM is symmetrical, therefore Sum Average = 2 * Joint Average, only 1 needs to be calculated\n"
     ]
    },
    {
     "name": "stdout",
     "output_type": "stream",
     "text": [
      "Successfully extracted features for patient UMCG-4391448\n"
     ]
    },
    {
     "name": "stderr",
     "output_type": "stream",
     "text": [
      "GLCM is symmetrical, therefore Sum Average = 2 * Joint Average, only 1 needs to be calculated\n"
     ]
    },
    {
     "name": "stdout",
     "output_type": "stream",
     "text": [
      "Successfully extracted features for patient UMCG-0070426\n"
     ]
    },
    {
     "name": "stderr",
     "output_type": "stream",
     "text": [
      "GLCM is symmetrical, therefore Sum Average = 2 * Joint Average, only 1 needs to be calculated\n"
     ]
    },
    {
     "name": "stdout",
     "output_type": "stream",
     "text": [
      "Successfully extracted features for patient UMCG-0066593\n"
     ]
    },
    {
     "name": "stderr",
     "output_type": "stream",
     "text": [
      "GLCM is symmetrical, therefore Sum Average = 2 * Joint Average, only 1 needs to be calculated\n"
     ]
    },
    {
     "name": "stdout",
     "output_type": "stream",
     "text": [
      "Successfully extracted features for patient UMCG-0079378\n"
     ]
    },
    {
     "name": "stderr",
     "output_type": "stream",
     "text": [
      "GLCM is symmetrical, therefore Sum Average = 2 * Joint Average, only 1 needs to be calculated\n"
     ]
    },
    {
     "name": "stdout",
     "output_type": "stream",
     "text": [
      "Successfully extracted features for patient UMCG-5717206\n"
     ]
    },
    {
     "name": "stderr",
     "output_type": "stream",
     "text": [
      "GLCM is symmetrical, therefore Sum Average = 2 * Joint Average, only 1 needs to be calculated\n"
     ]
    },
    {
     "name": "stdout",
     "output_type": "stream",
     "text": [
      "Successfully extracted features for patient UMCG-3857371\n"
     ]
    },
    {
     "name": "stderr",
     "output_type": "stream",
     "text": [
      "GLCM is symmetrical, therefore Sum Average = 2 * Joint Average, only 1 needs to be calculated\n"
     ]
    },
    {
     "name": "stdout",
     "output_type": "stream",
     "text": [
      "Successfully extracted features for patient UMCG-3731205\n"
     ]
    },
    {
     "name": "stderr",
     "output_type": "stream",
     "text": [
      "GLCM is symmetrical, therefore Sum Average = 2 * Joint Average, only 1 needs to be calculated\n"
     ]
    },
    {
     "name": "stdout",
     "output_type": "stream",
     "text": [
      "Successfully extracted features for patient UMCG-0191693\n"
     ]
    },
    {
     "name": "stderr",
     "output_type": "stream",
     "text": [
      "GLCM is symmetrical, therefore Sum Average = 2 * Joint Average, only 1 needs to be calculated\n"
     ]
    },
    {
     "name": "stdout",
     "output_type": "stream",
     "text": [
      "Successfully extracted features for patient UMCG-4668588\n"
     ]
    },
    {
     "name": "stderr",
     "output_type": "stream",
     "text": [
      "GLCM is symmetrical, therefore Sum Average = 2 * Joint Average, only 1 needs to be calculated\n"
     ]
    },
    {
     "name": "stdout",
     "output_type": "stream",
     "text": [
      "Successfully extracted features for patient UMCG-2031147\n"
     ]
    },
    {
     "name": "stderr",
     "output_type": "stream",
     "text": [
      "GLCM is symmetrical, therefore Sum Average = 2 * Joint Average, only 1 needs to be calculated\n"
     ]
    },
    {
     "name": "stdout",
     "output_type": "stream",
     "text": [
      "Successfully extracted features for patient UMCG-1434975\n"
     ]
    },
    {
     "name": "stderr",
     "output_type": "stream",
     "text": [
      "GLCM is symmetrical, therefore Sum Average = 2 * Joint Average, only 1 needs to be calculated\n"
     ]
    },
    {
     "name": "stdout",
     "output_type": "stream",
     "text": [
      "Successfully extracted features for patient UMCG-2282663\n"
     ]
    },
    {
     "name": "stderr",
     "output_type": "stream",
     "text": [
      "GLCM is symmetrical, therefore Sum Average = 2 * Joint Average, only 1 needs to be calculated\n"
     ]
    },
    {
     "name": "stdout",
     "output_type": "stream",
     "text": [
      "Successfully extracted features for patient UMCG-0263964\n"
     ]
    },
    {
     "name": "stderr",
     "output_type": "stream",
     "text": [
      "GLCM is symmetrical, therefore Sum Average = 2 * Joint Average, only 1 needs to be calculated\n"
     ]
    },
    {
     "name": "stdout",
     "output_type": "stream",
     "text": [
      "Successfully extracted features for patient UMCG-0276627\n"
     ]
    },
    {
     "name": "stderr",
     "output_type": "stream",
     "text": [
      "GLCM is symmetrical, therefore Sum Average = 2 * Joint Average, only 1 needs to be calculated\n"
     ]
    },
    {
     "name": "stdout",
     "output_type": "stream",
     "text": [
      "Successfully extracted features for patient UMCG-0287554\n"
     ]
    },
    {
     "name": "stderr",
     "output_type": "stream",
     "text": [
      "GLCM is symmetrical, therefore Sum Average = 2 * Joint Average, only 1 needs to be calculated\n"
     ]
    },
    {
     "name": "stdout",
     "output_type": "stream",
     "text": [
      "Successfully extracted features for patient UMCG-0298536\n"
     ]
    },
    {
     "name": "stderr",
     "output_type": "stream",
     "text": [
      "GLCM is symmetrical, therefore Sum Average = 2 * Joint Average, only 1 needs to be calculated\n"
     ]
    },
    {
     "name": "stdout",
     "output_type": "stream",
     "text": [
      "Successfully extracted features for patient UMCG-0872458\n"
     ]
    },
    {
     "name": "stderr",
     "output_type": "stream",
     "text": [
      "GLCM is symmetrical, therefore Sum Average = 2 * Joint Average, only 1 needs to be calculated\n"
     ]
    },
    {
     "name": "stdout",
     "output_type": "stream",
     "text": [
      "Successfully extracted features for patient UMCG-0303865\n"
     ]
    },
    {
     "name": "stderr",
     "output_type": "stream",
     "text": [
      "GLCM is symmetrical, therefore Sum Average = 2 * Joint Average, only 1 needs to be calculated\n"
     ]
    },
    {
     "name": "stdout",
     "output_type": "stream",
     "text": [
      "Successfully extracted features for patient UMCG-7718506\n"
     ]
    },
    {
     "name": "stderr",
     "output_type": "stream",
     "text": [
      "GLCM is symmetrical, therefore Sum Average = 2 * Joint Average, only 1 needs to be calculated\n"
     ]
    },
    {
     "name": "stdout",
     "output_type": "stream",
     "text": [
      "Successfully extracted features for patient UMCG-0611128\n"
     ]
    },
    {
     "name": "stderr",
     "output_type": "stream",
     "text": [
      "GLCM is symmetrical, therefore Sum Average = 2 * Joint Average, only 1 needs to be calculated\n"
     ]
    },
    {
     "name": "stdout",
     "output_type": "stream",
     "text": [
      "Successfully extracted features for patient UMCG-0330684\n"
     ]
    },
    {
     "name": "stderr",
     "output_type": "stream",
     "text": [
      "GLCM is symmetrical, therefore Sum Average = 2 * Joint Average, only 1 needs to be calculated\n"
     ]
    },
    {
     "name": "stdout",
     "output_type": "stream",
     "text": [
      "Successfully extracted features for patient UMCG-4165333\n"
     ]
    },
    {
     "name": "stderr",
     "output_type": "stream",
     "text": [
      "GLCM is symmetrical, therefore Sum Average = 2 * Joint Average, only 1 needs to be calculated\n"
     ]
    },
    {
     "name": "stdout",
     "output_type": "stream",
     "text": [
      "Successfully extracted features for patient UMCG-3833960\n"
     ]
    },
    {
     "name": "stderr",
     "output_type": "stream",
     "text": [
      "GLCM is symmetrical, therefore Sum Average = 2 * Joint Average, only 1 needs to be calculated\n"
     ]
    },
    {
     "name": "stdout",
     "output_type": "stream",
     "text": [
      "Successfully extracted features for patient UMCG-7285754\n"
     ]
    },
    {
     "name": "stderr",
     "output_type": "stream",
     "text": [
      "GLCM is symmetrical, therefore Sum Average = 2 * Joint Average, only 1 needs to be calculated\n"
     ]
    },
    {
     "name": "stdout",
     "output_type": "stream",
     "text": [
      "Successfully extracted features for patient UMCG-8397975\n"
     ]
    },
    {
     "name": "stderr",
     "output_type": "stream",
     "text": [
      "GLCM is symmetrical, therefore Sum Average = 2 * Joint Average, only 1 needs to be calculated\n"
     ]
    },
    {
     "name": "stdout",
     "output_type": "stream",
     "text": [
      "Successfully extracted features for patient UMCG-1718685\n"
     ]
    },
    {
     "name": "stderr",
     "output_type": "stream",
     "text": [
      "GLCM is symmetrical, therefore Sum Average = 2 * Joint Average, only 1 needs to be calculated\n"
     ]
    },
    {
     "name": "stdout",
     "output_type": "stream",
     "text": [
      "Successfully extracted features for patient UMCG-4055202\n"
     ]
    },
    {
     "name": "stderr",
     "output_type": "stream",
     "text": [
      "GLCM is symmetrical, therefore Sum Average = 2 * Joint Average, only 1 needs to be calculated\n"
     ]
    },
    {
     "name": "stdout",
     "output_type": "stream",
     "text": [
      "Successfully extracted features for patient UMCG-3628692\n"
     ]
    },
    {
     "name": "stderr",
     "output_type": "stream",
     "text": [
      "GLCM is symmetrical, therefore Sum Average = 2 * Joint Average, only 1 needs to be calculated\n"
     ]
    },
    {
     "name": "stdout",
     "output_type": "stream",
     "text": [
      "Successfully extracted features for patient UMCG-4883318\n"
     ]
    },
    {
     "name": "stderr",
     "output_type": "stream",
     "text": [
      "GLCM is symmetrical, therefore Sum Average = 2 * Joint Average, only 1 needs to be calculated\n"
     ]
    },
    {
     "name": "stdout",
     "output_type": "stream",
     "text": [
      "Successfully extracted features for patient UMCG-2064239\n"
     ]
    },
    {
     "name": "stderr",
     "output_type": "stream",
     "text": [
      "GLCM is symmetrical, therefore Sum Average = 2 * Joint Average, only 1 needs to be calculated\n"
     ]
    },
    {
     "name": "stdout",
     "output_type": "stream",
     "text": [
      "Successfully extracted features for patient UMCG-8039540\n"
     ]
    },
    {
     "name": "stderr",
     "output_type": "stream",
     "text": [
      "GLCM is symmetrical, therefore Sum Average = 2 * Joint Average, only 1 needs to be calculated\n"
     ]
    },
    {
     "name": "stdout",
     "output_type": "stream",
     "text": [
      "Successfully extracted features for patient UMCG-0508784\n"
     ]
    },
    {
     "name": "stderr",
     "output_type": "stream",
     "text": [
      "GLCM is symmetrical, therefore Sum Average = 2 * Joint Average, only 1 needs to be calculated\n"
     ]
    },
    {
     "name": "stdout",
     "output_type": "stream",
     "text": [
      "Successfully extracted features for patient UMCG-0587984\n"
     ]
    },
    {
     "name": "stderr",
     "output_type": "stream",
     "text": [
      "GLCM is symmetrical, therefore Sum Average = 2 * Joint Average, only 1 needs to be calculated\n"
     ]
    },
    {
     "name": "stdout",
     "output_type": "stream",
     "text": [
      "Successfully extracted features for patient UMCG-0598217\n"
     ]
    },
    {
     "name": "stderr",
     "output_type": "stream",
     "text": [
      "GLCM is symmetrical, therefore Sum Average = 2 * Joint Average, only 1 needs to be calculated\n"
     ]
    },
    {
     "name": "stdout",
     "output_type": "stream",
     "text": [
      "Successfully extracted features for patient UMCG-0642069\n"
     ]
    },
    {
     "name": "stderr",
     "output_type": "stream",
     "text": [
      "GLCM is symmetrical, therefore Sum Average = 2 * Joint Average, only 1 needs to be calculated\n"
     ]
    },
    {
     "name": "stdout",
     "output_type": "stream",
     "text": [
      "Successfully extracted features for patient UMCG-3232494\n"
     ]
    },
    {
     "name": "stderr",
     "output_type": "stream",
     "text": [
      "GLCM is symmetrical, therefore Sum Average = 2 * Joint Average, only 1 needs to be calculated\n"
     ]
    },
    {
     "name": "stdout",
     "output_type": "stream",
     "text": [
      "Successfully extracted features for patient UMCG-6505862\n"
     ]
    },
    {
     "name": "stderr",
     "output_type": "stream",
     "text": [
      "GLCM is symmetrical, therefore Sum Average = 2 * Joint Average, only 1 needs to be calculated\n"
     ]
    },
    {
     "name": "stdout",
     "output_type": "stream",
     "text": [
      "Successfully extracted features for patient UMCG-2950432\n"
     ]
    },
    {
     "name": "stderr",
     "output_type": "stream",
     "text": [
      "GLCM is symmetrical, therefore Sum Average = 2 * Joint Average, only 1 needs to be calculated\n"
     ]
    },
    {
     "name": "stdout",
     "output_type": "stream",
     "text": [
      "Successfully extracted features for patient UMCG-8431300\n"
     ]
    },
    {
     "name": "stderr",
     "output_type": "stream",
     "text": [
      "GLCM is symmetrical, therefore Sum Average = 2 * Joint Average, only 1 needs to be calculated\n"
     ]
    },
    {
     "name": "stdout",
     "output_type": "stream",
     "text": [
      "Successfully extracted features for patient UMCG-0701196\n"
     ]
    },
    {
     "name": "stderr",
     "output_type": "stream",
     "text": [
      "GLCM is symmetrical, therefore Sum Average = 2 * Joint Average, only 1 needs to be calculated\n"
     ]
    },
    {
     "name": "stdout",
     "output_type": "stream",
     "text": [
      "Successfully extracted features for patient UMCG-2724732\n"
     ]
    },
    {
     "name": "stderr",
     "output_type": "stream",
     "text": [
      "GLCM is symmetrical, therefore Sum Average = 2 * Joint Average, only 1 needs to be calculated\n"
     ]
    },
    {
     "name": "stdout",
     "output_type": "stream",
     "text": [
      "Successfully extracted features for patient UMCG-5426388\n"
     ]
    },
    {
     "name": "stderr",
     "output_type": "stream",
     "text": [
      "GLCM is symmetrical, therefore Sum Average = 2 * Joint Average, only 1 needs to be calculated\n"
     ]
    },
    {
     "name": "stdout",
     "output_type": "stream",
     "text": [
      "Successfully extracted features for patient UMCG-3453949\n"
     ]
    },
    {
     "name": "stderr",
     "output_type": "stream",
     "text": [
      "GLCM is symmetrical, therefore Sum Average = 2 * Joint Average, only 1 needs to be calculated\n"
     ]
    },
    {
     "name": "stdout",
     "output_type": "stream",
     "text": [
      "Successfully extracted features for patient UMCG-2176162\n"
     ]
    },
    {
     "name": "stderr",
     "output_type": "stream",
     "text": [
      "GLCM is symmetrical, therefore Sum Average = 2 * Joint Average, only 1 needs to be calculated\n"
     ]
    },
    {
     "name": "stdout",
     "output_type": "stream",
     "text": [
      "Successfully extracted features for patient UMCG-6380664\n"
     ]
    },
    {
     "name": "stderr",
     "output_type": "stream",
     "text": [
      "GLCM is symmetrical, therefore Sum Average = 2 * Joint Average, only 1 needs to be calculated\n"
     ]
    },
    {
     "name": "stdout",
     "output_type": "stream",
     "text": [
      "Successfully extracted features for patient UMCG-1320820\n"
     ]
    },
    {
     "name": "stderr",
     "output_type": "stream",
     "text": [
      "GLCM is symmetrical, therefore Sum Average = 2 * Joint Average, only 1 needs to be calculated\n"
     ]
    },
    {
     "name": "stdout",
     "output_type": "stream",
     "text": [
      "Successfully extracted features for patient UMCG-9007625\n"
     ]
    },
    {
     "name": "stderr",
     "output_type": "stream",
     "text": [
      "GLCM is symmetrical, therefore Sum Average = 2 * Joint Average, only 1 needs to be calculated\n"
     ]
    },
    {
     "name": "stdout",
     "output_type": "stream",
     "text": [
      "Successfully extracted features for patient UMCG-2776839\n"
     ]
    },
    {
     "name": "stderr",
     "output_type": "stream",
     "text": [
      "GLCM is symmetrical, therefore Sum Average = 2 * Joint Average, only 1 needs to be calculated\n"
     ]
    },
    {
     "name": "stdout",
     "output_type": "stream",
     "text": [
      "Successfully extracted features for patient UMCG-0838551\n"
     ]
    },
    {
     "name": "stderr",
     "output_type": "stream",
     "text": [
      "GLCM is symmetrical, therefore Sum Average = 2 * Joint Average, only 1 needs to be calculated\n"
     ]
    },
    {
     "name": "stdout",
     "output_type": "stream",
     "text": [
      "Successfully extracted features for patient UMCG-0861452\n"
     ]
    },
    {
     "name": "stderr",
     "output_type": "stream",
     "text": [
      "GLCM is symmetrical, therefore Sum Average = 2 * Joint Average, only 1 needs to be calculated\n"
     ]
    },
    {
     "name": "stdout",
     "output_type": "stream",
     "text": [
      "Successfully extracted features for patient UMCG-0884505\n"
     ]
    },
    {
     "name": "stderr",
     "output_type": "stream",
     "text": [
      "GLCM is symmetrical, therefore Sum Average = 2 * Joint Average, only 1 needs to be calculated\n"
     ]
    },
    {
     "name": "stdout",
     "output_type": "stream",
     "text": [
      "Successfully extracted features for patient UMCG-0890851\n"
     ]
    },
    {
     "name": "stderr",
     "output_type": "stream",
     "text": [
      "GLCM is symmetrical, therefore Sum Average = 2 * Joint Average, only 1 needs to be calculated\n"
     ]
    },
    {
     "name": "stdout",
     "output_type": "stream",
     "text": [
      "Successfully extracted features for patient UMCG-0938572\n"
     ]
    },
    {
     "name": "stderr",
     "output_type": "stream",
     "text": [
      "GLCM is symmetrical, therefore Sum Average = 2 * Joint Average, only 1 needs to be calculated\n"
     ]
    },
    {
     "name": "stdout",
     "output_type": "stream",
     "text": [
      "Successfully extracted features for patient UMCG-1124041\n"
     ]
    },
    {
     "name": "stderr",
     "output_type": "stream",
     "text": [
      "GLCM is symmetrical, therefore Sum Average = 2 * Joint Average, only 1 needs to be calculated\n"
     ]
    },
    {
     "name": "stdout",
     "output_type": "stream",
     "text": [
      "Successfully extracted features for patient UMCG-0949972\n"
     ]
    },
    {
     "name": "stderr",
     "output_type": "stream",
     "text": [
      "GLCM is symmetrical, therefore Sum Average = 2 * Joint Average, only 1 needs to be calculated\n"
     ]
    },
    {
     "name": "stdout",
     "output_type": "stream",
     "text": [
      "Successfully extracted features for patient UMCG-0970348\n"
     ]
    },
    {
     "name": "stderr",
     "output_type": "stream",
     "text": [
      "GLCM is symmetrical, therefore Sum Average = 2 * Joint Average, only 1 needs to be calculated\n"
     ]
    },
    {
     "name": "stdout",
     "output_type": "stream",
     "text": [
      "Successfully extracted features for patient UMCG-0946689\n"
     ]
    },
    {
     "name": "stderr",
     "output_type": "stream",
     "text": [
      "GLCM is symmetrical, therefore Sum Average = 2 * Joint Average, only 1 needs to be calculated\n"
     ]
    },
    {
     "name": "stdout",
     "output_type": "stream",
     "text": [
      "Successfully extracted features for patient UMCG-5732305\n"
     ]
    },
    {
     "name": "stderr",
     "output_type": "stream",
     "text": [
      "GLCM is symmetrical, therefore Sum Average = 2 * Joint Average, only 1 needs to be calculated\n"
     ]
    },
    {
     "name": "stdout",
     "output_type": "stream",
     "text": [
      "Successfully extracted features for patient UMCG-8963085\n"
     ]
    },
    {
     "name": "stderr",
     "output_type": "stream",
     "text": [
      "GLCM is symmetrical, therefore Sum Average = 2 * Joint Average, only 1 needs to be calculated\n"
     ]
    },
    {
     "name": "stdout",
     "output_type": "stream",
     "text": [
      "Successfully extracted features for patient UMCG-1946769\n"
     ]
    },
    {
     "name": "stderr",
     "output_type": "stream",
     "text": [
      "GLCM is symmetrical, therefore Sum Average = 2 * Joint Average, only 1 needs to be calculated\n"
     ]
    },
    {
     "name": "stdout",
     "output_type": "stream",
     "text": [
      "Successfully extracted features for patient UMCG-1097433\n"
     ]
    },
    {
     "name": "stderr",
     "output_type": "stream",
     "text": [
      "GLCM is symmetrical, therefore Sum Average = 2 * Joint Average, only 1 needs to be calculated\n"
     ]
    },
    {
     "name": "stdout",
     "output_type": "stream",
     "text": [
      "Successfully extracted features for patient UMCG-1117043\n"
     ]
    },
    {
     "name": "stderr",
     "output_type": "stream",
     "text": [
      "GLCM is symmetrical, therefore Sum Average = 2 * Joint Average, only 1 needs to be calculated\n"
     ]
    },
    {
     "name": "stdout",
     "output_type": "stream",
     "text": [
      "Successfully extracted features for patient UMCG-7517714\n"
     ]
    },
    {
     "name": "stderr",
     "output_type": "stream",
     "text": [
      "GLCM is symmetrical, therefore Sum Average = 2 * Joint Average, only 1 needs to be calculated\n"
     ]
    },
    {
     "name": "stdout",
     "output_type": "stream",
     "text": [
      "Successfully extracted features for patient UMCG-1165250\n"
     ]
    },
    {
     "name": "stderr",
     "output_type": "stream",
     "text": [
      "GLCM is symmetrical, therefore Sum Average = 2 * Joint Average, only 1 needs to be calculated\n"
     ]
    },
    {
     "name": "stdout",
     "output_type": "stream",
     "text": [
      "Successfully extracted features for patient UMCG-9146365\n"
     ]
    },
    {
     "name": "stderr",
     "output_type": "stream",
     "text": [
      "GLCM is symmetrical, therefore Sum Average = 2 * Joint Average, only 1 needs to be calculated\n"
     ]
    },
    {
     "name": "stdout",
     "output_type": "stream",
     "text": [
      "Successfully extracted features for patient UMCG-0338902\n"
     ]
    },
    {
     "name": "stderr",
     "output_type": "stream",
     "text": [
      "GLCM is symmetrical, therefore Sum Average = 2 * Joint Average, only 1 needs to be calculated\n"
     ]
    },
    {
     "name": "stdout",
     "output_type": "stream",
     "text": [
      "Successfully extracted features for patient UMCG-1191508\n"
     ]
    },
    {
     "name": "stderr",
     "output_type": "stream",
     "text": [
      "GLCM is symmetrical, therefore Sum Average = 2 * Joint Average, only 1 needs to be calculated\n"
     ]
    },
    {
     "name": "stdout",
     "output_type": "stream",
     "text": [
      "Successfully extracted features for patient UMCG-0617129\n"
     ]
    },
    {
     "name": "stderr",
     "output_type": "stream",
     "text": [
      "GLCM is symmetrical, therefore Sum Average = 2 * Joint Average, only 1 needs to be calculated\n"
     ]
    },
    {
     "name": "stdout",
     "output_type": "stream",
     "text": [
      "Successfully extracted features for patient UMCG-5088300\n"
     ]
    },
    {
     "name": "stderr",
     "output_type": "stream",
     "text": [
      "GLCM is symmetrical, therefore Sum Average = 2 * Joint Average, only 1 needs to be calculated\n"
     ]
    },
    {
     "name": "stdout",
     "output_type": "stream",
     "text": [
      "Successfully extracted features for patient UMCG-1318845\n"
     ]
    },
    {
     "name": "stderr",
     "output_type": "stream",
     "text": [
      "GLCM is symmetrical, therefore Sum Average = 2 * Joint Average, only 1 needs to be calculated\n"
     ]
    },
    {
     "name": "stdout",
     "output_type": "stream",
     "text": [
      "Successfully extracted features for patient UMCG-9445856\n"
     ]
    },
    {
     "name": "stderr",
     "output_type": "stream",
     "text": [
      "GLCM is symmetrical, therefore Sum Average = 2 * Joint Average, only 1 needs to be calculated\n"
     ]
    },
    {
     "name": "stdout",
     "output_type": "stream",
     "text": [
      "Successfully extracted features for patient UMCG-1375386\n"
     ]
    },
    {
     "name": "stderr",
     "output_type": "stream",
     "text": [
      "GLCM is symmetrical, therefore Sum Average = 2 * Joint Average, only 1 needs to be calculated\n"
     ]
    },
    {
     "name": "stdout",
     "output_type": "stream",
     "text": [
      "Successfully extracted features for patient UMCG-8476506\n"
     ]
    },
    {
     "name": "stderr",
     "output_type": "stream",
     "text": [
      "GLCM is symmetrical, therefore Sum Average = 2 * Joint Average, only 1 needs to be calculated\n"
     ]
    },
    {
     "name": "stdout",
     "output_type": "stream",
     "text": [
      "Successfully extracted features for patient UMCG-2426659\n"
     ]
    },
    {
     "name": "stderr",
     "output_type": "stream",
     "text": [
      "GLCM is symmetrical, therefore Sum Average = 2 * Joint Average, only 1 needs to be calculated\n"
     ]
    },
    {
     "name": "stdout",
     "output_type": "stream",
     "text": [
      "Successfully extracted features for patient UMCG-5399483\n"
     ]
    },
    {
     "name": "stderr",
     "output_type": "stream",
     "text": [
      "GLCM is symmetrical, therefore Sum Average = 2 * Joint Average, only 1 needs to be calculated\n"
     ]
    },
    {
     "name": "stdout",
     "output_type": "stream",
     "text": [
      "Successfully extracted features for patient UMCG-3184299\n"
     ]
    },
    {
     "name": "stderr",
     "output_type": "stream",
     "text": [
      "GLCM is symmetrical, therefore Sum Average = 2 * Joint Average, only 1 needs to be calculated\n"
     ]
    },
    {
     "name": "stdout",
     "output_type": "stream",
     "text": [
      "Successfully extracted features for patient UMCG-9444148\n"
     ]
    },
    {
     "name": "stderr",
     "output_type": "stream",
     "text": [
      "GLCM is symmetrical, therefore Sum Average = 2 * Joint Average, only 1 needs to be calculated\n"
     ]
    },
    {
     "name": "stdout",
     "output_type": "stream",
     "text": [
      "Successfully extracted features for patient UMCG-1474145\n"
     ]
    },
    {
     "name": "stderr",
     "output_type": "stream",
     "text": [
      "GLCM is symmetrical, therefore Sum Average = 2 * Joint Average, only 1 needs to be calculated\n"
     ]
    },
    {
     "name": "stdout",
     "output_type": "stream",
     "text": [
      "Successfully extracted features for patient UMCG-0731293\n"
     ]
    },
    {
     "name": "stderr",
     "output_type": "stream",
     "text": [
      "GLCM is symmetrical, therefore Sum Average = 2 * Joint Average, only 1 needs to be calculated\n"
     ]
    },
    {
     "name": "stdout",
     "output_type": "stream",
     "text": [
      "Successfully extracted features for patient UMCG-3325216\n"
     ]
    },
    {
     "name": "stderr",
     "output_type": "stream",
     "text": [
      "GLCM is symmetrical, therefore Sum Average = 2 * Joint Average, only 1 needs to be calculated\n"
     ]
    },
    {
     "name": "stdout",
     "output_type": "stream",
     "text": [
      "Successfully extracted features for patient UMCG-4134310\n"
     ]
    },
    {
     "name": "stderr",
     "output_type": "stream",
     "text": [
      "GLCM is symmetrical, therefore Sum Average = 2 * Joint Average, only 1 needs to be calculated\n"
     ]
    },
    {
     "name": "stdout",
     "output_type": "stream",
     "text": [
      "Successfully extracted features for patient UMCG-2000655\n"
     ]
    },
    {
     "name": "stderr",
     "output_type": "stream",
     "text": [
      "GLCM is symmetrical, therefore Sum Average = 2 * Joint Average, only 1 needs to be calculated\n"
     ]
    },
    {
     "name": "stdout",
     "output_type": "stream",
     "text": [
      "Successfully extracted features for patient UMCG-2016613\n"
     ]
    },
    {
     "name": "stderr",
     "output_type": "stream",
     "text": [
      "GLCM is symmetrical, therefore Sum Average = 2 * Joint Average, only 1 needs to be calculated\n"
     ]
    },
    {
     "name": "stdout",
     "output_type": "stream",
     "text": [
      "Successfully extracted features for patient UMCG-0903246\n"
     ]
    },
    {
     "name": "stderr",
     "output_type": "stream",
     "text": [
      "GLCM is symmetrical, therefore Sum Average = 2 * Joint Average, only 1 needs to be calculated\n"
     ]
    },
    {
     "name": "stdout",
     "output_type": "stream",
     "text": [
      "Successfully extracted features for patient UMCG-0020715\n"
     ]
    },
    {
     "name": "stderr",
     "output_type": "stream",
     "text": [
      "GLCM is symmetrical, therefore Sum Average = 2 * Joint Average, only 1 needs to be calculated\n"
     ]
    },
    {
     "name": "stdout",
     "output_type": "stream",
     "text": [
      "Successfully extracted features for patient UMCG-2022769\n"
     ]
    },
    {
     "name": "stderr",
     "output_type": "stream",
     "text": [
      "GLCM is symmetrical, therefore Sum Average = 2 * Joint Average, only 1 needs to be calculated\n"
     ]
    },
    {
     "name": "stdout",
     "output_type": "stream",
     "text": [
      "Successfully extracted features for patient UMCG-5762672\n"
     ]
    },
    {
     "name": "stderr",
     "output_type": "stream",
     "text": [
      "GLCM is symmetrical, therefore Sum Average = 2 * Joint Average, only 1 needs to be calculated\n"
     ]
    },
    {
     "name": "stdout",
     "output_type": "stream",
     "text": [
      "Successfully extracted features for patient UMCG-5471790\n"
     ]
    },
    {
     "name": "stderr",
     "output_type": "stream",
     "text": [
      "GLCM is symmetrical, therefore Sum Average = 2 * Joint Average, only 1 needs to be calculated\n"
     ]
    },
    {
     "name": "stdout",
     "output_type": "stream",
     "text": [
      "Successfully extracted features for patient UMCG-2487452\n"
     ]
    },
    {
     "name": "stderr",
     "output_type": "stream",
     "text": [
      "GLCM is symmetrical, therefore Sum Average = 2 * Joint Average, only 1 needs to be calculated\n"
     ]
    },
    {
     "name": "stdout",
     "output_type": "stream",
     "text": [
      "Successfully extracted features for patient UMCG-8780297\n"
     ]
    },
    {
     "name": "stderr",
     "output_type": "stream",
     "text": [
      "GLCM is symmetrical, therefore Sum Average = 2 * Joint Average, only 1 needs to be calculated\n"
     ]
    },
    {
     "name": "stdout",
     "output_type": "stream",
     "text": [
      "Successfully extracted features for patient UMCG-2038542\n"
     ]
    },
    {
     "name": "stderr",
     "output_type": "stream",
     "text": [
      "GLCM is symmetrical, therefore Sum Average = 2 * Joint Average, only 1 needs to be calculated\n"
     ]
    },
    {
     "name": "stdout",
     "output_type": "stream",
     "text": [
      "Successfully extracted features for patient UMCG-8534991\n"
     ]
    },
    {
     "name": "stderr",
     "output_type": "stream",
     "text": [
      "GLCM is symmetrical, therefore Sum Average = 2 * Joint Average, only 1 needs to be calculated\n"
     ]
    },
    {
     "name": "stdout",
     "output_type": "stream",
     "text": [
      "Successfully extracted features for patient UMCG-4022677\n"
     ]
    },
    {
     "name": "stderr",
     "output_type": "stream",
     "text": [
      "GLCM is symmetrical, therefore Sum Average = 2 * Joint Average, only 1 needs to be calculated\n"
     ]
    },
    {
     "name": "stdout",
     "output_type": "stream",
     "text": [
      "Successfully extracted features for patient UMCG-7876032\n"
     ]
    },
    {
     "name": "stderr",
     "output_type": "stream",
     "text": [
      "GLCM is symmetrical, therefore Sum Average = 2 * Joint Average, only 1 needs to be calculated\n"
     ]
    },
    {
     "name": "stdout",
     "output_type": "stream",
     "text": [
      "Successfully extracted features for patient UMCG-0059896\n"
     ]
    },
    {
     "name": "stderr",
     "output_type": "stream",
     "text": [
      "GLCM is symmetrical, therefore Sum Average = 2 * Joint Average, only 1 needs to be calculated\n"
     ]
    },
    {
     "name": "stdout",
     "output_type": "stream",
     "text": [
      "Successfully extracted features for patient UMCG-2051341\n"
     ]
    },
    {
     "name": "stderr",
     "output_type": "stream",
     "text": [
      "GLCM is symmetrical, therefore Sum Average = 2 * Joint Average, only 1 needs to be calculated\n"
     ]
    },
    {
     "name": "stdout",
     "output_type": "stream",
     "text": [
      "Successfully extracted features for patient UMCG-5776290\n"
     ]
    },
    {
     "name": "stderr",
     "output_type": "stream",
     "text": [
      "GLCM is symmetrical, therefore Sum Average = 2 * Joint Average, only 1 needs to be calculated\n"
     ]
    },
    {
     "name": "stdout",
     "output_type": "stream",
     "text": [
      "Successfully extracted features for patient UMCG-2058876\n"
     ]
    },
    {
     "name": "stderr",
     "output_type": "stream",
     "text": [
      "GLCM is symmetrical, therefore Sum Average = 2 * Joint Average, only 1 needs to be calculated\n"
     ]
    },
    {
     "name": "stdout",
     "output_type": "stream",
     "text": [
      "Successfully extracted features for patient UMCG-8756306\n"
     ]
    },
    {
     "name": "stderr",
     "output_type": "stream",
     "text": [
      "GLCM is symmetrical, therefore Sum Average = 2 * Joint Average, only 1 needs to be calculated\n"
     ]
    },
    {
     "name": "stdout",
     "output_type": "stream",
     "text": [
      "Successfully extracted features for patient UMCG-7169502\n"
     ]
    },
    {
     "name": "stderr",
     "output_type": "stream",
     "text": [
      "GLCM is symmetrical, therefore Sum Average = 2 * Joint Average, only 1 needs to be calculated\n"
     ]
    },
    {
     "name": "stdout",
     "output_type": "stream",
     "text": [
      "Successfully extracted features for patient UMCG-1942221\n"
     ]
    },
    {
     "name": "stderr",
     "output_type": "stream",
     "text": [
      "GLCM is symmetrical, therefore Sum Average = 2 * Joint Average, only 1 needs to be calculated\n"
     ]
    },
    {
     "name": "stdout",
     "output_type": "stream",
     "text": [
      "Successfully extracted features for patient UMCG-5586522\n"
     ]
    },
    {
     "name": "stderr",
     "output_type": "stream",
     "text": [
      "GLCM is symmetrical, therefore Sum Average = 2 * Joint Average, only 1 needs to be calculated\n"
     ]
    },
    {
     "name": "stdout",
     "output_type": "stream",
     "text": [
      "Successfully extracted features for patient UMCG-4640464\n"
     ]
    },
    {
     "name": "stderr",
     "output_type": "stream",
     "text": [
      "GLCM is symmetrical, therefore Sum Average = 2 * Joint Average, only 1 needs to be calculated\n"
     ]
    },
    {
     "name": "stdout",
     "output_type": "stream",
     "text": [
      "Successfully extracted features for patient UMCG-9946201\n"
     ]
    },
    {
     "name": "stderr",
     "output_type": "stream",
     "text": [
      "GLCM is symmetrical, therefore Sum Average = 2 * Joint Average, only 1 needs to be calculated\n"
     ]
    },
    {
     "name": "stdout",
     "output_type": "stream",
     "text": [
      "Successfully extracted features for patient UMCG-5896858\n"
     ]
    },
    {
     "name": "stderr",
     "output_type": "stream",
     "text": [
      "GLCM is symmetrical, therefore Sum Average = 2 * Joint Average, only 1 needs to be calculated\n"
     ]
    },
    {
     "name": "stdout",
     "output_type": "stream",
     "text": [
      "Successfully extracted features for patient UMCG-6504420\n"
     ]
    },
    {
     "name": "stderr",
     "output_type": "stream",
     "text": [
      "GLCM is symmetrical, therefore Sum Average = 2 * Joint Average, only 1 needs to be calculated\n"
     ]
    },
    {
     "name": "stdout",
     "output_type": "stream",
     "text": [
      "Successfully extracted features for patient UMCG-7040261\n"
     ]
    },
    {
     "name": "stderr",
     "output_type": "stream",
     "text": [
      "GLCM is symmetrical, therefore Sum Average = 2 * Joint Average, only 1 needs to be calculated\n"
     ]
    },
    {
     "name": "stdout",
     "output_type": "stream",
     "text": [
      "Successfully extracted features for patient UMCG-8959829\n"
     ]
    },
    {
     "name": "stderr",
     "output_type": "stream",
     "text": [
      "GLCM is symmetrical, therefore Sum Average = 2 * Joint Average, only 1 needs to be calculated\n"
     ]
    },
    {
     "name": "stdout",
     "output_type": "stream",
     "text": [
      "Successfully extracted features for patient UMCG-5860527\n"
     ]
    },
    {
     "name": "stderr",
     "output_type": "stream",
     "text": [
      "GLCM is symmetrical, therefore Sum Average = 2 * Joint Average, only 1 needs to be calculated\n"
     ]
    },
    {
     "name": "stdout",
     "output_type": "stream",
     "text": [
      "Successfully extracted features for patient UMCG-2076094\n"
     ]
    },
    {
     "name": "stderr",
     "output_type": "stream",
     "text": [
      "GLCM is symmetrical, therefore Sum Average = 2 * Joint Average, only 1 needs to be calculated\n"
     ]
    },
    {
     "name": "stdout",
     "output_type": "stream",
     "text": [
      "Successfully extracted features for patient UMCG-2087361\n"
     ]
    },
    {
     "name": "stderr",
     "output_type": "stream",
     "text": [
      "GLCM is symmetrical, therefore Sum Average = 2 * Joint Average, only 1 needs to be calculated\n"
     ]
    },
    {
     "name": "stdout",
     "output_type": "stream",
     "text": [
      "Successfully extracted features for patient UMCG-2083033\n"
     ]
    },
    {
     "name": "stderr",
     "output_type": "stream",
     "text": [
      "GLCM is symmetrical, therefore Sum Average = 2 * Joint Average, only 1 needs to be calculated\n"
     ]
    },
    {
     "name": "stdout",
     "output_type": "stream",
     "text": [
      "Successfully extracted features for patient UMCG-4224256\n"
     ]
    },
    {
     "name": "stderr",
     "output_type": "stream",
     "text": [
      "GLCM is symmetrical, therefore Sum Average = 2 * Joint Average, only 1 needs to be calculated\n"
     ]
    },
    {
     "name": "stdout",
     "output_type": "stream",
     "text": [
      "Successfully extracted features for patient UMCG-2075963\n"
     ]
    },
    {
     "name": "stderr",
     "output_type": "stream",
     "text": [
      "GLCM is symmetrical, therefore Sum Average = 2 * Joint Average, only 1 needs to be calculated\n"
     ]
    },
    {
     "name": "stdout",
     "output_type": "stream",
     "text": [
      "Successfully extracted features for patient UMCG-5262401\n"
     ]
    },
    {
     "name": "stderr",
     "output_type": "stream",
     "text": [
      "GLCM is symmetrical, therefore Sum Average = 2 * Joint Average, only 1 needs to be calculated\n"
     ]
    },
    {
     "name": "stdout",
     "output_type": "stream",
     "text": [
      "Successfully extracted features for patient UMCG-2073561\n"
     ]
    },
    {
     "name": "stderr",
     "output_type": "stream",
     "text": [
      "GLCM is symmetrical, therefore Sum Average = 2 * Joint Average, only 1 needs to be calculated\n"
     ]
    },
    {
     "name": "stdout",
     "output_type": "stream",
     "text": [
      "Successfully extracted features for patient UMCG-1973344\n"
     ]
    },
    {
     "name": "stderr",
     "output_type": "stream",
     "text": [
      "GLCM is symmetrical, therefore Sum Average = 2 * Joint Average, only 1 needs to be calculated\n"
     ]
    },
    {
     "name": "stdout",
     "output_type": "stream",
     "text": [
      "Successfully extracted features for patient UMCG-7000793\n"
     ]
    },
    {
     "name": "stderr",
     "output_type": "stream",
     "text": [
      "GLCM is symmetrical, therefore Sum Average = 2 * Joint Average, only 1 needs to be calculated\n"
     ]
    },
    {
     "name": "stdout",
     "output_type": "stream",
     "text": [
      "Successfully extracted features for patient UMCG-2080097\n"
     ]
    },
    {
     "name": "stderr",
     "output_type": "stream",
     "text": [
      "GLCM is symmetrical, therefore Sum Average = 2 * Joint Average, only 1 needs to be calculated\n"
     ]
    },
    {
     "name": "stdout",
     "output_type": "stream",
     "text": [
      "Successfully extracted features for patient UMCG-9325321\n"
     ]
    },
    {
     "name": "stderr",
     "output_type": "stream",
     "text": [
      "GLCM is symmetrical, therefore Sum Average = 2 * Joint Average, only 1 needs to be calculated\n"
     ]
    },
    {
     "name": "stdout",
     "output_type": "stream",
     "text": [
      "Successfully extracted features for patient UMCG-2080913\n"
     ]
    },
    {
     "name": "stderr",
     "output_type": "stream",
     "text": [
      "GLCM is symmetrical, therefore Sum Average = 2 * Joint Average, only 1 needs to be calculated\n"
     ]
    },
    {
     "name": "stdout",
     "output_type": "stream",
     "text": [
      "Successfully extracted features for patient UMCG-3220326\n"
     ]
    },
    {
     "name": "stderr",
     "output_type": "stream",
     "text": [
      "GLCM is symmetrical, therefore Sum Average = 2 * Joint Average, only 1 needs to be calculated\n"
     ]
    },
    {
     "name": "stdout",
     "output_type": "stream",
     "text": [
      "Successfully extracted features for patient UMCG-2078256\n"
     ]
    },
    {
     "name": "stderr",
     "output_type": "stream",
     "text": [
      "GLCM is symmetrical, therefore Sum Average = 2 * Joint Average, only 1 needs to be calculated\n"
     ]
    },
    {
     "name": "stdout",
     "output_type": "stream",
     "text": [
      "Successfully extracted features for patient UMCG-2102599\n"
     ]
    },
    {
     "name": "stderr",
     "output_type": "stream",
     "text": [
      "GLCM is symmetrical, therefore Sum Average = 2 * Joint Average, only 1 needs to be calculated\n"
     ]
    },
    {
     "name": "stdout",
     "output_type": "stream",
     "text": [
      "Successfully extracted features for patient UMCG-9577277\n"
     ]
    },
    {
     "name": "stderr",
     "output_type": "stream",
     "text": [
      "GLCM is symmetrical, therefore Sum Average = 2 * Joint Average, only 1 needs to be calculated\n"
     ]
    },
    {
     "name": "stdout",
     "output_type": "stream",
     "text": [
      "Successfully extracted features for patient UMCG-6378659\n"
     ]
    },
    {
     "name": "stderr",
     "output_type": "stream",
     "text": [
      "GLCM is symmetrical, therefore Sum Average = 2 * Joint Average, only 1 needs to be calculated\n"
     ]
    },
    {
     "name": "stdout",
     "output_type": "stream",
     "text": [
      "Successfully extracted features for patient UMCG-2440978\n"
     ]
    },
    {
     "name": "stderr",
     "output_type": "stream",
     "text": [
      "GLCM is symmetrical, therefore Sum Average = 2 * Joint Average, only 1 needs to be calculated\n"
     ]
    },
    {
     "name": "stdout",
     "output_type": "stream",
     "text": [
      "Successfully extracted features for patient UMCG-7873700\n"
     ]
    },
    {
     "name": "stderr",
     "output_type": "stream",
     "text": [
      "GLCM is symmetrical, therefore Sum Average = 2 * Joint Average, only 1 needs to be calculated\n"
     ]
    },
    {
     "name": "stdout",
     "output_type": "stream",
     "text": [
      "Successfully extracted features for patient UMCG-8343775\n"
     ]
    },
    {
     "name": "stderr",
     "output_type": "stream",
     "text": [
      "GLCM is symmetrical, therefore Sum Average = 2 * Joint Average, only 1 needs to be calculated\n"
     ]
    },
    {
     "name": "stdout",
     "output_type": "stream",
     "text": [
      "Successfully extracted features for patient UMCG-2111096\n"
     ]
    },
    {
     "name": "stderr",
     "output_type": "stream",
     "text": [
      "GLCM is symmetrical, therefore Sum Average = 2 * Joint Average, only 1 needs to be calculated\n"
     ]
    },
    {
     "name": "stdout",
     "output_type": "stream",
     "text": [
      "Successfully extracted features for patient UMCG-1777766\n"
     ]
    },
    {
     "name": "stderr",
     "output_type": "stream",
     "text": [
      "GLCM is symmetrical, therefore Sum Average = 2 * Joint Average, only 1 needs to be calculated\n"
     ]
    },
    {
     "name": "stdout",
     "output_type": "stream",
     "text": [
      "Successfully extracted features for patient UMCG-2115835\n"
     ]
    },
    {
     "name": "stderr",
     "output_type": "stream",
     "text": [
      "GLCM is symmetrical, therefore Sum Average = 2 * Joint Average, only 1 needs to be calculated\n"
     ]
    },
    {
     "name": "stdout",
     "output_type": "stream",
     "text": [
      "Successfully extracted features for patient UMCG-2116597\n"
     ]
    },
    {
     "name": "stderr",
     "output_type": "stream",
     "text": [
      "GLCM is symmetrical, therefore Sum Average = 2 * Joint Average, only 1 needs to be calculated\n"
     ]
    },
    {
     "name": "stdout",
     "output_type": "stream",
     "text": [
      "Successfully extracted features for patient UMCG-2114930\n"
     ]
    },
    {
     "name": "stderr",
     "output_type": "stream",
     "text": [
      "GLCM is symmetrical, therefore Sum Average = 2 * Joint Average, only 1 needs to be calculated\n"
     ]
    },
    {
     "name": "stdout",
     "output_type": "stream",
     "text": [
      "Successfully extracted features for patient UMCG-3274619\n"
     ]
    },
    {
     "name": "stderr",
     "output_type": "stream",
     "text": [
      "GLCM is symmetrical, therefore Sum Average = 2 * Joint Average, only 1 needs to be calculated\n"
     ]
    },
    {
     "name": "stdout",
     "output_type": "stream",
     "text": [
      "Successfully extracted features for patient UMCG-1448368\n"
     ]
    },
    {
     "name": "stderr",
     "output_type": "stream",
     "text": [
      "GLCM is symmetrical, therefore Sum Average = 2 * Joint Average, only 1 needs to be calculated\n"
     ]
    },
    {
     "name": "stdout",
     "output_type": "stream",
     "text": [
      "Successfully extracted features for patient UMCG-2110034\n"
     ]
    },
    {
     "name": "stderr",
     "output_type": "stream",
     "text": [
      "GLCM is symmetrical, therefore Sum Average = 2 * Joint Average, only 1 needs to be calculated\n"
     ]
    },
    {
     "name": "stdout",
     "output_type": "stream",
     "text": [
      "Successfully extracted features for patient UMCG-2111510\n"
     ]
    },
    {
     "name": "stderr",
     "output_type": "stream",
     "text": [
      "GLCM is symmetrical, therefore Sum Average = 2 * Joint Average, only 1 needs to be calculated\n"
     ]
    },
    {
     "name": "stdout",
     "output_type": "stream",
     "text": [
      "Successfully extracted features for patient UMCG-1053592\n"
     ]
    },
    {
     "name": "stderr",
     "output_type": "stream",
     "text": [
      "GLCM is symmetrical, therefore Sum Average = 2 * Joint Average, only 1 needs to be calculated\n"
     ]
    },
    {
     "name": "stdout",
     "output_type": "stream",
     "text": [
      "Successfully extracted features for patient UMCG-2120032\n"
     ]
    },
    {
     "name": "stderr",
     "output_type": "stream",
     "text": [
      "GLCM is symmetrical, therefore Sum Average = 2 * Joint Average, only 1 needs to be calculated\n"
     ]
    },
    {
     "name": "stdout",
     "output_type": "stream",
     "text": [
      "Successfully extracted features for patient UMCG-3052392\n"
     ]
    },
    {
     "name": "stderr",
     "output_type": "stream",
     "text": [
      "GLCM is symmetrical, therefore Sum Average = 2 * Joint Average, only 1 needs to be calculated\n"
     ]
    },
    {
     "name": "stdout",
     "output_type": "stream",
     "text": [
      "Successfully extracted features for patient UMCG-2125979\n"
     ]
    },
    {
     "name": "stderr",
     "output_type": "stream",
     "text": [
      "GLCM is symmetrical, therefore Sum Average = 2 * Joint Average, only 1 needs to be calculated\n"
     ]
    },
    {
     "name": "stdout",
     "output_type": "stream",
     "text": [
      "Successfully extracted features for patient UMCG-0916891\n"
     ]
    },
    {
     "name": "stderr",
     "output_type": "stream",
     "text": [
      "GLCM is symmetrical, therefore Sum Average = 2 * Joint Average, only 1 needs to be calculated\n"
     ]
    },
    {
     "name": "stdout",
     "output_type": "stream",
     "text": [
      "Successfully extracted features for patient UMCG-4081263\n"
     ]
    },
    {
     "name": "stderr",
     "output_type": "stream",
     "text": [
      "GLCM is symmetrical, therefore Sum Average = 2 * Joint Average, only 1 needs to be calculated\n"
     ]
    },
    {
     "name": "stdout",
     "output_type": "stream",
     "text": [
      "Successfully extracted features for patient UMCG-3738311\n"
     ]
    },
    {
     "name": "stderr",
     "output_type": "stream",
     "text": [
      "GLCM is symmetrical, therefore Sum Average = 2 * Joint Average, only 1 needs to be calculated\n"
     ]
    },
    {
     "name": "stdout",
     "output_type": "stream",
     "text": [
      "Successfully extracted features for patient UMCG-0345451\n"
     ]
    },
    {
     "name": "stderr",
     "output_type": "stream",
     "text": [
      "GLCM is symmetrical, therefore Sum Average = 2 * Joint Average, only 1 needs to be calculated\n"
     ]
    },
    {
     "name": "stdout",
     "output_type": "stream",
     "text": [
      "Successfully extracted features for patient UMCG-9462318\n"
     ]
    },
    {
     "name": "stderr",
     "output_type": "stream",
     "text": [
      "GLCM is symmetrical, therefore Sum Average = 2 * Joint Average, only 1 needs to be calculated\n"
     ]
    },
    {
     "name": "stdout",
     "output_type": "stream",
     "text": [
      "Successfully extracted features for patient UMCG-2136180\n"
     ]
    },
    {
     "name": "stderr",
     "output_type": "stream",
     "text": [
      "GLCM is symmetrical, therefore Sum Average = 2 * Joint Average, only 1 needs to be calculated\n"
     ]
    },
    {
     "name": "stdout",
     "output_type": "stream",
     "text": [
      "Successfully extracted features for patient UMCG-2297238\n"
     ]
    },
    {
     "name": "stderr",
     "output_type": "stream",
     "text": [
      "GLCM is symmetrical, therefore Sum Average = 2 * Joint Average, only 1 needs to be calculated\n"
     ]
    },
    {
     "name": "stdout",
     "output_type": "stream",
     "text": [
      "Successfully extracted features for patient UMCG-2130970\n"
     ]
    },
    {
     "name": "stderr",
     "output_type": "stream",
     "text": [
      "GLCM is symmetrical, therefore Sum Average = 2 * Joint Average, only 1 needs to be calculated\n"
     ]
    },
    {
     "name": "stdout",
     "output_type": "stream",
     "text": [
      "Successfully extracted features for patient UMCG-2130043\n"
     ]
    },
    {
     "name": "stderr",
     "output_type": "stream",
     "text": [
      "GLCM is symmetrical, therefore Sum Average = 2 * Joint Average, only 1 needs to be calculated\n"
     ]
    },
    {
     "name": "stdout",
     "output_type": "stream",
     "text": [
      "Successfully extracted features for patient UMCG-2740797\n"
     ]
    },
    {
     "name": "stderr",
     "output_type": "stream",
     "text": [
      "GLCM is symmetrical, therefore Sum Average = 2 * Joint Average, only 1 needs to be calculated\n"
     ]
    },
    {
     "name": "stdout",
     "output_type": "stream",
     "text": [
      "Successfully extracted features for patient UMCG-2145827\n"
     ]
    },
    {
     "name": "stderr",
     "output_type": "stream",
     "text": [
      "GLCM is symmetrical, therefore Sum Average = 2 * Joint Average, only 1 needs to be calculated\n"
     ]
    },
    {
     "name": "stdout",
     "output_type": "stream",
     "text": [
      "Successfully extracted features for patient UMCG-7982805\n"
     ]
    },
    {
     "name": "stderr",
     "output_type": "stream",
     "text": [
      "GLCM is symmetrical, therefore Sum Average = 2 * Joint Average, only 1 needs to be calculated\n"
     ]
    },
    {
     "name": "stdout",
     "output_type": "stream",
     "text": [
      "Successfully extracted features for patient UMCG-0940338\n"
     ]
    },
    {
     "name": "stderr",
     "output_type": "stream",
     "text": [
      "GLCM is symmetrical, therefore Sum Average = 2 * Joint Average, only 1 needs to be calculated\n"
     ]
    },
    {
     "name": "stdout",
     "output_type": "stream",
     "text": [
      "Successfully extracted features for patient UMCG-9091814\n"
     ]
    },
    {
     "name": "stderr",
     "output_type": "stream",
     "text": [
      "GLCM is symmetrical, therefore Sum Average = 2 * Joint Average, only 1 needs to be calculated\n"
     ]
    },
    {
     "name": "stdout",
     "output_type": "stream",
     "text": [
      "Successfully extracted features for patient UMCG-6803098\n"
     ]
    },
    {
     "name": "stderr",
     "output_type": "stream",
     "text": [
      "GLCM is symmetrical, therefore Sum Average = 2 * Joint Average, only 1 needs to be calculated\n"
     ]
    },
    {
     "name": "stdout",
     "output_type": "stream",
     "text": [
      "Successfully extracted features for patient UMCG-2147034\n"
     ]
    },
    {
     "name": "stderr",
     "output_type": "stream",
     "text": [
      "GLCM is symmetrical, therefore Sum Average = 2 * Joint Average, only 1 needs to be calculated\n"
     ]
    },
    {
     "name": "stdout",
     "output_type": "stream",
     "text": [
      "Successfully extracted features for patient UMCG-2146594\n"
     ]
    },
    {
     "name": "stderr",
     "output_type": "stream",
     "text": [
      "GLCM is symmetrical, therefore Sum Average = 2 * Joint Average, only 1 needs to be calculated\n"
     ]
    },
    {
     "name": "stdout",
     "output_type": "stream",
     "text": [
      "Successfully extracted features for patient UMCG-2022790\n"
     ]
    },
    {
     "name": "stderr",
     "output_type": "stream",
     "text": [
      "GLCM is symmetrical, therefore Sum Average = 2 * Joint Average, only 1 needs to be calculated\n"
     ]
    },
    {
     "name": "stdout",
     "output_type": "stream",
     "text": [
      "Successfully extracted features for patient UMCG-2149291\n"
     ]
    },
    {
     "name": "stderr",
     "output_type": "stream",
     "text": [
      "GLCM is symmetrical, therefore Sum Average = 2 * Joint Average, only 1 needs to be calculated\n"
     ]
    },
    {
     "name": "stdout",
     "output_type": "stream",
     "text": [
      "Successfully extracted features for patient UMCG-2159400\n"
     ]
    },
    {
     "name": "stderr",
     "output_type": "stream",
     "text": [
      "GLCM is symmetrical, therefore Sum Average = 2 * Joint Average, only 1 needs to be calculated\n"
     ]
    },
    {
     "name": "stdout",
     "output_type": "stream",
     "text": [
      "Successfully extracted features for patient UMCG-6596681\n"
     ]
    },
    {
     "name": "stderr",
     "output_type": "stream",
     "text": [
      "GLCM is symmetrical, therefore Sum Average = 2 * Joint Average, only 1 needs to be calculated\n"
     ]
    },
    {
     "name": "stdout",
     "output_type": "stream",
     "text": [
      "Successfully extracted features for patient UMCG-2148052\n"
     ]
    },
    {
     "name": "stderr",
     "output_type": "stream",
     "text": [
      "GLCM is symmetrical, therefore Sum Average = 2 * Joint Average, only 1 needs to be calculated\n"
     ]
    },
    {
     "name": "stdout",
     "output_type": "stream",
     "text": [
      "Successfully extracted features for patient UMCG-2153786\n"
     ]
    },
    {
     "name": "stderr",
     "output_type": "stream",
     "text": [
      "GLCM is symmetrical, therefore Sum Average = 2 * Joint Average, only 1 needs to be calculated\n"
     ]
    },
    {
     "name": "stdout",
     "output_type": "stream",
     "text": [
      "Successfully extracted features for patient UMCG-4777783\n"
     ]
    },
    {
     "name": "stderr",
     "output_type": "stream",
     "text": [
      "GLCM is symmetrical, therefore Sum Average = 2 * Joint Average, only 1 needs to be calculated\n"
     ]
    },
    {
     "name": "stdout",
     "output_type": "stream",
     "text": [
      "Successfully extracted features for patient UMCG-2145422\n"
     ]
    },
    {
     "name": "stderr",
     "output_type": "stream",
     "text": [
      "GLCM is symmetrical, therefore Sum Average = 2 * Joint Average, only 1 needs to be calculated\n"
     ]
    },
    {
     "name": "stdout",
     "output_type": "stream",
     "text": [
      "Successfully extracted features for patient UMCG-3979255\n"
     ]
    },
    {
     "name": "stderr",
     "output_type": "stream",
     "text": [
      "GLCM is symmetrical, therefore Sum Average = 2 * Joint Average, only 1 needs to be calculated\n"
     ]
    },
    {
     "name": "stdout",
     "output_type": "stream",
     "text": [
      "Successfully extracted features for patient UMCG-2167798\n"
     ]
    },
    {
     "name": "stderr",
     "output_type": "stream",
     "text": [
      "GLCM is symmetrical, therefore Sum Average = 2 * Joint Average, only 1 needs to be calculated\n"
     ]
    },
    {
     "name": "stdout",
     "output_type": "stream",
     "text": [
      "Successfully extracted features for patient UMCG-1872399\n"
     ]
    },
    {
     "name": "stderr",
     "output_type": "stream",
     "text": [
      "GLCM is symmetrical, therefore Sum Average = 2 * Joint Average, only 1 needs to be calculated\n"
     ]
    },
    {
     "name": "stdout",
     "output_type": "stream",
     "text": [
      "Successfully extracted features for patient UMCG-2160810\n"
     ]
    },
    {
     "name": "stderr",
     "output_type": "stream",
     "text": [
      "GLCM is symmetrical, therefore Sum Average = 2 * Joint Average, only 1 needs to be calculated\n"
     ]
    },
    {
     "name": "stdout",
     "output_type": "stream",
     "text": [
      "Successfully extracted features for patient UMCG-1051551\n"
     ]
    },
    {
     "name": "stderr",
     "output_type": "stream",
     "text": [
      "GLCM is symmetrical, therefore Sum Average = 2 * Joint Average, only 1 needs to be calculated\n"
     ]
    },
    {
     "name": "stdout",
     "output_type": "stream",
     "text": [
      "Successfully extracted features for patient UMCG-4673928\n"
     ]
    },
    {
     "name": "stderr",
     "output_type": "stream",
     "text": [
      "GLCM is symmetrical, therefore Sum Average = 2 * Joint Average, only 1 needs to be calculated\n"
     ]
    },
    {
     "name": "stdout",
     "output_type": "stream",
     "text": [
      "Successfully extracted features for patient UMCG-7776845\n"
     ]
    },
    {
     "name": "stderr",
     "output_type": "stream",
     "text": [
      "GLCM is symmetrical, therefore Sum Average = 2 * Joint Average, only 1 needs to be calculated\n"
     ]
    },
    {
     "name": "stdout",
     "output_type": "stream",
     "text": [
      "Successfully extracted features for patient UMCG-0585519\n"
     ]
    },
    {
     "name": "stderr",
     "output_type": "stream",
     "text": [
      "GLCM is symmetrical, therefore Sum Average = 2 * Joint Average, only 1 needs to be calculated\n"
     ]
    },
    {
     "name": "stdout",
     "output_type": "stream",
     "text": [
      "Successfully extracted features for patient UMCG-4787329\n"
     ]
    },
    {
     "name": "stderr",
     "output_type": "stream",
     "text": [
      "GLCM is symmetrical, therefore Sum Average = 2 * Joint Average, only 1 needs to be calculated\n"
     ]
    },
    {
     "name": "stdout",
     "output_type": "stream",
     "text": [
      "Successfully extracted features for patient UMCG-7390463\n"
     ]
    },
    {
     "name": "stderr",
     "output_type": "stream",
     "text": [
      "GLCM is symmetrical, therefore Sum Average = 2 * Joint Average, only 1 needs to be calculated\n"
     ]
    },
    {
     "name": "stdout",
     "output_type": "stream",
     "text": [
      "Successfully extracted features for patient UMCG-2171148\n"
     ]
    },
    {
     "name": "stderr",
     "output_type": "stream",
     "text": [
      "GLCM is symmetrical, therefore Sum Average = 2 * Joint Average, only 1 needs to be calculated\n"
     ]
    },
    {
     "name": "stdout",
     "output_type": "stream",
     "text": [
      "Successfully extracted features for patient UMCG-6469382\n"
     ]
    },
    {
     "name": "stderr",
     "output_type": "stream",
     "text": [
      "GLCM is symmetrical, therefore Sum Average = 2 * Joint Average, only 1 needs to be calculated\n"
     ]
    },
    {
     "name": "stdout",
     "output_type": "stream",
     "text": [
      "Successfully extracted features for patient UMCG-2179358\n"
     ]
    },
    {
     "name": "stderr",
     "output_type": "stream",
     "text": [
      "GLCM is symmetrical, therefore Sum Average = 2 * Joint Average, only 1 needs to be calculated\n"
     ]
    },
    {
     "name": "stdout",
     "output_type": "stream",
     "text": [
      "Successfully extracted features for patient UMCG-5952236\n"
     ]
    },
    {
     "name": "stderr",
     "output_type": "stream",
     "text": [
      "GLCM is symmetrical, therefore Sum Average = 2 * Joint Average, only 1 needs to be calculated\n"
     ]
    },
    {
     "name": "stdout",
     "output_type": "stream",
     "text": [
      "Successfully extracted features for patient UMCG-6038065\n"
     ]
    },
    {
     "name": "stderr",
     "output_type": "stream",
     "text": [
      "GLCM is symmetrical, therefore Sum Average = 2 * Joint Average, only 1 needs to be calculated\n"
     ]
    },
    {
     "name": "stdout",
     "output_type": "stream",
     "text": [
      "Successfully extracted features for patient UMCG-2188517\n"
     ]
    },
    {
     "name": "stderr",
     "output_type": "stream",
     "text": [
      "GLCM is symmetrical, therefore Sum Average = 2 * Joint Average, only 1 needs to be calculated\n"
     ]
    },
    {
     "name": "stdout",
     "output_type": "stream",
     "text": [
      "Successfully extracted features for patient UMCG-2102777\n"
     ]
    },
    {
     "name": "stderr",
     "output_type": "stream",
     "text": [
      "GLCM is symmetrical, therefore Sum Average = 2 * Joint Average, only 1 needs to be calculated\n"
     ]
    },
    {
     "name": "stdout",
     "output_type": "stream",
     "text": [
      "Successfully extracted features for patient UMCG-2197393\n"
     ]
    },
    {
     "name": "stderr",
     "output_type": "stream",
     "text": [
      "GLCM is symmetrical, therefore Sum Average = 2 * Joint Average, only 1 needs to be calculated\n"
     ]
    },
    {
     "name": "stdout",
     "output_type": "stream",
     "text": [
      "Successfully extracted features for patient UMCG-2199947\n"
     ]
    },
    {
     "name": "stderr",
     "output_type": "stream",
     "text": [
      "GLCM is symmetrical, therefore Sum Average = 2 * Joint Average, only 1 needs to be calculated\n"
     ]
    },
    {
     "name": "stdout",
     "output_type": "stream",
     "text": [
      "Successfully extracted features for patient UMCG-2190498\n"
     ]
    },
    {
     "name": "stderr",
     "output_type": "stream",
     "text": [
      "GLCM is symmetrical, therefore Sum Average = 2 * Joint Average, only 1 needs to be calculated\n"
     ]
    },
    {
     "name": "stdout",
     "output_type": "stream",
     "text": [
      "Successfully extracted features for patient UMCG-2195692\n"
     ]
    },
    {
     "name": "stderr",
     "output_type": "stream",
     "text": [
      "GLCM is symmetrical, therefore Sum Average = 2 * Joint Average, only 1 needs to be calculated\n"
     ]
    },
    {
     "name": "stdout",
     "output_type": "stream",
     "text": [
      "Successfully extracted features for patient UMCG-2198770\n"
     ]
    },
    {
     "name": "stderr",
     "output_type": "stream",
     "text": [
      "GLCM is symmetrical, therefore Sum Average = 2 * Joint Average, only 1 needs to be calculated\n"
     ]
    },
    {
     "name": "stdout",
     "output_type": "stream",
     "text": [
      "Successfully extracted features for patient UMCG-0170637\n"
     ]
    },
    {
     "name": "stderr",
     "output_type": "stream",
     "text": [
      "GLCM is symmetrical, therefore Sum Average = 2 * Joint Average, only 1 needs to be calculated\n"
     ]
    },
    {
     "name": "stdout",
     "output_type": "stream",
     "text": [
      "Successfully extracted features for patient UMCG-2194374\n"
     ]
    },
    {
     "name": "stderr",
     "output_type": "stream",
     "text": [
      "GLCM is symmetrical, therefore Sum Average = 2 * Joint Average, only 1 needs to be calculated\n"
     ]
    },
    {
     "name": "stdout",
     "output_type": "stream",
     "text": [
      "Successfully extracted features for patient UMCG-2202380\n"
     ]
    },
    {
     "name": "stderr",
     "output_type": "stream",
     "text": [
      "GLCM is symmetrical, therefore Sum Average = 2 * Joint Average, only 1 needs to be calculated\n"
     ]
    },
    {
     "name": "stdout",
     "output_type": "stream",
     "text": [
      "Successfully extracted features for patient UMCG-2196033\n"
     ]
    },
    {
     "name": "stderr",
     "output_type": "stream",
     "text": [
      "GLCM is symmetrical, therefore Sum Average = 2 * Joint Average, only 1 needs to be calculated\n"
     ]
    },
    {
     "name": "stdout",
     "output_type": "stream",
     "text": [
      "Successfully extracted features for patient UMCG-2209398\n"
     ]
    },
    {
     "name": "stderr",
     "output_type": "stream",
     "text": [
      "GLCM is symmetrical, therefore Sum Average = 2 * Joint Average, only 1 needs to be calculated\n"
     ]
    },
    {
     "name": "stdout",
     "output_type": "stream",
     "text": [
      "Successfully extracted features for patient UMCG-2202350\n"
     ]
    },
    {
     "name": "stderr",
     "output_type": "stream",
     "text": [
      "GLCM is symmetrical, therefore Sum Average = 2 * Joint Average, only 1 needs to be calculated\n"
     ]
    },
    {
     "name": "stdout",
     "output_type": "stream",
     "text": [
      "Successfully extracted features for patient UMCG-2186039\n"
     ]
    },
    {
     "name": "stderr",
     "output_type": "stream",
     "text": [
      "GLCM is symmetrical, therefore Sum Average = 2 * Joint Average, only 1 needs to be calculated\n"
     ]
    },
    {
     "name": "stdout",
     "output_type": "stream",
     "text": [
      "Successfully extracted features for patient UMCG-2191427\n"
     ]
    },
    {
     "name": "stderr",
     "output_type": "stream",
     "text": [
      "GLCM is symmetrical, therefore Sum Average = 2 * Joint Average, only 1 needs to be calculated\n"
     ]
    },
    {
     "name": "stdout",
     "output_type": "stream",
     "text": [
      "Successfully extracted features for patient UMCG-3761226\n"
     ]
    },
    {
     "name": "stderr",
     "output_type": "stream",
     "text": [
      "GLCM is symmetrical, therefore Sum Average = 2 * Joint Average, only 1 needs to be calculated\n"
     ]
    },
    {
     "name": "stdout",
     "output_type": "stream",
     "text": [
      "Successfully extracted features for patient UMCG-2201781\n"
     ]
    },
    {
     "name": "stderr",
     "output_type": "stream",
     "text": [
      "GLCM is symmetrical, therefore Sum Average = 2 * Joint Average, only 1 needs to be calculated\n"
     ]
    },
    {
     "name": "stdout",
     "output_type": "stream",
     "text": [
      "Successfully extracted features for patient UMCG-2204685\n"
     ]
    },
    {
     "name": "stderr",
     "output_type": "stream",
     "text": [
      "GLCM is symmetrical, therefore Sum Average = 2 * Joint Average, only 1 needs to be calculated\n"
     ]
    },
    {
     "name": "stdout",
     "output_type": "stream",
     "text": [
      "Successfully extracted features for patient UMCG-7209497\n"
     ]
    },
    {
     "name": "stderr",
     "output_type": "stream",
     "text": [
      "GLCM is symmetrical, therefore Sum Average = 2 * Joint Average, only 1 needs to be calculated\n"
     ]
    },
    {
     "name": "stdout",
     "output_type": "stream",
     "text": [
      "Successfully extracted features for patient UMCG-1737477\n"
     ]
    },
    {
     "name": "stderr",
     "output_type": "stream",
     "text": [
      "GLCM is symmetrical, therefore Sum Average = 2 * Joint Average, only 1 needs to be calculated\n"
     ]
    },
    {
     "name": "stdout",
     "output_type": "stream",
     "text": [
      "Successfully extracted features for patient UMCG-2580821\n"
     ]
    },
    {
     "name": "stderr",
     "output_type": "stream",
     "text": [
      "GLCM is symmetrical, therefore Sum Average = 2 * Joint Average, only 1 needs to be calculated\n"
     ]
    },
    {
     "name": "stdout",
     "output_type": "stream",
     "text": [
      "Successfully extracted features for patient UMCG-2215342\n"
     ]
    },
    {
     "name": "stderr",
     "output_type": "stream",
     "text": [
      "GLCM is symmetrical, therefore Sum Average = 2 * Joint Average, only 1 needs to be calculated\n"
     ]
    },
    {
     "name": "stdout",
     "output_type": "stream",
     "text": [
      "Successfully extracted features for patient UMCG-3482925\n"
     ]
    },
    {
     "name": "stderr",
     "output_type": "stream",
     "text": [
      "GLCM is symmetrical, therefore Sum Average = 2 * Joint Average, only 1 needs to be calculated\n"
     ]
    },
    {
     "name": "stdout",
     "output_type": "stream",
     "text": [
      "Successfully extracted features for patient UMCG-2781091\n"
     ]
    },
    {
     "name": "stderr",
     "output_type": "stream",
     "text": [
      "GLCM is symmetrical, therefore Sum Average = 2 * Joint Average, only 1 needs to be calculated\n"
     ]
    },
    {
     "name": "stdout",
     "output_type": "stream",
     "text": [
      "Successfully extracted features for patient UMCG-7351271\n"
     ]
    },
    {
     "name": "stderr",
     "output_type": "stream",
     "text": [
      "GLCM is symmetrical, therefore Sum Average = 2 * Joint Average, only 1 needs to be calculated\n"
     ]
    },
    {
     "name": "stdout",
     "output_type": "stream",
     "text": [
      "Successfully extracted features for patient UMCG-2222276\n"
     ]
    },
    {
     "name": "stderr",
     "output_type": "stream",
     "text": [
      "GLCM is symmetrical, therefore Sum Average = 2 * Joint Average, only 1 needs to be calculated\n"
     ]
    },
    {
     "name": "stdout",
     "output_type": "stream",
     "text": [
      "Successfully extracted features for patient UMCG-9692367\n"
     ]
    },
    {
     "name": "stderr",
     "output_type": "stream",
     "text": [
      "GLCM is symmetrical, therefore Sum Average = 2 * Joint Average, only 1 needs to be calculated\n"
     ]
    },
    {
     "name": "stdout",
     "output_type": "stream",
     "text": [
      "Successfully extracted features for patient UMCG-7805267\n"
     ]
    },
    {
     "name": "stderr",
     "output_type": "stream",
     "text": [
      "GLCM is symmetrical, therefore Sum Average = 2 * Joint Average, only 1 needs to be calculated\n"
     ]
    },
    {
     "name": "stdout",
     "output_type": "stream",
     "text": [
      "Successfully extracted features for patient UMCG-3307103\n"
     ]
    },
    {
     "name": "stderr",
     "output_type": "stream",
     "text": [
      "GLCM is symmetrical, therefore Sum Average = 2 * Joint Average, only 1 needs to be calculated\n"
     ]
    },
    {
     "name": "stdout",
     "output_type": "stream",
     "text": [
      "Successfully extracted features for patient UMCG-2024557\n"
     ]
    },
    {
     "name": "stderr",
     "output_type": "stream",
     "text": [
      "GLCM is symmetrical, therefore Sum Average = 2 * Joint Average, only 1 needs to be calculated\n"
     ]
    },
    {
     "name": "stdout",
     "output_type": "stream",
     "text": [
      "Successfully extracted features for patient UMCG-8966495\n"
     ]
    },
    {
     "name": "stderr",
     "output_type": "stream",
     "text": [
      "GLCM is symmetrical, therefore Sum Average = 2 * Joint Average, only 1 needs to be calculated\n"
     ]
    },
    {
     "name": "stdout",
     "output_type": "stream",
     "text": [
      "Successfully extracted features for patient UMCG-2233809\n"
     ]
    },
    {
     "name": "stderr",
     "output_type": "stream",
     "text": [
      "GLCM is symmetrical, therefore Sum Average = 2 * Joint Average, only 1 needs to be calculated\n"
     ]
    },
    {
     "name": "stdout",
     "output_type": "stream",
     "text": [
      "Successfully extracted features for patient UMCG-2247074\n"
     ]
    },
    {
     "name": "stderr",
     "output_type": "stream",
     "text": [
      "GLCM is symmetrical, therefore Sum Average = 2 * Joint Average, only 1 needs to be calculated\n"
     ]
    },
    {
     "name": "stdout",
     "output_type": "stream",
     "text": [
      "Successfully extracted features for patient UMCG-2246159\n"
     ]
    },
    {
     "name": "stderr",
     "output_type": "stream",
     "text": [
      "GLCM is symmetrical, therefore Sum Average = 2 * Joint Average, only 1 needs to be calculated\n"
     ]
    },
    {
     "name": "stdout",
     "output_type": "stream",
     "text": [
      "Successfully extracted features for patient UMCG-2241472\n"
     ]
    },
    {
     "name": "stderr",
     "output_type": "stream",
     "text": [
      "GLCM is symmetrical, therefore Sum Average = 2 * Joint Average, only 1 needs to be calculated\n"
     ]
    },
    {
     "name": "stdout",
     "output_type": "stream",
     "text": [
      "Successfully extracted features for patient UMCG-2241013\n"
     ]
    },
    {
     "name": "stderr",
     "output_type": "stream",
     "text": [
      "GLCM is symmetrical, therefore Sum Average = 2 * Joint Average, only 1 needs to be calculated\n"
     ]
    },
    {
     "name": "stdout",
     "output_type": "stream",
     "text": [
      "Successfully extracted features for patient UMCG-4223355\n"
     ]
    },
    {
     "name": "stderr",
     "output_type": "stream",
     "text": [
      "GLCM is symmetrical, therefore Sum Average = 2 * Joint Average, only 1 needs to be calculated\n"
     ]
    },
    {
     "name": "stdout",
     "output_type": "stream",
     "text": [
      "Successfully extracted features for patient UMCG-2249022\n"
     ]
    },
    {
     "name": "stderr",
     "output_type": "stream",
     "text": [
      "GLCM is symmetrical, therefore Sum Average = 2 * Joint Average, only 1 needs to be calculated\n"
     ]
    },
    {
     "name": "stdout",
     "output_type": "stream",
     "text": [
      "Successfully extracted features for patient UMCG-2255337\n"
     ]
    },
    {
     "name": "stderr",
     "output_type": "stream",
     "text": [
      "GLCM is symmetrical, therefore Sum Average = 2 * Joint Average, only 1 needs to be calculated\n"
     ]
    },
    {
     "name": "stdout",
     "output_type": "stream",
     "text": [
      "Successfully extracted features for patient UMCG-2255565\n"
     ]
    },
    {
     "name": "stderr",
     "output_type": "stream",
     "text": [
      "GLCM is symmetrical, therefore Sum Average = 2 * Joint Average, only 1 needs to be calculated\n"
     ]
    },
    {
     "name": "stdout",
     "output_type": "stream",
     "text": [
      "Successfully extracted features for patient UMCG-2251515\n"
     ]
    },
    {
     "name": "stderr",
     "output_type": "stream",
     "text": [
      "GLCM is symmetrical, therefore Sum Average = 2 * Joint Average, only 1 needs to be calculated\n"
     ]
    },
    {
     "name": "stdout",
     "output_type": "stream",
     "text": [
      "Successfully extracted features for patient UMCG-2251273\n"
     ]
    },
    {
     "name": "stderr",
     "output_type": "stream",
     "text": [
      "GLCM is symmetrical, therefore Sum Average = 2 * Joint Average, only 1 needs to be calculated\n"
     ]
    },
    {
     "name": "stdout",
     "output_type": "stream",
     "text": [
      "Successfully extracted features for patient UMCG-7987157\n"
     ]
    },
    {
     "name": "stderr",
     "output_type": "stream",
     "text": [
      "GLCM is symmetrical, therefore Sum Average = 2 * Joint Average, only 1 needs to be calculated\n"
     ]
    },
    {
     "name": "stdout",
     "output_type": "stream",
     "text": [
      "Successfully extracted features for patient UMCG-2264779\n"
     ]
    },
    {
     "name": "stderr",
     "output_type": "stream",
     "text": [
      "GLCM is symmetrical, therefore Sum Average = 2 * Joint Average, only 1 needs to be calculated\n"
     ]
    },
    {
     "name": "stdout",
     "output_type": "stream",
     "text": [
      "Successfully extracted features for patient UMCG-4459240\n"
     ]
    },
    {
     "name": "stderr",
     "output_type": "stream",
     "text": [
      "GLCM is symmetrical, therefore Sum Average = 2 * Joint Average, only 1 needs to be calculated\n"
     ]
    },
    {
     "name": "stdout",
     "output_type": "stream",
     "text": [
      "Successfully extracted features for patient UMCG-2002365\n"
     ]
    },
    {
     "name": "stderr",
     "output_type": "stream",
     "text": [
      "GLCM is symmetrical, therefore Sum Average = 2 * Joint Average, only 1 needs to be calculated\n"
     ]
    },
    {
     "name": "stdout",
     "output_type": "stream",
     "text": [
      "Successfully extracted features for patient UMCG-0287744\n"
     ]
    },
    {
     "name": "stderr",
     "output_type": "stream",
     "text": [
      "GLCM is symmetrical, therefore Sum Average = 2 * Joint Average, only 1 needs to be calculated\n"
     ]
    },
    {
     "name": "stdout",
     "output_type": "stream",
     "text": [
      "Successfully extracted features for patient UMCG-2263740\n"
     ]
    },
    {
     "name": "stderr",
     "output_type": "stream",
     "text": [
      "GLCM is symmetrical, therefore Sum Average = 2 * Joint Average, only 1 needs to be calculated\n"
     ]
    },
    {
     "name": "stdout",
     "output_type": "stream",
     "text": [
      "Successfully extracted features for patient UMCG-2196514\n"
     ]
    },
    {
     "name": "stderr",
     "output_type": "stream",
     "text": [
      "GLCM is symmetrical, therefore Sum Average = 2 * Joint Average, only 1 needs to be calculated\n"
     ]
    },
    {
     "name": "stdout",
     "output_type": "stream",
     "text": [
      "Successfully extracted features for patient UMCG-2264907\n"
     ]
    },
    {
     "name": "stderr",
     "output_type": "stream",
     "text": [
      "GLCM is symmetrical, therefore Sum Average = 2 * Joint Average, only 1 needs to be calculated\n"
     ]
    },
    {
     "name": "stdout",
     "output_type": "stream",
     "text": [
      "Successfully extracted features for patient UMCG-1479802\n"
     ]
    },
    {
     "name": "stderr",
     "output_type": "stream",
     "text": [
      "GLCM is symmetrical, therefore Sum Average = 2 * Joint Average, only 1 needs to be calculated\n"
     ]
    },
    {
     "name": "stdout",
     "output_type": "stream",
     "text": [
      "Successfully extracted features for patient UMCG-2278873\n"
     ]
    },
    {
     "name": "stderr",
     "output_type": "stream",
     "text": [
      "GLCM is symmetrical, therefore Sum Average = 2 * Joint Average, only 1 needs to be calculated\n"
     ]
    },
    {
     "name": "stdout",
     "output_type": "stream",
     "text": [
      "Successfully extracted features for patient UMCG-4160083\n"
     ]
    },
    {
     "name": "stderr",
     "output_type": "stream",
     "text": [
      "GLCM is symmetrical, therefore Sum Average = 2 * Joint Average, only 1 needs to be calculated\n"
     ]
    },
    {
     "name": "stdout",
     "output_type": "stream",
     "text": [
      "Successfully extracted features for patient UMCG-2985041\n"
     ]
    },
    {
     "name": "stderr",
     "output_type": "stream",
     "text": [
      "GLCM is symmetrical, therefore Sum Average = 2 * Joint Average, only 1 needs to be calculated\n"
     ]
    },
    {
     "name": "stdout",
     "output_type": "stream",
     "text": [
      "Successfully extracted features for patient UMCG-2285986\n"
     ]
    },
    {
     "name": "stderr",
     "output_type": "stream",
     "text": [
      "GLCM is symmetrical, therefore Sum Average = 2 * Joint Average, only 1 needs to be calculated\n"
     ]
    },
    {
     "name": "stdout",
     "output_type": "stream",
     "text": [
      "Successfully extracted features for patient UMCG-2783403\n"
     ]
    },
    {
     "name": "stderr",
     "output_type": "stream",
     "text": [
      "GLCM is symmetrical, therefore Sum Average = 2 * Joint Average, only 1 needs to be calculated\n"
     ]
    },
    {
     "name": "stdout",
     "output_type": "stream",
     "text": [
      "Successfully extracted features for patient UMCG-2294422\n"
     ]
    },
    {
     "name": "stderr",
     "output_type": "stream",
     "text": [
      "GLCM is symmetrical, therefore Sum Average = 2 * Joint Average, only 1 needs to be calculated\n"
     ]
    },
    {
     "name": "stdout",
     "output_type": "stream",
     "text": [
      "Successfully extracted features for patient UMCG-0412861\n"
     ]
    },
    {
     "name": "stderr",
     "output_type": "stream",
     "text": [
      "GLCM is symmetrical, therefore Sum Average = 2 * Joint Average, only 1 needs to be calculated\n"
     ]
    },
    {
     "name": "stdout",
     "output_type": "stream",
     "text": [
      "Successfully extracted features for patient UMCG-5325319\n"
     ]
    },
    {
     "name": "stderr",
     "output_type": "stream",
     "text": [
      "GLCM is symmetrical, therefore Sum Average = 2 * Joint Average, only 1 needs to be calculated\n"
     ]
    },
    {
     "name": "stdout",
     "output_type": "stream",
     "text": [
      "Successfully extracted features for patient UMCG-2291679\n",
      "    diagnostics_Versions_PyRadiomics diagnostics_Versions_Numpy  \\\n",
      "0                             v3.1.0                     1.26.4   \n",
      "1                             v3.1.0                     1.26.4   \n",
      "2                             v3.1.0                     1.26.4   \n",
      "3                             v3.1.0                     1.26.4   \n",
      "4                             v3.1.0                     1.26.4   \n",
      "..                               ...                        ...   \n",
      "263                           v3.1.0                     1.26.4   \n",
      "264                           v3.1.0                     1.26.4   \n",
      "265                           v3.1.0                     1.26.4   \n",
      "266                           v3.1.0                     1.26.4   \n",
      "267                           v3.1.0                     1.26.4   \n",
      "\n",
      "    diagnostics_Versions_SimpleITK diagnostics_Versions_PyWavelet  \\\n",
      "0                            2.3.1                          1.5.0   \n",
      "1                            2.3.1                          1.5.0   \n",
      "2                            2.3.1                          1.5.0   \n",
      "3                            2.3.1                          1.5.0   \n",
      "4                            2.3.1                          1.5.0   \n",
      "..                             ...                            ...   \n",
      "263                          2.3.1                          1.5.0   \n",
      "264                          2.3.1                          1.5.0   \n",
      "265                          2.3.1                          1.5.0   \n",
      "266                          2.3.1                          1.5.0   \n",
      "267                          2.3.1                          1.5.0   \n",
      "\n",
      "    diagnostics_Versions_Python  \\\n",
      "0                        3.9.18   \n",
      "1                        3.9.18   \n",
      "2                        3.9.18   \n",
      "3                        3.9.18   \n",
      "4                        3.9.18   \n",
      "..                          ...   \n",
      "263                      3.9.18   \n",
      "264                      3.9.18   \n",
      "265                      3.9.18   \n",
      "266                      3.9.18   \n",
      "267                      3.9.18   \n",
      "\n",
      "                    diagnostics_Configuration_Settings  \\\n",
      "0    {'minimumROIDimensions': 2, 'minimumROISize': ...   \n",
      "1    {'minimumROIDimensions': 2, 'minimumROISize': ...   \n",
      "2    {'minimumROIDimensions': 2, 'minimumROISize': ...   \n",
      "3    {'minimumROIDimensions': 2, 'minimumROISize': ...   \n",
      "4    {'minimumROIDimensions': 2, 'minimumROISize': ...   \n",
      "..                                                 ...   \n",
      "263  {'minimumROIDimensions': 2, 'minimumROISize': ...   \n",
      "264  {'minimumROIDimensions': 2, 'minimumROISize': ...   \n",
      "265  {'minimumROIDimensions': 2, 'minimumROISize': ...   \n",
      "266  {'minimumROIDimensions': 2, 'minimumROISize': ...   \n",
      "267  {'minimumROIDimensions': 2, 'minimumROISize': ...   \n",
      "\n",
      "    diagnostics_Configuration_EnabledImageTypes  \\\n",
      "0                              {'Original': {}}   \n",
      "1                              {'Original': {}}   \n",
      "2                              {'Original': {}}   \n",
      "3                              {'Original': {}}   \n",
      "4                              {'Original': {}}   \n",
      "..                                          ...   \n",
      "263                            {'Original': {}}   \n",
      "264                            {'Original': {}}   \n",
      "265                            {'Original': {}}   \n",
      "266                            {'Original': {}}   \n",
      "267                            {'Original': {}}   \n",
      "\n",
      "              diagnostics_Image-original_Hash  \\\n",
      "0    88076158b99b46b6b1ce0a55db0e44d2c5c28f66   \n",
      "1    8f510ac5a8af2e030129045718fc188ca255a1fd   \n",
      "2    1eb4af7807a7b21f6c73592bfcd00282edf8fbce   \n",
      "3    8b52062dac3d327ef3e10a741785ec0a19a1f369   \n",
      "4    c5850a03f8157c0a469dcddc89f72a8c238a389e   \n",
      "..                                        ...   \n",
      "263  b3c42ab77fa6aaf45ece07c7a9141103c377b2af   \n",
      "264  897e4292e2ed92b1f5aeebf7a8984290559c0dd8   \n",
      "265  9c78d8d38400097d85de28718349cb28172d396d   \n",
      "266  54625a0ea9049944f3fb0cb6449b80baa5d00f7e   \n",
      "267  6ea9ea95b97cf31088cded8b1b82001b5da671b9   \n",
      "\n",
      "    diagnostics_Image-original_Dimensionality  \\\n",
      "0                                          3D   \n",
      "1                                          3D   \n",
      "2                                          3D   \n",
      "3                                          3D   \n",
      "4                                          3D   \n",
      "..                                        ...   \n",
      "263                                        3D   \n",
      "264                                        3D   \n",
      "265                                        3D   \n",
      "266                                        3D   \n",
      "267                                        3D   \n",
      "\n",
      "                    diagnostics_Image-original_Spacing  ...  \\\n",
      "0                 (0.3125, 0.3125, 3.3000030517578125)  ...   \n",
      "1                   (0.625, 0.625, 3.5999908447265625)  ...   \n",
      "2                 (0.3125, 0.3125, 3.3000030517578125)  ...   \n",
      "3                    (0.625, 0.625, 3.600006103515625)  ...   \n",
      "4    (0.6510416865348816, 0.6510416865348816, 3.300...  ...   \n",
      "..                                                 ...  ...   \n",
      "263               (0.3125, 0.3125, 3.3000030517578125)  ...   \n",
      "264               (0.3125, 0.3125, 3.3000030517578125)  ...   \n",
      "265               (0.3125, 0.3125, 3.3000030517578125)  ...   \n",
      "266               (0.3125, 0.3125, 3.3000030517578125)  ...   \n",
      "267               (0.3125, 0.3125, 3.3000030517578125)  ...   \n",
      "\n",
      "    original_glszm_SmallAreaLowGrayLevelEmphasis original_glszm_ZoneEntropy  \\\n",
      "0                           0.007535366070124052          7.416735333946413   \n",
      "1                          0.0035267874927092857           7.31789660121567   \n",
      "2                           0.002471081481949985          7.505412676488368   \n",
      "3                           0.004295190274774081          7.227309240886463   \n",
      "4                           0.016211668991844515         6.4655150445406875   \n",
      "..                                           ...                        ...   \n",
      "263                         0.004362094188679688          7.989480889132976   \n",
      "264                         0.007359716147518413          7.132380432952897   \n",
      "265                         0.002805952417830927          7.883071933344301   \n",
      "266                         0.005537735459287965          7.183066837311904   \n",
      "267                         0.004632402336366323          7.059102531317173   \n",
      "\n",
      "    original_glszm_ZonePercentage original_glszm_ZoneVariance  \\\n",
      "0            0.019338136676959546          172077.39245317376   \n",
      "1              0.0870034085000674           46816.54433963521   \n",
      "2             0.03242887322011578           60642.79651985077   \n",
      "3             0.06885935270706615          44257.699336654434   \n",
      "4             0.13295165394402036           352.1251344978366   \n",
      "..                            ...                         ...   \n",
      "263           0.04799624377222652           56817.12077028855   \n",
      "264          0.030656333584802138           31533.47952294441   \n",
      "265          0.028884269009276337           611564.5282742489   \n",
      "266          0.019786670032819996           167688.0315672464   \n",
      "267           0.06250461220574127           8446.799290223567   \n",
      "\n",
      "    original_ngtdm_Busyness original_ngtdm_Coarseness  \\\n",
      "0        3.7590332122329606     0.0006575694657091565   \n",
      "1        10.240600564249675    0.00012261421396444949   \n",
      "2        1.7538563744228957      0.000701417775236762   \n",
      "3         5.028600768704197    0.00027429525801599255   \n",
      "4         0.767920984698194      0.006917465662133839   \n",
      "..                      ...                       ...   \n",
      "263       3.566104087939354    0.00029262772423971025   \n",
      "264       1.151723695785711     0.0016972532129864357   \n",
      "265      11.466927899168798     9.600014185702305e-05   \n",
      "266       4.330519164978523     0.0006094134496260557   \n",
      "267       1.400944596175484     0.0015542644098446097   \n",
      "\n",
      "    original_ngtdm_Complexity original_ngtdm_Contrast original_ngtdm_Strength  \\\n",
      "0           183.5818731963342     0.01007526385594469      0.3431311130623584   \n",
      "1           712.1789351161689    0.022811102877566672     0.09018758535125429   \n",
      "2            416.240259296343    0.014509601595455975      0.5187548638701303   \n",
      "3           479.5358735708454     0.02063776607284173      0.1620973700104726   \n",
      "4          165.17317457718832     0.04399513028306255      1.1987632833512372   \n",
      "..                        ...                     ...                     ...   \n",
      "263         918.4366087033602     0.01917620577209381      0.5032657963552448   \n",
      "264         222.4005800031701    0.015614127632841207      0.6740049496160841   \n",
      "265         411.4613319488903    0.008775860224071329     0.09825103285723433   \n",
      "266        127.57214784141769    0.012445706217042019     0.17011196402028317   \n",
      "267         297.0892457619558     0.02535172312955613      0.6007623150360023   \n",
      "\n",
      "        PatientID  \n",
      "0    UMCG-0573601  \n",
      "1    UMCG-6395952  \n",
      "2    UMCG-5908531  \n",
      "3    UMCG-6754277  \n",
      "4    UMCG-1955182  \n",
      "..            ...  \n",
      "263  UMCG-2783403  \n",
      "264  UMCG-2294422  \n",
      "265  UMCG-0412861  \n",
      "266  UMCG-5325319  \n",
      "267  UMCG-2291679  \n",
      "\n",
      "[268 rows x 145 columns]\n"
     ]
    }
   ],
   "source": [
    "\n",
    "import os\n",
    "import SimpleITK as sitk\n",
    "import pandas as pd\n",
    "from radiomics import featureextractor\n",
    "\n",
    "# Define paths to input directories\n",
    "path_to_data_t2 = \"/Intern Programming/data/UMCGOPC_MRI_nii_zscoreinHNmask\"\n",
    "path_to_data_t2gt0tt = \"/Intern Programming/data/t1t2_gtv\"\n",
    "clc_data_path = '/Intern Programming/data/OPCdigits_268_split_t2good.csv'\n",
    "\n",
    "# Load clinical data\n",
    "clc_data = pd.read_csv(clc_data_path).drop(columns=['Unnamed: 0'])\n",
    "\n",
    "# Get list of patient IDs and corresponding files\n",
    "files = clc_data['PatientID']\n",
    "\n",
    "# Define lists of CT images and GTV masks\n",
    "mri_images = [os.path.join(path_to_data_t2, f\"{x}_t2.nii.gz\") for x in files]\n",
    "gtv_masks = [os.path.join(path_to_data_t2gt0tt, f\"{x}_gtvpttot2.nii.gz\") for x in files]\n",
    "\n",
    "# Create a PyRadiomics feature extractor object\n",
    "extractor = featureextractor.RadiomicsFeatureExtractor()\n",
    "\n",
    "# Specify the features you want to extract\n",
    "extractor.disableAllFeatures()\n",
    "extractor.enableFeatureClassByName('shape')\n",
    "extractor.enableFeatureClassByName('firstorder')\n",
    "extractor.enableFeatureClassByName('glcm')\n",
    "extractor.enableFeatureClassByName('gldm')\n",
    "extractor.enableFeatureClassByName('glrlm')\n",
    "extractor.enableFeatureClassByName('glszm')\n",
    "extractor.enableFeatureClassByName('ngtdm')\n",
    "\n",
    "# Specify the discretization of the image intensities\n",
    "extractor.settings[\"binWidth\"] = 0.1  # Intensity discretization bin width\n",
    "extractor.settings[\"resampledPixelSpacing\"] = (0.5, 0.5, 1.0)  # Resampled voxel spacing\n",
    "\n",
    "# Specify the resampling of the image and mask\n",
    "extractor.settings[\"interpolator\"] = \"sitkLinear\"\n",
    "extractor.settings[\"resamplingInterpolator\"] = \"sitkNearestNeighbor\"\n",
    "extractor.settings[\"correctMask\"] = True  # Correct mask if it extends outside the image bounds\n",
    "\n",
    "# Initialize an empty list to store DataFrames for each patient\n",
    "feature_dfs = []\n",
    "\n",
    "# Iterate over patients and extract features\n",
    "for patient_id, ct_image_path, gtv_mask_path in zip(files, mri_images, gtv_masks):\n",
    "    try:\n",
    "        # Load CT image and GTV mask\n",
    "        ct_image = sitk.ReadImage(ct_image_path)\n",
    "        gtv_mask = sitk.ReadImage(gtv_mask_path)\n",
    "        \n",
    "        # Extract radiomics features using the feature extractor\n",
    "        features = extractor.execute(ct_image, gtv_mask)\n",
    "        \n",
    "        # Add patient ID to features dictionary\n",
    "        features['PatientID'] = patient_id\n",
    "        \n",
    "        # Convert features OrderedDict to DataFrame\n",
    "        features_df = pd.DataFrame.from_dict(features, orient='index').T\n",
    "        \n",
    "        # Append features DataFrame to list of DataFrames\n",
    "        feature_dfs.append(features_df)\n",
    "        \n",
    "        print(f\"Successfully extracted features for patient {patient_id}\")\n",
    "    except Exception as e:\n",
    "        print(f\"Error extracting features for patient {patient_id}: {e}\")\n",
    "\n",
    "# Check if any features were successfully extracted\n",
    "if feature_dfs:\n",
    "    # Concatenate all feature DataFrames into a single DataFrame\n",
    "    all_features = pd.concat(feature_dfs, ignore_index=True)\n",
    "    \n",
    "    # Print the DataFrame containing all extracted features\n",
    "    print(all_features)\n",
    "else:\n",
    "    print(\"No features were extracted successfully.\")\n",
    "\n"
   ]
  },
  {
   "cell_type": "code",
   "execution_count": 23,
   "metadata": {},
   "outputs": [],
   "source": [
    "df = pd.DataFrame(all_features)\n",
    "df.to_csv(r'/Intern Programming/data/output/' + 'umcg_radiomicsfeature_t2_GTVPTtot.csv' )"
   ]
  },
  {
   "cell_type": "code",
   "execution_count": 6,
   "metadata": {},
   "outputs": [
    {
     "name": "stdout",
     "output_type": "stream",
     "text": [
      "Erosion completed and saved to: /Intern Programming/data/output/t1t2gtv_1mm\\UMCG-0020715_gtvpttot1.nii.gz\n",
      "Erosion completed and saved to: /Intern Programming/data/output/t1t2gtv_1mm\\UMCG-0020715_gtvpttot2.nii.gz\n",
      "Erosion completed and saved to: /Intern Programming/data/output/t1t2gtv_1mm\\UMCG-0020715_gtvtottot1.nii.gz\n",
      "Erosion completed and saved to: /Intern Programming/data/output/t1t2gtv_1mm\\UMCG-0020715_gtvtottot2.nii.gz\n",
      "Erosion completed and saved to: /Intern Programming/data/output/t1t2gtv_1mm\\UMCG-0021879_gtvpttot1.nii.gz\n",
      "Erosion completed and saved to: /Intern Programming/data/output/t1t2gtv_1mm\\UMCG-0021879_gtvpttot2.nii.gz\n",
      "Erosion completed and saved to: /Intern Programming/data/output/t1t2gtv_1mm\\UMCG-0021879_gtvtottot1.nii.gz\n",
      "Erosion completed and saved to: /Intern Programming/data/output/t1t2gtv_1mm\\UMCG-0021879_gtvtottot2.nii.gz\n",
      "Erosion completed and saved to: /Intern Programming/data/output/t1t2gtv_1mm\\UMCG-0059896_gtvpttot1.nii.gz\n",
      "Erosion completed and saved to: /Intern Programming/data/output/t1t2gtv_1mm\\UMCG-0059896_gtvpttot2.nii.gz\n",
      "Erosion completed and saved to: /Intern Programming/data/output/t1t2gtv_1mm\\UMCG-0059896_gtvtottot1.nii.gz\n",
      "Erosion completed and saved to: /Intern Programming/data/output/t1t2gtv_1mm\\UMCG-0059896_gtvtottot2.nii.gz\n",
      "Erosion completed and saved to: /Intern Programming/data/output/t1t2gtv_1mm\\UMCG-0066593_gtvpttot1.nii.gz\n",
      "Erosion completed and saved to: /Intern Programming/data/output/t1t2gtv_1mm\\UMCG-0066593_gtvpttot2.nii.gz\n",
      "Erosion completed and saved to: /Intern Programming/data/output/t1t2gtv_1mm\\UMCG-0066593_gtvtottot1.nii.gz\n",
      "Erosion completed and saved to: /Intern Programming/data/output/t1t2gtv_1mm\\UMCG-0066593_gtvtottot2.nii.gz\n",
      "Erosion completed and saved to: /Intern Programming/data/output/t1t2gtv_1mm\\UMCG-0070426_gtvpttot1.nii.gz\n",
      "Erosion completed and saved to: /Intern Programming/data/output/t1t2gtv_1mm\\UMCG-0070426_gtvpttot2.nii.gz\n",
      "Erosion completed and saved to: /Intern Programming/data/output/t1t2gtv_1mm\\UMCG-0070426_gtvtottot1.nii.gz\n",
      "Erosion completed and saved to: /Intern Programming/data/output/t1t2gtv_1mm\\UMCG-0070426_gtvtottot2.nii.gz\n",
      "Erosion completed and saved to: /Intern Programming/data/output/t1t2gtv_1mm\\UMCG-0079378_gtvpttot1.nii.gz\n",
      "Erosion completed and saved to: /Intern Programming/data/output/t1t2gtv_1mm\\UMCG-0079378_gtvpttot2.nii.gz\n",
      "Erosion completed and saved to: /Intern Programming/data/output/t1t2gtv_1mm\\UMCG-0079378_gtvtottot1.nii.gz\n",
      "Erosion completed and saved to: /Intern Programming/data/output/t1t2gtv_1mm\\UMCG-0079378_gtvtottot2.nii.gz\n",
      "Erosion completed and saved to: /Intern Programming/data/output/t1t2gtv_1mm\\UMCG-0170637_gtvpttot1.nii.gz\n",
      "Erosion completed and saved to: /Intern Programming/data/output/t1t2gtv_1mm\\UMCG-0170637_gtvpttot2.nii.gz\n",
      "Erosion completed and saved to: /Intern Programming/data/output/t1t2gtv_1mm\\UMCG-0170637_gtvtottot1.nii.gz\n",
      "Erosion completed and saved to: /Intern Programming/data/output/t1t2gtv_1mm\\UMCG-0170637_gtvtottot2.nii.gz\n",
      "Erosion completed and saved to: /Intern Programming/data/output/t1t2gtv_1mm\\UMCG-0191693_gtvlntot1.nii.gz\n",
      "Erosion completed and saved to: /Intern Programming/data/output/t1t2gtv_1mm\\UMCG-0191693_gtvlntot2.nii.gz\n",
      "Erosion completed and saved to: /Intern Programming/data/output/t1t2gtv_1mm\\UMCG-0191693_gtvpttot1.nii.gz\n",
      "Erosion completed and saved to: /Intern Programming/data/output/t1t2gtv_1mm\\UMCG-0191693_gtvpttot2.nii.gz\n",
      "Erosion completed and saved to: /Intern Programming/data/output/t1t2gtv_1mm\\UMCG-0191693_gtvtottot1.nii.gz\n",
      "Erosion completed and saved to: /Intern Programming/data/output/t1t2gtv_1mm\\UMCG-0191693_gtvtottot2.nii.gz\n",
      "Erosion completed and saved to: /Intern Programming/data/output/t1t2gtv_1mm\\UMCG-0263964_gtvlntot1.nii.gz\n",
      "Erosion completed and saved to: /Intern Programming/data/output/t1t2gtv_1mm\\UMCG-0263964_gtvlntot2.nii.gz\n",
      "Erosion completed and saved to: /Intern Programming/data/output/t1t2gtv_1mm\\UMCG-0263964_gtvpttot1.nii.gz\n",
      "Erosion completed and saved to: /Intern Programming/data/output/t1t2gtv_1mm\\UMCG-0263964_gtvpttot2.nii.gz\n",
      "Erosion completed and saved to: /Intern Programming/data/output/t1t2gtv_1mm\\UMCG-0263964_gtvtottot1.nii.gz\n",
      "Erosion completed and saved to: /Intern Programming/data/output/t1t2gtv_1mm\\UMCG-0263964_gtvtottot2.nii.gz\n",
      "Erosion completed and saved to: /Intern Programming/data/output/t1t2gtv_1mm\\UMCG-0276627_gtvpttot1.nii.gz\n",
      "Erosion completed and saved to: /Intern Programming/data/output/t1t2gtv_1mm\\UMCG-0276627_gtvpttot2.nii.gz\n",
      "Erosion completed and saved to: /Intern Programming/data/output/t1t2gtv_1mm\\UMCG-0276627_gtvtottot1.nii.gz\n",
      "Erosion completed and saved to: /Intern Programming/data/output/t1t2gtv_1mm\\UMCG-0276627_gtvtottot2.nii.gz\n",
      "Erosion completed and saved to: /Intern Programming/data/output/t1t2gtv_1mm\\UMCG-0287554_gtvpttot1.nii.gz\n",
      "Erosion completed and saved to: /Intern Programming/data/output/t1t2gtv_1mm\\UMCG-0287554_gtvpttot2.nii.gz\n",
      "Erosion completed and saved to: /Intern Programming/data/output/t1t2gtv_1mm\\UMCG-0287554_gtvtottot1.nii.gz\n",
      "Erosion completed and saved to: /Intern Programming/data/output/t1t2gtv_1mm\\UMCG-0287554_gtvtottot2.nii.gz\n",
      "Erosion completed and saved to: /Intern Programming/data/output/t1t2gtv_1mm\\UMCG-0287744_gtvpttot1.nii.gz\n",
      "Erosion completed and saved to: /Intern Programming/data/output/t1t2gtv_1mm\\UMCG-0287744_gtvpttot2.nii.gz\n",
      "Erosion completed and saved to: /Intern Programming/data/output/t1t2gtv_1mm\\UMCG-0287744_gtvtottot1.nii.gz\n",
      "Erosion completed and saved to: /Intern Programming/data/output/t1t2gtv_1mm\\UMCG-0287744_gtvtottot2.nii.gz\n",
      "Erosion completed and saved to: /Intern Programming/data/output/t1t2gtv_1mm\\UMCG-0298536_gtvpttot1.nii.gz\n",
      "Erosion completed and saved to: /Intern Programming/data/output/t1t2gtv_1mm\\UMCG-0298536_gtvpttot2.nii.gz\n",
      "Erosion completed and saved to: /Intern Programming/data/output/t1t2gtv_1mm\\UMCG-0298536_gtvtottot1.nii.gz\n",
      "Erosion completed and saved to: /Intern Programming/data/output/t1t2gtv_1mm\\UMCG-0298536_gtvtottot2.nii.gz\n",
      "Erosion completed and saved to: /Intern Programming/data/output/t1t2gtv_1mm\\UMCG-0303865_gtvpttot1.nii.gz\n",
      "Erosion completed and saved to: /Intern Programming/data/output/t1t2gtv_1mm\\UMCG-0303865_gtvpttot2.nii.gz\n",
      "Erosion completed and saved to: /Intern Programming/data/output/t1t2gtv_1mm\\UMCG-0303865_gtvtottot1.nii.gz\n",
      "Erosion completed and saved to: /Intern Programming/data/output/t1t2gtv_1mm\\UMCG-0303865_gtvtottot2.nii.gz\n",
      "Erosion completed and saved to: /Intern Programming/data/output/t1t2gtv_1mm\\UMCG-0330684_gtvpttot1.nii.gz\n",
      "Erosion completed and saved to: /Intern Programming/data/output/t1t2gtv_1mm\\UMCG-0330684_gtvpttot2.nii.gz\n",
      "Erosion completed and saved to: /Intern Programming/data/output/t1t2gtv_1mm\\UMCG-0330684_gtvtottot1.nii.gz\n",
      "Erosion completed and saved to: /Intern Programming/data/output/t1t2gtv_1mm\\UMCG-0330684_gtvtottot2.nii.gz\n",
      "Erosion completed and saved to: /Intern Programming/data/output/t1t2gtv_1mm\\UMCG-0338902_gtvlntot1.nii.gz\n",
      "Erosion completed and saved to: /Intern Programming/data/output/t1t2gtv_1mm\\UMCG-0338902_gtvlntot2.nii.gz\n",
      "Erosion completed and saved to: /Intern Programming/data/output/t1t2gtv_1mm\\UMCG-0338902_gtvpttot1.nii.gz\n",
      "Erosion completed and saved to: /Intern Programming/data/output/t1t2gtv_1mm\\UMCG-0338902_gtvpttot2.nii.gz\n",
      "Erosion completed and saved to: /Intern Programming/data/output/t1t2gtv_1mm\\UMCG-0338902_gtvtottot1.nii.gz\n",
      "Erosion completed and saved to: /Intern Programming/data/output/t1t2gtv_1mm\\UMCG-0338902_gtvtottot2.nii.gz\n",
      "Erosion completed and saved to: /Intern Programming/data/output/t1t2gtv_1mm\\UMCG-0345451_gtvpttot1.nii.gz\n",
      "Erosion completed and saved to: /Intern Programming/data/output/t1t2gtv_1mm\\UMCG-0345451_gtvpttot2.nii.gz\n",
      "Erosion completed and saved to: /Intern Programming/data/output/t1t2gtv_1mm\\UMCG-0345451_gtvtottot1.nii.gz\n",
      "Erosion completed and saved to: /Intern Programming/data/output/t1t2gtv_1mm\\UMCG-0345451_gtvtottot2.nii.gz\n",
      "Erosion completed and saved to: /Intern Programming/data/output/t1t2gtv_1mm\\UMCG-0412861_gtvpttot1.nii.gz\n",
      "Erosion completed and saved to: /Intern Programming/data/output/t1t2gtv_1mm\\UMCG-0412861_gtvpttot2.nii.gz\n",
      "Erosion completed and saved to: /Intern Programming/data/output/t1t2gtv_1mm\\UMCG-0412861_gtvtottot1.nii.gz\n",
      "Erosion completed and saved to: /Intern Programming/data/output/t1t2gtv_1mm\\UMCG-0412861_gtvtottot2.nii.gz\n",
      "Erosion completed and saved to: /Intern Programming/data/output/t1t2gtv_1mm\\UMCG-0508784_gtvpttot1.nii.gz\n",
      "Erosion completed and saved to: /Intern Programming/data/output/t1t2gtv_1mm\\UMCG-0508784_gtvpttot2.nii.gz\n",
      "Erosion completed and saved to: /Intern Programming/data/output/t1t2gtv_1mm\\UMCG-0508784_gtvtottot1.nii.gz\n",
      "Erosion completed and saved to: /Intern Programming/data/output/t1t2gtv_1mm\\UMCG-0508784_gtvtottot2.nii.gz\n",
      "Erosion completed and saved to: /Intern Programming/data/output/t1t2gtv_1mm\\UMCG-0573601_gtvpttot1.nii.gz\n",
      "Erosion completed and saved to: /Intern Programming/data/output/t1t2gtv_1mm\\UMCG-0573601_gtvpttot2.nii.gz\n",
      "Erosion completed and saved to: /Intern Programming/data/output/t1t2gtv_1mm\\UMCG-0573601_gtvtottot1.nii.gz\n",
      "Erosion completed and saved to: /Intern Programming/data/output/t1t2gtv_1mm\\UMCG-0573601_gtvtottot2.nii.gz\n",
      "Erosion completed and saved to: /Intern Programming/data/output/t1t2gtv_1mm\\UMCG-0585519_gtvpttot1.nii.gz\n",
      "Erosion completed and saved to: /Intern Programming/data/output/t1t2gtv_1mm\\UMCG-0585519_gtvpttot2.nii.gz\n",
      "Erosion completed and saved to: /Intern Programming/data/output/t1t2gtv_1mm\\UMCG-0585519_gtvtottot1.nii.gz\n",
      "Erosion completed and saved to: /Intern Programming/data/output/t1t2gtv_1mm\\UMCG-0585519_gtvtottot2.nii.gz\n",
      "Erosion completed and saved to: /Intern Programming/data/output/t1t2gtv_1mm\\UMCG-0587984_gtvpttot1.nii.gz\n",
      "Erosion completed and saved to: /Intern Programming/data/output/t1t2gtv_1mm\\UMCG-0587984_gtvpttot2.nii.gz\n",
      "Erosion completed and saved to: /Intern Programming/data/output/t1t2gtv_1mm\\UMCG-0587984_gtvtottot1.nii.gz\n",
      "Erosion completed and saved to: /Intern Programming/data/output/t1t2gtv_1mm\\UMCG-0587984_gtvtottot2.nii.gz\n",
      "Erosion completed and saved to: /Intern Programming/data/output/t1t2gtv_1mm\\UMCG-0598217_gtvpttot2.nii.gz\n",
      "Erosion completed and saved to: /Intern Programming/data/output/t1t2gtv_1mm\\UMCG-0598217_gtvtottot2.nii.gz\n",
      "Erosion completed and saved to: /Intern Programming/data/output/t1t2gtv_1mm\\UMCG-0611128_gtvlntot1.nii.gz\n",
      "Erosion completed and saved to: /Intern Programming/data/output/t1t2gtv_1mm\\UMCG-0611128_gtvlntot2.nii.gz\n",
      "Erosion completed and saved to: /Intern Programming/data/output/t1t2gtv_1mm\\UMCG-0611128_gtvpttot1.nii.gz\n",
      "Erosion completed and saved to: /Intern Programming/data/output/t1t2gtv_1mm\\UMCG-0611128_gtvpttot2.nii.gz\n",
      "Erosion completed and saved to: /Intern Programming/data/output/t1t2gtv_1mm\\UMCG-0611128_gtvtottot1.nii.gz\n",
      "Erosion completed and saved to: /Intern Programming/data/output/t1t2gtv_1mm\\UMCG-0611128_gtvtottot2.nii.gz\n",
      "Erosion completed and saved to: /Intern Programming/data/output/t1t2gtv_1mm\\UMCG-0617129_gtvpttot1.nii.gz\n",
      "Erosion completed and saved to: /Intern Programming/data/output/t1t2gtv_1mm\\UMCG-0617129_gtvpttot2.nii.gz\n",
      "Erosion completed and saved to: /Intern Programming/data/output/t1t2gtv_1mm\\UMCG-0617129_gtvtottot1.nii.gz\n",
      "Erosion completed and saved to: /Intern Programming/data/output/t1t2gtv_1mm\\UMCG-0617129_gtvtottot2.nii.gz\n",
      "Erosion completed and saved to: /Intern Programming/data/output/t1t2gtv_1mm\\UMCG-0642069_gtvpttot1.nii.gz\n",
      "Erosion completed and saved to: /Intern Programming/data/output/t1t2gtv_1mm\\UMCG-0642069_gtvpttot2.nii.gz\n",
      "Erosion completed and saved to: /Intern Programming/data/output/t1t2gtv_1mm\\UMCG-0642069_gtvtottot1.nii.gz\n",
      "Erosion completed and saved to: /Intern Programming/data/output/t1t2gtv_1mm\\UMCG-0642069_gtvtottot2.nii.gz\n",
      "Erosion completed and saved to: /Intern Programming/data/output/t1t2gtv_1mm\\UMCG-0701196_gtvpttot1.nii.gz\n",
      "Erosion completed and saved to: /Intern Programming/data/output/t1t2gtv_1mm\\UMCG-0701196_gtvpttot2.nii.gz\n",
      "Erosion completed and saved to: /Intern Programming/data/output/t1t2gtv_1mm\\UMCG-0701196_gtvtottot1.nii.gz\n",
      "Erosion completed and saved to: /Intern Programming/data/output/t1t2gtv_1mm\\UMCG-0701196_gtvtottot2.nii.gz\n",
      "Erosion completed and saved to: /Intern Programming/data/output/t1t2gtv_1mm\\UMCG-0731293_gtvpttot2.nii.gz\n",
      "Erosion completed and saved to: /Intern Programming/data/output/t1t2gtv_1mm\\UMCG-0731293_gtvtottot2.nii.gz\n",
      "Erosion completed and saved to: /Intern Programming/data/output/t1t2gtv_1mm\\UMCG-0748037_gtvpttot1.nii.gz\n",
      "Erosion completed and saved to: /Intern Programming/data/output/t1t2gtv_1mm\\UMCG-0748037_gtvtottot1.nii.gz\n",
      "Erosion completed and saved to: /Intern Programming/data/output/t1t2gtv_1mm\\UMCG-0818176_gtvpttot1.nii.gz\n",
      "Erosion completed and saved to: /Intern Programming/data/output/t1t2gtv_1mm\\UMCG-0818176_gtvtottot1.nii.gz\n",
      "Erosion completed and saved to: /Intern Programming/data/output/t1t2gtv_1mm\\UMCG-0838551_gtvpttot1.nii.gz\n",
      "Erosion completed and saved to: /Intern Programming/data/output/t1t2gtv_1mm\\UMCG-0838551_gtvpttot2.nii.gz\n",
      "Erosion completed and saved to: /Intern Programming/data/output/t1t2gtv_1mm\\UMCG-0838551_gtvtottot1.nii.gz\n",
      "Erosion completed and saved to: /Intern Programming/data/output/t1t2gtv_1mm\\UMCG-0838551_gtvtottot2.nii.gz\n",
      "Erosion completed and saved to: /Intern Programming/data/output/t1t2gtv_1mm\\UMCG-0861452_gtvlntot1.nii.gz\n",
      "Erosion completed and saved to: /Intern Programming/data/output/t1t2gtv_1mm\\UMCG-0861452_gtvlntot2.nii.gz\n",
      "Erosion completed and saved to: /Intern Programming/data/output/t1t2gtv_1mm\\UMCG-0861452_gtvpttot1.nii.gz\n",
      "Erosion completed and saved to: /Intern Programming/data/output/t1t2gtv_1mm\\UMCG-0861452_gtvpttot2.nii.gz\n",
      "Erosion completed and saved to: /Intern Programming/data/output/t1t2gtv_1mm\\UMCG-0861452_gtvtottot1.nii.gz\n",
      "Erosion completed and saved to: /Intern Programming/data/output/t1t2gtv_1mm\\UMCG-0861452_gtvtottot2.nii.gz\n",
      "Erosion completed and saved to: /Intern Programming/data/output/t1t2gtv_1mm\\UMCG-0872458_gtvlntot1.nii.gz\n",
      "Erosion completed and saved to: /Intern Programming/data/output/t1t2gtv_1mm\\UMCG-0872458_gtvlntot2.nii.gz\n",
      "Erosion completed and saved to: /Intern Programming/data/output/t1t2gtv_1mm\\UMCG-0872458_gtvpttot1.nii.gz\n",
      "Erosion completed and saved to: /Intern Programming/data/output/t1t2gtv_1mm\\UMCG-0872458_gtvpttot2.nii.gz\n",
      "Erosion completed and saved to: /Intern Programming/data/output/t1t2gtv_1mm\\UMCG-0872458_gtvtottot1.nii.gz\n",
      "Erosion completed and saved to: /Intern Programming/data/output/t1t2gtv_1mm\\UMCG-0872458_gtvtottot2.nii.gz\n",
      "Erosion completed and saved to: /Intern Programming/data/output/t1t2gtv_1mm\\UMCG-0884505_gtvpttot1.nii.gz\n",
      "Erosion completed and saved to: /Intern Programming/data/output/t1t2gtv_1mm\\UMCG-0884505_gtvpttot2.nii.gz\n",
      "Erosion completed and saved to: /Intern Programming/data/output/t1t2gtv_1mm\\UMCG-0884505_gtvtottot1.nii.gz\n",
      "Erosion completed and saved to: /Intern Programming/data/output/t1t2gtv_1mm\\UMCG-0884505_gtvtottot2.nii.gz\n",
      "Erosion completed and saved to: /Intern Programming/data/output/t1t2gtv_1mm\\UMCG-0890851_gtvpttot1.nii.gz\n",
      "Erosion completed and saved to: /Intern Programming/data/output/t1t2gtv_1mm\\UMCG-0890851_gtvpttot2.nii.gz\n",
      "Erosion completed and saved to: /Intern Programming/data/output/t1t2gtv_1mm\\UMCG-0890851_gtvtottot1.nii.gz\n",
      "Erosion completed and saved to: /Intern Programming/data/output/t1t2gtv_1mm\\UMCG-0890851_gtvtottot2.nii.gz\n",
      "Erosion completed and saved to: /Intern Programming/data/output/t1t2gtv_1mm\\UMCG-0903246_gtvpttot1.nii.gz\n",
      "Erosion completed and saved to: /Intern Programming/data/output/t1t2gtv_1mm\\UMCG-0903246_gtvpttot2.nii.gz\n",
      "Erosion completed and saved to: /Intern Programming/data/output/t1t2gtv_1mm\\UMCG-0903246_gtvtottot1.nii.gz\n",
      "Erosion completed and saved to: /Intern Programming/data/output/t1t2gtv_1mm\\UMCG-0903246_gtvtottot2.nii.gz\n",
      "Erosion completed and saved to: /Intern Programming/data/output/t1t2gtv_1mm\\UMCG-0916891_gtvlntot1.nii.gz\n",
      "Erosion completed and saved to: /Intern Programming/data/output/t1t2gtv_1mm\\UMCG-0916891_gtvlntot2.nii.gz\n",
      "Erosion completed and saved to: /Intern Programming/data/output/t1t2gtv_1mm\\UMCG-0916891_gtvpttot1.nii.gz\n",
      "Erosion completed and saved to: /Intern Programming/data/output/t1t2gtv_1mm\\UMCG-0916891_gtvpttot2.nii.gz\n",
      "Erosion completed and saved to: /Intern Programming/data/output/t1t2gtv_1mm\\UMCG-0916891_gtvtottot1.nii.gz\n",
      "Erosion completed and saved to: /Intern Programming/data/output/t1t2gtv_1mm\\UMCG-0916891_gtvtottot2.nii.gz\n",
      "Erosion completed and saved to: /Intern Programming/data/output/t1t2gtv_1mm\\UMCG-0938572_gtvpttot1.nii.gz\n",
      "Erosion completed and saved to: /Intern Programming/data/output/t1t2gtv_1mm\\UMCG-0938572_gtvpttot2.nii.gz\n",
      "Erosion completed and saved to: /Intern Programming/data/output/t1t2gtv_1mm\\UMCG-0938572_gtvtottot1.nii.gz\n",
      "Erosion completed and saved to: /Intern Programming/data/output/t1t2gtv_1mm\\UMCG-0938572_gtvtottot2.nii.gz\n",
      "Erosion completed and saved to: /Intern Programming/data/output/t1t2gtv_1mm\\UMCG-0940338_gtvpttot1.nii.gz\n",
      "Erosion completed and saved to: /Intern Programming/data/output/t1t2gtv_1mm\\UMCG-0940338_gtvpttot2.nii.gz\n",
      "Erosion completed and saved to: /Intern Programming/data/output/t1t2gtv_1mm\\UMCG-0940338_gtvtottot1.nii.gz\n",
      "Erosion completed and saved to: /Intern Programming/data/output/t1t2gtv_1mm\\UMCG-0940338_gtvtottot2.nii.gz\n",
      "Erosion completed and saved to: /Intern Programming/data/output/t1t2gtv_1mm\\UMCG-0946689_gtvpttot1.nii.gz\n",
      "Erosion completed and saved to: /Intern Programming/data/output/t1t2gtv_1mm\\UMCG-0946689_gtvpttot2.nii.gz\n",
      "Erosion completed and saved to: /Intern Programming/data/output/t1t2gtv_1mm\\UMCG-0946689_gtvtottot1.nii.gz\n",
      "Erosion completed and saved to: /Intern Programming/data/output/t1t2gtv_1mm\\UMCG-0946689_gtvtottot2.nii.gz\n",
      "Erosion completed and saved to: /Intern Programming/data/output/t1t2gtv_1mm\\UMCG-0949972_gtvpttot1.nii.gz\n",
      "Erosion completed and saved to: /Intern Programming/data/output/t1t2gtv_1mm\\UMCG-0949972_gtvpttot2.nii.gz\n",
      "Erosion completed and saved to: /Intern Programming/data/output/t1t2gtv_1mm\\UMCG-0949972_gtvtottot1.nii.gz\n",
      "Erosion completed and saved to: /Intern Programming/data/output/t1t2gtv_1mm\\UMCG-0949972_gtvtottot2.nii.gz\n",
      "Erosion completed and saved to: /Intern Programming/data/output/t1t2gtv_1mm\\UMCG-0970348_gtvpttot1.nii.gz\n",
      "Erosion completed and saved to: /Intern Programming/data/output/t1t2gtv_1mm\\UMCG-0970348_gtvpttot2.nii.gz\n",
      "Erosion completed and saved to: /Intern Programming/data/output/t1t2gtv_1mm\\UMCG-0970348_gtvtottot1.nii.gz\n",
      "Erosion completed and saved to: /Intern Programming/data/output/t1t2gtv_1mm\\UMCG-0970348_gtvtottot2.nii.gz\n",
      "Erosion completed and saved to: /Intern Programming/data/output/t1t2gtv_1mm\\UMCG-1051551_gtvpttot1.nii.gz\n",
      "Erosion completed and saved to: /Intern Programming/data/output/t1t2gtv_1mm\\UMCG-1051551_gtvpttot2.nii.gz\n",
      "Erosion completed and saved to: /Intern Programming/data/output/t1t2gtv_1mm\\UMCG-1051551_gtvtottot1.nii.gz\n",
      "Erosion completed and saved to: /Intern Programming/data/output/t1t2gtv_1mm\\UMCG-1051551_gtvtottot2.nii.gz\n",
      "Erosion completed and saved to: /Intern Programming/data/output/t1t2gtv_1mm\\UMCG-1053592_gtvpttot1.nii.gz\n",
      "Erosion completed and saved to: /Intern Programming/data/output/t1t2gtv_1mm\\UMCG-1053592_gtvpttot2.nii.gz\n",
      "Erosion completed and saved to: /Intern Programming/data/output/t1t2gtv_1mm\\UMCG-1053592_gtvtottot1.nii.gz\n",
      "Erosion completed and saved to: /Intern Programming/data/output/t1t2gtv_1mm\\UMCG-1053592_gtvtottot2.nii.gz\n",
      "Erosion completed and saved to: /Intern Programming/data/output/t1t2gtv_1mm\\UMCG-1097433_gtvpttot1.nii.gz\n",
      "Erosion completed and saved to: /Intern Programming/data/output/t1t2gtv_1mm\\UMCG-1097433_gtvpttot2.nii.gz\n",
      "Erosion completed and saved to: /Intern Programming/data/output/t1t2gtv_1mm\\UMCG-1097433_gtvtottot1.nii.gz\n",
      "Erosion completed and saved to: /Intern Programming/data/output/t1t2gtv_1mm\\UMCG-1097433_gtvtottot2.nii.gz\n",
      "Erosion completed and saved to: /Intern Programming/data/output/t1t2gtv_1mm\\UMCG-1117043_gtvlntot1.nii.gz\n",
      "Erosion completed and saved to: /Intern Programming/data/output/t1t2gtv_1mm\\UMCG-1117043_gtvlntot2.nii.gz\n",
      "Erosion completed and saved to: /Intern Programming/data/output/t1t2gtv_1mm\\UMCG-1117043_gtvpttot1.nii.gz\n",
      "Erosion completed and saved to: /Intern Programming/data/output/t1t2gtv_1mm\\UMCG-1117043_gtvpttot2.nii.gz\n",
      "Erosion completed and saved to: /Intern Programming/data/output/t1t2gtv_1mm\\UMCG-1117043_gtvtottot1.nii.gz\n",
      "Erosion completed and saved to: /Intern Programming/data/output/t1t2gtv_1mm\\UMCG-1117043_gtvtottot2.nii.gz\n",
      "Erosion completed and saved to: /Intern Programming/data/output/t1t2gtv_1mm\\UMCG-1124041_gtvpttot1.nii.gz\n",
      "Erosion completed and saved to: /Intern Programming/data/output/t1t2gtv_1mm\\UMCG-1124041_gtvpttot2.nii.gz\n",
      "Erosion completed and saved to: /Intern Programming/data/output/t1t2gtv_1mm\\UMCG-1124041_gtvtottot1.nii.gz\n",
      "Erosion completed and saved to: /Intern Programming/data/output/t1t2gtv_1mm\\UMCG-1124041_gtvtottot2.nii.gz\n",
      "Erosion completed and saved to: /Intern Programming/data/output/t1t2gtv_1mm\\UMCG-1165250_gtvpttot1.nii.gz\n",
      "Erosion completed and saved to: /Intern Programming/data/output/t1t2gtv_1mm\\UMCG-1165250_gtvpttot2.nii.gz\n",
      "Erosion completed and saved to: /Intern Programming/data/output/t1t2gtv_1mm\\UMCG-1165250_gtvtottot1.nii.gz\n",
      "Erosion completed and saved to: /Intern Programming/data/output/t1t2gtv_1mm\\UMCG-1165250_gtvtottot2.nii.gz\n",
      "Erosion completed and saved to: /Intern Programming/data/output/t1t2gtv_1mm\\UMCG-1180395_gtvpttot1.nii.gz\n",
      "Erosion completed and saved to: /Intern Programming/data/output/t1t2gtv_1mm\\UMCG-1180395_gtvtottot1.nii.gz\n",
      "Erosion completed and saved to: /Intern Programming/data/output/t1t2gtv_1mm\\UMCG-1191508_gtvpttot1.nii.gz\n",
      "Erosion completed and saved to: /Intern Programming/data/output/t1t2gtv_1mm\\UMCG-1191508_gtvpttot2.nii.gz\n",
      "Erosion completed and saved to: /Intern Programming/data/output/t1t2gtv_1mm\\UMCG-1191508_gtvtottot1.nii.gz\n",
      "Erosion completed and saved to: /Intern Programming/data/output/t1t2gtv_1mm\\UMCG-1191508_gtvtottot2.nii.gz\n",
      "Erosion completed and saved to: /Intern Programming/data/output/t1t2gtv_1mm\\UMCG-1318845_gtvpttot1.nii.gz\n",
      "Erosion completed and saved to: /Intern Programming/data/output/t1t2gtv_1mm\\UMCG-1318845_gtvpttot2.nii.gz\n",
      "Erosion completed and saved to: /Intern Programming/data/output/t1t2gtv_1mm\\UMCG-1318845_gtvtottot1.nii.gz\n",
      "Erosion completed and saved to: /Intern Programming/data/output/t1t2gtv_1mm\\UMCG-1318845_gtvtottot2.nii.gz\n",
      "Erosion completed and saved to: /Intern Programming/data/output/t1t2gtv_1mm\\UMCG-1320820_gtvpttot1.nii.gz\n",
      "Erosion completed and saved to: /Intern Programming/data/output/t1t2gtv_1mm\\UMCG-1320820_gtvpttot2.nii.gz\n",
      "Erosion completed and saved to: /Intern Programming/data/output/t1t2gtv_1mm\\UMCG-1320820_gtvtottot1.nii.gz\n",
      "Erosion completed and saved to: /Intern Programming/data/output/t1t2gtv_1mm\\UMCG-1320820_gtvtottot2.nii.gz\n",
      "Erosion completed and saved to: /Intern Programming/data/output/t1t2gtv_1mm\\UMCG-1338533_gtvpttot1.nii.gz\n",
      "Erosion completed and saved to: /Intern Programming/data/output/t1t2gtv_1mm\\UMCG-1338533_gtvtottot1.nii.gz\n",
      "Erosion completed and saved to: /Intern Programming/data/output/t1t2gtv_1mm\\UMCG-1375386_gtvpttot1.nii.gz\n",
      "Erosion completed and saved to: /Intern Programming/data/output/t1t2gtv_1mm\\UMCG-1375386_gtvpttot2.nii.gz\n",
      "Erosion completed and saved to: /Intern Programming/data/output/t1t2gtv_1mm\\UMCG-1375386_gtvtottot1.nii.gz\n",
      "Erosion completed and saved to: /Intern Programming/data/output/t1t2gtv_1mm\\UMCG-1375386_gtvtottot2.nii.gz\n",
      "Erosion completed and saved to: /Intern Programming/data/output/t1t2gtv_1mm\\UMCG-1434975_gtvpttot1.nii.gz\n",
      "Erosion completed and saved to: /Intern Programming/data/output/t1t2gtv_1mm\\UMCG-1434975_gtvpttot2.nii.gz\n",
      "Erosion completed and saved to: /Intern Programming/data/output/t1t2gtv_1mm\\UMCG-1434975_gtvtottot1.nii.gz\n",
      "Erosion completed and saved to: /Intern Programming/data/output/t1t2gtv_1mm\\UMCG-1434975_gtvtottot2.nii.gz\n",
      "Erosion completed and saved to: /Intern Programming/data/output/t1t2gtv_1mm\\UMCG-1448368_gtvpttot1.nii.gz\n",
      "Erosion completed and saved to: /Intern Programming/data/output/t1t2gtv_1mm\\UMCG-1448368_gtvpttot2.nii.gz\n",
      "Erosion completed and saved to: /Intern Programming/data/output/t1t2gtv_1mm\\UMCG-1448368_gtvtottot1.nii.gz\n",
      "Erosion completed and saved to: /Intern Programming/data/output/t1t2gtv_1mm\\UMCG-1448368_gtvtottot2.nii.gz\n",
      "Erosion completed and saved to: /Intern Programming/data/output/t1t2gtv_1mm\\UMCG-1474145_gtvpttot1.nii.gz\n",
      "Erosion completed and saved to: /Intern Programming/data/output/t1t2gtv_1mm\\UMCG-1474145_gtvpttot2.nii.gz\n",
      "Erosion completed and saved to: /Intern Programming/data/output/t1t2gtv_1mm\\UMCG-1474145_gtvtottot1.nii.gz\n",
      "Erosion completed and saved to: /Intern Programming/data/output/t1t2gtv_1mm\\UMCG-1474145_gtvtottot2.nii.gz\n",
      "Erosion completed and saved to: /Intern Programming/data/output/t1t2gtv_1mm\\UMCG-1479802_gtvpttot1.nii.gz\n",
      "Erosion completed and saved to: /Intern Programming/data/output/t1t2gtv_1mm\\UMCG-1479802_gtvpttot2.nii.gz\n",
      "Erosion completed and saved to: /Intern Programming/data/output/t1t2gtv_1mm\\UMCG-1479802_gtvtottot1.nii.gz\n",
      "Erosion completed and saved to: /Intern Programming/data/output/t1t2gtv_1mm\\UMCG-1479802_gtvtottot2.nii.gz\n",
      "Erosion completed and saved to: /Intern Programming/data/output/t1t2gtv_1mm\\UMCG-1718685_gtvlntot1.nii.gz\n",
      "Erosion completed and saved to: /Intern Programming/data/output/t1t2gtv_1mm\\UMCG-1718685_gtvlntot2.nii.gz\n",
      "Erosion completed and saved to: /Intern Programming/data/output/t1t2gtv_1mm\\UMCG-1718685_gtvpttot1.nii.gz\n",
      "Erosion completed and saved to: /Intern Programming/data/output/t1t2gtv_1mm\\UMCG-1718685_gtvpttot2.nii.gz\n",
      "Erosion completed and saved to: /Intern Programming/data/output/t1t2gtv_1mm\\UMCG-1718685_gtvtottot1.nii.gz\n",
      "Erosion completed and saved to: /Intern Programming/data/output/t1t2gtv_1mm\\UMCG-1718685_gtvtottot2.nii.gz\n",
      "Erosion completed and saved to: /Intern Programming/data/output/t1t2gtv_1mm\\UMCG-1737477_gtvpttot1.nii.gz\n",
      "Erosion completed and saved to: /Intern Programming/data/output/t1t2gtv_1mm\\UMCG-1737477_gtvpttot2.nii.gz\n",
      "Erosion completed and saved to: /Intern Programming/data/output/t1t2gtv_1mm\\UMCG-1737477_gtvtottot1.nii.gz\n",
      "Erosion completed and saved to: /Intern Programming/data/output/t1t2gtv_1mm\\UMCG-1737477_gtvtottot2.nii.gz\n",
      "Erosion completed and saved to: /Intern Programming/data/output/t1t2gtv_1mm\\UMCG-1777766_gtvlntot1.nii.gz\n",
      "Erosion completed and saved to: /Intern Programming/data/output/t1t2gtv_1mm\\UMCG-1777766_gtvlntot2.nii.gz\n",
      "Erosion completed and saved to: /Intern Programming/data/output/t1t2gtv_1mm\\UMCG-1777766_gtvpttot1.nii.gz\n",
      "Erosion completed and saved to: /Intern Programming/data/output/t1t2gtv_1mm\\UMCG-1777766_gtvpttot2.nii.gz\n",
      "Erosion completed and saved to: /Intern Programming/data/output/t1t2gtv_1mm\\UMCG-1777766_gtvtottot1.nii.gz\n",
      "Erosion completed and saved to: /Intern Programming/data/output/t1t2gtv_1mm\\UMCG-1777766_gtvtottot2.nii.gz\n",
      "Erosion completed and saved to: /Intern Programming/data/output/t1t2gtv_1mm\\UMCG-1872399_gtvlntot1.nii.gz\n",
      "Erosion completed and saved to: /Intern Programming/data/output/t1t2gtv_1mm\\UMCG-1872399_gtvlntot2.nii.gz\n",
      "Erosion completed and saved to: /Intern Programming/data/output/t1t2gtv_1mm\\UMCG-1872399_gtvpttot1.nii.gz\n",
      "Erosion completed and saved to: /Intern Programming/data/output/t1t2gtv_1mm\\UMCG-1872399_gtvpttot2.nii.gz\n",
      "Erosion completed and saved to: /Intern Programming/data/output/t1t2gtv_1mm\\UMCG-1872399_gtvtottot1.nii.gz\n",
      "Erosion completed and saved to: /Intern Programming/data/output/t1t2gtv_1mm\\UMCG-1872399_gtvtottot2.nii.gz\n",
      "Erosion completed and saved to: /Intern Programming/data/output/t1t2gtv_1mm\\UMCG-1942221_gtvlntot1.nii.gz\n",
      "Erosion completed and saved to: /Intern Programming/data/output/t1t2gtv_1mm\\UMCG-1942221_gtvlntot2.nii.gz\n",
      "Erosion completed and saved to: /Intern Programming/data/output/t1t2gtv_1mm\\UMCG-1942221_gtvpttot1.nii.gz\n",
      "Erosion completed and saved to: /Intern Programming/data/output/t1t2gtv_1mm\\UMCG-1942221_gtvpttot2.nii.gz\n",
      "Erosion completed and saved to: /Intern Programming/data/output/t1t2gtv_1mm\\UMCG-1942221_gtvtottot1.nii.gz\n",
      "Erosion completed and saved to: /Intern Programming/data/output/t1t2gtv_1mm\\UMCG-1942221_gtvtottot2.nii.gz\n",
      "Erosion completed and saved to: /Intern Programming/data/output/t1t2gtv_1mm\\UMCG-1946769_gtvpttot1.nii.gz\n",
      "Erosion completed and saved to: /Intern Programming/data/output/t1t2gtv_1mm\\UMCG-1946769_gtvpttot2.nii.gz\n",
      "Erosion completed and saved to: /Intern Programming/data/output/t1t2gtv_1mm\\UMCG-1946769_gtvtottot1.nii.gz\n",
      "Erosion completed and saved to: /Intern Programming/data/output/t1t2gtv_1mm\\UMCG-1946769_gtvtottot2.nii.gz\n",
      "Erosion completed and saved to: /Intern Programming/data/output/t1t2gtv_1mm\\UMCG-1955182_gtvlntot1.nii.gz\n",
      "Erosion completed and saved to: /Intern Programming/data/output/t1t2gtv_1mm\\UMCG-1955182_gtvlntot2.nii.gz\n",
      "Erosion completed and saved to: /Intern Programming/data/output/t1t2gtv_1mm\\UMCG-1955182_gtvpttot1.nii.gz\n",
      "Erosion completed and saved to: /Intern Programming/data/output/t1t2gtv_1mm\\UMCG-1955182_gtvpttot2.nii.gz\n",
      "Erosion completed and saved to: /Intern Programming/data/output/t1t2gtv_1mm\\UMCG-1955182_gtvtottot1.nii.gz\n",
      "Erosion completed and saved to: /Intern Programming/data/output/t1t2gtv_1mm\\UMCG-1955182_gtvtottot2.nii.gz\n",
      "Erosion completed and saved to: /Intern Programming/data/output/t1t2gtv_1mm\\UMCG-1966976_gtvlntot1.nii.gz\n",
      "Erosion completed and saved to: /Intern Programming/data/output/t1t2gtv_1mm\\UMCG-1966976_gtvlntot2.nii.gz\n",
      "Erosion completed and saved to: /Intern Programming/data/output/t1t2gtv_1mm\\UMCG-1966976_gtvpttot1.nii.gz\n",
      "Erosion completed and saved to: /Intern Programming/data/output/t1t2gtv_1mm\\UMCG-1966976_gtvpttot2.nii.gz\n",
      "Erosion completed and saved to: /Intern Programming/data/output/t1t2gtv_1mm\\UMCG-1966976_gtvtottot1.nii.gz\n",
      "Erosion completed and saved to: /Intern Programming/data/output/t1t2gtv_1mm\\UMCG-1966976_gtvtottot2.nii.gz\n",
      "Erosion completed and saved to: /Intern Programming/data/output/t1t2gtv_1mm\\UMCG-1973344_gtvpttot1.nii.gz\n",
      "Erosion completed and saved to: /Intern Programming/data/output/t1t2gtv_1mm\\UMCG-1973344_gtvpttot2.nii.gz\n",
      "Erosion completed and saved to: /Intern Programming/data/output/t1t2gtv_1mm\\UMCG-1973344_gtvtottot1.nii.gz\n",
      "Erosion completed and saved to: /Intern Programming/data/output/t1t2gtv_1mm\\UMCG-1973344_gtvtottot2.nii.gz\n",
      "Erosion completed and saved to: /Intern Programming/data/output/t1t2gtv_1mm\\UMCG-2000655_gtvpttot1.nii.gz\n",
      "Erosion completed and saved to: /Intern Programming/data/output/t1t2gtv_1mm\\UMCG-2000655_gtvpttot2.nii.gz\n",
      "Erosion completed and saved to: /Intern Programming/data/output/t1t2gtv_1mm\\UMCG-2000655_gtvtottot1.nii.gz\n",
      "Erosion completed and saved to: /Intern Programming/data/output/t1t2gtv_1mm\\UMCG-2000655_gtvtottot2.nii.gz\n",
      "Erosion completed and saved to: /Intern Programming/data/output/t1t2gtv_1mm\\UMCG-2002365_gtvpttot1.nii.gz\n",
      "Erosion completed and saved to: /Intern Programming/data/output/t1t2gtv_1mm\\UMCG-2002365_gtvpttot2.nii.gz\n",
      "Erosion completed and saved to: /Intern Programming/data/output/t1t2gtv_1mm\\UMCG-2002365_gtvtottot1.nii.gz\n",
      "Erosion completed and saved to: /Intern Programming/data/output/t1t2gtv_1mm\\UMCG-2002365_gtvtottot2.nii.gz\n",
      "Erosion completed and saved to: /Intern Programming/data/output/t1t2gtv_1mm\\UMCG-2016613_gtvpttot1.nii.gz\n",
      "Erosion completed and saved to: /Intern Programming/data/output/t1t2gtv_1mm\\UMCG-2016613_gtvpttot2.nii.gz\n",
      "Erosion completed and saved to: /Intern Programming/data/output/t1t2gtv_1mm\\UMCG-2016613_gtvtottot1.nii.gz\n",
      "Erosion completed and saved to: /Intern Programming/data/output/t1t2gtv_1mm\\UMCG-2016613_gtvtottot2.nii.gz\n",
      "Erosion completed and saved to: /Intern Programming/data/output/t1t2gtv_1mm\\UMCG-2022769_gtvlntot1.nii.gz\n",
      "Erosion completed and saved to: /Intern Programming/data/output/t1t2gtv_1mm\\UMCG-2022769_gtvlntot2.nii.gz\n",
      "Erosion completed and saved to: /Intern Programming/data/output/t1t2gtv_1mm\\UMCG-2022769_gtvpttot1.nii.gz\n",
      "Erosion completed and saved to: /Intern Programming/data/output/t1t2gtv_1mm\\UMCG-2022769_gtvpttot2.nii.gz\n",
      "Erosion completed and saved to: /Intern Programming/data/output/t1t2gtv_1mm\\UMCG-2022769_gtvtottot1.nii.gz\n",
      "Erosion completed and saved to: /Intern Programming/data/output/t1t2gtv_1mm\\UMCG-2022769_gtvtottot2.nii.gz\n",
      "Erosion completed and saved to: /Intern Programming/data/output/t1t2gtv_1mm\\UMCG-2022790_gtvpttot1.nii.gz\n",
      "Erosion completed and saved to: /Intern Programming/data/output/t1t2gtv_1mm\\UMCG-2022790_gtvpttot2.nii.gz\n",
      "Erosion completed and saved to: /Intern Programming/data/output/t1t2gtv_1mm\\UMCG-2022790_gtvtottot1.nii.gz\n",
      "Erosion completed and saved to: /Intern Programming/data/output/t1t2gtv_1mm\\UMCG-2022790_gtvtottot2.nii.gz\n",
      "Erosion completed and saved to: /Intern Programming/data/output/t1t2gtv_1mm\\UMCG-2024557_gtvpttot1.nii.gz\n",
      "Erosion completed and saved to: /Intern Programming/data/output/t1t2gtv_1mm\\UMCG-2024557_gtvpttot2.nii.gz\n",
      "Erosion completed and saved to: /Intern Programming/data/output/t1t2gtv_1mm\\UMCG-2024557_gtvtottot1.nii.gz\n",
      "Erosion completed and saved to: /Intern Programming/data/output/t1t2gtv_1mm\\UMCG-2024557_gtvtottot2.nii.gz\n",
      "Erosion completed and saved to: /Intern Programming/data/output/t1t2gtv_1mm\\UMCG-2031147_gtvpttot1.nii.gz\n",
      "Erosion completed and saved to: /Intern Programming/data/output/t1t2gtv_1mm\\UMCG-2031147_gtvpttot2.nii.gz\n",
      "Erosion completed and saved to: /Intern Programming/data/output/t1t2gtv_1mm\\UMCG-2031147_gtvtottot1.nii.gz\n",
      "Erosion completed and saved to: /Intern Programming/data/output/t1t2gtv_1mm\\UMCG-2031147_gtvtottot2.nii.gz\n",
      "Erosion completed and saved to: /Intern Programming/data/output/t1t2gtv_1mm\\UMCG-2038542_gtvpttot1.nii.gz\n",
      "Erosion completed and saved to: /Intern Programming/data/output/t1t2gtv_1mm\\UMCG-2038542_gtvpttot2.nii.gz\n",
      "Erosion completed and saved to: /Intern Programming/data/output/t1t2gtv_1mm\\UMCG-2038542_gtvtottot1.nii.gz\n",
      "Erosion completed and saved to: /Intern Programming/data/output/t1t2gtv_1mm\\UMCG-2038542_gtvtottot2.nii.gz\n",
      "Erosion completed and saved to: /Intern Programming/data/output/t1t2gtv_1mm\\UMCG-2051341_gtvpttot1.nii.gz\n",
      "Erosion completed and saved to: /Intern Programming/data/output/t1t2gtv_1mm\\UMCG-2051341_gtvpttot2.nii.gz\n",
      "Erosion completed and saved to: /Intern Programming/data/output/t1t2gtv_1mm\\UMCG-2051341_gtvtottot1.nii.gz\n",
      "Erosion completed and saved to: /Intern Programming/data/output/t1t2gtv_1mm\\UMCG-2051341_gtvtottot2.nii.gz\n",
      "Erosion completed and saved to: /Intern Programming/data/output/t1t2gtv_1mm\\UMCG-2058876_gtvpttot1.nii.gz\n",
      "Erosion completed and saved to: /Intern Programming/data/output/t1t2gtv_1mm\\UMCG-2058876_gtvpttot2.nii.gz\n",
      "Erosion completed and saved to: /Intern Programming/data/output/t1t2gtv_1mm\\UMCG-2058876_gtvtottot1.nii.gz\n",
      "Erosion completed and saved to: /Intern Programming/data/output/t1t2gtv_1mm\\UMCG-2058876_gtvtottot2.nii.gz\n",
      "Erosion completed and saved to: /Intern Programming/data/output/t1t2gtv_1mm\\UMCG-2064239_gtvpttot1.nii.gz\n",
      "Erosion completed and saved to: /Intern Programming/data/output/t1t2gtv_1mm\\UMCG-2064239_gtvpttot2.nii.gz\n",
      "Erosion completed and saved to: /Intern Programming/data/output/t1t2gtv_1mm\\UMCG-2064239_gtvtottot1.nii.gz\n",
      "Erosion completed and saved to: /Intern Programming/data/output/t1t2gtv_1mm\\UMCG-2064239_gtvtottot2.nii.gz\n",
      "Erosion completed and saved to: /Intern Programming/data/output/t1t2gtv_1mm\\UMCG-2073561_gtvpttot1.nii.gz\n",
      "Erosion completed and saved to: /Intern Programming/data/output/t1t2gtv_1mm\\UMCG-2073561_gtvpttot2.nii.gz\n",
      "Erosion completed and saved to: /Intern Programming/data/output/t1t2gtv_1mm\\UMCG-2073561_gtvtottot1.nii.gz\n",
      "Erosion completed and saved to: /Intern Programming/data/output/t1t2gtv_1mm\\UMCG-2073561_gtvtottot2.nii.gz\n",
      "Erosion completed and saved to: /Intern Programming/data/output/t1t2gtv_1mm\\UMCG-2075963_gtvpttot1.nii.gz\n",
      "Erosion completed and saved to: /Intern Programming/data/output/t1t2gtv_1mm\\UMCG-2075963_gtvpttot2.nii.gz\n",
      "Erosion completed and saved to: /Intern Programming/data/output/t1t2gtv_1mm\\UMCG-2075963_gtvtottot1.nii.gz\n",
      "Erosion completed and saved to: /Intern Programming/data/output/t1t2gtv_1mm\\UMCG-2075963_gtvtottot2.nii.gz\n",
      "Erosion completed and saved to: /Intern Programming/data/output/t1t2gtv_1mm\\UMCG-2076094_gtvpttot1.nii.gz\n",
      "Erosion completed and saved to: /Intern Programming/data/output/t1t2gtv_1mm\\UMCG-2076094_gtvpttot2.nii.gz\n",
      "Erosion completed and saved to: /Intern Programming/data/output/t1t2gtv_1mm\\UMCG-2076094_gtvtottot1.nii.gz\n",
      "Erosion completed and saved to: /Intern Programming/data/output/t1t2gtv_1mm\\UMCG-2076094_gtvtottot2.nii.gz\n",
      "Erosion completed and saved to: /Intern Programming/data/output/t1t2gtv_1mm\\UMCG-2078256_gtvpttot1.nii.gz\n",
      "Erosion completed and saved to: /Intern Programming/data/output/t1t2gtv_1mm\\UMCG-2078256_gtvpttot2.nii.gz\n",
      "Erosion completed and saved to: /Intern Programming/data/output/t1t2gtv_1mm\\UMCG-2078256_gtvtottot1.nii.gz\n",
      "Erosion completed and saved to: /Intern Programming/data/output/t1t2gtv_1mm\\UMCG-2078256_gtvtottot2.nii.gz\n",
      "Erosion completed and saved to: /Intern Programming/data/output/t1t2gtv_1mm\\UMCG-2080097_gtvpttot1.nii.gz\n",
      "Erosion completed and saved to: /Intern Programming/data/output/t1t2gtv_1mm\\UMCG-2080097_gtvpttot2.nii.gz\n",
      "Erosion completed and saved to: /Intern Programming/data/output/t1t2gtv_1mm\\UMCG-2080097_gtvtottot1.nii.gz\n",
      "Erosion completed and saved to: /Intern Programming/data/output/t1t2gtv_1mm\\UMCG-2080097_gtvtottot2.nii.gz\n",
      "Erosion completed and saved to: /Intern Programming/data/output/t1t2gtv_1mm\\UMCG-2080913_gtvpttot1.nii.gz\n",
      "Erosion completed and saved to: /Intern Programming/data/output/t1t2gtv_1mm\\UMCG-2080913_gtvpttot2.nii.gz\n",
      "Erosion completed and saved to: /Intern Programming/data/output/t1t2gtv_1mm\\UMCG-2080913_gtvtottot1.nii.gz\n",
      "Erosion completed and saved to: /Intern Programming/data/output/t1t2gtv_1mm\\UMCG-2080913_gtvtottot2.nii.gz\n",
      "Erosion completed and saved to: /Intern Programming/data/output/t1t2gtv_1mm\\UMCG-2083033_gtvpttot1.nii.gz\n",
      "Erosion completed and saved to: /Intern Programming/data/output/t1t2gtv_1mm\\UMCG-2083033_gtvpttot2.nii.gz\n",
      "Erosion completed and saved to: /Intern Programming/data/output/t1t2gtv_1mm\\UMCG-2083033_gtvtottot1.nii.gz\n",
      "Erosion completed and saved to: /Intern Programming/data/output/t1t2gtv_1mm\\UMCG-2083033_gtvtottot2.nii.gz\n",
      "Erosion completed and saved to: /Intern Programming/data/output/t1t2gtv_1mm\\UMCG-2087361_gtvpttot1.nii.gz\n",
      "Erosion completed and saved to: /Intern Programming/data/output/t1t2gtv_1mm\\UMCG-2087361_gtvpttot2.nii.gz\n",
      "Erosion completed and saved to: /Intern Programming/data/output/t1t2gtv_1mm\\UMCG-2087361_gtvtottot1.nii.gz\n",
      "Erosion completed and saved to: /Intern Programming/data/output/t1t2gtv_1mm\\UMCG-2087361_gtvtottot2.nii.gz\n",
      "Erosion completed and saved to: /Intern Programming/data/output/t1t2gtv_1mm\\UMCG-2102599_gtvlntot1.nii.gz\n",
      "Erosion completed and saved to: /Intern Programming/data/output/t1t2gtv_1mm\\UMCG-2102599_gtvlntot2.nii.gz\n",
      "Erosion completed and saved to: /Intern Programming/data/output/t1t2gtv_1mm\\UMCG-2102599_gtvpttot1.nii.gz\n",
      "Erosion completed and saved to: /Intern Programming/data/output/t1t2gtv_1mm\\UMCG-2102599_gtvpttot2.nii.gz\n",
      "Erosion completed and saved to: /Intern Programming/data/output/t1t2gtv_1mm\\UMCG-2102599_gtvtottot1.nii.gz\n",
      "Erosion completed and saved to: /Intern Programming/data/output/t1t2gtv_1mm\\UMCG-2102599_gtvtottot2.nii.gz\n",
      "Erosion completed and saved to: /Intern Programming/data/output/t1t2gtv_1mm\\UMCG-2102777_gtvpttot1.nii.gz\n",
      "Erosion completed and saved to: /Intern Programming/data/output/t1t2gtv_1mm\\UMCG-2102777_gtvpttot2.nii.gz\n",
      "Erosion completed and saved to: /Intern Programming/data/output/t1t2gtv_1mm\\UMCG-2102777_gtvtottot1.nii.gz\n",
      "Erosion completed and saved to: /Intern Programming/data/output/t1t2gtv_1mm\\UMCG-2102777_gtvtottot2.nii.gz\n",
      "Erosion completed and saved to: /Intern Programming/data/output/t1t2gtv_1mm\\UMCG-2110034_gtvlntot1.nii.gz\n",
      "Erosion completed and saved to: /Intern Programming/data/output/t1t2gtv_1mm\\UMCG-2110034_gtvlntot2.nii.gz\n",
      "Erosion completed and saved to: /Intern Programming/data/output/t1t2gtv_1mm\\UMCG-2110034_gtvpttot1.nii.gz\n",
      "Erosion completed and saved to: /Intern Programming/data/output/t1t2gtv_1mm\\UMCG-2110034_gtvpttot2.nii.gz\n",
      "Erosion completed and saved to: /Intern Programming/data/output/t1t2gtv_1mm\\UMCG-2110034_gtvtottot1.nii.gz\n",
      "Erosion completed and saved to: /Intern Programming/data/output/t1t2gtv_1mm\\UMCG-2110034_gtvtottot2.nii.gz\n",
      "Erosion completed and saved to: /Intern Programming/data/output/t1t2gtv_1mm\\UMCG-2111096_gtvpttot1.nii.gz\n",
      "Erosion completed and saved to: /Intern Programming/data/output/t1t2gtv_1mm\\UMCG-2111096_gtvpttot2.nii.gz\n",
      "Erosion completed and saved to: /Intern Programming/data/output/t1t2gtv_1mm\\UMCG-2111096_gtvtottot1.nii.gz\n",
      "Erosion completed and saved to: /Intern Programming/data/output/t1t2gtv_1mm\\UMCG-2111096_gtvtottot2.nii.gz\n",
      "Erosion completed and saved to: /Intern Programming/data/output/t1t2gtv_1mm\\UMCG-2111510_gtvlntot1.nii.gz\n",
      "Erosion completed and saved to: /Intern Programming/data/output/t1t2gtv_1mm\\UMCG-2111510_gtvlntot2.nii.gz\n",
      "Erosion completed and saved to: /Intern Programming/data/output/t1t2gtv_1mm\\UMCG-2111510_gtvpttot1.nii.gz\n",
      "Erosion completed and saved to: /Intern Programming/data/output/t1t2gtv_1mm\\UMCG-2111510_gtvpttot2.nii.gz\n",
      "Erosion completed and saved to: /Intern Programming/data/output/t1t2gtv_1mm\\UMCG-2111510_gtvtottot1.nii.gz\n",
      "Erosion completed and saved to: /Intern Programming/data/output/t1t2gtv_1mm\\UMCG-2111510_gtvtottot2.nii.gz\n",
      "Erosion completed and saved to: /Intern Programming/data/output/t1t2gtv_1mm\\UMCG-2114930_gtvpttot1.nii.gz\n",
      "Erosion completed and saved to: /Intern Programming/data/output/t1t2gtv_1mm\\UMCG-2114930_gtvpttot2.nii.gz\n",
      "Erosion completed and saved to: /Intern Programming/data/output/t1t2gtv_1mm\\UMCG-2114930_gtvtottot1.nii.gz\n",
      "Erosion completed and saved to: /Intern Programming/data/output/t1t2gtv_1mm\\UMCG-2114930_gtvtottot2.nii.gz\n",
      "Erosion completed and saved to: /Intern Programming/data/output/t1t2gtv_1mm\\UMCG-2115835_gtvpttot1.nii.gz\n",
      "Erosion completed and saved to: /Intern Programming/data/output/t1t2gtv_1mm\\UMCG-2115835_gtvpttot2.nii.gz\n",
      "Erosion completed and saved to: /Intern Programming/data/output/t1t2gtv_1mm\\UMCG-2115835_gtvtottot1.nii.gz\n",
      "Erosion completed and saved to: /Intern Programming/data/output/t1t2gtv_1mm\\UMCG-2115835_gtvtottot2.nii.gz\n",
      "Erosion completed and saved to: /Intern Programming/data/output/t1t2gtv_1mm\\UMCG-2116597_gtvpttot1.nii.gz\n",
      "Erosion completed and saved to: /Intern Programming/data/output/t1t2gtv_1mm\\UMCG-2116597_gtvpttot2.nii.gz\n",
      "Erosion completed and saved to: /Intern Programming/data/output/t1t2gtv_1mm\\UMCG-2116597_gtvtottot1.nii.gz\n",
      "Erosion completed and saved to: /Intern Programming/data/output/t1t2gtv_1mm\\UMCG-2116597_gtvtottot2.nii.gz\n",
      "Erosion completed and saved to: /Intern Programming/data/output/t1t2gtv_1mm\\UMCG-2120032_gtvpttot1.nii.gz\n",
      "Erosion completed and saved to: /Intern Programming/data/output/t1t2gtv_1mm\\UMCG-2120032_gtvpttot2.nii.gz\n",
      "Erosion completed and saved to: /Intern Programming/data/output/t1t2gtv_1mm\\UMCG-2120032_gtvtottot1.nii.gz\n",
      "Erosion completed and saved to: /Intern Programming/data/output/t1t2gtv_1mm\\UMCG-2120032_gtvtottot2.nii.gz\n",
      "Erosion completed and saved to: /Intern Programming/data/output/t1t2gtv_1mm\\UMCG-2125979_gtvlntot1.nii.gz\n",
      "Erosion completed and saved to: /Intern Programming/data/output/t1t2gtv_1mm\\UMCG-2125979_gtvlntot2.nii.gz\n",
      "Erosion completed and saved to: /Intern Programming/data/output/t1t2gtv_1mm\\UMCG-2125979_gtvpttot1.nii.gz\n",
      "Erosion completed and saved to: /Intern Programming/data/output/t1t2gtv_1mm\\UMCG-2125979_gtvpttot2.nii.gz\n",
      "Erosion completed and saved to: /Intern Programming/data/output/t1t2gtv_1mm\\UMCG-2125979_gtvtottot1.nii.gz\n",
      "Erosion completed and saved to: /Intern Programming/data/output/t1t2gtv_1mm\\UMCG-2125979_gtvtottot2.nii.gz\n",
      "Erosion completed and saved to: /Intern Programming/data/output/t1t2gtv_1mm\\UMCG-2128243_gtvpttot1.nii.gz\n",
      "Erosion completed and saved to: /Intern Programming/data/output/t1t2gtv_1mm\\UMCG-2128243_gtvtottot1.nii.gz\n",
      "Erosion completed and saved to: /Intern Programming/data/output/t1t2gtv_1mm\\UMCG-2130043_gtvlntot1.nii.gz\n",
      "Erosion completed and saved to: /Intern Programming/data/output/t1t2gtv_1mm\\UMCG-2130043_gtvlntot2.nii.gz\n",
      "Erosion completed and saved to: /Intern Programming/data/output/t1t2gtv_1mm\\UMCG-2130043_gtvpttot1.nii.gz\n",
      "Erosion completed and saved to: /Intern Programming/data/output/t1t2gtv_1mm\\UMCG-2130043_gtvpttot2.nii.gz\n",
      "Erosion completed and saved to: /Intern Programming/data/output/t1t2gtv_1mm\\UMCG-2130043_gtvtottot1.nii.gz\n",
      "Erosion completed and saved to: /Intern Programming/data/output/t1t2gtv_1mm\\UMCG-2130043_gtvtottot2.nii.gz\n",
      "Erosion completed and saved to: /Intern Programming/data/output/t1t2gtv_1mm\\UMCG-2130970_gtvpttot1.nii.gz\n",
      "Erosion completed and saved to: /Intern Programming/data/output/t1t2gtv_1mm\\UMCG-2130970_gtvpttot2.nii.gz\n",
      "Erosion completed and saved to: /Intern Programming/data/output/t1t2gtv_1mm\\UMCG-2130970_gtvtottot1.nii.gz\n",
      "Erosion completed and saved to: /Intern Programming/data/output/t1t2gtv_1mm\\UMCG-2130970_gtvtottot2.nii.gz\n",
      "Erosion completed and saved to: /Intern Programming/data/output/t1t2gtv_1mm\\UMCG-2136180_gtvpttot1.nii.gz\n",
      "Erosion completed and saved to: /Intern Programming/data/output/t1t2gtv_1mm\\UMCG-2136180_gtvpttot2.nii.gz\n",
      "Erosion completed and saved to: /Intern Programming/data/output/t1t2gtv_1mm\\UMCG-2136180_gtvtottot1.nii.gz\n",
      "Erosion completed and saved to: /Intern Programming/data/output/t1t2gtv_1mm\\UMCG-2136180_gtvtottot2.nii.gz\n",
      "Erosion completed and saved to: /Intern Programming/data/output/t1t2gtv_1mm\\UMCG-2145422_gtvlntot1.nii.gz\n",
      "Erosion completed and saved to: /Intern Programming/data/output/t1t2gtv_1mm\\UMCG-2145422_gtvlntot2.nii.gz\n",
      "Erosion completed and saved to: /Intern Programming/data/output/t1t2gtv_1mm\\UMCG-2145422_gtvpttot1.nii.gz\n",
      "Erosion completed and saved to: /Intern Programming/data/output/t1t2gtv_1mm\\UMCG-2145422_gtvpttot2.nii.gz\n",
      "Erosion completed and saved to: /Intern Programming/data/output/t1t2gtv_1mm\\UMCG-2145422_gtvtottot1.nii.gz\n",
      "Erosion completed and saved to: /Intern Programming/data/output/t1t2gtv_1mm\\UMCG-2145422_gtvtottot2.nii.gz\n",
      "Erosion completed and saved to: /Intern Programming/data/output/t1t2gtv_1mm\\UMCG-2145827_gtvpttot1.nii.gz\n",
      "Erosion completed and saved to: /Intern Programming/data/output/t1t2gtv_1mm\\UMCG-2145827_gtvpttot2.nii.gz\n",
      "Erosion completed and saved to: /Intern Programming/data/output/t1t2gtv_1mm\\UMCG-2145827_gtvtottot1.nii.gz\n",
      "Erosion completed and saved to: /Intern Programming/data/output/t1t2gtv_1mm\\UMCG-2145827_gtvtottot2.nii.gz\n",
      "Erosion completed and saved to: /Intern Programming/data/output/t1t2gtv_1mm\\UMCG-2146594_gtvlntot1.nii.gz\n",
      "Erosion completed and saved to: /Intern Programming/data/output/t1t2gtv_1mm\\UMCG-2146594_gtvlntot2.nii.gz\n",
      "Erosion completed and saved to: /Intern Programming/data/output/t1t2gtv_1mm\\UMCG-2146594_gtvpttot1.nii.gz\n",
      "Erosion completed and saved to: /Intern Programming/data/output/t1t2gtv_1mm\\UMCG-2146594_gtvpttot2.nii.gz\n",
      "Erosion completed and saved to: /Intern Programming/data/output/t1t2gtv_1mm\\UMCG-2146594_gtvtottot1.nii.gz\n",
      "Erosion completed and saved to: /Intern Programming/data/output/t1t2gtv_1mm\\UMCG-2146594_gtvtottot2.nii.gz\n",
      "Erosion completed and saved to: /Intern Programming/data/output/t1t2gtv_1mm\\UMCG-2147034_gtvpttot1.nii.gz\n",
      "Erosion completed and saved to: /Intern Programming/data/output/t1t2gtv_1mm\\UMCG-2147034_gtvpttot2.nii.gz\n",
      "Erosion completed and saved to: /Intern Programming/data/output/t1t2gtv_1mm\\UMCG-2147034_gtvtottot1.nii.gz\n",
      "Erosion completed and saved to: /Intern Programming/data/output/t1t2gtv_1mm\\UMCG-2147034_gtvtottot2.nii.gz\n",
      "Erosion completed and saved to: /Intern Programming/data/output/t1t2gtv_1mm\\UMCG-2148052_gtvpttot1.nii.gz\n",
      "Erosion completed and saved to: /Intern Programming/data/output/t1t2gtv_1mm\\UMCG-2148052_gtvpttot2.nii.gz\n",
      "Erosion completed and saved to: /Intern Programming/data/output/t1t2gtv_1mm\\UMCG-2148052_gtvtottot1.nii.gz\n",
      "Erosion completed and saved to: /Intern Programming/data/output/t1t2gtv_1mm\\UMCG-2148052_gtvtottot2.nii.gz\n",
      "Erosion completed and saved to: /Intern Programming/data/output/t1t2gtv_1mm\\UMCG-2149291_gtvlntot1.nii.gz\n",
      "Erosion completed and saved to: /Intern Programming/data/output/t1t2gtv_1mm\\UMCG-2149291_gtvlntot2.nii.gz\n",
      "Erosion completed and saved to: /Intern Programming/data/output/t1t2gtv_1mm\\UMCG-2149291_gtvpttot1.nii.gz\n",
      "Erosion completed and saved to: /Intern Programming/data/output/t1t2gtv_1mm\\UMCG-2149291_gtvpttot2.nii.gz\n",
      "Erosion completed and saved to: /Intern Programming/data/output/t1t2gtv_1mm\\UMCG-2149291_gtvtottot1.nii.gz\n",
      "Erosion completed and saved to: /Intern Programming/data/output/t1t2gtv_1mm\\UMCG-2149291_gtvtottot2.nii.gz\n",
      "Erosion completed and saved to: /Intern Programming/data/output/t1t2gtv_1mm\\UMCG-2153786_gtvpttot1.nii.gz\n",
      "Erosion completed and saved to: /Intern Programming/data/output/t1t2gtv_1mm\\UMCG-2153786_gtvpttot2.nii.gz\n",
      "Erosion completed and saved to: /Intern Programming/data/output/t1t2gtv_1mm\\UMCG-2153786_gtvtottot1.nii.gz\n",
      "Erosion completed and saved to: /Intern Programming/data/output/t1t2gtv_1mm\\UMCG-2153786_gtvtottot2.nii.gz\n",
      "Erosion completed and saved to: /Intern Programming/data/output/t1t2gtv_1mm\\UMCG-2159400_gtvpttot1.nii.gz\n",
      "Erosion completed and saved to: /Intern Programming/data/output/t1t2gtv_1mm\\UMCG-2159400_gtvpttot2.nii.gz\n",
      "Erosion completed and saved to: /Intern Programming/data/output/t1t2gtv_1mm\\UMCG-2159400_gtvtottot1.nii.gz\n",
      "Erosion completed and saved to: /Intern Programming/data/output/t1t2gtv_1mm\\UMCG-2159400_gtvtottot2.nii.gz\n",
      "Erosion completed and saved to: /Intern Programming/data/output/t1t2gtv_1mm\\UMCG-2160810_gtvpttot1.nii.gz\n",
      "Erosion completed and saved to: /Intern Programming/data/output/t1t2gtv_1mm\\UMCG-2160810_gtvpttot2.nii.gz\n",
      "Erosion completed and saved to: /Intern Programming/data/output/t1t2gtv_1mm\\UMCG-2160810_gtvtottot1.nii.gz\n",
      "Erosion completed and saved to: /Intern Programming/data/output/t1t2gtv_1mm\\UMCG-2160810_gtvtottot2.nii.gz\n",
      "Erosion completed and saved to: /Intern Programming/data/output/t1t2gtv_1mm\\UMCG-2167798_gtvlntot1.nii.gz\n",
      "Erosion completed and saved to: /Intern Programming/data/output/t1t2gtv_1mm\\UMCG-2167798_gtvlntot2.nii.gz\n",
      "Erosion completed and saved to: /Intern Programming/data/output/t1t2gtv_1mm\\UMCG-2167798_gtvpttot1.nii.gz\n",
      "Erosion completed and saved to: /Intern Programming/data/output/t1t2gtv_1mm\\UMCG-2167798_gtvpttot2.nii.gz\n",
      "Erosion completed and saved to: /Intern Programming/data/output/t1t2gtv_1mm\\UMCG-2167798_gtvtottot1.nii.gz\n",
      "Erosion completed and saved to: /Intern Programming/data/output/t1t2gtv_1mm\\UMCG-2167798_gtvtottot2.nii.gz\n",
      "Erosion completed and saved to: /Intern Programming/data/output/t1t2gtv_1mm\\UMCG-2171148_gtvlntot1.nii.gz\n",
      "Erosion completed and saved to: /Intern Programming/data/output/t1t2gtv_1mm\\UMCG-2171148_gtvlntot2.nii.gz\n",
      "Erosion completed and saved to: /Intern Programming/data/output/t1t2gtv_1mm\\UMCG-2171148_gtvpttot1.nii.gz\n",
      "Erosion completed and saved to: /Intern Programming/data/output/t1t2gtv_1mm\\UMCG-2171148_gtvpttot2.nii.gz\n",
      "Erosion completed and saved to: /Intern Programming/data/output/t1t2gtv_1mm\\UMCG-2171148_gtvtottot1.nii.gz\n",
      "Erosion completed and saved to: /Intern Programming/data/output/t1t2gtv_1mm\\UMCG-2171148_gtvtottot2.nii.gz\n",
      "Erosion completed and saved to: /Intern Programming/data/output/t1t2gtv_1mm\\UMCG-2176162_gtvlntot1.nii.gz\n",
      "Erosion completed and saved to: /Intern Programming/data/output/t1t2gtv_1mm\\UMCG-2176162_gtvlntot2.nii.gz\n",
      "Erosion completed and saved to: /Intern Programming/data/output/t1t2gtv_1mm\\UMCG-2176162_gtvpttot1.nii.gz\n",
      "Erosion completed and saved to: /Intern Programming/data/output/t1t2gtv_1mm\\UMCG-2176162_gtvpttot2.nii.gz\n",
      "Erosion completed and saved to: /Intern Programming/data/output/t1t2gtv_1mm\\UMCG-2176162_gtvtottot1.nii.gz\n",
      "Erosion completed and saved to: /Intern Programming/data/output/t1t2gtv_1mm\\UMCG-2176162_gtvtottot2.nii.gz\n",
      "Erosion completed and saved to: /Intern Programming/data/output/t1t2gtv_1mm\\UMCG-2179358_gtvlntot1.nii.gz\n",
      "Erosion completed and saved to: /Intern Programming/data/output/t1t2gtv_1mm\\UMCG-2179358_gtvlntot2.nii.gz\n",
      "Erosion completed and saved to: /Intern Programming/data/output/t1t2gtv_1mm\\UMCG-2179358_gtvpttot1.nii.gz\n",
      "Erosion completed and saved to: /Intern Programming/data/output/t1t2gtv_1mm\\UMCG-2179358_gtvpttot2.nii.gz\n",
      "Erosion completed and saved to: /Intern Programming/data/output/t1t2gtv_1mm\\UMCG-2179358_gtvtottot1.nii.gz\n",
      "Erosion completed and saved to: /Intern Programming/data/output/t1t2gtv_1mm\\UMCG-2179358_gtvtottot2.nii.gz\n",
      "Erosion completed and saved to: /Intern Programming/data/output/t1t2gtv_1mm\\UMCG-2186039_gtvpttot1.nii.gz\n",
      "Erosion completed and saved to: /Intern Programming/data/output/t1t2gtv_1mm\\UMCG-2186039_gtvpttot2.nii.gz\n",
      "Erosion completed and saved to: /Intern Programming/data/output/t1t2gtv_1mm\\UMCG-2186039_gtvtottot1.nii.gz\n",
      "Erosion completed and saved to: /Intern Programming/data/output/t1t2gtv_1mm\\UMCG-2186039_gtvtottot2.nii.gz\n",
      "Erosion completed and saved to: /Intern Programming/data/output/t1t2gtv_1mm\\UMCG-2188517_gtvpttot1.nii.gz\n",
      "Erosion completed and saved to: /Intern Programming/data/output/t1t2gtv_1mm\\UMCG-2188517_gtvpttot2.nii.gz\n",
      "Erosion completed and saved to: /Intern Programming/data/output/t1t2gtv_1mm\\UMCG-2188517_gtvtottot1.nii.gz\n",
      "Erosion completed and saved to: /Intern Programming/data/output/t1t2gtv_1mm\\UMCG-2188517_gtvtottot2.nii.gz\n",
      "Erosion completed and saved to: /Intern Programming/data/output/t1t2gtv_1mm\\UMCG-2190498_gtvpttot1.nii.gz\n",
      "Erosion completed and saved to: /Intern Programming/data/output/t1t2gtv_1mm\\UMCG-2190498_gtvpttot2.nii.gz\n",
      "Erosion completed and saved to: /Intern Programming/data/output/t1t2gtv_1mm\\UMCG-2190498_gtvtottot1.nii.gz\n",
      "Erosion completed and saved to: /Intern Programming/data/output/t1t2gtv_1mm\\UMCG-2190498_gtvtottot2.nii.gz\n",
      "Erosion completed and saved to: /Intern Programming/data/output/t1t2gtv_1mm\\UMCG-2191427_gtvpttot1.nii.gz\n",
      "Erosion completed and saved to: /Intern Programming/data/output/t1t2gtv_1mm\\UMCG-2191427_gtvpttot2.nii.gz\n",
      "Erosion completed and saved to: /Intern Programming/data/output/t1t2gtv_1mm\\UMCG-2191427_gtvtottot1.nii.gz\n",
      "Erosion completed and saved to: /Intern Programming/data/output/t1t2gtv_1mm\\UMCG-2191427_gtvtottot2.nii.gz\n",
      "Erosion completed and saved to: /Intern Programming/data/output/t1t2gtv_1mm\\UMCG-2194374_gtvlntot1.nii.gz\n",
      "Erosion completed and saved to: /Intern Programming/data/output/t1t2gtv_1mm\\UMCG-2194374_gtvlntot2.nii.gz\n",
      "Erosion completed and saved to: /Intern Programming/data/output/t1t2gtv_1mm\\UMCG-2194374_gtvpttot1.nii.gz\n",
      "Erosion completed and saved to: /Intern Programming/data/output/t1t2gtv_1mm\\UMCG-2194374_gtvpttot2.nii.gz\n",
      "Erosion completed and saved to: /Intern Programming/data/output/t1t2gtv_1mm\\UMCG-2194374_gtvtottot1.nii.gz\n",
      "Erosion completed and saved to: /Intern Programming/data/output/t1t2gtv_1mm\\UMCG-2194374_gtvtottot2.nii.gz\n",
      "Erosion completed and saved to: /Intern Programming/data/output/t1t2gtv_1mm\\UMCG-2195692_gtvpttot1.nii.gz\n",
      "Erosion completed and saved to: /Intern Programming/data/output/t1t2gtv_1mm\\UMCG-2195692_gtvpttot2.nii.gz\n",
      "Erosion completed and saved to: /Intern Programming/data/output/t1t2gtv_1mm\\UMCG-2195692_gtvtottot1.nii.gz\n",
      "Erosion completed and saved to: /Intern Programming/data/output/t1t2gtv_1mm\\UMCG-2195692_gtvtottot2.nii.gz\n",
      "Erosion completed and saved to: /Intern Programming/data/output/t1t2gtv_1mm\\UMCG-2196033_gtvlntot1.nii.gz\n",
      "Erosion completed and saved to: /Intern Programming/data/output/t1t2gtv_1mm\\UMCG-2196033_gtvlntot2.nii.gz\n",
      "Erosion completed and saved to: /Intern Programming/data/output/t1t2gtv_1mm\\UMCG-2196033_gtvpttot1.nii.gz\n",
      "Erosion completed and saved to: /Intern Programming/data/output/t1t2gtv_1mm\\UMCG-2196033_gtvpttot2.nii.gz\n",
      "Erosion completed and saved to: /Intern Programming/data/output/t1t2gtv_1mm\\UMCG-2196033_gtvtottot1.nii.gz\n",
      "Erosion completed and saved to: /Intern Programming/data/output/t1t2gtv_1mm\\UMCG-2196033_gtvtottot2.nii.gz\n",
      "Erosion completed and saved to: /Intern Programming/data/output/t1t2gtv_1mm\\UMCG-2196514_gtvpttot1.nii.gz\n",
      "Erosion completed and saved to: /Intern Programming/data/output/t1t2gtv_1mm\\UMCG-2196514_gtvpttot2.nii.gz\n",
      "Erosion completed and saved to: /Intern Programming/data/output/t1t2gtv_1mm\\UMCG-2196514_gtvtottot1.nii.gz\n",
      "Erosion completed and saved to: /Intern Programming/data/output/t1t2gtv_1mm\\UMCG-2196514_gtvtottot2.nii.gz\n",
      "Erosion completed and saved to: /Intern Programming/data/output/t1t2gtv_1mm\\UMCG-2197393_gtvpttot1.nii.gz\n",
      "Erosion completed and saved to: /Intern Programming/data/output/t1t2gtv_1mm\\UMCG-2197393_gtvpttot2.nii.gz\n",
      "Erosion completed and saved to: /Intern Programming/data/output/t1t2gtv_1mm\\UMCG-2197393_gtvtottot1.nii.gz\n",
      "Erosion completed and saved to: /Intern Programming/data/output/t1t2gtv_1mm\\UMCG-2197393_gtvtottot2.nii.gz\n",
      "Erosion completed and saved to: /Intern Programming/data/output/t1t2gtv_1mm\\UMCG-2198770_gtvlntot1.nii.gz\n",
      "Erosion completed and saved to: /Intern Programming/data/output/t1t2gtv_1mm\\UMCG-2198770_gtvlntot2.nii.gz\n",
      "Erosion completed and saved to: /Intern Programming/data/output/t1t2gtv_1mm\\UMCG-2198770_gtvpttot1.nii.gz\n",
      "Erosion completed and saved to: /Intern Programming/data/output/t1t2gtv_1mm\\UMCG-2198770_gtvpttot2.nii.gz\n",
      "Erosion completed and saved to: /Intern Programming/data/output/t1t2gtv_1mm\\UMCG-2198770_gtvtottot1.nii.gz\n",
      "Erosion completed and saved to: /Intern Programming/data/output/t1t2gtv_1mm\\UMCG-2198770_gtvtottot2.nii.gz\n",
      "Erosion completed and saved to: /Intern Programming/data/output/t1t2gtv_1mm\\UMCG-2199947_gtvpttot1.nii.gz\n",
      "Erosion completed and saved to: /Intern Programming/data/output/t1t2gtv_1mm\\UMCG-2199947_gtvpttot2.nii.gz\n",
      "Erosion completed and saved to: /Intern Programming/data/output/t1t2gtv_1mm\\UMCG-2199947_gtvtottot1.nii.gz\n",
      "Erosion completed and saved to: /Intern Programming/data/output/t1t2gtv_1mm\\UMCG-2199947_gtvtottot2.nii.gz\n",
      "Erosion completed and saved to: /Intern Programming/data/output/t1t2gtv_1mm\\UMCG-2201781_gtvlntot1.nii.gz\n",
      "Erosion completed and saved to: /Intern Programming/data/output/t1t2gtv_1mm\\UMCG-2201781_gtvlntot2.nii.gz\n",
      "Erosion completed and saved to: /Intern Programming/data/output/t1t2gtv_1mm\\UMCG-2201781_gtvpttot1.nii.gz\n",
      "Erosion completed and saved to: /Intern Programming/data/output/t1t2gtv_1mm\\UMCG-2201781_gtvpttot2.nii.gz\n",
      "Erosion completed and saved to: /Intern Programming/data/output/t1t2gtv_1mm\\UMCG-2201781_gtvtottot1.nii.gz\n",
      "Erosion completed and saved to: /Intern Programming/data/output/t1t2gtv_1mm\\UMCG-2201781_gtvtottot2.nii.gz\n",
      "Erosion completed and saved to: /Intern Programming/data/output/t1t2gtv_1mm\\UMCG-2202350_gtvpttot1.nii.gz\n",
      "Erosion completed and saved to: /Intern Programming/data/output/t1t2gtv_1mm\\UMCG-2202350_gtvpttot2.nii.gz\n",
      "Erosion completed and saved to: /Intern Programming/data/output/t1t2gtv_1mm\\UMCG-2202350_gtvtottot1.nii.gz\n",
      "Erosion completed and saved to: /Intern Programming/data/output/t1t2gtv_1mm\\UMCG-2202350_gtvtottot2.nii.gz\n",
      "Erosion completed and saved to: /Intern Programming/data/output/t1t2gtv_1mm\\UMCG-2202380_gtvlntot1.nii.gz\n",
      "Erosion completed and saved to: /Intern Programming/data/output/t1t2gtv_1mm\\UMCG-2202380_gtvlntot2.nii.gz\n",
      "Erosion completed and saved to: /Intern Programming/data/output/t1t2gtv_1mm\\UMCG-2202380_gtvpttot1.nii.gz\n",
      "Erosion completed and saved to: /Intern Programming/data/output/t1t2gtv_1mm\\UMCG-2202380_gtvpttot2.nii.gz\n",
      "Erosion completed and saved to: /Intern Programming/data/output/t1t2gtv_1mm\\UMCG-2202380_gtvtottot1.nii.gz\n",
      "Erosion completed and saved to: /Intern Programming/data/output/t1t2gtv_1mm\\UMCG-2202380_gtvtottot2.nii.gz\n",
      "Erosion completed and saved to: /Intern Programming/data/output/t1t2gtv_1mm\\UMCG-2204685_gtvpttot1.nii.gz\n",
      "Erosion completed and saved to: /Intern Programming/data/output/t1t2gtv_1mm\\UMCG-2204685_gtvpttot2.nii.gz\n",
      "Erosion completed and saved to: /Intern Programming/data/output/t1t2gtv_1mm\\UMCG-2204685_gtvtottot1.nii.gz\n",
      "Erosion completed and saved to: /Intern Programming/data/output/t1t2gtv_1mm\\UMCG-2204685_gtvtottot2.nii.gz\n",
      "Erosion completed and saved to: /Intern Programming/data/output/t1t2gtv_1mm\\UMCG-2209398_gtvlntot1.nii.gz\n",
      "Erosion completed and saved to: /Intern Programming/data/output/t1t2gtv_1mm\\UMCG-2209398_gtvlntot2.nii.gz\n",
      "Erosion completed and saved to: /Intern Programming/data/output/t1t2gtv_1mm\\UMCG-2209398_gtvpttot1.nii.gz\n",
      "Erosion completed and saved to: /Intern Programming/data/output/t1t2gtv_1mm\\UMCG-2209398_gtvpttot2.nii.gz\n",
      "Erosion completed and saved to: /Intern Programming/data/output/t1t2gtv_1mm\\UMCG-2209398_gtvtottot1.nii.gz\n",
      "Erosion completed and saved to: /Intern Programming/data/output/t1t2gtv_1mm\\UMCG-2209398_gtvtottot2.nii.gz\n",
      "Erosion completed and saved to: /Intern Programming/data/output/t1t2gtv_1mm\\UMCG-2215342_gtvlntot1.nii.gz\n",
      "Erosion completed and saved to: /Intern Programming/data/output/t1t2gtv_1mm\\UMCG-2215342_gtvpttot1.nii.gz\n",
      "Erosion completed and saved to: /Intern Programming/data/output/t1t2gtv_1mm\\UMCG-2215342_gtvpttot2.nii.gz\n",
      "Erosion completed and saved to: /Intern Programming/data/output/t1t2gtv_1mm\\UMCG-2215342_gtvtottot1.nii.gz\n",
      "Erosion completed and saved to: /Intern Programming/data/output/t1t2gtv_1mm\\UMCG-2215342_gtvtottot2.nii.gz\n",
      "Erosion completed and saved to: /Intern Programming/data/output/t1t2gtv_1mm\\UMCG-2220431_gtvpttot1.nii.gz\n",
      "Erosion completed and saved to: /Intern Programming/data/output/t1t2gtv_1mm\\UMCG-2220431_gtvtottot1.nii.gz\n",
      "Erosion completed and saved to: /Intern Programming/data/output/t1t2gtv_1mm\\UMCG-2222276_gtvpttot1.nii.gz\n",
      "Erosion completed and saved to: /Intern Programming/data/output/t1t2gtv_1mm\\UMCG-2222276_gtvpttot2.nii.gz\n",
      "Erosion completed and saved to: /Intern Programming/data/output/t1t2gtv_1mm\\UMCG-2222276_gtvtottot1.nii.gz\n",
      "Erosion completed and saved to: /Intern Programming/data/output/t1t2gtv_1mm\\UMCG-2222276_gtvtottot2.nii.gz\n",
      "Erosion completed and saved to: /Intern Programming/data/output/t1t2gtv_1mm\\UMCG-2233809_gtvpttot1.nii.gz\n",
      "Erosion completed and saved to: /Intern Programming/data/output/t1t2gtv_1mm\\UMCG-2233809_gtvpttot2.nii.gz\n",
      "Erosion completed and saved to: /Intern Programming/data/output/t1t2gtv_1mm\\UMCG-2233809_gtvtottot1.nii.gz\n",
      "Erosion completed and saved to: /Intern Programming/data/output/t1t2gtv_1mm\\UMCG-2233809_gtvtottot2.nii.gz\n",
      "Erosion completed and saved to: /Intern Programming/data/output/t1t2gtv_1mm\\UMCG-2241013_gtvpttot1.nii.gz\n",
      "Erosion completed and saved to: /Intern Programming/data/output/t1t2gtv_1mm\\UMCG-2241013_gtvpttot2.nii.gz\n",
      "Erosion completed and saved to: /Intern Programming/data/output/t1t2gtv_1mm\\UMCG-2241013_gtvtottot1.nii.gz\n",
      "Erosion completed and saved to: /Intern Programming/data/output/t1t2gtv_1mm\\UMCG-2241013_gtvtottot2.nii.gz\n",
      "Erosion completed and saved to: /Intern Programming/data/output/t1t2gtv_1mm\\UMCG-2241472_gtvpttot1.nii.gz\n",
      "Erosion completed and saved to: /Intern Programming/data/output/t1t2gtv_1mm\\UMCG-2241472_gtvpttot2.nii.gz\n",
      "Erosion completed and saved to: /Intern Programming/data/output/t1t2gtv_1mm\\UMCG-2241472_gtvtottot1.nii.gz\n",
      "Erosion completed and saved to: /Intern Programming/data/output/t1t2gtv_1mm\\UMCG-2241472_gtvtottot2.nii.gz\n",
      "Erosion completed and saved to: /Intern Programming/data/output/t1t2gtv_1mm\\UMCG-2246159_gtvpttot1.nii.gz\n",
      "Erosion completed and saved to: /Intern Programming/data/output/t1t2gtv_1mm\\UMCG-2246159_gtvpttot2.nii.gz\n",
      "Erosion completed and saved to: /Intern Programming/data/output/t1t2gtv_1mm\\UMCG-2246159_gtvtottot1.nii.gz\n",
      "Erosion completed and saved to: /Intern Programming/data/output/t1t2gtv_1mm\\UMCG-2246159_gtvtottot2.nii.gz\n",
      "Erosion completed and saved to: /Intern Programming/data/output/t1t2gtv_1mm\\UMCG-2247074_gtvpttot1.nii.gz\n",
      "Erosion completed and saved to: /Intern Programming/data/output/t1t2gtv_1mm\\UMCG-2247074_gtvpttot2.nii.gz\n",
      "Erosion completed and saved to: /Intern Programming/data/output/t1t2gtv_1mm\\UMCG-2247074_gtvtottot1.nii.gz\n",
      "Erosion completed and saved to: /Intern Programming/data/output/t1t2gtv_1mm\\UMCG-2247074_gtvtottot2.nii.gz\n",
      "Erosion completed and saved to: /Intern Programming/data/output/t1t2gtv_1mm\\UMCG-2249022_gtvpttot1.nii.gz\n",
      "Erosion completed and saved to: /Intern Programming/data/output/t1t2gtv_1mm\\UMCG-2249022_gtvpttot2.nii.gz\n",
      "Erosion completed and saved to: /Intern Programming/data/output/t1t2gtv_1mm\\UMCG-2249022_gtvtottot1.nii.gz\n",
      "Erosion completed and saved to: /Intern Programming/data/output/t1t2gtv_1mm\\UMCG-2249022_gtvtottot2.nii.gz\n",
      "Erosion completed and saved to: /Intern Programming/data/output/t1t2gtv_1mm\\UMCG-2251273_gtvpttot1.nii.gz\n",
      "Erosion completed and saved to: /Intern Programming/data/output/t1t2gtv_1mm\\UMCG-2251273_gtvpttot2.nii.gz\n",
      "Erosion completed and saved to: /Intern Programming/data/output/t1t2gtv_1mm\\UMCG-2251273_gtvtottot1.nii.gz\n",
      "Erosion completed and saved to: /Intern Programming/data/output/t1t2gtv_1mm\\UMCG-2251273_gtvtottot2.nii.gz\n",
      "Erosion completed and saved to: /Intern Programming/data/output/t1t2gtv_1mm\\UMCG-2251515_gtvpttot1.nii.gz\n",
      "Erosion completed and saved to: /Intern Programming/data/output/t1t2gtv_1mm\\UMCG-2251515_gtvpttot2.nii.gz\n",
      "Erosion completed and saved to: /Intern Programming/data/output/t1t2gtv_1mm\\UMCG-2251515_gtvtottot1.nii.gz\n",
      "Erosion completed and saved to: /Intern Programming/data/output/t1t2gtv_1mm\\UMCG-2251515_gtvtottot2.nii.gz\n",
      "Erosion completed and saved to: /Intern Programming/data/output/t1t2gtv_1mm\\UMCG-2255337_gtvpttot1.nii.gz\n",
      "Erosion completed and saved to: /Intern Programming/data/output/t1t2gtv_1mm\\UMCG-2255337_gtvpttot2.nii.gz\n",
      "Erosion completed and saved to: /Intern Programming/data/output/t1t2gtv_1mm\\UMCG-2255337_gtvtottot1.nii.gz\n",
      "Erosion completed and saved to: /Intern Programming/data/output/t1t2gtv_1mm\\UMCG-2255337_gtvtottot2.nii.gz\n",
      "Erosion completed and saved to: /Intern Programming/data/output/t1t2gtv_1mm\\UMCG-2255565_gtvpttot1.nii.gz\n",
      "Erosion completed and saved to: /Intern Programming/data/output/t1t2gtv_1mm\\UMCG-2255565_gtvpttot2.nii.gz\n",
      "Erosion completed and saved to: /Intern Programming/data/output/t1t2gtv_1mm\\UMCG-2255565_gtvtottot1.nii.gz\n",
      "Erosion completed and saved to: /Intern Programming/data/output/t1t2gtv_1mm\\UMCG-2255565_gtvtottot2.nii.gz\n",
      "Erosion completed and saved to: /Intern Programming/data/output/t1t2gtv_1mm\\UMCG-2263740_gtvpttot1.nii.gz\n",
      "Erosion completed and saved to: /Intern Programming/data/output/t1t2gtv_1mm\\UMCG-2263740_gtvpttot2.nii.gz\n",
      "Erosion completed and saved to: /Intern Programming/data/output/t1t2gtv_1mm\\UMCG-2263740_gtvtottot1.nii.gz\n",
      "Erosion completed and saved to: /Intern Programming/data/output/t1t2gtv_1mm\\UMCG-2263740_gtvtottot2.nii.gz\n",
      "Erosion completed and saved to: /Intern Programming/data/output/t1t2gtv_1mm\\UMCG-2264779_gtvpttot1.nii.gz\n",
      "Erosion completed and saved to: /Intern Programming/data/output/t1t2gtv_1mm\\UMCG-2264779_gtvpttot2.nii.gz\n",
      "Erosion completed and saved to: /Intern Programming/data/output/t1t2gtv_1mm\\UMCG-2264779_gtvtottot1.nii.gz\n",
      "Erosion completed and saved to: /Intern Programming/data/output/t1t2gtv_1mm\\UMCG-2264779_gtvtottot2.nii.gz\n",
      "Erosion completed and saved to: /Intern Programming/data/output/t1t2gtv_1mm\\UMCG-2264907_gtvpttot1.nii.gz\n",
      "Erosion completed and saved to: /Intern Programming/data/output/t1t2gtv_1mm\\UMCG-2264907_gtvpttot2.nii.gz\n",
      "Erosion completed and saved to: /Intern Programming/data/output/t1t2gtv_1mm\\UMCG-2264907_gtvtottot1.nii.gz\n",
      "Erosion completed and saved to: /Intern Programming/data/output/t1t2gtv_1mm\\UMCG-2264907_gtvtottot2.nii.gz\n",
      "Erosion completed and saved to: /Intern Programming/data/output/t1t2gtv_1mm\\UMCG-2278873_gtvpttot1.nii.gz\n",
      "Erosion completed and saved to: /Intern Programming/data/output/t1t2gtv_1mm\\UMCG-2278873_gtvpttot2.nii.gz\n",
      "Erosion completed and saved to: /Intern Programming/data/output/t1t2gtv_1mm\\UMCG-2278873_gtvtottot1.nii.gz\n",
      "Erosion completed and saved to: /Intern Programming/data/output/t1t2gtv_1mm\\UMCG-2278873_gtvtottot2.nii.gz\n",
      "Erosion completed and saved to: /Intern Programming/data/output/t1t2gtv_1mm\\UMCG-2282663_gtvpttot1.nii.gz\n",
      "Erosion completed and saved to: /Intern Programming/data/output/t1t2gtv_1mm\\UMCG-2282663_gtvpttot2.nii.gz\n",
      "Erosion completed and saved to: /Intern Programming/data/output/t1t2gtv_1mm\\UMCG-2282663_gtvtottot1.nii.gz\n",
      "Erosion completed and saved to: /Intern Programming/data/output/t1t2gtv_1mm\\UMCG-2282663_gtvtottot2.nii.gz\n",
      "Erosion completed and saved to: /Intern Programming/data/output/t1t2gtv_1mm\\UMCG-2285986_gtvpttot1.nii.gz\n",
      "Erosion completed and saved to: /Intern Programming/data/output/t1t2gtv_1mm\\UMCG-2285986_gtvpttot2.nii.gz\n",
      "Erosion completed and saved to: /Intern Programming/data/output/t1t2gtv_1mm\\UMCG-2285986_gtvtottot1.nii.gz\n",
      "Erosion completed and saved to: /Intern Programming/data/output/t1t2gtv_1mm\\UMCG-2285986_gtvtottot2.nii.gz\n",
      "Erosion completed and saved to: /Intern Programming/data/output/t1t2gtv_1mm\\UMCG-2291679_gtvpttot1.nii.gz\n",
      "Erosion completed and saved to: /Intern Programming/data/output/t1t2gtv_1mm\\UMCG-2291679_gtvpttot2.nii.gz\n",
      "Erosion completed and saved to: /Intern Programming/data/output/t1t2gtv_1mm\\UMCG-2291679_gtvtottot1.nii.gz\n",
      "Erosion completed and saved to: /Intern Programming/data/output/t1t2gtv_1mm\\UMCG-2291679_gtvtottot2.nii.gz\n",
      "Erosion completed and saved to: /Intern Programming/data/output/t1t2gtv_1mm\\UMCG-2294422_gtvpttot1.nii.gz\n",
      "Erosion completed and saved to: /Intern Programming/data/output/t1t2gtv_1mm\\UMCG-2294422_gtvpttot2.nii.gz\n",
      "Erosion completed and saved to: /Intern Programming/data/output/t1t2gtv_1mm\\UMCG-2294422_gtvtottot1.nii.gz\n",
      "Erosion completed and saved to: /Intern Programming/data/output/t1t2gtv_1mm\\UMCG-2294422_gtvtottot2.nii.gz\n",
      "Erosion completed and saved to: /Intern Programming/data/output/t1t2gtv_1mm\\UMCG-2297238_gtvpttot1.nii.gz\n",
      "Erosion completed and saved to: /Intern Programming/data/output/t1t2gtv_1mm\\UMCG-2297238_gtvpttot2.nii.gz\n",
      "Erosion completed and saved to: /Intern Programming/data/output/t1t2gtv_1mm\\UMCG-2297238_gtvtottot1.nii.gz\n",
      "Erosion completed and saved to: /Intern Programming/data/output/t1t2gtv_1mm\\UMCG-2297238_gtvtottot2.nii.gz\n",
      "Erosion completed and saved to: /Intern Programming/data/output/t1t2gtv_1mm\\UMCG-2426659_gtvpttot1.nii.gz\n",
      "Erosion completed and saved to: /Intern Programming/data/output/t1t2gtv_1mm\\UMCG-2426659_gtvpttot2.nii.gz\n",
      "Erosion completed and saved to: /Intern Programming/data/output/t1t2gtv_1mm\\UMCG-2426659_gtvtottot1.nii.gz\n",
      "Erosion completed and saved to: /Intern Programming/data/output/t1t2gtv_1mm\\UMCG-2426659_gtvtottot2.nii.gz\n",
      "Erosion completed and saved to: /Intern Programming/data/output/t1t2gtv_1mm\\UMCG-2440978_gtvlntot1.nii.gz\n",
      "Erosion completed and saved to: /Intern Programming/data/output/t1t2gtv_1mm\\UMCG-2440978_gtvlntot2.nii.gz\n",
      "Erosion completed and saved to: /Intern Programming/data/output/t1t2gtv_1mm\\UMCG-2440978_gtvpttot1.nii.gz\n",
      "Erosion completed and saved to: /Intern Programming/data/output/t1t2gtv_1mm\\UMCG-2440978_gtvpttot2.nii.gz\n",
      "Erosion completed and saved to: /Intern Programming/data/output/t1t2gtv_1mm\\UMCG-2440978_gtvtottot1.nii.gz\n",
      "Erosion completed and saved to: /Intern Programming/data/output/t1t2gtv_1mm\\UMCG-2440978_gtvtottot2.nii.gz\n",
      "Erosion completed and saved to: /Intern Programming/data/output/t1t2gtv_1mm\\UMCG-2487452_gtvpttot1.nii.gz\n",
      "Erosion completed and saved to: /Intern Programming/data/output/t1t2gtv_1mm\\UMCG-2487452_gtvpttot2.nii.gz\n",
      "Erosion completed and saved to: /Intern Programming/data/output/t1t2gtv_1mm\\UMCG-2487452_gtvtottot1.nii.gz\n",
      "Erosion completed and saved to: /Intern Programming/data/output/t1t2gtv_1mm\\UMCG-2487452_gtvtottot2.nii.gz\n",
      "Erosion completed and saved to: /Intern Programming/data/output/t1t2gtv_1mm\\UMCG-2523782_gtvpttot1.nii.gz\n",
      "Erosion completed and saved to: /Intern Programming/data/output/t1t2gtv_1mm\\UMCG-2523782_gtvtottot1.nii.gz\n",
      "Erosion completed and saved to: /Intern Programming/data/output/t1t2gtv_1mm\\UMCG-2580821_gtvpttot1.nii.gz\n",
      "Erosion completed and saved to: /Intern Programming/data/output/t1t2gtv_1mm\\UMCG-2580821_gtvpttot2.nii.gz\n",
      "Erosion completed and saved to: /Intern Programming/data/output/t1t2gtv_1mm\\UMCG-2580821_gtvtottot1.nii.gz\n",
      "Erosion completed and saved to: /Intern Programming/data/output/t1t2gtv_1mm\\UMCG-2580821_gtvtottot2.nii.gz\n",
      "Erosion completed and saved to: /Intern Programming/data/output/t1t2gtv_1mm\\UMCG-2690513_gtvpttot1.nii.gz\n",
      "Erosion completed and saved to: /Intern Programming/data/output/t1t2gtv_1mm\\UMCG-2690513_gtvpttot2.nii.gz\n",
      "Erosion completed and saved to: /Intern Programming/data/output/t1t2gtv_1mm\\UMCG-2690513_gtvtottot1.nii.gz\n",
      "Erosion completed and saved to: /Intern Programming/data/output/t1t2gtv_1mm\\UMCG-2690513_gtvtottot2.nii.gz\n",
      "Erosion completed and saved to: /Intern Programming/data/output/t1t2gtv_1mm\\UMCG-2724732_gtvpttot1.nii.gz\n",
      "Erosion completed and saved to: /Intern Programming/data/output/t1t2gtv_1mm\\UMCG-2724732_gtvpttot2.nii.gz\n",
      "Erosion completed and saved to: /Intern Programming/data/output/t1t2gtv_1mm\\UMCG-2724732_gtvtottot1.nii.gz\n",
      "Erosion completed and saved to: /Intern Programming/data/output/t1t2gtv_1mm\\UMCG-2724732_gtvtottot2.nii.gz\n",
      "Erosion completed and saved to: /Intern Programming/data/output/t1t2gtv_1mm\\UMCG-2740797_gtvlntot1.nii.gz\n",
      "Erosion completed and saved to: /Intern Programming/data/output/t1t2gtv_1mm\\UMCG-2740797_gtvlntot2.nii.gz\n",
      "Erosion completed and saved to: /Intern Programming/data/output/t1t2gtv_1mm\\UMCG-2740797_gtvpttot1.nii.gz\n",
      "Erosion completed and saved to: /Intern Programming/data/output/t1t2gtv_1mm\\UMCG-2740797_gtvpttot2.nii.gz\n",
      "Erosion completed and saved to: /Intern Programming/data/output/t1t2gtv_1mm\\UMCG-2740797_gtvtottot1.nii.gz\n",
      "Erosion completed and saved to: /Intern Programming/data/output/t1t2gtv_1mm\\UMCG-2740797_gtvtottot2.nii.gz\n",
      "Erosion completed and saved to: /Intern Programming/data/output/t1t2gtv_1mm\\UMCG-2772931_gtvpttot1.nii.gz\n",
      "Erosion completed and saved to: /Intern Programming/data/output/t1t2gtv_1mm\\UMCG-2772931_gtvtottot1.nii.gz\n",
      "Erosion completed and saved to: /Intern Programming/data/output/t1t2gtv_1mm\\UMCG-2776839_gtvpttot1.nii.gz\n",
      "Erosion completed and saved to: /Intern Programming/data/output/t1t2gtv_1mm\\UMCG-2776839_gtvpttot2.nii.gz\n",
      "Erosion completed and saved to: /Intern Programming/data/output/t1t2gtv_1mm\\UMCG-2776839_gtvtottot1.nii.gz\n",
      "Erosion completed and saved to: /Intern Programming/data/output/t1t2gtv_1mm\\UMCG-2776839_gtvtottot2.nii.gz\n",
      "Erosion completed and saved to: /Intern Programming/data/output/t1t2gtv_1mm\\UMCG-2781091_gtvpttot1.nii.gz\n",
      "Erosion completed and saved to: /Intern Programming/data/output/t1t2gtv_1mm\\UMCG-2781091_gtvpttot2.nii.gz\n",
      "Erosion completed and saved to: /Intern Programming/data/output/t1t2gtv_1mm\\UMCG-2781091_gtvtottot1.nii.gz\n",
      "Erosion completed and saved to: /Intern Programming/data/output/t1t2gtv_1mm\\UMCG-2781091_gtvtottot2.nii.gz\n",
      "Erosion completed and saved to: /Intern Programming/data/output/t1t2gtv_1mm\\UMCG-2783403_gtvpttot1.nii.gz\n",
      "Erosion completed and saved to: /Intern Programming/data/output/t1t2gtv_1mm\\UMCG-2783403_gtvpttot2.nii.gz\n",
      "Erosion completed and saved to: /Intern Programming/data/output/t1t2gtv_1mm\\UMCG-2783403_gtvtottot1.nii.gz\n",
      "Erosion completed and saved to: /Intern Programming/data/output/t1t2gtv_1mm\\UMCG-2783403_gtvtottot2.nii.gz\n",
      "Erosion completed and saved to: /Intern Programming/data/output/t1t2gtv_1mm\\UMCG-2933472_gtvpttot1.nii.gz\n",
      "Erosion completed and saved to: /Intern Programming/data/output/t1t2gtv_1mm\\UMCG-2933472_gtvtottot1.nii.gz\n",
      "Erosion completed and saved to: /Intern Programming/data/output/t1t2gtv_1mm\\UMCG-2950432_gtvpttot1.nii.gz\n",
      "Erosion completed and saved to: /Intern Programming/data/output/t1t2gtv_1mm\\UMCG-2950432_gtvpttot2.nii.gz\n",
      "Erosion completed and saved to: /Intern Programming/data/output/t1t2gtv_1mm\\UMCG-2950432_gtvtottot1.nii.gz\n",
      "Erosion completed and saved to: /Intern Programming/data/output/t1t2gtv_1mm\\UMCG-2950432_gtvtottot2.nii.gz\n",
      "Erosion completed and saved to: /Intern Programming/data/output/t1t2gtv_1mm\\UMCG-2985041_gtvpttot1.nii.gz\n",
      "Erosion completed and saved to: /Intern Programming/data/output/t1t2gtv_1mm\\UMCG-2985041_gtvpttot2.nii.gz\n",
      "Erosion completed and saved to: /Intern Programming/data/output/t1t2gtv_1mm\\UMCG-2985041_gtvtottot1.nii.gz\n",
      "Erosion completed and saved to: /Intern Programming/data/output/t1t2gtv_1mm\\UMCG-2985041_gtvtottot2.nii.gz\n",
      "Erosion completed and saved to: /Intern Programming/data/output/t1t2gtv_1mm\\UMCG-3052392_gtvpttot1.nii.gz\n",
      "Erosion completed and saved to: /Intern Programming/data/output/t1t2gtv_1mm\\UMCG-3052392_gtvpttot2.nii.gz\n",
      "Erosion completed and saved to: /Intern Programming/data/output/t1t2gtv_1mm\\UMCG-3052392_gtvtottot1.nii.gz\n",
      "Erosion completed and saved to: /Intern Programming/data/output/t1t2gtv_1mm\\UMCG-3052392_gtvtottot2.nii.gz\n",
      "Erosion completed and saved to: /Intern Programming/data/output/t1t2gtv_1mm\\UMCG-3184299_gtvlntot1.nii.gz\n",
      "Erosion completed and saved to: /Intern Programming/data/output/t1t2gtv_1mm\\UMCG-3184299_gtvlntot2.nii.gz\n",
      "Erosion completed and saved to: /Intern Programming/data/output/t1t2gtv_1mm\\UMCG-3184299_gtvpttot1.nii.gz\n",
      "Erosion completed and saved to: /Intern Programming/data/output/t1t2gtv_1mm\\UMCG-3184299_gtvpttot2.nii.gz\n",
      "Erosion completed and saved to: /Intern Programming/data/output/t1t2gtv_1mm\\UMCG-3184299_gtvtottot1.nii.gz\n",
      "Erosion completed and saved to: /Intern Programming/data/output/t1t2gtv_1mm\\UMCG-3184299_gtvtottot2.nii.gz\n",
      "Erosion completed and saved to: /Intern Programming/data/output/t1t2gtv_1mm\\UMCG-3220326_gtvpttot1.nii.gz\n",
      "Erosion completed and saved to: /Intern Programming/data/output/t1t2gtv_1mm\\UMCG-3220326_gtvpttot2.nii.gz\n",
      "Erosion completed and saved to: /Intern Programming/data/output/t1t2gtv_1mm\\UMCG-3220326_gtvtottot1.nii.gz\n",
      "Erosion completed and saved to: /Intern Programming/data/output/t1t2gtv_1mm\\UMCG-3220326_gtvtottot2.nii.gz\n",
      "Erosion completed and saved to: /Intern Programming/data/output/t1t2gtv_1mm\\UMCG-3232494_gtvpttot1.nii.gz\n",
      "Erosion completed and saved to: /Intern Programming/data/output/t1t2gtv_1mm\\UMCG-3232494_gtvpttot2.nii.gz\n",
      "Erosion completed and saved to: /Intern Programming/data/output/t1t2gtv_1mm\\UMCG-3232494_gtvtottot1.nii.gz\n",
      "Erosion completed and saved to: /Intern Programming/data/output/t1t2gtv_1mm\\UMCG-3232494_gtvtottot2.nii.gz\n",
      "Erosion completed and saved to: /Intern Programming/data/output/t1t2gtv_1mm\\UMCG-3274619_gtvpttot1.nii.gz\n",
      "Erosion completed and saved to: /Intern Programming/data/output/t1t2gtv_1mm\\UMCG-3274619_gtvpttot2.nii.gz\n",
      "Erosion completed and saved to: /Intern Programming/data/output/t1t2gtv_1mm\\UMCG-3274619_gtvtottot1.nii.gz\n",
      "Erosion completed and saved to: /Intern Programming/data/output/t1t2gtv_1mm\\UMCG-3274619_gtvtottot2.nii.gz\n",
      "Erosion completed and saved to: /Intern Programming/data/output/t1t2gtv_1mm\\UMCG-3302076_gtvpttot1.nii.gz\n",
      "Erosion completed and saved to: /Intern Programming/data/output/t1t2gtv_1mm\\UMCG-3302076_gtvtottot1.nii.gz\n",
      "Erosion completed and saved to: /Intern Programming/data/output/t1t2gtv_1mm\\UMCG-3307103_gtvpttot1.nii.gz\n",
      "Erosion completed and saved to: /Intern Programming/data/output/t1t2gtv_1mm\\UMCG-3307103_gtvpttot2.nii.gz\n",
      "Erosion completed and saved to: /Intern Programming/data/output/t1t2gtv_1mm\\UMCG-3307103_gtvtottot1.nii.gz\n",
      "Erosion completed and saved to: /Intern Programming/data/output/t1t2gtv_1mm\\UMCG-3307103_gtvtottot2.nii.gz\n",
      "Erosion completed and saved to: /Intern Programming/data/output/t1t2gtv_1mm\\UMCG-3325216_gtvpttot1.nii.gz\n",
      "Erosion completed and saved to: /Intern Programming/data/output/t1t2gtv_1mm\\UMCG-3325216_gtvpttot2.nii.gz\n",
      "Erosion completed and saved to: /Intern Programming/data/output/t1t2gtv_1mm\\UMCG-3325216_gtvtottot1.nii.gz\n",
      "Erosion completed and saved to: /Intern Programming/data/output/t1t2gtv_1mm\\UMCG-3325216_gtvtottot2.nii.gz\n",
      "Erosion completed and saved to: /Intern Programming/data/output/t1t2gtv_1mm\\UMCG-3358240_gtvpttot1.nii.gz\n",
      "Erosion completed and saved to: /Intern Programming/data/output/t1t2gtv_1mm\\UMCG-3358240_gtvtottot1.nii.gz\n",
      "Erosion completed and saved to: /Intern Programming/data/output/t1t2gtv_1mm\\UMCG-3378098_gtvpttot1.nii.gz\n",
      "Erosion completed and saved to: /Intern Programming/data/output/t1t2gtv_1mm\\UMCG-3378098_gtvpttot2.nii.gz\n",
      "Erosion completed and saved to: /Intern Programming/data/output/t1t2gtv_1mm\\UMCG-3378098_gtvtottot1.nii.gz\n",
      "Erosion completed and saved to: /Intern Programming/data/output/t1t2gtv_1mm\\UMCG-3378098_gtvtottot2.nii.gz\n",
      "Erosion completed and saved to: /Intern Programming/data/output/t1t2gtv_1mm\\UMCG-3453949_gtvpttot1.nii.gz\n",
      "Erosion completed and saved to: /Intern Programming/data/output/t1t2gtv_1mm\\UMCG-3453949_gtvpttot2.nii.gz\n",
      "Erosion completed and saved to: /Intern Programming/data/output/t1t2gtv_1mm\\UMCG-3453949_gtvtottot1.nii.gz\n",
      "Erosion completed and saved to: /Intern Programming/data/output/t1t2gtv_1mm\\UMCG-3453949_gtvtottot2.nii.gz\n",
      "Erosion completed and saved to: /Intern Programming/data/output/t1t2gtv_1mm\\UMCG-3482925_gtvpttot1.nii.gz\n",
      "Erosion completed and saved to: /Intern Programming/data/output/t1t2gtv_1mm\\UMCG-3482925_gtvpttot2.nii.gz\n",
      "Erosion completed and saved to: /Intern Programming/data/output/t1t2gtv_1mm\\UMCG-3482925_gtvtottot1.nii.gz\n",
      "Erosion completed and saved to: /Intern Programming/data/output/t1t2gtv_1mm\\UMCG-3482925_gtvtottot2.nii.gz\n",
      "Erosion completed and saved to: /Intern Programming/data/output/t1t2gtv_1mm\\UMCG-3608845_gtvpttot1.nii.gz\n",
      "Erosion completed and saved to: /Intern Programming/data/output/t1t2gtv_1mm\\UMCG-3608845_gtvtottot1.nii.gz\n",
      "Erosion completed and saved to: /Intern Programming/data/output/t1t2gtv_1mm\\UMCG-3628692_gtvpttot1.nii.gz\n",
      "Erosion completed and saved to: /Intern Programming/data/output/t1t2gtv_1mm\\UMCG-3628692_gtvpttot2.nii.gz\n",
      "Erosion completed and saved to: /Intern Programming/data/output/t1t2gtv_1mm\\UMCG-3628692_gtvtottot1.nii.gz\n",
      "Erosion completed and saved to: /Intern Programming/data/output/t1t2gtv_1mm\\UMCG-3628692_gtvtottot2.nii.gz\n",
      "Erosion completed and saved to: /Intern Programming/data/output/t1t2gtv_1mm\\UMCG-3731205_gtvpttot1.nii.gz\n",
      "Erosion completed and saved to: /Intern Programming/data/output/t1t2gtv_1mm\\UMCG-3731205_gtvpttot2.nii.gz\n",
      "Erosion completed and saved to: /Intern Programming/data/output/t1t2gtv_1mm\\UMCG-3731205_gtvtottot1.nii.gz\n",
      "Erosion completed and saved to: /Intern Programming/data/output/t1t2gtv_1mm\\UMCG-3731205_gtvtottot2.nii.gz\n",
      "Erosion completed and saved to: /Intern Programming/data/output/t1t2gtv_1mm\\UMCG-3738311_gtvpttot1.nii.gz\n",
      "Erosion completed and saved to: /Intern Programming/data/output/t1t2gtv_1mm\\UMCG-3738311_gtvpttot2.nii.gz\n",
      "Erosion completed and saved to: /Intern Programming/data/output/t1t2gtv_1mm\\UMCG-3738311_gtvtottot1.nii.gz\n",
      "Erosion completed and saved to: /Intern Programming/data/output/t1t2gtv_1mm\\UMCG-3738311_gtvtottot2.nii.gz\n",
      "Erosion completed and saved to: /Intern Programming/data/output/t1t2gtv_1mm\\UMCG-3761226_gtvpttot1.nii.gz\n",
      "Erosion completed and saved to: /Intern Programming/data/output/t1t2gtv_1mm\\UMCG-3761226_gtvpttot2.nii.gz\n",
      "Erosion completed and saved to: /Intern Programming/data/output/t1t2gtv_1mm\\UMCG-3761226_gtvtottot1.nii.gz\n",
      "Erosion completed and saved to: /Intern Programming/data/output/t1t2gtv_1mm\\UMCG-3761226_gtvtottot2.nii.gz\n",
      "Erosion completed and saved to: /Intern Programming/data/output/t1t2gtv_1mm\\UMCG-3824931_gtvpttot1.nii.gz\n",
      "Erosion completed and saved to: /Intern Programming/data/output/t1t2gtv_1mm\\UMCG-3824931_gtvtottot1.nii.gz\n",
      "Erosion completed and saved to: /Intern Programming/data/output/t1t2gtv_1mm\\UMCG-3833960_gtvpttot1.nii.gz\n",
      "Erosion completed and saved to: /Intern Programming/data/output/t1t2gtv_1mm\\UMCG-3833960_gtvpttot2.nii.gz\n",
      "Erosion completed and saved to: /Intern Programming/data/output/t1t2gtv_1mm\\UMCG-3833960_gtvtottot1.nii.gz\n",
      "Erosion completed and saved to: /Intern Programming/data/output/t1t2gtv_1mm\\UMCG-3833960_gtvtottot2.nii.gz\n",
      "Erosion completed and saved to: /Intern Programming/data/output/t1t2gtv_1mm\\UMCG-3851899_gtvlntot1.nii.gz\n",
      "Erosion completed and saved to: /Intern Programming/data/output/t1t2gtv_1mm\\UMCG-3851899_gtvpttot1.nii.gz\n",
      "Erosion completed and saved to: /Intern Programming/data/output/t1t2gtv_1mm\\UMCG-3851899_gtvtottot1.nii.gz\n",
      "Erosion completed and saved to: /Intern Programming/data/output/t1t2gtv_1mm\\UMCG-3857371_gtvpttot1.nii.gz\n",
      "Erosion completed and saved to: /Intern Programming/data/output/t1t2gtv_1mm\\UMCG-3857371_gtvpttot2.nii.gz\n",
      "Erosion completed and saved to: /Intern Programming/data/output/t1t2gtv_1mm\\UMCG-3857371_gtvtottot1.nii.gz\n",
      "Erosion completed and saved to: /Intern Programming/data/output/t1t2gtv_1mm\\UMCG-3857371_gtvtottot2.nii.gz\n",
      "Erosion completed and saved to: /Intern Programming/data/output/t1t2gtv_1mm\\UMCG-3979255_gtvlntot1.nii.gz\n",
      "Erosion completed and saved to: /Intern Programming/data/output/t1t2gtv_1mm\\UMCG-3979255_gtvlntot2.nii.gz\n",
      "Erosion completed and saved to: /Intern Programming/data/output/t1t2gtv_1mm\\UMCG-3979255_gtvpttot1.nii.gz\n",
      "Erosion completed and saved to: /Intern Programming/data/output/t1t2gtv_1mm\\UMCG-3979255_gtvpttot2.nii.gz\n",
      "Erosion completed and saved to: /Intern Programming/data/output/t1t2gtv_1mm\\UMCG-3979255_gtvtottot1.nii.gz\n",
      "Erosion completed and saved to: /Intern Programming/data/output/t1t2gtv_1mm\\UMCG-3979255_gtvtottot2.nii.gz\n",
      "Erosion completed and saved to: /Intern Programming/data/output/t1t2gtv_1mm\\UMCG-4022677_gtvpttot1.nii.gz\n",
      "Erosion completed and saved to: /Intern Programming/data/output/t1t2gtv_1mm\\UMCG-4022677_gtvpttot2.nii.gz\n",
      "Erosion completed and saved to: /Intern Programming/data/output/t1t2gtv_1mm\\UMCG-4022677_gtvtottot1.nii.gz\n",
      "Erosion completed and saved to: /Intern Programming/data/output/t1t2gtv_1mm\\UMCG-4022677_gtvtottot2.nii.gz\n",
      "Erosion completed and saved to: /Intern Programming/data/output/t1t2gtv_1mm\\UMCG-4055202_gtvlntot1.nii.gz\n",
      "Erosion completed and saved to: /Intern Programming/data/output/t1t2gtv_1mm\\UMCG-4055202_gtvlntot2.nii.gz\n",
      "Erosion completed and saved to: /Intern Programming/data/output/t1t2gtv_1mm\\UMCG-4055202_gtvpttot1.nii.gz\n",
      "Erosion completed and saved to: /Intern Programming/data/output/t1t2gtv_1mm\\UMCG-4055202_gtvpttot2.nii.gz\n",
      "Erosion completed and saved to: /Intern Programming/data/output/t1t2gtv_1mm\\UMCG-4055202_gtvtottot1.nii.gz\n",
      "Erosion completed and saved to: /Intern Programming/data/output/t1t2gtv_1mm\\UMCG-4055202_gtvtottot2.nii.gz\n",
      "Erosion completed and saved to: /Intern Programming/data/output/t1t2gtv_1mm\\UMCG-4081263_gtvlntot1.nii.gz\n",
      "Erosion completed and saved to: /Intern Programming/data/output/t1t2gtv_1mm\\UMCG-4081263_gtvlntot2.nii.gz\n",
      "Erosion completed and saved to: /Intern Programming/data/output/t1t2gtv_1mm\\UMCG-4081263_gtvpttot1.nii.gz\n",
      "Erosion completed and saved to: /Intern Programming/data/output/t1t2gtv_1mm\\UMCG-4081263_gtvpttot2.nii.gz\n",
      "Erosion completed and saved to: /Intern Programming/data/output/t1t2gtv_1mm\\UMCG-4081263_gtvtottot1.nii.gz\n",
      "Erosion completed and saved to: /Intern Programming/data/output/t1t2gtv_1mm\\UMCG-4081263_gtvtottot2.nii.gz\n",
      "Erosion completed and saved to: /Intern Programming/data/output/t1t2gtv_1mm\\UMCG-4084679_gtvpttot1.nii.gz\n",
      "Erosion completed and saved to: /Intern Programming/data/output/t1t2gtv_1mm\\UMCG-4084679_gtvtottot1.nii.gz\n",
      "Erosion completed and saved to: /Intern Programming/data/output/t1t2gtv_1mm\\UMCG-4134310_gtvpttot1.nii.gz\n",
      "Erosion completed and saved to: /Intern Programming/data/output/t1t2gtv_1mm\\UMCG-4134310_gtvpttot2.nii.gz\n",
      "Erosion completed and saved to: /Intern Programming/data/output/t1t2gtv_1mm\\UMCG-4134310_gtvtottot1.nii.gz\n",
      "Erosion completed and saved to: /Intern Programming/data/output/t1t2gtv_1mm\\UMCG-4134310_gtvtottot2.nii.gz\n",
      "Erosion completed and saved to: /Intern Programming/data/output/t1t2gtv_1mm\\UMCG-4160083_gtvlntot1.nii.gz\n",
      "Erosion completed and saved to: /Intern Programming/data/output/t1t2gtv_1mm\\UMCG-4160083_gtvlntot2.nii.gz\n",
      "Erosion completed and saved to: /Intern Programming/data/output/t1t2gtv_1mm\\UMCG-4160083_gtvpttot1.nii.gz\n",
      "Erosion completed and saved to: /Intern Programming/data/output/t1t2gtv_1mm\\UMCG-4160083_gtvpttot2.nii.gz\n",
      "Erosion completed and saved to: /Intern Programming/data/output/t1t2gtv_1mm\\UMCG-4160083_gtvtottot1.nii.gz\n",
      "Erosion completed and saved to: /Intern Programming/data/output/t1t2gtv_1mm\\UMCG-4160083_gtvtottot2.nii.gz\n",
      "Erosion completed and saved to: /Intern Programming/data/output/t1t2gtv_1mm\\UMCG-4165333_gtvpttot1.nii.gz\n",
      "Erosion completed and saved to: /Intern Programming/data/output/t1t2gtv_1mm\\UMCG-4165333_gtvpttot2.nii.gz\n",
      "Erosion completed and saved to: /Intern Programming/data/output/t1t2gtv_1mm\\UMCG-4165333_gtvtottot1.nii.gz\n",
      "Erosion completed and saved to: /Intern Programming/data/output/t1t2gtv_1mm\\UMCG-4165333_gtvtottot2.nii.gz\n",
      "Erosion completed and saved to: /Intern Programming/data/output/t1t2gtv_1mm\\UMCG-4223355_gtvpttot1.nii.gz\n",
      "Erosion completed and saved to: /Intern Programming/data/output/t1t2gtv_1mm\\UMCG-4223355_gtvpttot2.nii.gz\n",
      "Erosion completed and saved to: /Intern Programming/data/output/t1t2gtv_1mm\\UMCG-4223355_gtvtottot1.nii.gz\n",
      "Erosion completed and saved to: /Intern Programming/data/output/t1t2gtv_1mm\\UMCG-4223355_gtvtottot2.nii.gz\n",
      "Erosion completed and saved to: /Intern Programming/data/output/t1t2gtv_1mm\\UMCG-4224256_gtvpttot1.nii.gz\n",
      "Erosion completed and saved to: /Intern Programming/data/output/t1t2gtv_1mm\\UMCG-4224256_gtvpttot2.nii.gz\n",
      "Erosion completed and saved to: /Intern Programming/data/output/t1t2gtv_1mm\\UMCG-4224256_gtvtottot1.nii.gz\n",
      "Erosion completed and saved to: /Intern Programming/data/output/t1t2gtv_1mm\\UMCG-4224256_gtvtottot2.nii.gz\n",
      "Erosion completed and saved to: /Intern Programming/data/output/t1t2gtv_1mm\\UMCG-4391448_gtvpttot1.nii.gz\n",
      "Erosion completed and saved to: /Intern Programming/data/output/t1t2gtv_1mm\\UMCG-4391448_gtvpttot2.nii.gz\n",
      "Erosion completed and saved to: /Intern Programming/data/output/t1t2gtv_1mm\\UMCG-4391448_gtvtottot1.nii.gz\n",
      "Erosion completed and saved to: /Intern Programming/data/output/t1t2gtv_1mm\\UMCG-4391448_gtvtottot2.nii.gz\n",
      "Erosion completed and saved to: /Intern Programming/data/output/t1t2gtv_1mm\\UMCG-4392265_gtvlntot1.nii.gz\n",
      "Erosion completed and saved to: /Intern Programming/data/output/t1t2gtv_1mm\\UMCG-4392265_gtvlntot2.nii.gz\n",
      "Erosion completed and saved to: /Intern Programming/data/output/t1t2gtv_1mm\\UMCG-4392265_gtvpttot1.nii.gz\n",
      "Erosion completed and saved to: /Intern Programming/data/output/t1t2gtv_1mm\\UMCG-4392265_gtvpttot2.nii.gz\n",
      "Erosion completed and saved to: /Intern Programming/data/output/t1t2gtv_1mm\\UMCG-4392265_gtvtottot1.nii.gz\n",
      "Erosion completed and saved to: /Intern Programming/data/output/t1t2gtv_1mm\\UMCG-4392265_gtvtottot2.nii.gz\n",
      "Erosion completed and saved to: /Intern Programming/data/output/t1t2gtv_1mm\\UMCG-4459240_gtvpttot1.nii.gz\n",
      "Erosion completed and saved to: /Intern Programming/data/output/t1t2gtv_1mm\\UMCG-4459240_gtvpttot2.nii.gz\n",
      "Erosion completed and saved to: /Intern Programming/data/output/t1t2gtv_1mm\\UMCG-4459240_gtvtottot1.nii.gz\n",
      "Erosion completed and saved to: /Intern Programming/data/output/t1t2gtv_1mm\\UMCG-4459240_gtvtottot2.nii.gz\n",
      "Erosion completed and saved to: /Intern Programming/data/output/t1t2gtv_1mm\\UMCG-4606701_gtvpttot1.nii.gz\n",
      "Erosion completed and saved to: /Intern Programming/data/output/t1t2gtv_1mm\\UMCG-4606701_gtvtottot1.nii.gz\n",
      "Erosion completed and saved to: /Intern Programming/data/output/t1t2gtv_1mm\\UMCG-4640464_gtvlntot1.nii.gz\n",
      "Erosion completed and saved to: /Intern Programming/data/output/t1t2gtv_1mm\\UMCG-4640464_gtvlntot2.nii.gz\n",
      "Erosion completed and saved to: /Intern Programming/data/output/t1t2gtv_1mm\\UMCG-4640464_gtvpttot1.nii.gz\n",
      "Erosion completed and saved to: /Intern Programming/data/output/t1t2gtv_1mm\\UMCG-4640464_gtvpttot2.nii.gz\n",
      "Erosion completed and saved to: /Intern Programming/data/output/t1t2gtv_1mm\\UMCG-4640464_gtvtottot1.nii.gz\n",
      "Erosion completed and saved to: /Intern Programming/data/output/t1t2gtv_1mm\\UMCG-4640464_gtvtottot2.nii.gz\n",
      "Erosion completed and saved to: /Intern Programming/data/output/t1t2gtv_1mm\\UMCG-4667104_gtvlntot1.nii.gz\n",
      "Erosion completed and saved to: /Intern Programming/data/output/t1t2gtv_1mm\\UMCG-4667104_gtvpttot1.nii.gz\n",
      "Erosion completed and saved to: /Intern Programming/data/output/t1t2gtv_1mm\\UMCG-4667104_gtvtottot1.nii.gz\n",
      "Erosion completed and saved to: /Intern Programming/data/output/t1t2gtv_1mm\\UMCG-4668588_gtvpttot1.nii.gz\n",
      "Erosion completed and saved to: /Intern Programming/data/output/t1t2gtv_1mm\\UMCG-4668588_gtvpttot2.nii.gz\n",
      "Erosion completed and saved to: /Intern Programming/data/output/t1t2gtv_1mm\\UMCG-4668588_gtvtottot1.nii.gz\n",
      "Erosion completed and saved to: /Intern Programming/data/output/t1t2gtv_1mm\\UMCG-4668588_gtvtottot2.nii.gz\n",
      "Erosion completed and saved to: /Intern Programming/data/output/t1t2gtv_1mm\\UMCG-4673928_gtvpttot1.nii.gz\n",
      "Erosion completed and saved to: /Intern Programming/data/output/t1t2gtv_1mm\\UMCG-4673928_gtvpttot2.nii.gz\n",
      "Erosion completed and saved to: /Intern Programming/data/output/t1t2gtv_1mm\\UMCG-4673928_gtvtottot1.nii.gz\n",
      "Erosion completed and saved to: /Intern Programming/data/output/t1t2gtv_1mm\\UMCG-4673928_gtvtottot2.nii.gz\n",
      "Erosion completed and saved to: /Intern Programming/data/output/t1t2gtv_1mm\\UMCG-4777783_gtvpttot1.nii.gz\n",
      "Erosion completed and saved to: /Intern Programming/data/output/t1t2gtv_1mm\\UMCG-4777783_gtvpttot2.nii.gz\n",
      "Erosion completed and saved to: /Intern Programming/data/output/t1t2gtv_1mm\\UMCG-4777783_gtvtottot1.nii.gz\n",
      "Erosion completed and saved to: /Intern Programming/data/output/t1t2gtv_1mm\\UMCG-4777783_gtvtottot2.nii.gz\n",
      "Erosion completed and saved to: /Intern Programming/data/output/t1t2gtv_1mm\\UMCG-4787329_gtvpttot1.nii.gz\n",
      "Erosion completed and saved to: /Intern Programming/data/output/t1t2gtv_1mm\\UMCG-4787329_gtvpttot2.nii.gz\n",
      "Erosion completed and saved to: /Intern Programming/data/output/t1t2gtv_1mm\\UMCG-4787329_gtvtottot1.nii.gz\n",
      "Erosion completed and saved to: /Intern Programming/data/output/t1t2gtv_1mm\\UMCG-4787329_gtvtottot2.nii.gz\n",
      "Erosion completed and saved to: /Intern Programming/data/output/t1t2gtv_1mm\\UMCG-4832658_gtvpttot1.nii.gz\n",
      "Erosion completed and saved to: /Intern Programming/data/output/t1t2gtv_1mm\\UMCG-4832658_gtvtottot1.nii.gz\n",
      "Erosion completed and saved to: /Intern Programming/data/output/t1t2gtv_1mm\\UMCG-4882128_gtvlntot1.nii.gz\n",
      "Erosion completed and saved to: /Intern Programming/data/output/t1t2gtv_1mm\\UMCG-4882128_gtvpttot1.nii.gz\n",
      "Erosion completed and saved to: /Intern Programming/data/output/t1t2gtv_1mm\\UMCG-4882128_gtvtottot1.nii.gz\n",
      "Erosion completed and saved to: /Intern Programming/data/output/t1t2gtv_1mm\\UMCG-4883318_gtvpttot1.nii.gz\n",
      "Erosion completed and saved to: /Intern Programming/data/output/t1t2gtv_1mm\\UMCG-4883318_gtvpttot2.nii.gz\n",
      "Erosion completed and saved to: /Intern Programming/data/output/t1t2gtv_1mm\\UMCG-4883318_gtvtottot1.nii.gz\n",
      "Erosion completed and saved to: /Intern Programming/data/output/t1t2gtv_1mm\\UMCG-4883318_gtvtottot2.nii.gz\n",
      "Erosion completed and saved to: /Intern Programming/data/output/t1t2gtv_1mm\\UMCG-4939497_gtvpttot1.nii.gz\n",
      "Erosion completed and saved to: /Intern Programming/data/output/t1t2gtv_1mm\\UMCG-4939497_gtvtottot1.nii.gz\n",
      "Erosion completed and saved to: /Intern Programming/data/output/t1t2gtv_1mm\\UMCG-4969603_gtvpttot1.nii.gz\n",
      "Erosion completed and saved to: /Intern Programming/data/output/t1t2gtv_1mm\\UMCG-4969603_gtvtottot1.nii.gz\n",
      "Erosion completed and saved to: /Intern Programming/data/output/t1t2gtv_1mm\\UMCG-4984631_gtvpttot1.nii.gz\n",
      "Erosion completed and saved to: /Intern Programming/data/output/t1t2gtv_1mm\\UMCG-4984631_gtvtottot1.nii.gz\n",
      "Erosion completed and saved to: /Intern Programming/data/output/t1t2gtv_1mm\\UMCG-5088300_gtvpttot1.nii.gz\n",
      "Erosion completed and saved to: /Intern Programming/data/output/t1t2gtv_1mm\\UMCG-5088300_gtvpttot2.nii.gz\n",
      "Erosion completed and saved to: /Intern Programming/data/output/t1t2gtv_1mm\\UMCG-5088300_gtvtottot1.nii.gz\n",
      "Erosion completed and saved to: /Intern Programming/data/output/t1t2gtv_1mm\\UMCG-5088300_gtvtottot2.nii.gz\n",
      "Erosion completed and saved to: /Intern Programming/data/output/t1t2gtv_1mm\\UMCG-5113659_gtvlntot1.nii.gz\n",
      "Erosion completed and saved to: /Intern Programming/data/output/t1t2gtv_1mm\\UMCG-5113659_gtvpttot1.nii.gz\n",
      "Erosion completed and saved to: /Intern Programming/data/output/t1t2gtv_1mm\\UMCG-5113659_gtvtottot1.nii.gz\n",
      "Erosion completed and saved to: /Intern Programming/data/output/t1t2gtv_1mm\\UMCG-5256295_gtvlntot1.nii.gz\n",
      "Erosion completed and saved to: /Intern Programming/data/output/t1t2gtv_1mm\\UMCG-5256295_gtvpttot1.nii.gz\n",
      "Erosion completed and saved to: /Intern Programming/data/output/t1t2gtv_1mm\\UMCG-5256295_gtvtottot1.nii.gz\n",
      "Erosion completed and saved to: /Intern Programming/data/output/t1t2gtv_1mm\\UMCG-5262401_gtvpttot1.nii.gz\n",
      "Erosion completed and saved to: /Intern Programming/data/output/t1t2gtv_1mm\\UMCG-5262401_gtvpttot2.nii.gz\n",
      "Erosion completed and saved to: /Intern Programming/data/output/t1t2gtv_1mm\\UMCG-5262401_gtvtottot1.nii.gz\n",
      "Erosion completed and saved to: /Intern Programming/data/output/t1t2gtv_1mm\\UMCG-5262401_gtvtottot2.nii.gz\n",
      "Erosion completed and saved to: /Intern Programming/data/output/t1t2gtv_1mm\\UMCG-5325319_gtvpttot1.nii.gz\n",
      "Erosion completed and saved to: /Intern Programming/data/output/t1t2gtv_1mm\\UMCG-5325319_gtvpttot2.nii.gz\n",
      "Erosion completed and saved to: /Intern Programming/data/output/t1t2gtv_1mm\\UMCG-5325319_gtvtottot1.nii.gz\n",
      "Erosion completed and saved to: /Intern Programming/data/output/t1t2gtv_1mm\\UMCG-5325319_gtvtottot2.nii.gz\n",
      "Erosion completed and saved to: /Intern Programming/data/output/t1t2gtv_1mm\\UMCG-5333571_gtvpttot1.nii.gz\n",
      "Erosion completed and saved to: /Intern Programming/data/output/t1t2gtv_1mm\\UMCG-5333571_gtvtottot1.nii.gz\n",
      "Erosion completed and saved to: /Intern Programming/data/output/t1t2gtv_1mm\\UMCG-5355109_gtvpttot1.nii.gz\n",
      "Erosion completed and saved to: /Intern Programming/data/output/t1t2gtv_1mm\\UMCG-5355109_gtvpttot2.nii.gz\n",
      "Erosion completed and saved to: /Intern Programming/data/output/t1t2gtv_1mm\\UMCG-5355109_gtvtottot1.nii.gz\n",
      "Erosion completed and saved to: /Intern Programming/data/output/t1t2gtv_1mm\\UMCG-5355109_gtvtottot2.nii.gz\n",
      "Erosion completed and saved to: /Intern Programming/data/output/t1t2gtv_1mm\\UMCG-5368939_gtvpttot1.nii.gz\n",
      "Erosion completed and saved to: /Intern Programming/data/output/t1t2gtv_1mm\\UMCG-5368939_gtvtottot1.nii.gz\n",
      "Erosion completed and saved to: /Intern Programming/data/output/t1t2gtv_1mm\\UMCG-5399483_gtvpttot1.nii.gz\n",
      "Erosion completed and saved to: /Intern Programming/data/output/t1t2gtv_1mm\\UMCG-5399483_gtvpttot2.nii.gz\n",
      "Erosion completed and saved to: /Intern Programming/data/output/t1t2gtv_1mm\\UMCG-5399483_gtvtottot1.nii.gz\n",
      "Erosion completed and saved to: /Intern Programming/data/output/t1t2gtv_1mm\\UMCG-5399483_gtvtottot2.nii.gz\n",
      "Erosion completed and saved to: /Intern Programming/data/output/t1t2gtv_1mm\\UMCG-5426388_gtvlntot1.nii.gz\n",
      "Erosion completed and saved to: /Intern Programming/data/output/t1t2gtv_1mm\\UMCG-5426388_gtvlntot2.nii.gz\n",
      "Erosion completed and saved to: /Intern Programming/data/output/t1t2gtv_1mm\\UMCG-5426388_gtvpttot1.nii.gz\n",
      "Erosion completed and saved to: /Intern Programming/data/output/t1t2gtv_1mm\\UMCG-5426388_gtvpttot2.nii.gz\n",
      "Erosion completed and saved to: /Intern Programming/data/output/t1t2gtv_1mm\\UMCG-5426388_gtvtottot1.nii.gz\n",
      "Erosion completed and saved to: /Intern Programming/data/output/t1t2gtv_1mm\\UMCG-5426388_gtvtottot2.nii.gz\n",
      "Erosion completed and saved to: /Intern Programming/data/output/t1t2gtv_1mm\\UMCG-5471790_gtvpttot1.nii.gz\n",
      "Erosion completed and saved to: /Intern Programming/data/output/t1t2gtv_1mm\\UMCG-5471790_gtvpttot2.nii.gz\n",
      "Erosion completed and saved to: /Intern Programming/data/output/t1t2gtv_1mm\\UMCG-5471790_gtvtottot1.nii.gz\n",
      "Erosion completed and saved to: /Intern Programming/data/output/t1t2gtv_1mm\\UMCG-5471790_gtvtottot2.nii.gz\n",
      "Erosion completed and saved to: /Intern Programming/data/output/t1t2gtv_1mm\\UMCG-5586522_gtvpttot1.nii.gz\n",
      "Erosion completed and saved to: /Intern Programming/data/output/t1t2gtv_1mm\\UMCG-5586522_gtvpttot2.nii.gz\n",
      "Erosion completed and saved to: /Intern Programming/data/output/t1t2gtv_1mm\\UMCG-5586522_gtvtottot1.nii.gz\n",
      "Erosion completed and saved to: /Intern Programming/data/output/t1t2gtv_1mm\\UMCG-5586522_gtvtottot2.nii.gz\n",
      "Erosion completed and saved to: /Intern Programming/data/output/t1t2gtv_1mm\\UMCG-5625197_gtvpttot1.nii.gz\n",
      "Erosion completed and saved to: /Intern Programming/data/output/t1t2gtv_1mm\\UMCG-5625197_gtvtottot1.nii.gz\n",
      "Erosion completed and saved to: /Intern Programming/data/output/t1t2gtv_1mm\\UMCG-5717206_gtvpttot1.nii.gz\n",
      "Erosion completed and saved to: /Intern Programming/data/output/t1t2gtv_1mm\\UMCG-5717206_gtvpttot2.nii.gz\n",
      "Erosion completed and saved to: /Intern Programming/data/output/t1t2gtv_1mm\\UMCG-5717206_gtvtottot1.nii.gz\n",
      "Erosion completed and saved to: /Intern Programming/data/output/t1t2gtv_1mm\\UMCG-5717206_gtvtottot2.nii.gz\n",
      "Erosion completed and saved to: /Intern Programming/data/output/t1t2gtv_1mm\\UMCG-5732305_gtvpttot1.nii.gz\n",
      "Erosion completed and saved to: /Intern Programming/data/output/t1t2gtv_1mm\\UMCG-5732305_gtvpttot2.nii.gz\n",
      "Erosion completed and saved to: /Intern Programming/data/output/t1t2gtv_1mm\\UMCG-5732305_gtvtottot1.nii.gz\n",
      "Erosion completed and saved to: /Intern Programming/data/output/t1t2gtv_1mm\\UMCG-5732305_gtvtottot2.nii.gz\n",
      "Erosion completed and saved to: /Intern Programming/data/output/t1t2gtv_1mm\\UMCG-5762672_gtvpttot1.nii.gz\n",
      "Erosion completed and saved to: /Intern Programming/data/output/t1t2gtv_1mm\\UMCG-5762672_gtvpttot2.nii.gz\n",
      "Erosion completed and saved to: /Intern Programming/data/output/t1t2gtv_1mm\\UMCG-5762672_gtvtottot1.nii.gz\n",
      "Erosion completed and saved to: /Intern Programming/data/output/t1t2gtv_1mm\\UMCG-5762672_gtvtottot2.nii.gz\n",
      "Erosion completed and saved to: /Intern Programming/data/output/t1t2gtv_1mm\\UMCG-5776290_gtvpttot1.nii.gz\n",
      "Erosion completed and saved to: /Intern Programming/data/output/t1t2gtv_1mm\\UMCG-5776290_gtvpttot2.nii.gz\n",
      "Erosion completed and saved to: /Intern Programming/data/output/t1t2gtv_1mm\\UMCG-5776290_gtvtottot1.nii.gz\n",
      "Erosion completed and saved to: /Intern Programming/data/output/t1t2gtv_1mm\\UMCG-5776290_gtvtottot2.nii.gz\n",
      "Erosion completed and saved to: /Intern Programming/data/output/t1t2gtv_1mm\\UMCG-5860527_gtvpttot1.nii.gz\n",
      "Erosion completed and saved to: /Intern Programming/data/output/t1t2gtv_1mm\\UMCG-5860527_gtvpttot2.nii.gz\n",
      "Erosion completed and saved to: /Intern Programming/data/output/t1t2gtv_1mm\\UMCG-5860527_gtvtottot1.nii.gz\n",
      "Erosion completed and saved to: /Intern Programming/data/output/t1t2gtv_1mm\\UMCG-5860527_gtvtottot2.nii.gz\n",
      "Erosion completed and saved to: /Intern Programming/data/output/t1t2gtv_1mm\\UMCG-5896858_gtvpttot1.nii.gz\n",
      "Erosion completed and saved to: /Intern Programming/data/output/t1t2gtv_1mm\\UMCG-5896858_gtvpttot2.nii.gz\n",
      "Erosion completed and saved to: /Intern Programming/data/output/t1t2gtv_1mm\\UMCG-5896858_gtvtottot1.nii.gz\n",
      "Erosion completed and saved to: /Intern Programming/data/output/t1t2gtv_1mm\\UMCG-5896858_gtvtottot2.nii.gz\n",
      "Erosion completed and saved to: /Intern Programming/data/output/t1t2gtv_1mm\\UMCG-5908531_gtvpttot1.nii.gz\n",
      "Erosion completed and saved to: /Intern Programming/data/output/t1t2gtv_1mm\\UMCG-5908531_gtvpttot2.nii.gz\n",
      "Erosion completed and saved to: /Intern Programming/data/output/t1t2gtv_1mm\\UMCG-5908531_gtvtottot1.nii.gz\n",
      "Erosion completed and saved to: /Intern Programming/data/output/t1t2gtv_1mm\\UMCG-5908531_gtvtottot2.nii.gz\n",
      "Erosion completed and saved to: /Intern Programming/data/output/t1t2gtv_1mm\\UMCG-5938385_gtvpttot1.nii.gz\n",
      "Erosion completed and saved to: /Intern Programming/data/output/t1t2gtv_1mm\\UMCG-5938385_gtvtottot1.nii.gz\n",
      "Erosion completed and saved to: /Intern Programming/data/output/t1t2gtv_1mm\\UMCG-5952236_gtvpttot1.nii.gz\n",
      "Erosion completed and saved to: /Intern Programming/data/output/t1t2gtv_1mm\\UMCG-5952236_gtvpttot2.nii.gz\n",
      "Erosion completed and saved to: /Intern Programming/data/output/t1t2gtv_1mm\\UMCG-5952236_gtvtottot1.nii.gz\n",
      "Erosion completed and saved to: /Intern Programming/data/output/t1t2gtv_1mm\\UMCG-5952236_gtvtottot2.nii.gz\n",
      "Erosion completed and saved to: /Intern Programming/data/output/t1t2gtv_1mm\\UMCG-6038065_gtvpttot1.nii.gz\n",
      "Erosion completed and saved to: /Intern Programming/data/output/t1t2gtv_1mm\\UMCG-6038065_gtvpttot2.nii.gz\n",
      "Erosion completed and saved to: /Intern Programming/data/output/t1t2gtv_1mm\\UMCG-6038065_gtvtottot1.nii.gz\n",
      "Erosion completed and saved to: /Intern Programming/data/output/t1t2gtv_1mm\\UMCG-6038065_gtvtottot2.nii.gz\n",
      "Erosion completed and saved to: /Intern Programming/data/output/t1t2gtv_1mm\\UMCG-6356348_gtvpttot1.nii.gz\n",
      "Erosion completed and saved to: /Intern Programming/data/output/t1t2gtv_1mm\\UMCG-6356348_gtvtottot1.nii.gz\n",
      "Erosion completed and saved to: /Intern Programming/data/output/t1t2gtv_1mm\\UMCG-6378659_gtvlntot1.nii.gz\n",
      "Erosion completed and saved to: /Intern Programming/data/output/t1t2gtv_1mm\\UMCG-6378659_gtvlntot2.nii.gz\n",
      "Erosion completed and saved to: /Intern Programming/data/output/t1t2gtv_1mm\\UMCG-6378659_gtvpttot1.nii.gz\n",
      "Erosion completed and saved to: /Intern Programming/data/output/t1t2gtv_1mm\\UMCG-6378659_gtvpttot2.nii.gz\n",
      "Erosion completed and saved to: /Intern Programming/data/output/t1t2gtv_1mm\\UMCG-6378659_gtvtottot1.nii.gz\n",
      "Erosion completed and saved to: /Intern Programming/data/output/t1t2gtv_1mm\\UMCG-6378659_gtvtottot2.nii.gz\n",
      "Erosion completed and saved to: /Intern Programming/data/output/t1t2gtv_1mm\\UMCG-6380664_gtvpttot1.nii.gz\n",
      "Erosion completed and saved to: /Intern Programming/data/output/t1t2gtv_1mm\\UMCG-6380664_gtvpttot2.nii.gz\n",
      "Erosion completed and saved to: /Intern Programming/data/output/t1t2gtv_1mm\\UMCG-6380664_gtvtottot1.nii.gz\n",
      "Erosion completed and saved to: /Intern Programming/data/output/t1t2gtv_1mm\\UMCG-6380664_gtvtottot2.nii.gz\n",
      "Erosion completed and saved to: /Intern Programming/data/output/t1t2gtv_1mm\\UMCG-6395952_gtvpttot1.nii.gz\n",
      "Erosion completed and saved to: /Intern Programming/data/output/t1t2gtv_1mm\\UMCG-6395952_gtvpttot2.nii.gz\n",
      "Erosion completed and saved to: /Intern Programming/data/output/t1t2gtv_1mm\\UMCG-6395952_gtvtottot1.nii.gz\n",
      "Erosion completed and saved to: /Intern Programming/data/output/t1t2gtv_1mm\\UMCG-6395952_gtvtottot2.nii.gz\n",
      "Erosion completed and saved to: /Intern Programming/data/output/t1t2gtv_1mm\\UMCG-6403282_gtvpttot1.nii.gz\n",
      "Erosion completed and saved to: /Intern Programming/data/output/t1t2gtv_1mm\\UMCG-6403282_gtvtottot1.nii.gz\n",
      "Erosion completed and saved to: /Intern Programming/data/output/t1t2gtv_1mm\\UMCG-6469382_gtvlntot1.nii.gz\n",
      "Erosion completed and saved to: /Intern Programming/data/output/t1t2gtv_1mm\\UMCG-6469382_gtvlntot2.nii.gz\n",
      "Erosion completed and saved to: /Intern Programming/data/output/t1t2gtv_1mm\\UMCG-6469382_gtvpttot1.nii.gz\n",
      "Erosion completed and saved to: /Intern Programming/data/output/t1t2gtv_1mm\\UMCG-6469382_gtvpttot2.nii.gz\n",
      "Erosion completed and saved to: /Intern Programming/data/output/t1t2gtv_1mm\\UMCG-6469382_gtvtottot1.nii.gz\n",
      "Erosion completed and saved to: /Intern Programming/data/output/t1t2gtv_1mm\\UMCG-6469382_gtvtottot2.nii.gz\n",
      "Erosion completed and saved to: /Intern Programming/data/output/t1t2gtv_1mm\\UMCG-6504420_gtvlntot1.nii.gz\n",
      "Erosion completed and saved to: /Intern Programming/data/output/t1t2gtv_1mm\\UMCG-6504420_gtvlntot2.nii.gz\n",
      "Erosion completed and saved to: /Intern Programming/data/output/t1t2gtv_1mm\\UMCG-6504420_gtvpttot1.nii.gz\n",
      "Erosion completed and saved to: /Intern Programming/data/output/t1t2gtv_1mm\\UMCG-6504420_gtvpttot2.nii.gz\n",
      "Erosion completed and saved to: /Intern Programming/data/output/t1t2gtv_1mm\\UMCG-6504420_gtvtottot1.nii.gz\n",
      "Erosion completed and saved to: /Intern Programming/data/output/t1t2gtv_1mm\\UMCG-6504420_gtvtottot2.nii.gz\n",
      "Erosion completed and saved to: /Intern Programming/data/output/t1t2gtv_1mm\\UMCG-6505862_gtvpttot1.nii.gz\n",
      "Erosion completed and saved to: /Intern Programming/data/output/t1t2gtv_1mm\\UMCG-6505862_gtvpttot2.nii.gz\n",
      "Erosion completed and saved to: /Intern Programming/data/output/t1t2gtv_1mm\\UMCG-6505862_gtvtottot1.nii.gz\n",
      "Erosion completed and saved to: /Intern Programming/data/output/t1t2gtv_1mm\\UMCG-6505862_gtvtottot2.nii.gz\n",
      "Erosion completed and saved to: /Intern Programming/data/output/t1t2gtv_1mm\\UMCG-6596681_gtvpttot1.nii.gz\n",
      "Erosion completed and saved to: /Intern Programming/data/output/t1t2gtv_1mm\\UMCG-6596681_gtvpttot2.nii.gz\n",
      "Erosion completed and saved to: /Intern Programming/data/output/t1t2gtv_1mm\\UMCG-6596681_gtvtottot1.nii.gz\n",
      "Erosion completed and saved to: /Intern Programming/data/output/t1t2gtv_1mm\\UMCG-6596681_gtvtottot2.nii.gz\n",
      "Erosion completed and saved to: /Intern Programming/data/output/t1t2gtv_1mm\\UMCG-6754277_gtvpttot1.nii.gz\n",
      "Erosion completed and saved to: /Intern Programming/data/output/t1t2gtv_1mm\\UMCG-6754277_gtvpttot2.nii.gz\n",
      "Erosion completed and saved to: /Intern Programming/data/output/t1t2gtv_1mm\\UMCG-6754277_gtvtottot1.nii.gz\n",
      "Erosion completed and saved to: /Intern Programming/data/output/t1t2gtv_1mm\\UMCG-6754277_gtvtottot2.nii.gz\n",
      "Erosion completed and saved to: /Intern Programming/data/output/t1t2gtv_1mm\\UMCG-6803098_gtvpttot1.nii.gz\n",
      "Erosion completed and saved to: /Intern Programming/data/output/t1t2gtv_1mm\\UMCG-6803098_gtvpttot2.nii.gz\n",
      "Erosion completed and saved to: /Intern Programming/data/output/t1t2gtv_1mm\\UMCG-6803098_gtvtottot1.nii.gz\n",
      "Erosion completed and saved to: /Intern Programming/data/output/t1t2gtv_1mm\\UMCG-6803098_gtvtottot2.nii.gz\n",
      "Erosion completed and saved to: /Intern Programming/data/output/t1t2gtv_1mm\\UMCG-7000793_gtvpttot1.nii.gz\n",
      "Erosion completed and saved to: /Intern Programming/data/output/t1t2gtv_1mm\\UMCG-7000793_gtvpttot2.nii.gz\n",
      "Erosion completed and saved to: /Intern Programming/data/output/t1t2gtv_1mm\\UMCG-7000793_gtvtottot1.nii.gz\n",
      "Erosion completed and saved to: /Intern Programming/data/output/t1t2gtv_1mm\\UMCG-7000793_gtvtottot2.nii.gz\n",
      "Erosion completed and saved to: /Intern Programming/data/output/t1t2gtv_1mm\\UMCG-7040261_gtvpttot1.nii.gz\n",
      "Erosion completed and saved to: /Intern Programming/data/output/t1t2gtv_1mm\\UMCG-7040261_gtvpttot2.nii.gz\n",
      "Erosion completed and saved to: /Intern Programming/data/output/t1t2gtv_1mm\\UMCG-7040261_gtvtottot1.nii.gz\n",
      "Erosion completed and saved to: /Intern Programming/data/output/t1t2gtv_1mm\\UMCG-7040261_gtvtottot2.nii.gz\n",
      "Erosion completed and saved to: /Intern Programming/data/output/t1t2gtv_1mm\\UMCG-7154941_gtvpttot1.nii.gz\n",
      "Erosion completed and saved to: /Intern Programming/data/output/t1t2gtv_1mm\\UMCG-7154941_gtvtottot1.nii.gz\n",
      "Erosion completed and saved to: /Intern Programming/data/output/t1t2gtv_1mm\\UMCG-7169502_gtvpttot1.nii.gz\n",
      "Erosion completed and saved to: /Intern Programming/data/output/t1t2gtv_1mm\\UMCG-7169502_gtvpttot2.nii.gz\n",
      "Erosion completed and saved to: /Intern Programming/data/output/t1t2gtv_1mm\\UMCG-7169502_gtvtottot1.nii.gz\n",
      "Erosion completed and saved to: /Intern Programming/data/output/t1t2gtv_1mm\\UMCG-7169502_gtvtottot2.nii.gz\n",
      "Erosion completed and saved to: /Intern Programming/data/output/t1t2gtv_1mm\\UMCG-7209497_gtvpttot1.nii.gz\n",
      "Erosion completed and saved to: /Intern Programming/data/output/t1t2gtv_1mm\\UMCG-7209497_gtvpttot2.nii.gz\n",
      "Erosion completed and saved to: /Intern Programming/data/output/t1t2gtv_1mm\\UMCG-7209497_gtvtottot1.nii.gz\n",
      "Erosion completed and saved to: /Intern Programming/data/output/t1t2gtv_1mm\\UMCG-7209497_gtvtottot2.nii.gz\n",
      "Erosion completed and saved to: /Intern Programming/data/output/t1t2gtv_1mm\\UMCG-7230221_gtvpttot1.nii.gz\n",
      "Erosion completed and saved to: /Intern Programming/data/output/t1t2gtv_1mm\\UMCG-7230221_gtvpttot2.nii.gz\n",
      "Erosion completed and saved to: /Intern Programming/data/output/t1t2gtv_1mm\\UMCG-7230221_gtvtottot1.nii.gz\n",
      "Erosion completed and saved to: /Intern Programming/data/output/t1t2gtv_1mm\\UMCG-7230221_gtvtottot2.nii.gz\n",
      "Erosion completed and saved to: /Intern Programming/data/output/t1t2gtv_1mm\\UMCG-7234433_gtvpttot1.nii.gz\n",
      "Erosion completed and saved to: /Intern Programming/data/output/t1t2gtv_1mm\\UMCG-7234433_gtvtottot1.nii.gz\n",
      "Erosion completed and saved to: /Intern Programming/data/output/t1t2gtv_1mm\\UMCG-7236768_gtvpttot1.nii.gz\n",
      "Erosion completed and saved to: /Intern Programming/data/output/t1t2gtv_1mm\\UMCG-7236768_gtvtottot1.nii.gz\n",
      "Erosion completed and saved to: /Intern Programming/data/output/t1t2gtv_1mm\\UMCG-7285754_gtvlntot1.nii.gz\n",
      "Erosion completed and saved to: /Intern Programming/data/output/t1t2gtv_1mm\\UMCG-7285754_gtvlntot2.nii.gz\n",
      "Erosion completed and saved to: /Intern Programming/data/output/t1t2gtv_1mm\\UMCG-7285754_gtvpttot1.nii.gz\n",
      "Erosion completed and saved to: /Intern Programming/data/output/t1t2gtv_1mm\\UMCG-7285754_gtvpttot2.nii.gz\n",
      "Erosion completed and saved to: /Intern Programming/data/output/t1t2gtv_1mm\\UMCG-7285754_gtvtottot1.nii.gz\n",
      "Erosion completed and saved to: /Intern Programming/data/output/t1t2gtv_1mm\\UMCG-7285754_gtvtottot2.nii.gz\n",
      "Erosion completed and saved to: /Intern Programming/data/output/t1t2gtv_1mm\\UMCG-7351271_gtvlntot1.nii.gz\n",
      "Erosion completed and saved to: /Intern Programming/data/output/t1t2gtv_1mm\\UMCG-7351271_gtvlntot2.nii.gz\n",
      "Erosion completed and saved to: /Intern Programming/data/output/t1t2gtv_1mm\\UMCG-7351271_gtvpttot1.nii.gz\n",
      "Erosion completed and saved to: /Intern Programming/data/output/t1t2gtv_1mm\\UMCG-7351271_gtvpttot2.nii.gz\n",
      "Erosion completed and saved to: /Intern Programming/data/output/t1t2gtv_1mm\\UMCG-7351271_gtvtottot1.nii.gz\n",
      "Erosion completed and saved to: /Intern Programming/data/output/t1t2gtv_1mm\\UMCG-7351271_gtvtottot2.nii.gz\n",
      "Erosion completed and saved to: /Intern Programming/data/output/t1t2gtv_1mm\\UMCG-7390463_gtvpttot1.nii.gz\n",
      "Erosion completed and saved to: /Intern Programming/data/output/t1t2gtv_1mm\\UMCG-7390463_gtvpttot2.nii.gz\n",
      "Erosion completed and saved to: /Intern Programming/data/output/t1t2gtv_1mm\\UMCG-7390463_gtvtottot1.nii.gz\n",
      "Erosion completed and saved to: /Intern Programming/data/output/t1t2gtv_1mm\\UMCG-7390463_gtvtottot2.nii.gz\n",
      "Erosion completed and saved to: /Intern Programming/data/output/t1t2gtv_1mm\\UMCG-7474022_gtvpttot1.nii.gz\n",
      "Erosion completed and saved to: /Intern Programming/data/output/t1t2gtv_1mm\\UMCG-7474022_gtvtottot1.nii.gz\n",
      "Erosion completed and saved to: /Intern Programming/data/output/t1t2gtv_1mm\\UMCG-7517714_gtvpttot1.nii.gz\n",
      "Erosion completed and saved to: /Intern Programming/data/output/t1t2gtv_1mm\\UMCG-7517714_gtvpttot2.nii.gz\n",
      "Erosion completed and saved to: /Intern Programming/data/output/t1t2gtv_1mm\\UMCG-7517714_gtvtottot1.nii.gz\n",
      "Erosion completed and saved to: /Intern Programming/data/output/t1t2gtv_1mm\\UMCG-7517714_gtvtottot2.nii.gz\n",
      "Erosion completed and saved to: /Intern Programming/data/output/t1t2gtv_1mm\\UMCG-7579675_gtvpttot1.nii.gz\n",
      "Erosion completed and saved to: /Intern Programming/data/output/t1t2gtv_1mm\\UMCG-7579675_gtvpttot2.nii.gz\n",
      "Erosion completed and saved to: /Intern Programming/data/output/t1t2gtv_1mm\\UMCG-7579675_gtvtottot1.nii.gz\n",
      "Erosion completed and saved to: /Intern Programming/data/output/t1t2gtv_1mm\\UMCG-7579675_gtvtottot2.nii.gz\n",
      "Erosion completed and saved to: /Intern Programming/data/output/t1t2gtv_1mm\\UMCG-7632467_gtvpttot1.nii.gz\n",
      "Erosion completed and saved to: /Intern Programming/data/output/t1t2gtv_1mm\\UMCG-7632467_gtvpttot2.nii.gz\n",
      "Erosion completed and saved to: /Intern Programming/data/output/t1t2gtv_1mm\\UMCG-7632467_gtvtottot1.nii.gz\n",
      "Erosion completed and saved to: /Intern Programming/data/output/t1t2gtv_1mm\\UMCG-7632467_gtvtottot2.nii.gz\n",
      "Erosion completed and saved to: /Intern Programming/data/output/t1t2gtv_1mm\\UMCG-7718506_gtvpttot1.nii.gz\n",
      "Erosion completed and saved to: /Intern Programming/data/output/t1t2gtv_1mm\\UMCG-7718506_gtvpttot2.nii.gz\n",
      "Erosion completed and saved to: /Intern Programming/data/output/t1t2gtv_1mm\\UMCG-7718506_gtvtottot1.nii.gz\n",
      "Erosion completed and saved to: /Intern Programming/data/output/t1t2gtv_1mm\\UMCG-7718506_gtvtottot2.nii.gz\n",
      "Erosion completed and saved to: /Intern Programming/data/output/t1t2gtv_1mm\\UMCG-7771889_gtvpttot1.nii.gz\n",
      "Erosion completed and saved to: /Intern Programming/data/output/t1t2gtv_1mm\\UMCG-7771889_gtvtottot1.nii.gz\n",
      "Erosion completed and saved to: /Intern Programming/data/output/t1t2gtv_1mm\\UMCG-7776845_gtvpttot1.nii.gz\n",
      "Erosion completed and saved to: /Intern Programming/data/output/t1t2gtv_1mm\\UMCG-7776845_gtvpttot2.nii.gz\n",
      "Erosion completed and saved to: /Intern Programming/data/output/t1t2gtv_1mm\\UMCG-7776845_gtvtottot1.nii.gz\n",
      "Erosion completed and saved to: /Intern Programming/data/output/t1t2gtv_1mm\\UMCG-7776845_gtvtottot2.nii.gz\n",
      "Erosion completed and saved to: /Intern Programming/data/output/t1t2gtv_1mm\\UMCG-7805267_gtvpttot1.nii.gz\n",
      "Erosion completed and saved to: /Intern Programming/data/output/t1t2gtv_1mm\\UMCG-7805267_gtvpttot2.nii.gz\n",
      "Erosion completed and saved to: /Intern Programming/data/output/t1t2gtv_1mm\\UMCG-7805267_gtvtottot1.nii.gz\n",
      "Erosion completed and saved to: /Intern Programming/data/output/t1t2gtv_1mm\\UMCG-7805267_gtvtottot2.nii.gz\n",
      "Erosion completed and saved to: /Intern Programming/data/output/t1t2gtv_1mm\\UMCG-7808550_gtvpttot1.nii.gz\n",
      "Erosion completed and saved to: /Intern Programming/data/output/t1t2gtv_1mm\\UMCG-7808550_gtvtottot1.nii.gz\n",
      "Erosion completed and saved to: /Intern Programming/data/output/t1t2gtv_1mm\\UMCG-7859122_gtvpttot1.nii.gz\n",
      "Erosion completed and saved to: /Intern Programming/data/output/t1t2gtv_1mm\\UMCG-7859122_gtvpttot2.nii.gz\n",
      "Erosion completed and saved to: /Intern Programming/data/output/t1t2gtv_1mm\\UMCG-7859122_gtvtottot1.nii.gz\n",
      "Erosion completed and saved to: /Intern Programming/data/output/t1t2gtv_1mm\\UMCG-7859122_gtvtottot2.nii.gz\n",
      "Erosion completed and saved to: /Intern Programming/data/output/t1t2gtv_1mm\\UMCG-7873700_gtvpttot1.nii.gz\n",
      "Erosion completed and saved to: /Intern Programming/data/output/t1t2gtv_1mm\\UMCG-7873700_gtvpttot2.nii.gz\n",
      "Erosion completed and saved to: /Intern Programming/data/output/t1t2gtv_1mm\\UMCG-7873700_gtvtottot1.nii.gz\n",
      "Erosion completed and saved to: /Intern Programming/data/output/t1t2gtv_1mm\\UMCG-7873700_gtvtottot2.nii.gz\n",
      "Erosion completed and saved to: /Intern Programming/data/output/t1t2gtv_1mm\\UMCG-7876032_gtvlntot1.nii.gz\n",
      "Erosion completed and saved to: /Intern Programming/data/output/t1t2gtv_1mm\\UMCG-7876032_gtvlntot2.nii.gz\n",
      "Erosion completed and saved to: /Intern Programming/data/output/t1t2gtv_1mm\\UMCG-7876032_gtvpttot1.nii.gz\n",
      "Erosion completed and saved to: /Intern Programming/data/output/t1t2gtv_1mm\\UMCG-7876032_gtvpttot2.nii.gz\n",
      "Erosion completed and saved to: /Intern Programming/data/output/t1t2gtv_1mm\\UMCG-7876032_gtvtottot1.nii.gz\n",
      "Erosion completed and saved to: /Intern Programming/data/output/t1t2gtv_1mm\\UMCG-7876032_gtvtottot2.nii.gz\n",
      "Erosion completed and saved to: /Intern Programming/data/output/t1t2gtv_1mm\\UMCG-7914173_gtvlntot1.nii.gz\n",
      "Erosion completed and saved to: /Intern Programming/data/output/t1t2gtv_1mm\\UMCG-7914173_gtvlntot2.nii.gz\n",
      "Erosion completed and saved to: /Intern Programming/data/output/t1t2gtv_1mm\\UMCG-7914173_gtvpttot1.nii.gz\n",
      "Erosion completed and saved to: /Intern Programming/data/output/t1t2gtv_1mm\\UMCG-7914173_gtvpttot2.nii.gz\n",
      "Erosion completed and saved to: /Intern Programming/data/output/t1t2gtv_1mm\\UMCG-7914173_gtvtottot1.nii.gz\n",
      "Erosion completed and saved to: /Intern Programming/data/output/t1t2gtv_1mm\\UMCG-7914173_gtvtottot2.nii.gz\n",
      "Erosion completed and saved to: /Intern Programming/data/output/t1t2gtv_1mm\\UMCG-7959273_gtvpttot1.nii.gz\n",
      "Erosion completed and saved to: /Intern Programming/data/output/t1t2gtv_1mm\\UMCG-7959273_gtvtottot1.nii.gz\n",
      "Erosion completed and saved to: /Intern Programming/data/output/t1t2gtv_1mm\\UMCG-7982805_gtvpttot1.nii.gz\n",
      "Erosion completed and saved to: /Intern Programming/data/output/t1t2gtv_1mm\\UMCG-7982805_gtvpttot2.nii.gz\n",
      "Erosion completed and saved to: /Intern Programming/data/output/t1t2gtv_1mm\\UMCG-7982805_gtvtottot1.nii.gz\n",
      "Erosion completed and saved to: /Intern Programming/data/output/t1t2gtv_1mm\\UMCG-7982805_gtvtottot2.nii.gz\n",
      "Erosion completed and saved to: /Intern Programming/data/output/t1t2gtv_1mm\\UMCG-7987157_gtvpttot1.nii.gz\n",
      "Erosion completed and saved to: /Intern Programming/data/output/t1t2gtv_1mm\\UMCG-7987157_gtvpttot2.nii.gz\n",
      "Erosion completed and saved to: /Intern Programming/data/output/t1t2gtv_1mm\\UMCG-7987157_gtvtottot1.nii.gz\n",
      "Erosion completed and saved to: /Intern Programming/data/output/t1t2gtv_1mm\\UMCG-7987157_gtvtottot2.nii.gz\n",
      "Erosion completed and saved to: /Intern Programming/data/output/t1t2gtv_1mm\\UMCG-8038025_gtvpttot1.nii.gz\n",
      "Erosion completed and saved to: /Intern Programming/data/output/t1t2gtv_1mm\\UMCG-8038025_gtvpttot2.nii.gz\n",
      "Erosion completed and saved to: /Intern Programming/data/output/t1t2gtv_1mm\\UMCG-8038025_gtvtottot1.nii.gz\n",
      "Erosion completed and saved to: /Intern Programming/data/output/t1t2gtv_1mm\\UMCG-8038025_gtvtottot2.nii.gz\n",
      "Erosion completed and saved to: /Intern Programming/data/output/t1t2gtv_1mm\\UMCG-8039540_gtvpttot1.nii.gz\n",
      "Erosion completed and saved to: /Intern Programming/data/output/t1t2gtv_1mm\\UMCG-8039540_gtvpttot2.nii.gz\n",
      "Erosion completed and saved to: /Intern Programming/data/output/t1t2gtv_1mm\\UMCG-8039540_gtvtottot1.nii.gz\n",
      "Erosion completed and saved to: /Intern Programming/data/output/t1t2gtv_1mm\\UMCG-8039540_gtvtottot2.nii.gz\n",
      "Erosion completed and saved to: /Intern Programming/data/output/t1t2gtv_1mm\\UMCG-8082674_gtvpttot1.nii.gz\n",
      "Erosion completed and saved to: /Intern Programming/data/output/t1t2gtv_1mm\\UMCG-8082674_gtvtottot1.nii.gz\n",
      "Erosion completed and saved to: /Intern Programming/data/output/t1t2gtv_1mm\\UMCG-8174842_gtvpttot1.nii.gz\n",
      "Erosion completed and saved to: /Intern Programming/data/output/t1t2gtv_1mm\\UMCG-8174842_gtvtottot1.nii.gz\n",
      "Erosion completed and saved to: /Intern Programming/data/output/t1t2gtv_1mm\\UMCG-8343775_gtvpttot1.nii.gz\n",
      "Erosion completed and saved to: /Intern Programming/data/output/t1t2gtv_1mm\\UMCG-8343775_gtvpttot2.nii.gz\n",
      "Erosion completed and saved to: /Intern Programming/data/output/t1t2gtv_1mm\\UMCG-8343775_gtvtottot1.nii.gz\n",
      "Erosion completed and saved to: /Intern Programming/data/output/t1t2gtv_1mm\\UMCG-8343775_gtvtottot2.nii.gz\n",
      "Erosion completed and saved to: /Intern Programming/data/output/t1t2gtv_1mm\\UMCG-8363492_gtvpttot1.nii.gz\n",
      "Erosion completed and saved to: /Intern Programming/data/output/t1t2gtv_1mm\\UMCG-8363492_gtvtottot1.nii.gz\n",
      "Erosion completed and saved to: /Intern Programming/data/output/t1t2gtv_1mm\\UMCG-8393821_gtvpttot1.nii.gz\n",
      "Erosion completed and saved to: /Intern Programming/data/output/t1t2gtv_1mm\\UMCG-8393821_gtvtottot1.nii.gz\n",
      "Erosion completed and saved to: /Intern Programming/data/output/t1t2gtv_1mm\\UMCG-8397975_gtvpttot1.nii.gz\n",
      "Erosion completed and saved to: /Intern Programming/data/output/t1t2gtv_1mm\\UMCG-8397975_gtvpttot2.nii.gz\n",
      "Erosion completed and saved to: /Intern Programming/data/output/t1t2gtv_1mm\\UMCG-8397975_gtvtottot1.nii.gz\n",
      "Erosion completed and saved to: /Intern Programming/data/output/t1t2gtv_1mm\\UMCG-8397975_gtvtottot2.nii.gz\n",
      "Erosion completed and saved to: /Intern Programming/data/output/t1t2gtv_1mm\\UMCG-8431300_gtvpttot1.nii.gz\n",
      "Erosion completed and saved to: /Intern Programming/data/output/t1t2gtv_1mm\\UMCG-8431300_gtvpttot2.nii.gz\n",
      "Erosion completed and saved to: /Intern Programming/data/output/t1t2gtv_1mm\\UMCG-8431300_gtvtottot1.nii.gz\n",
      "Erosion completed and saved to: /Intern Programming/data/output/t1t2gtv_1mm\\UMCG-8431300_gtvtottot2.nii.gz\n",
      "Erosion completed and saved to: /Intern Programming/data/output/t1t2gtv_1mm\\UMCG-8469887_gtvpttot1.nii.gz\n",
      "Erosion completed and saved to: /Intern Programming/data/output/t1t2gtv_1mm\\UMCG-8469887_gtvtottot1.nii.gz\n",
      "Erosion completed and saved to: /Intern Programming/data/output/t1t2gtv_1mm\\UMCG-8472245_gtvpttot1.nii.gz\n",
      "Erosion completed and saved to: /Intern Programming/data/output/t1t2gtv_1mm\\UMCG-8472245_gtvtottot1.nii.gz\n",
      "Erosion completed and saved to: /Intern Programming/data/output/t1t2gtv_1mm\\UMCG-8476506_gtvlntot1.nii.gz\n",
      "Erosion completed and saved to: /Intern Programming/data/output/t1t2gtv_1mm\\UMCG-8476506_gtvlntot2.nii.gz\n",
      "Erosion completed and saved to: /Intern Programming/data/output/t1t2gtv_1mm\\UMCG-8476506_gtvpttot1.nii.gz\n",
      "Erosion completed and saved to: /Intern Programming/data/output/t1t2gtv_1mm\\UMCG-8476506_gtvpttot2.nii.gz\n",
      "Erosion completed and saved to: /Intern Programming/data/output/t1t2gtv_1mm\\UMCG-8476506_gtvtottot1.nii.gz\n",
      "Erosion completed and saved to: /Intern Programming/data/output/t1t2gtv_1mm\\UMCG-8476506_gtvtottot2.nii.gz\n",
      "Erosion completed and saved to: /Intern Programming/data/output/t1t2gtv_1mm\\UMCG-8529090_gtvpttot1.nii.gz\n",
      "Erosion completed and saved to: /Intern Programming/data/output/t1t2gtv_1mm\\UMCG-8529090_gtvpttot2.nii.gz\n",
      "Erosion completed and saved to: /Intern Programming/data/output/t1t2gtv_1mm\\UMCG-8529090_gtvtottot1.nii.gz\n",
      "Erosion completed and saved to: /Intern Programming/data/output/t1t2gtv_1mm\\UMCG-8529090_gtvtottot2.nii.gz\n",
      "Erosion completed and saved to: /Intern Programming/data/output/t1t2gtv_1mm\\UMCG-8534991_gtvpttot1.nii.gz\n",
      "Erosion completed and saved to: /Intern Programming/data/output/t1t2gtv_1mm\\UMCG-8534991_gtvpttot2.nii.gz\n",
      "Erosion completed and saved to: /Intern Programming/data/output/t1t2gtv_1mm\\UMCG-8534991_gtvtottot1.nii.gz\n",
      "Erosion completed and saved to: /Intern Programming/data/output/t1t2gtv_1mm\\UMCG-8534991_gtvtottot2.nii.gz\n",
      "Erosion completed and saved to: /Intern Programming/data/output/t1t2gtv_1mm\\UMCG-8611611_gtvpttot1.nii.gz\n",
      "Erosion completed and saved to: /Intern Programming/data/output/t1t2gtv_1mm\\UMCG-8611611_gtvtottot1.nii.gz\n",
      "Erosion completed and saved to: /Intern Programming/data/output/t1t2gtv_1mm\\UMCG-8617391_gtvlntot1.nii.gz\n",
      "Erosion completed and saved to: /Intern Programming/data/output/t1t2gtv_1mm\\UMCG-8617391_gtvpttot1.nii.gz\n",
      "Erosion completed and saved to: /Intern Programming/data/output/t1t2gtv_1mm\\UMCG-8617391_gtvtottot1.nii.gz\n",
      "Erosion completed and saved to: /Intern Programming/data/output/t1t2gtv_1mm\\UMCG-8624550_gtvpttot1.nii.gz\n",
      "Erosion completed and saved to: /Intern Programming/data/output/t1t2gtv_1mm\\UMCG-8624550_gtvtottot1.nii.gz\n",
      "Erosion completed and saved to: /Intern Programming/data/output/t1t2gtv_1mm\\UMCG-8649177_gtvlntot1.nii.gz\n",
      "Erosion completed and saved to: /Intern Programming/data/output/t1t2gtv_1mm\\UMCG-8649177_gtvpttot1.nii.gz\n",
      "Erosion completed and saved to: /Intern Programming/data/output/t1t2gtv_1mm\\UMCG-8649177_gtvtottot1.nii.gz\n",
      "Erosion completed and saved to: /Intern Programming/data/output/t1t2gtv_1mm\\UMCG-8716940_gtvpttot1.nii.gz\n",
      "Erosion completed and saved to: /Intern Programming/data/output/t1t2gtv_1mm\\UMCG-8716940_gtvtottot1.nii.gz\n",
      "Erosion completed and saved to: /Intern Programming/data/output/t1t2gtv_1mm\\UMCG-8756306_gtvpttot1.nii.gz\n",
      "Erosion completed and saved to: /Intern Programming/data/output/t1t2gtv_1mm\\UMCG-8756306_gtvpttot2.nii.gz\n",
      "Erosion completed and saved to: /Intern Programming/data/output/t1t2gtv_1mm\\UMCG-8756306_gtvtottot1.nii.gz\n",
      "Erosion completed and saved to: /Intern Programming/data/output/t1t2gtv_1mm\\UMCG-8756306_gtvtottot2.nii.gz\n",
      "Erosion completed and saved to: /Intern Programming/data/output/t1t2gtv_1mm\\UMCG-8780297_gtvpttot1.nii.gz\n",
      "Erosion completed and saved to: /Intern Programming/data/output/t1t2gtv_1mm\\UMCG-8780297_gtvpttot2.nii.gz\n",
      "Erosion completed and saved to: /Intern Programming/data/output/t1t2gtv_1mm\\UMCG-8780297_gtvtottot1.nii.gz\n",
      "Erosion completed and saved to: /Intern Programming/data/output/t1t2gtv_1mm\\UMCG-8780297_gtvtottot2.nii.gz\n",
      "Erosion completed and saved to: /Intern Programming/data/output/t1t2gtv_1mm\\UMCG-8799950_gtvpttot1.nii.gz\n",
      "Erosion completed and saved to: /Intern Programming/data/output/t1t2gtv_1mm\\UMCG-8799950_gtvtottot1.nii.gz\n",
      "Erosion completed and saved to: /Intern Programming/data/output/t1t2gtv_1mm\\UMCG-8959829_gtvlntot1.nii.gz\n",
      "Erosion completed and saved to: /Intern Programming/data/output/t1t2gtv_1mm\\UMCG-8959829_gtvlntot2.nii.gz\n",
      "Erosion completed and saved to: /Intern Programming/data/output/t1t2gtv_1mm\\UMCG-8959829_gtvpttot1.nii.gz\n",
      "Erosion completed and saved to: /Intern Programming/data/output/t1t2gtv_1mm\\UMCG-8959829_gtvpttot2.nii.gz\n",
      "Erosion completed and saved to: /Intern Programming/data/output/t1t2gtv_1mm\\UMCG-8959829_gtvtottot1.nii.gz\n",
      "Erosion completed and saved to: /Intern Programming/data/output/t1t2gtv_1mm\\UMCG-8959829_gtvtottot2.nii.gz\n",
      "Erosion completed and saved to: /Intern Programming/data/output/t1t2gtv_1mm\\UMCG-8963085_gtvpttot1.nii.gz\n",
      "Erosion completed and saved to: /Intern Programming/data/output/t1t2gtv_1mm\\UMCG-8963085_gtvpttot2.nii.gz\n",
      "Erosion completed and saved to: /Intern Programming/data/output/t1t2gtv_1mm\\UMCG-8963085_gtvtottot1.nii.gz\n",
      "Erosion completed and saved to: /Intern Programming/data/output/t1t2gtv_1mm\\UMCG-8963085_gtvtottot2.nii.gz\n",
      "Erosion completed and saved to: /Intern Programming/data/output/t1t2gtv_1mm\\UMCG-8966495_gtvpttot1.nii.gz\n",
      "Erosion completed and saved to: /Intern Programming/data/output/t1t2gtv_1mm\\UMCG-8966495_gtvpttot2.nii.gz\n",
      "Erosion completed and saved to: /Intern Programming/data/output/t1t2gtv_1mm\\UMCG-8966495_gtvtottot1.nii.gz\n",
      "Erosion completed and saved to: /Intern Programming/data/output/t1t2gtv_1mm\\UMCG-8966495_gtvtottot2.nii.gz\n",
      "Erosion completed and saved to: /Intern Programming/data/output/t1t2gtv_1mm\\UMCG-9007625_gtvpttot1.nii.gz\n",
      "Erosion completed and saved to: /Intern Programming/data/output/t1t2gtv_1mm\\UMCG-9007625_gtvpttot2.nii.gz\n",
      "Erosion completed and saved to: /Intern Programming/data/output/t1t2gtv_1mm\\UMCG-9007625_gtvtottot1.nii.gz\n",
      "Erosion completed and saved to: /Intern Programming/data/output/t1t2gtv_1mm\\UMCG-9007625_gtvtottot2.nii.gz\n",
      "Erosion completed and saved to: /Intern Programming/data/output/t1t2gtv_1mm\\UMCG-9016739_gtvpttot1.nii.gz\n",
      "Erosion completed and saved to: /Intern Programming/data/output/t1t2gtv_1mm\\UMCG-9016739_gtvtottot1.nii.gz\n",
      "Erosion completed and saved to: /Intern Programming/data/output/t1t2gtv_1mm\\UMCG-9065771_gtvpttot1.nii.gz\n",
      "Erosion completed and saved to: /Intern Programming/data/output/t1t2gtv_1mm\\UMCG-9065771_gtvtottot1.nii.gz\n",
      "Erosion completed and saved to: /Intern Programming/data/output/t1t2gtv_1mm\\UMCG-9070500_gtvpttot1.nii.gz\n",
      "Erosion completed and saved to: /Intern Programming/data/output/t1t2gtv_1mm\\UMCG-9070500_gtvtottot1.nii.gz\n",
      "Erosion completed and saved to: /Intern Programming/data/output/t1t2gtv_1mm\\UMCG-9091814_gtvpttot1.nii.gz\n",
      "Erosion completed and saved to: /Intern Programming/data/output/t1t2gtv_1mm\\UMCG-9091814_gtvpttot2.nii.gz\n",
      "Erosion completed and saved to: /Intern Programming/data/output/t1t2gtv_1mm\\UMCG-9091814_gtvtottot1.nii.gz\n",
      "Erosion completed and saved to: /Intern Programming/data/output/t1t2gtv_1mm\\UMCG-9091814_gtvtottot2.nii.gz\n",
      "Erosion completed and saved to: /Intern Programming/data/output/t1t2gtv_1mm\\UMCG-9146365_gtvpttot1.nii.gz\n",
      "Erosion completed and saved to: /Intern Programming/data/output/t1t2gtv_1mm\\UMCG-9146365_gtvpttot2.nii.gz\n",
      "Erosion completed and saved to: /Intern Programming/data/output/t1t2gtv_1mm\\UMCG-9146365_gtvtottot1.nii.gz\n",
      "Erosion completed and saved to: /Intern Programming/data/output/t1t2gtv_1mm\\UMCG-9146365_gtvtottot2.nii.gz\n",
      "Erosion completed and saved to: /Intern Programming/data/output/t1t2gtv_1mm\\UMCG-9152961_gtvlntot1.nii.gz\n",
      "Erosion completed and saved to: /Intern Programming/data/output/t1t2gtv_1mm\\UMCG-9152961_gtvlntot2.nii.gz\n",
      "Erosion completed and saved to: /Intern Programming/data/output/t1t2gtv_1mm\\UMCG-9152961_gtvpttot1.nii.gz\n",
      "Erosion completed and saved to: /Intern Programming/data/output/t1t2gtv_1mm\\UMCG-9152961_gtvpttot2.nii.gz\n",
      "Erosion completed and saved to: /Intern Programming/data/output/t1t2gtv_1mm\\UMCG-9152961_gtvtottot1.nii.gz\n",
      "Erosion completed and saved to: /Intern Programming/data/output/t1t2gtv_1mm\\UMCG-9152961_gtvtottot2.nii.gz\n",
      "Erosion completed and saved to: /Intern Programming/data/output/t1t2gtv_1mm\\UMCG-9251943_gtvpttot1.nii.gz\n",
      "Erosion completed and saved to: /Intern Programming/data/output/t1t2gtv_1mm\\UMCG-9251943_gtvtottot1.nii.gz\n",
      "Erosion completed and saved to: /Intern Programming/data/output/t1t2gtv_1mm\\UMCG-9260834_gtvpttot1.nii.gz\n",
      "Erosion completed and saved to: /Intern Programming/data/output/t1t2gtv_1mm\\UMCG-9260834_gtvtottot1.nii.gz\n",
      "Erosion completed and saved to: /Intern Programming/data/output/t1t2gtv_1mm\\UMCG-9280356_gtvlntot1.nii.gz\n",
      "Erosion completed and saved to: /Intern Programming/data/output/t1t2gtv_1mm\\UMCG-9280356_gtvpttot1.nii.gz\n",
      "Erosion completed and saved to: /Intern Programming/data/output/t1t2gtv_1mm\\UMCG-9280356_gtvtottot1.nii.gz\n",
      "Erosion completed and saved to: /Intern Programming/data/output/t1t2gtv_1mm\\UMCG-9325321_gtvlntot1.nii.gz\n",
      "Erosion completed and saved to: /Intern Programming/data/output/t1t2gtv_1mm\\UMCG-9325321_gtvlntot2.nii.gz\n",
      "Erosion completed and saved to: /Intern Programming/data/output/t1t2gtv_1mm\\UMCG-9325321_gtvpttot1.nii.gz\n",
      "Erosion completed and saved to: /Intern Programming/data/output/t1t2gtv_1mm\\UMCG-9325321_gtvpttot2.nii.gz\n",
      "Erosion completed and saved to: /Intern Programming/data/output/t1t2gtv_1mm\\UMCG-9325321_gtvtottot1.nii.gz\n",
      "Erosion completed and saved to: /Intern Programming/data/output/t1t2gtv_1mm\\UMCG-9325321_gtvtottot2.nii.gz\n",
      "Erosion completed and saved to: /Intern Programming/data/output/t1t2gtv_1mm\\UMCG-9375739_gtvpttot1.nii.gz\n",
      "Erosion completed and saved to: /Intern Programming/data/output/t1t2gtv_1mm\\UMCG-9375739_gtvtottot1.nii.gz\n",
      "Erosion completed and saved to: /Intern Programming/data/output/t1t2gtv_1mm\\UMCG-9399073_gtvpttot1.nii.gz\n",
      "Erosion completed and saved to: /Intern Programming/data/output/t1t2gtv_1mm\\UMCG-9399073_gtvtottot1.nii.gz\n",
      "Erosion completed and saved to: /Intern Programming/data/output/t1t2gtv_1mm\\UMCG-9415901_gtvpttot1.nii.gz\n",
      "Erosion completed and saved to: /Intern Programming/data/output/t1t2gtv_1mm\\UMCG-9415901_gtvtottot1.nii.gz\n",
      "Erosion completed and saved to: /Intern Programming/data/output/t1t2gtv_1mm\\UMCG-9444148_gtvpttot1.nii.gz\n",
      "Erosion completed and saved to: /Intern Programming/data/output/t1t2gtv_1mm\\UMCG-9444148_gtvpttot2.nii.gz\n",
      "Erosion completed and saved to: /Intern Programming/data/output/t1t2gtv_1mm\\UMCG-9444148_gtvtottot1.nii.gz\n",
      "Erosion completed and saved to: /Intern Programming/data/output/t1t2gtv_1mm\\UMCG-9444148_gtvtottot2.nii.gz\n",
      "Erosion completed and saved to: /Intern Programming/data/output/t1t2gtv_1mm\\UMCG-9445856_gtvpttot1.nii.gz\n",
      "Erosion completed and saved to: /Intern Programming/data/output/t1t2gtv_1mm\\UMCG-9445856_gtvpttot2.nii.gz\n",
      "Erosion completed and saved to: /Intern Programming/data/output/t1t2gtv_1mm\\UMCG-9445856_gtvtottot1.nii.gz\n",
      "Erosion completed and saved to: /Intern Programming/data/output/t1t2gtv_1mm\\UMCG-9445856_gtvtottot2.nii.gz\n",
      "Erosion completed and saved to: /Intern Programming/data/output/t1t2gtv_1mm\\UMCG-9462318_gtvpttot1.nii.gz\n",
      "Erosion completed and saved to: /Intern Programming/data/output/t1t2gtv_1mm\\UMCG-9462318_gtvpttot2.nii.gz\n",
      "Erosion completed and saved to: /Intern Programming/data/output/t1t2gtv_1mm\\UMCG-9462318_gtvtottot1.nii.gz\n",
      "Erosion completed and saved to: /Intern Programming/data/output/t1t2gtv_1mm\\UMCG-9462318_gtvtottot2.nii.gz\n",
      "Erosion completed and saved to: /Intern Programming/data/output/t1t2gtv_1mm\\UMCG-9516522_gtvpttot1.nii.gz\n",
      "Erosion completed and saved to: /Intern Programming/data/output/t1t2gtv_1mm\\UMCG-9516522_gtvtottot1.nii.gz\n",
      "Erosion completed and saved to: /Intern Programming/data/output/t1t2gtv_1mm\\UMCG-9577277_gtvpttot1.nii.gz\n",
      "Erosion completed and saved to: /Intern Programming/data/output/t1t2gtv_1mm\\UMCG-9577277_gtvpttot2.nii.gz\n",
      "Erosion completed and saved to: /Intern Programming/data/output/t1t2gtv_1mm\\UMCG-9577277_gtvtottot1.nii.gz\n",
      "Erosion completed and saved to: /Intern Programming/data/output/t1t2gtv_1mm\\UMCG-9577277_gtvtottot2.nii.gz\n",
      "Erosion completed and saved to: /Intern Programming/data/output/t1t2gtv_1mm\\UMCG-9597467_gtvpttot1.nii.gz\n",
      "Erosion completed and saved to: /Intern Programming/data/output/t1t2gtv_1mm\\UMCG-9597467_gtvtottot1.nii.gz\n",
      "Erosion completed and saved to: /Intern Programming/data/output/t1t2gtv_1mm\\UMCG-9618642_gtvpttot1.nii.gz\n",
      "Erosion completed and saved to: /Intern Programming/data/output/t1t2gtv_1mm\\UMCG-9618642_gtvtottot1.nii.gz\n",
      "Erosion completed and saved to: /Intern Programming/data/output/t1t2gtv_1mm\\UMCG-9653665_gtvlntot1.nii.gz\n",
      "Erosion completed and saved to: /Intern Programming/data/output/t1t2gtv_1mm\\UMCG-9653665_gtvpttot1.nii.gz\n",
      "Erosion completed and saved to: /Intern Programming/data/output/t1t2gtv_1mm\\UMCG-9653665_gtvtottot1.nii.gz\n",
      "Erosion completed and saved to: /Intern Programming/data/output/t1t2gtv_1mm\\UMCG-9692367_gtvlntot1.nii.gz\n",
      "Erosion completed and saved to: /Intern Programming/data/output/t1t2gtv_1mm\\UMCG-9692367_gtvlntot2.nii.gz\n",
      "Erosion completed and saved to: /Intern Programming/data/output/t1t2gtv_1mm\\UMCG-9692367_gtvpttot1.nii.gz\n",
      "Erosion completed and saved to: /Intern Programming/data/output/t1t2gtv_1mm\\UMCG-9692367_gtvpttot2.nii.gz\n",
      "Erosion completed and saved to: /Intern Programming/data/output/t1t2gtv_1mm\\UMCG-9692367_gtvtottot1.nii.gz\n",
      "Erosion completed and saved to: /Intern Programming/data/output/t1t2gtv_1mm\\UMCG-9692367_gtvtottot2.nii.gz\n",
      "Erosion completed and saved to: /Intern Programming/data/output/t1t2gtv_1mm\\UMCG-9715913_gtvlntot1.nii.gz\n",
      "Erosion completed and saved to: /Intern Programming/data/output/t1t2gtv_1mm\\UMCG-9715913_gtvpttot1.nii.gz\n",
      "Erosion completed and saved to: /Intern Programming/data/output/t1t2gtv_1mm\\UMCG-9715913_gtvtottot1.nii.gz\n",
      "Erosion completed and saved to: /Intern Programming/data/output/t1t2gtv_1mm\\UMCG-9724043_gtvpttot1.nii.gz\n",
      "Erosion completed and saved to: /Intern Programming/data/output/t1t2gtv_1mm\\UMCG-9724043_gtvtottot1.nii.gz\n",
      "Erosion completed and saved to: /Intern Programming/data/output/t1t2gtv_1mm\\UMCG-9731237_gtvpttot1.nii.gz\n",
      "Erosion completed and saved to: /Intern Programming/data/output/t1t2gtv_1mm\\UMCG-9731237_gtvtottot1.nii.gz\n",
      "Erosion completed and saved to: /Intern Programming/data/output/t1t2gtv_1mm\\UMCG-9735198_gtvpttot1.nii.gz\n",
      "Erosion completed and saved to: /Intern Programming/data/output/t1t2gtv_1mm\\UMCG-9735198_gtvtottot1.nii.gz\n",
      "Erosion completed and saved to: /Intern Programming/data/output/t1t2gtv_1mm\\UMCG-9743734_gtvpttot1.nii.gz\n",
      "Erosion completed and saved to: /Intern Programming/data/output/t1t2gtv_1mm\\UMCG-9743734_gtvtottot1.nii.gz\n",
      "Erosion completed and saved to: /Intern Programming/data/output/t1t2gtv_1mm\\UMCG-9848352_gtvpttot1.nii.gz\n",
      "Erosion completed and saved to: /Intern Programming/data/output/t1t2gtv_1mm\\UMCG-9848352_gtvpttot2.nii.gz\n",
      "Erosion completed and saved to: /Intern Programming/data/output/t1t2gtv_1mm\\UMCG-9848352_gtvtottot1.nii.gz\n",
      "Erosion completed and saved to: /Intern Programming/data/output/t1t2gtv_1mm\\UMCG-9848352_gtvtottot2.nii.gz\n",
      "Erosion completed and saved to: /Intern Programming/data/output/t1t2gtv_1mm\\UMCG-9867081_gtvpttot1.nii.gz\n",
      "Erosion completed and saved to: /Intern Programming/data/output/t1t2gtv_1mm\\UMCG-9867081_gtvpttot2.nii.gz\n",
      "Erosion completed and saved to: /Intern Programming/data/output/t1t2gtv_1mm\\UMCG-9867081_gtvtottot1.nii.gz\n",
      "Erosion completed and saved to: /Intern Programming/data/output/t1t2gtv_1mm\\UMCG-9867081_gtvtottot2.nii.gz\n",
      "Erosion completed and saved to: /Intern Programming/data/output/t1t2gtv_1mm\\UMCG-9869113_gtvpttot1.nii.gz\n",
      "Erosion completed and saved to: /Intern Programming/data/output/t1t2gtv_1mm\\UMCG-9869113_gtvpttot2.nii.gz\n",
      "Erosion completed and saved to: /Intern Programming/data/output/t1t2gtv_1mm\\UMCG-9869113_gtvtottot1.nii.gz\n",
      "Erosion completed and saved to: /Intern Programming/data/output/t1t2gtv_1mm\\UMCG-9869113_gtvtottot2.nii.gz\n",
      "Erosion completed and saved to: /Intern Programming/data/output/t1t2gtv_1mm\\UMCG-9878177_gtvpttot1.nii.gz\n",
      "Erosion completed and saved to: /Intern Programming/data/output/t1t2gtv_1mm\\UMCG-9878177_gtvpttot2.nii.gz\n",
      "Erosion completed and saved to: /Intern Programming/data/output/t1t2gtv_1mm\\UMCG-9878177_gtvtottot1.nii.gz\n",
      "Erosion completed and saved to: /Intern Programming/data/output/t1t2gtv_1mm\\UMCG-9878177_gtvtottot2.nii.gz\n",
      "Erosion completed and saved to: /Intern Programming/data/output/t1t2gtv_1mm\\UMCG-9899837_gtvpttot1.nii.gz\n",
      "Erosion completed and saved to: /Intern Programming/data/output/t1t2gtv_1mm\\UMCG-9899837_gtvpttot2.nii.gz\n",
      "Erosion completed and saved to: /Intern Programming/data/output/t1t2gtv_1mm\\UMCG-9899837_gtvtottot1.nii.gz\n",
      "Erosion completed and saved to: /Intern Programming/data/output/t1t2gtv_1mm\\UMCG-9899837_gtvtottot2.nii.gz\n",
      "Erosion completed and saved to: /Intern Programming/data/output/t1t2gtv_1mm\\UMCG-9919987_gtvpttot1.nii.gz\n",
      "Erosion completed and saved to: /Intern Programming/data/output/t1t2gtv_1mm\\UMCG-9919987_gtvpttot2.nii.gz\n",
      "Erosion completed and saved to: /Intern Programming/data/output/t1t2gtv_1mm\\UMCG-9919987_gtvtottot1.nii.gz\n",
      "Erosion completed and saved to: /Intern Programming/data/output/t1t2gtv_1mm\\UMCG-9919987_gtvtottot2.nii.gz\n",
      "Erosion completed and saved to: /Intern Programming/data/output/t1t2gtv_1mm\\UMCG-9946201_gtvpttot1.nii.gz\n",
      "Erosion completed and saved to: /Intern Programming/data/output/t1t2gtv_1mm\\UMCG-9946201_gtvpttot2.nii.gz\n",
      "Erosion completed and saved to: /Intern Programming/data/output/t1t2gtv_1mm\\UMCG-9946201_gtvtottot1.nii.gz\n",
      "Erosion completed and saved to: /Intern Programming/data/output/t1t2gtv_1mm\\UMCG-9946201_gtvtottot2.nii.gz\n",
      "Erosion completed and saved to: /Intern Programming/data/output/t1t2gtv_1mm\\UMCG-9980149_gtvpttot1.nii.gz\n",
      "Erosion completed and saved to: /Intern Programming/data/output/t1t2gtv_1mm\\UMCG-9980149_gtvpttot2.nii.gz\n",
      "Erosion completed and saved to: /Intern Programming/data/output/t1t2gtv_1mm\\UMCG-9980149_gtvtottot1.nii.gz\n",
      "Erosion completed and saved to: /Intern Programming/data/output/t1t2gtv_1mm\\UMCG-9980149_gtvtottot2.nii.gz\n"
     ]
    }
   ],
   "source": [
    "import os\n",
    "import numpy as np\n",
    "import nibabel as nib\n",
    "from scipy.ndimage import binary_erosion\n",
    "\n",
    "# Function to perform erosion on an MRI scan and save the result\n",
    "def perform_erosion(input_path, output_path, structuring_element):\n",
    "    # Load MRI scan data using nibabel\n",
    "    mri_scan = nib.load(input_path)\n",
    "    mri_data = mri_scan.get_fdata()\n",
    "\n",
    "    # Perform erosion on the MRI data\n",
    "    eroded_data = binary_erosion(mri_data, structure=structuring_element)\n",
    "\n",
    "    # Create a new NIfTI image from the eroded data\n",
    "    eroded_mri_scan = nib.Nifti1Image(eroded_data, affine=mri_scan.affine, header=mri_scan.header)\n",
    "\n",
    "    # Save the eroded MRI scan to the specified output path\n",
    "    nib.save(eroded_mri_scan, output_path)\n",
    "    print(f\"Erosion completed and saved to: {output_path}\")\n",
    "\n",
    "input_folder = \"/Intern Programming/data/t1t2_gtv\"\n",
    "output_folder = '/Intern Programming/data/output/t1t2gtv_1mm'\n",
    "\n",
    "# Define the structuring element for erosion (e.g., 3x3x3 cube)\n",
    "structuring_element = np.ones((2, 2, 2)) \n",
    "\n",
    "# Iterate over each MRI scan file in the input folder\n",
    "for filename in os.listdir(input_folder):\n",
    "    if filename.endswith('.nii.gz') or filename.endswith('.nii'):\n",
    "        # Construct full paths for input and output files\n",
    "        input_path = os.path.join(input_folder, filename)\n",
    "        output_path = os.path.join(output_folder, f'{filename}')  # Modify output filename if needed\n",
    "\n",
    "        # Perform erosion on the MRI scan and save the result\n",
    "        perform_erosion(input_path, output_path, structuring_element)\n",
    "\n",
    "\n",
    "\n"
   ]
  },
  {
   "cell_type": "code",
   "execution_count": 1,
   "metadata": {},
   "outputs": [
    {
     "name": "stdout",
     "output_type": "stream",
     "text": [
      "Erosion completed and saved to: /Intern Programming/data/output/t1t2gtv_5mm\\UMCG-0020715_gtvpttot1r.nii.gz\n",
      "Erosion completed and saved to: /Intern Programming/data/output/t1t2gtv_5mm\\UMCG-0020715_gtvpttot2r.nii.gz\n",
      "Erosion completed and saved to: /Intern Programming/data/output/t1t2gtv_5mm\\UMCG-0020715_gtvtottot1r.nii.gz\n",
      "Erosion completed and saved to: /Intern Programming/data/output/t1t2gtv_5mm\\UMCG-0020715_gtvtottot2r.nii.gz\n",
      "Erosion completed and saved to: /Intern Programming/data/output/t1t2gtv_5mm\\UMCG-0021879_gtvpttot1r.nii.gz\n",
      "Erosion completed and saved to: /Intern Programming/data/output/t1t2gtv_5mm\\UMCG-0021879_gtvpttot2r.nii.gz\n",
      "Erosion completed and saved to: /Intern Programming/data/output/t1t2gtv_5mm\\UMCG-0021879_gtvtottot1r.nii.gz\n",
      "Erosion completed and saved to: /Intern Programming/data/output/t1t2gtv_5mm\\UMCG-0021879_gtvtottot2r.nii.gz\n",
      "Erosion completed and saved to: /Intern Programming/data/output/t1t2gtv_5mm\\UMCG-0059896_gtvpttot1r.nii.gz\n",
      "Erosion completed and saved to: /Intern Programming/data/output/t1t2gtv_5mm\\UMCG-0059896_gtvpttot2r.nii.gz\n",
      "Erosion completed and saved to: /Intern Programming/data/output/t1t2gtv_5mm\\UMCG-0059896_gtvtottot1r.nii.gz\n",
      "Erosion completed and saved to: /Intern Programming/data/output/t1t2gtv_5mm\\UMCG-0059896_gtvtottot2r.nii.gz\n",
      "Erosion completed and saved to: /Intern Programming/data/output/t1t2gtv_5mm\\UMCG-0066593_gtvpttot1r.nii.gz\n",
      "Erosion completed and saved to: /Intern Programming/data/output/t1t2gtv_5mm\\UMCG-0066593_gtvpttot2r.nii.gz\n",
      "Erosion completed and saved to: /Intern Programming/data/output/t1t2gtv_5mm\\UMCG-0066593_gtvtottot1r.nii.gz\n",
      "Erosion completed and saved to: /Intern Programming/data/output/t1t2gtv_5mm\\UMCG-0066593_gtvtottot2r.nii.gz\n",
      "Erosion completed and saved to: /Intern Programming/data/output/t1t2gtv_5mm\\UMCG-0070426_gtvpttot1r.nii.gz\n",
      "Erosion completed and saved to: /Intern Programming/data/output/t1t2gtv_5mm\\UMCG-0070426_gtvpttot2r.nii.gz\n",
      "Erosion completed and saved to: /Intern Programming/data/output/t1t2gtv_5mm\\UMCG-0070426_gtvtottot1r.nii.gz\n",
      "Erosion completed and saved to: /Intern Programming/data/output/t1t2gtv_5mm\\UMCG-0070426_gtvtottot2r.nii.gz\n",
      "Erosion completed and saved to: /Intern Programming/data/output/t1t2gtv_5mm\\UMCG-0079378_gtvpttot1r.nii.gz\n",
      "Erosion completed and saved to: /Intern Programming/data/output/t1t2gtv_5mm\\UMCG-0079378_gtvpttot2r.nii.gz\n",
      "Erosion completed and saved to: /Intern Programming/data/output/t1t2gtv_5mm\\UMCG-0079378_gtvtottot1r.nii.gz\n",
      "Erosion completed and saved to: /Intern Programming/data/output/t1t2gtv_5mm\\UMCG-0079378_gtvtottot2r.nii.gz\n",
      "Erosion completed and saved to: /Intern Programming/data/output/t1t2gtv_5mm\\UMCG-0170637_gtvpttot1r.nii.gz\n",
      "Erosion completed and saved to: /Intern Programming/data/output/t1t2gtv_5mm\\UMCG-0170637_gtvpttot2r.nii.gz\n",
      "Erosion completed and saved to: /Intern Programming/data/output/t1t2gtv_5mm\\UMCG-0170637_gtvtottot1r.nii.gz\n",
      "Erosion completed and saved to: /Intern Programming/data/output/t1t2gtv_5mm\\UMCG-0170637_gtvtottot2r.nii.gz\n",
      "Erosion completed and saved to: /Intern Programming/data/output/t1t2gtv_5mm\\UMCG-0191693_gtvlntot1r.nii.gz\n",
      "Erosion completed and saved to: /Intern Programming/data/output/t1t2gtv_5mm\\UMCG-0191693_gtvlntot2r.nii.gz\n",
      "Erosion completed and saved to: /Intern Programming/data/output/t1t2gtv_5mm\\UMCG-0191693_gtvpttot1r.nii.gz\n",
      "Erosion completed and saved to: /Intern Programming/data/output/t1t2gtv_5mm\\UMCG-0191693_gtvpttot2r.nii.gz\n",
      "Erosion completed and saved to: /Intern Programming/data/output/t1t2gtv_5mm\\UMCG-0191693_gtvtottot1r.nii.gz\n",
      "Erosion completed and saved to: /Intern Programming/data/output/t1t2gtv_5mm\\UMCG-0191693_gtvtottot2r.nii.gz\n",
      "Erosion completed and saved to: /Intern Programming/data/output/t1t2gtv_5mm\\UMCG-0263964_gtvlntot1r.nii.gz\n",
      "Erosion completed and saved to: /Intern Programming/data/output/t1t2gtv_5mm\\UMCG-0263964_gtvlntot2r.nii.gz\n",
      "Erosion completed and saved to: /Intern Programming/data/output/t1t2gtv_5mm\\UMCG-0263964_gtvpttot1r.nii.gz\n",
      "Erosion completed and saved to: /Intern Programming/data/output/t1t2gtv_5mm\\UMCG-0263964_gtvpttot2r.nii.gz\n",
      "Erosion completed and saved to: /Intern Programming/data/output/t1t2gtv_5mm\\UMCG-0263964_gtvtottot1r.nii.gz\n",
      "Erosion completed and saved to: /Intern Programming/data/output/t1t2gtv_5mm\\UMCG-0263964_gtvtottot2r.nii.gz\n",
      "Erosion completed and saved to: /Intern Programming/data/output/t1t2gtv_5mm\\UMCG-0276627_gtvpttot1r.nii.gz\n",
      "Erosion completed and saved to: /Intern Programming/data/output/t1t2gtv_5mm\\UMCG-0276627_gtvpttot2r.nii.gz\n",
      "Erosion completed and saved to: /Intern Programming/data/output/t1t2gtv_5mm\\UMCG-0276627_gtvtottot1r.nii.gz\n",
      "Erosion completed and saved to: /Intern Programming/data/output/t1t2gtv_5mm\\UMCG-0276627_gtvtottot2r.nii.gz\n",
      "Erosion completed and saved to: /Intern Programming/data/output/t1t2gtv_5mm\\UMCG-0287554_gtvpttot1r.nii.gz\n",
      "Erosion completed and saved to: /Intern Programming/data/output/t1t2gtv_5mm\\UMCG-0287554_gtvpttot2r.nii.gz\n",
      "Erosion completed and saved to: /Intern Programming/data/output/t1t2gtv_5mm\\UMCG-0287554_gtvtottot1r.nii.gz\n",
      "Erosion completed and saved to: /Intern Programming/data/output/t1t2gtv_5mm\\UMCG-0287554_gtvtottot2r.nii.gz\n",
      "Erosion completed and saved to: /Intern Programming/data/output/t1t2gtv_5mm\\UMCG-0287744_gtvpttot1r.nii.gz\n",
      "Erosion completed and saved to: /Intern Programming/data/output/t1t2gtv_5mm\\UMCG-0287744_gtvpttot2r.nii.gz\n",
      "Erosion completed and saved to: /Intern Programming/data/output/t1t2gtv_5mm\\UMCG-0287744_gtvtottot1r.nii.gz\n",
      "Erosion completed and saved to: /Intern Programming/data/output/t1t2gtv_5mm\\UMCG-0287744_gtvtottot2r.nii.gz\n",
      "Erosion completed and saved to: /Intern Programming/data/output/t1t2gtv_5mm\\UMCG-0298536_gtvpttot1r.nii.gz\n",
      "Erosion completed and saved to: /Intern Programming/data/output/t1t2gtv_5mm\\UMCG-0298536_gtvpttot2r.nii.gz\n",
      "Erosion completed and saved to: /Intern Programming/data/output/t1t2gtv_5mm\\UMCG-0298536_gtvtottot1r.nii.gz\n",
      "Erosion completed and saved to: /Intern Programming/data/output/t1t2gtv_5mm\\UMCG-0298536_gtvtottot2r.nii.gz\n",
      "Erosion completed and saved to: /Intern Programming/data/output/t1t2gtv_5mm\\UMCG-0303865_gtvpttot1r.nii.gz\n",
      "Erosion completed and saved to: /Intern Programming/data/output/t1t2gtv_5mm\\UMCG-0303865_gtvpttot2r.nii.gz\n",
      "Erosion completed and saved to: /Intern Programming/data/output/t1t2gtv_5mm\\UMCG-0303865_gtvtottot1r.nii.gz\n",
      "Erosion completed and saved to: /Intern Programming/data/output/t1t2gtv_5mm\\UMCG-0303865_gtvtottot2r.nii.gz\n",
      "Erosion completed and saved to: /Intern Programming/data/output/t1t2gtv_5mm\\UMCG-0330684_gtvpttot1r.nii.gz\n",
      "Erosion completed and saved to: /Intern Programming/data/output/t1t2gtv_5mm\\UMCG-0330684_gtvpttot2r.nii.gz\n",
      "Erosion completed and saved to: /Intern Programming/data/output/t1t2gtv_5mm\\UMCG-0330684_gtvtottot1r.nii.gz\n",
      "Erosion completed and saved to: /Intern Programming/data/output/t1t2gtv_5mm\\UMCG-0330684_gtvtottot2r.nii.gz\n",
      "Erosion completed and saved to: /Intern Programming/data/output/t1t2gtv_5mm\\UMCG-0338902_gtvlntot1r.nii.gz\n",
      "Erosion completed and saved to: /Intern Programming/data/output/t1t2gtv_5mm\\UMCG-0338902_gtvlntot2r.nii.gz\n",
      "Erosion completed and saved to: /Intern Programming/data/output/t1t2gtv_5mm\\UMCG-0338902_gtvpttot1r.nii.gz\n",
      "Erosion completed and saved to: /Intern Programming/data/output/t1t2gtv_5mm\\UMCG-0338902_gtvpttot2r.nii.gz\n",
      "Erosion completed and saved to: /Intern Programming/data/output/t1t2gtv_5mm\\UMCG-0338902_gtvtottot1r.nii.gz\n",
      "Erosion completed and saved to: /Intern Programming/data/output/t1t2gtv_5mm\\UMCG-0338902_gtvtottot2r.nii.gz\n",
      "Erosion completed and saved to: /Intern Programming/data/output/t1t2gtv_5mm\\UMCG-0345451_gtvpttot1r.nii.gz\n",
      "Erosion completed and saved to: /Intern Programming/data/output/t1t2gtv_5mm\\UMCG-0345451_gtvpttot2r.nii.gz\n",
      "Erosion completed and saved to: /Intern Programming/data/output/t1t2gtv_5mm\\UMCG-0345451_gtvtottot1r.nii.gz\n",
      "Erosion completed and saved to: /Intern Programming/data/output/t1t2gtv_5mm\\UMCG-0345451_gtvtottot2r.nii.gz\n",
      "Erosion completed and saved to: /Intern Programming/data/output/t1t2gtv_5mm\\UMCG-0412861_gtvpttot1r.nii.gz\n",
      "Erosion completed and saved to: /Intern Programming/data/output/t1t2gtv_5mm\\UMCG-0412861_gtvpttot2r.nii.gz\n",
      "Erosion completed and saved to: /Intern Programming/data/output/t1t2gtv_5mm\\UMCG-0412861_gtvtottot1r.nii.gz\n",
      "Erosion completed and saved to: /Intern Programming/data/output/t1t2gtv_5mm\\UMCG-0412861_gtvtottot2r.nii.gz\n",
      "Erosion completed and saved to: /Intern Programming/data/output/t1t2gtv_5mm\\UMCG-0508784_gtvpttot1r.nii.gz\n",
      "Erosion completed and saved to: /Intern Programming/data/output/t1t2gtv_5mm\\UMCG-0508784_gtvpttot2r.nii.gz\n",
      "Erosion completed and saved to: /Intern Programming/data/output/t1t2gtv_5mm\\UMCG-0508784_gtvtottot1r.nii.gz\n",
      "Erosion completed and saved to: /Intern Programming/data/output/t1t2gtv_5mm\\UMCG-0508784_gtvtottot2r.nii.gz\n",
      "Erosion completed and saved to: /Intern Programming/data/output/t1t2gtv_5mm\\UMCG-0573601_gtvpttot1r.nii.gz\n",
      "Erosion completed and saved to: /Intern Programming/data/output/t1t2gtv_5mm\\UMCG-0573601_gtvpttot2r.nii.gz\n",
      "Erosion completed and saved to: /Intern Programming/data/output/t1t2gtv_5mm\\UMCG-0573601_gtvtottot1r.nii.gz\n",
      "Erosion completed and saved to: /Intern Programming/data/output/t1t2gtv_5mm\\UMCG-0573601_gtvtottot2r.nii.gz\n",
      "Erosion completed and saved to: /Intern Programming/data/output/t1t2gtv_5mm\\UMCG-0585519_gtvpttot1r.nii.gz\n",
      "Erosion completed and saved to: /Intern Programming/data/output/t1t2gtv_5mm\\UMCG-0585519_gtvpttot2r.nii.gz\n",
      "Erosion completed and saved to: /Intern Programming/data/output/t1t2gtv_5mm\\UMCG-0585519_gtvtottot1r.nii.gz\n",
      "Erosion completed and saved to: /Intern Programming/data/output/t1t2gtv_5mm\\UMCG-0585519_gtvtottot2r.nii.gz\n",
      "Erosion completed and saved to: /Intern Programming/data/output/t1t2gtv_5mm\\UMCG-0587984_gtvpttot1r.nii.gz\n",
      "Erosion completed and saved to: /Intern Programming/data/output/t1t2gtv_5mm\\UMCG-0587984_gtvpttot2r.nii.gz\n",
      "Erosion completed and saved to: /Intern Programming/data/output/t1t2gtv_5mm\\UMCG-0587984_gtvtottot1r.nii.gz\n",
      "Erosion completed and saved to: /Intern Programming/data/output/t1t2gtv_5mm\\UMCG-0587984_gtvtottot2r.nii.gz\n",
      "Erosion completed and saved to: /Intern Programming/data/output/t1t2gtv_5mm\\UMCG-0598217_gtvpttot2r.nii.gz\n",
      "Erosion completed and saved to: /Intern Programming/data/output/t1t2gtv_5mm\\UMCG-0598217_gtvtottot2r.nii.gz\n",
      "Erosion completed and saved to: /Intern Programming/data/output/t1t2gtv_5mm\\UMCG-0611128_gtvlntot1r.nii.gz\n",
      "Erosion completed and saved to: /Intern Programming/data/output/t1t2gtv_5mm\\UMCG-0611128_gtvlntot2r.nii.gz\n",
      "Erosion completed and saved to: /Intern Programming/data/output/t1t2gtv_5mm\\UMCG-0611128_gtvpttot1r.nii.gz\n",
      "Erosion completed and saved to: /Intern Programming/data/output/t1t2gtv_5mm\\UMCG-0611128_gtvpttot2r.nii.gz\n",
      "Erosion completed and saved to: /Intern Programming/data/output/t1t2gtv_5mm\\UMCG-0611128_gtvtottot1r.nii.gz\n",
      "Erosion completed and saved to: /Intern Programming/data/output/t1t2gtv_5mm\\UMCG-0611128_gtvtottot2r.nii.gz\n",
      "Erosion completed and saved to: /Intern Programming/data/output/t1t2gtv_5mm\\UMCG-0617129_gtvpttot1r.nii.gz\n",
      "Erosion completed and saved to: /Intern Programming/data/output/t1t2gtv_5mm\\UMCG-0617129_gtvpttot2r.nii.gz\n",
      "Erosion completed and saved to: /Intern Programming/data/output/t1t2gtv_5mm\\UMCG-0617129_gtvtottot1r.nii.gz\n",
      "Erosion completed and saved to: /Intern Programming/data/output/t1t2gtv_5mm\\UMCG-0617129_gtvtottot2r.nii.gz\n",
      "Erosion completed and saved to: /Intern Programming/data/output/t1t2gtv_5mm\\UMCG-0642069_gtvpttot1r.nii.gz\n",
      "Erosion completed and saved to: /Intern Programming/data/output/t1t2gtv_5mm\\UMCG-0642069_gtvpttot2r.nii.gz\n",
      "Erosion completed and saved to: /Intern Programming/data/output/t1t2gtv_5mm\\UMCG-0642069_gtvtottot1r.nii.gz\n",
      "Erosion completed and saved to: /Intern Programming/data/output/t1t2gtv_5mm\\UMCG-0642069_gtvtottot2r.nii.gz\n",
      "Erosion completed and saved to: /Intern Programming/data/output/t1t2gtv_5mm\\UMCG-0701196_gtvpttot1r.nii.gz\n",
      "Erosion completed and saved to: /Intern Programming/data/output/t1t2gtv_5mm\\UMCG-0701196_gtvpttot2r.nii.gz\n",
      "Erosion completed and saved to: /Intern Programming/data/output/t1t2gtv_5mm\\UMCG-0701196_gtvtottot1r.nii.gz\n",
      "Erosion completed and saved to: /Intern Programming/data/output/t1t2gtv_5mm\\UMCG-0701196_gtvtottot2r.nii.gz\n",
      "Erosion completed and saved to: /Intern Programming/data/output/t1t2gtv_5mm\\UMCG-0731293_gtvpttot2r.nii.gz\n",
      "Erosion completed and saved to: /Intern Programming/data/output/t1t2gtv_5mm\\UMCG-0731293_gtvtottot2r.nii.gz\n",
      "Erosion completed and saved to: /Intern Programming/data/output/t1t2gtv_5mm\\UMCG-0748037_gtvpttot1r.nii.gz\n",
      "Erosion completed and saved to: /Intern Programming/data/output/t1t2gtv_5mm\\UMCG-0748037_gtvtottot1r.nii.gz\n",
      "Erosion completed and saved to: /Intern Programming/data/output/t1t2gtv_5mm\\UMCG-0818176_gtvpttot1r.nii.gz\n",
      "Erosion completed and saved to: /Intern Programming/data/output/t1t2gtv_5mm\\UMCG-0818176_gtvtottot1r.nii.gz\n",
      "Erosion completed and saved to: /Intern Programming/data/output/t1t2gtv_5mm\\UMCG-0838551_gtvpttot1r.nii.gz\n",
      "Erosion completed and saved to: /Intern Programming/data/output/t1t2gtv_5mm\\UMCG-0838551_gtvpttot2r.nii.gz\n",
      "Erosion completed and saved to: /Intern Programming/data/output/t1t2gtv_5mm\\UMCG-0838551_gtvtottot1r.nii.gz\n",
      "Erosion completed and saved to: /Intern Programming/data/output/t1t2gtv_5mm\\UMCG-0838551_gtvtottot2r.nii.gz\n",
      "Erosion completed and saved to: /Intern Programming/data/output/t1t2gtv_5mm\\UMCG-0861452_gtvlntot1r.nii.gz\n",
      "Erosion completed and saved to: /Intern Programming/data/output/t1t2gtv_5mm\\UMCG-0861452_gtvlntot2r.nii.gz\n",
      "Erosion completed and saved to: /Intern Programming/data/output/t1t2gtv_5mm\\UMCG-0861452_gtvpttot1r.nii.gz\n",
      "Erosion completed and saved to: /Intern Programming/data/output/t1t2gtv_5mm\\UMCG-0861452_gtvpttot2r.nii.gz\n",
      "Erosion completed and saved to: /Intern Programming/data/output/t1t2gtv_5mm\\UMCG-0861452_gtvtottot1r.nii.gz\n",
      "Erosion completed and saved to: /Intern Programming/data/output/t1t2gtv_5mm\\UMCG-0861452_gtvtottot2r.nii.gz\n",
      "Erosion completed and saved to: /Intern Programming/data/output/t1t2gtv_5mm\\UMCG-0872458_gtvlntot1r.nii.gz\n",
      "Erosion completed and saved to: /Intern Programming/data/output/t1t2gtv_5mm\\UMCG-0872458_gtvlntot2r.nii.gz\n",
      "Erosion completed and saved to: /Intern Programming/data/output/t1t2gtv_5mm\\UMCG-0872458_gtvpttot1r.nii.gz\n",
      "Erosion completed and saved to: /Intern Programming/data/output/t1t2gtv_5mm\\UMCG-0872458_gtvpttot2r.nii.gz\n",
      "Erosion completed and saved to: /Intern Programming/data/output/t1t2gtv_5mm\\UMCG-0872458_gtvtottot1r.nii.gz\n",
      "Erosion completed and saved to: /Intern Programming/data/output/t1t2gtv_5mm\\UMCG-0872458_gtvtottot2r.nii.gz\n",
      "Erosion completed and saved to: /Intern Programming/data/output/t1t2gtv_5mm\\UMCG-0884505_gtvpttot1r.nii.gz\n",
      "Erosion completed and saved to: /Intern Programming/data/output/t1t2gtv_5mm\\UMCG-0884505_gtvpttot2r.nii.gz\n",
      "Erosion completed and saved to: /Intern Programming/data/output/t1t2gtv_5mm\\UMCG-0884505_gtvtottot1r.nii.gz\n",
      "Erosion completed and saved to: /Intern Programming/data/output/t1t2gtv_5mm\\UMCG-0884505_gtvtottot2r.nii.gz\n",
      "Erosion completed and saved to: /Intern Programming/data/output/t1t2gtv_5mm\\UMCG-0890851_gtvpttot1r.nii.gz\n",
      "Erosion completed and saved to: /Intern Programming/data/output/t1t2gtv_5mm\\UMCG-0890851_gtvpttot2r.nii.gz\n",
      "Erosion completed and saved to: /Intern Programming/data/output/t1t2gtv_5mm\\UMCG-0890851_gtvtottot1r.nii.gz\n",
      "Erosion completed and saved to: /Intern Programming/data/output/t1t2gtv_5mm\\UMCG-0890851_gtvtottot2r.nii.gz\n",
      "Erosion completed and saved to: /Intern Programming/data/output/t1t2gtv_5mm\\UMCG-0903246_gtvpttot1r.nii.gz\n",
      "Erosion completed and saved to: /Intern Programming/data/output/t1t2gtv_5mm\\UMCG-0903246_gtvpttot2r.nii.gz\n",
      "Erosion completed and saved to: /Intern Programming/data/output/t1t2gtv_5mm\\UMCG-0903246_gtvtottot1r.nii.gz\n",
      "Erosion completed and saved to: /Intern Programming/data/output/t1t2gtv_5mm\\UMCG-0903246_gtvtottot2r.nii.gz\n",
      "Erosion completed and saved to: /Intern Programming/data/output/t1t2gtv_5mm\\UMCG-0916891_gtvlntot1r.nii.gz\n",
      "Erosion completed and saved to: /Intern Programming/data/output/t1t2gtv_5mm\\UMCG-0916891_gtvlntot2r.nii.gz\n",
      "Erosion completed and saved to: /Intern Programming/data/output/t1t2gtv_5mm\\UMCG-0916891_gtvpttot1r.nii.gz\n",
      "Erosion completed and saved to: /Intern Programming/data/output/t1t2gtv_5mm\\UMCG-0916891_gtvpttot2r.nii.gz\n",
      "Erosion completed and saved to: /Intern Programming/data/output/t1t2gtv_5mm\\UMCG-0916891_gtvtottot1r.nii.gz\n",
      "Erosion completed and saved to: /Intern Programming/data/output/t1t2gtv_5mm\\UMCG-0916891_gtvtottot2r.nii.gz\n",
      "Erosion completed and saved to: /Intern Programming/data/output/t1t2gtv_5mm\\UMCG-0938572_gtvpttot1r.nii.gz\n",
      "Erosion completed and saved to: /Intern Programming/data/output/t1t2gtv_5mm\\UMCG-0938572_gtvpttot2r.nii.gz\n",
      "Erosion completed and saved to: /Intern Programming/data/output/t1t2gtv_5mm\\UMCG-0938572_gtvtottot1r.nii.gz\n",
      "Erosion completed and saved to: /Intern Programming/data/output/t1t2gtv_5mm\\UMCG-0938572_gtvtottot2r.nii.gz\n",
      "Erosion completed and saved to: /Intern Programming/data/output/t1t2gtv_5mm\\UMCG-0940338_gtvpttot1r.nii.gz\n",
      "Erosion completed and saved to: /Intern Programming/data/output/t1t2gtv_5mm\\UMCG-0940338_gtvpttot2r.nii.gz\n",
      "Erosion completed and saved to: /Intern Programming/data/output/t1t2gtv_5mm\\UMCG-0940338_gtvtottot1r.nii.gz\n",
      "Erosion completed and saved to: /Intern Programming/data/output/t1t2gtv_5mm\\UMCG-0940338_gtvtottot2r.nii.gz\n",
      "Erosion completed and saved to: /Intern Programming/data/output/t1t2gtv_5mm\\UMCG-0946689_gtvpttot1r.nii.gz\n",
      "Erosion completed and saved to: /Intern Programming/data/output/t1t2gtv_5mm\\UMCG-0946689_gtvpttot2r.nii.gz\n",
      "Erosion completed and saved to: /Intern Programming/data/output/t1t2gtv_5mm\\UMCG-0946689_gtvtottot1r.nii.gz\n",
      "Erosion completed and saved to: /Intern Programming/data/output/t1t2gtv_5mm\\UMCG-0946689_gtvtottot2r.nii.gz\n",
      "Erosion completed and saved to: /Intern Programming/data/output/t1t2gtv_5mm\\UMCG-0949972_gtvpttot1r.nii.gz\n",
      "Erosion completed and saved to: /Intern Programming/data/output/t1t2gtv_5mm\\UMCG-0949972_gtvpttot2r.nii.gz\n",
      "Erosion completed and saved to: /Intern Programming/data/output/t1t2gtv_5mm\\UMCG-0949972_gtvtottot1r.nii.gz\n",
      "Erosion completed and saved to: /Intern Programming/data/output/t1t2gtv_5mm\\UMCG-0949972_gtvtottot2r.nii.gz\n",
      "Erosion completed and saved to: /Intern Programming/data/output/t1t2gtv_5mm\\UMCG-0970348_gtvpttot1r.nii.gz\n",
      "Erosion completed and saved to: /Intern Programming/data/output/t1t2gtv_5mm\\UMCG-0970348_gtvpttot2r.nii.gz\n",
      "Erosion completed and saved to: /Intern Programming/data/output/t1t2gtv_5mm\\UMCG-0970348_gtvtottot1r.nii.gz\n",
      "Erosion completed and saved to: /Intern Programming/data/output/t1t2gtv_5mm\\UMCG-0970348_gtvtottot2r.nii.gz\n",
      "Erosion completed and saved to: /Intern Programming/data/output/t1t2gtv_5mm\\UMCG-1051551_gtvpttot1r.nii.gz\n",
      "Erosion completed and saved to: /Intern Programming/data/output/t1t2gtv_5mm\\UMCG-1051551_gtvpttot2r.nii.gz\n",
      "Erosion completed and saved to: /Intern Programming/data/output/t1t2gtv_5mm\\UMCG-1051551_gtvtottot1r.nii.gz\n",
      "Erosion completed and saved to: /Intern Programming/data/output/t1t2gtv_5mm\\UMCG-1051551_gtvtottot2r.nii.gz\n",
      "Erosion completed and saved to: /Intern Programming/data/output/t1t2gtv_5mm\\UMCG-1053592_gtvpttot1r.nii.gz\n",
      "Erosion completed and saved to: /Intern Programming/data/output/t1t2gtv_5mm\\UMCG-1053592_gtvpttot2r.nii.gz\n",
      "Erosion completed and saved to: /Intern Programming/data/output/t1t2gtv_5mm\\UMCG-1053592_gtvtottot1r.nii.gz\n",
      "Erosion completed and saved to: /Intern Programming/data/output/t1t2gtv_5mm\\UMCG-1053592_gtvtottot2r.nii.gz\n",
      "Erosion completed and saved to: /Intern Programming/data/output/t1t2gtv_5mm\\UMCG-1097433_gtvpttot1r.nii.gz\n",
      "Erosion completed and saved to: /Intern Programming/data/output/t1t2gtv_5mm\\UMCG-1097433_gtvpttot2r.nii.gz\n",
      "Erosion completed and saved to: /Intern Programming/data/output/t1t2gtv_5mm\\UMCG-1097433_gtvtottot1r.nii.gz\n",
      "Erosion completed and saved to: /Intern Programming/data/output/t1t2gtv_5mm\\UMCG-1097433_gtvtottot2r.nii.gz\n",
      "Erosion completed and saved to: /Intern Programming/data/output/t1t2gtv_5mm\\UMCG-1117043_gtvlntot1r.nii.gz\n",
      "Erosion completed and saved to: /Intern Programming/data/output/t1t2gtv_5mm\\UMCG-1117043_gtvlntot2r.nii.gz\n",
      "Erosion completed and saved to: /Intern Programming/data/output/t1t2gtv_5mm\\UMCG-1117043_gtvpttot1r.nii.gz\n",
      "Erosion completed and saved to: /Intern Programming/data/output/t1t2gtv_5mm\\UMCG-1117043_gtvpttot2r.nii.gz\n",
      "Erosion completed and saved to: /Intern Programming/data/output/t1t2gtv_5mm\\UMCG-1117043_gtvtottot1r.nii.gz\n",
      "Erosion completed and saved to: /Intern Programming/data/output/t1t2gtv_5mm\\UMCG-1117043_gtvtottot2r.nii.gz\n",
      "Erosion completed and saved to: /Intern Programming/data/output/t1t2gtv_5mm\\UMCG-1124041_gtvpttot1r.nii.gz\n",
      "Erosion completed and saved to: /Intern Programming/data/output/t1t2gtv_5mm\\UMCG-1124041_gtvpttot2r.nii.gz\n",
      "Erosion completed and saved to: /Intern Programming/data/output/t1t2gtv_5mm\\UMCG-1124041_gtvtottot1r.nii.gz\n",
      "Erosion completed and saved to: /Intern Programming/data/output/t1t2gtv_5mm\\UMCG-1124041_gtvtottot2r.nii.gz\n",
      "Erosion completed and saved to: /Intern Programming/data/output/t1t2gtv_5mm\\UMCG-1165250_gtvpttot1r.nii.gz\n",
      "Erosion completed and saved to: /Intern Programming/data/output/t1t2gtv_5mm\\UMCG-1165250_gtvpttot2r.nii.gz\n",
      "Erosion completed and saved to: /Intern Programming/data/output/t1t2gtv_5mm\\UMCG-1165250_gtvtottot1r.nii.gz\n",
      "Erosion completed and saved to: /Intern Programming/data/output/t1t2gtv_5mm\\UMCG-1165250_gtvtottot2r.nii.gz\n",
      "Erosion completed and saved to: /Intern Programming/data/output/t1t2gtv_5mm\\UMCG-1180395_gtvpttot1r.nii.gz\n",
      "Erosion completed and saved to: /Intern Programming/data/output/t1t2gtv_5mm\\UMCG-1180395_gtvtottot1r.nii.gz\n",
      "Erosion completed and saved to: /Intern Programming/data/output/t1t2gtv_5mm\\UMCG-1191508_gtvpttot1r.nii.gz\n",
      "Erosion completed and saved to: /Intern Programming/data/output/t1t2gtv_5mm\\UMCG-1191508_gtvpttot2r.nii.gz\n",
      "Erosion completed and saved to: /Intern Programming/data/output/t1t2gtv_5mm\\UMCG-1191508_gtvtottot1r.nii.gz\n",
      "Erosion completed and saved to: /Intern Programming/data/output/t1t2gtv_5mm\\UMCG-1191508_gtvtottot2r.nii.gz\n",
      "Erosion completed and saved to: /Intern Programming/data/output/t1t2gtv_5mm\\UMCG-1318845_gtvpttot1r.nii.gz\n",
      "Erosion completed and saved to: /Intern Programming/data/output/t1t2gtv_5mm\\UMCG-1318845_gtvpttot2r.nii.gz\n",
      "Erosion completed and saved to: /Intern Programming/data/output/t1t2gtv_5mm\\UMCG-1318845_gtvtottot1r.nii.gz\n",
      "Erosion completed and saved to: /Intern Programming/data/output/t1t2gtv_5mm\\UMCG-1318845_gtvtottot2r.nii.gz\n",
      "Erosion completed and saved to: /Intern Programming/data/output/t1t2gtv_5mm\\UMCG-1320820_gtvpttot1r.nii.gz\n",
      "Erosion completed and saved to: /Intern Programming/data/output/t1t2gtv_5mm\\UMCG-1320820_gtvpttot2r.nii.gz\n",
      "Erosion completed and saved to: /Intern Programming/data/output/t1t2gtv_5mm\\UMCG-1320820_gtvtottot1r.nii.gz\n",
      "Erosion completed and saved to: /Intern Programming/data/output/t1t2gtv_5mm\\UMCG-1320820_gtvtottot2r.nii.gz\n",
      "Erosion completed and saved to: /Intern Programming/data/output/t1t2gtv_5mm\\UMCG-1338533_gtvpttot1r.nii.gz\n",
      "Erosion completed and saved to: /Intern Programming/data/output/t1t2gtv_5mm\\UMCG-1338533_gtvtottot1r.nii.gz\n",
      "Erosion completed and saved to: /Intern Programming/data/output/t1t2gtv_5mm\\UMCG-1375386_gtvpttot1r.nii.gz\n",
      "Erosion completed and saved to: /Intern Programming/data/output/t1t2gtv_5mm\\UMCG-1375386_gtvpttot2r.nii.gz\n",
      "Erosion completed and saved to: /Intern Programming/data/output/t1t2gtv_5mm\\UMCG-1375386_gtvtottot1r.nii.gz\n",
      "Erosion completed and saved to: /Intern Programming/data/output/t1t2gtv_5mm\\UMCG-1375386_gtvtottot2r.nii.gz\n",
      "Erosion completed and saved to: /Intern Programming/data/output/t1t2gtv_5mm\\UMCG-1434975_gtvpttot1r.nii.gz\n",
      "Erosion completed and saved to: /Intern Programming/data/output/t1t2gtv_5mm\\UMCG-1434975_gtvpttot2r.nii.gz\n",
      "Erosion completed and saved to: /Intern Programming/data/output/t1t2gtv_5mm\\UMCG-1434975_gtvtottot1r.nii.gz\n",
      "Erosion completed and saved to: /Intern Programming/data/output/t1t2gtv_5mm\\UMCG-1434975_gtvtottot2r.nii.gz\n",
      "Erosion completed and saved to: /Intern Programming/data/output/t1t2gtv_5mm\\UMCG-1448368_gtvpttot1r.nii.gz\n",
      "Erosion completed and saved to: /Intern Programming/data/output/t1t2gtv_5mm\\UMCG-1448368_gtvpttot2r.nii.gz\n",
      "Erosion completed and saved to: /Intern Programming/data/output/t1t2gtv_5mm\\UMCG-1448368_gtvtottot1r.nii.gz\n",
      "Erosion completed and saved to: /Intern Programming/data/output/t1t2gtv_5mm\\UMCG-1448368_gtvtottot2r.nii.gz\n",
      "Erosion completed and saved to: /Intern Programming/data/output/t1t2gtv_5mm\\UMCG-1474145_gtvpttot1r.nii.gz\n",
      "Erosion completed and saved to: /Intern Programming/data/output/t1t2gtv_5mm\\UMCG-1474145_gtvpttot2r.nii.gz\n",
      "Erosion completed and saved to: /Intern Programming/data/output/t1t2gtv_5mm\\UMCG-1474145_gtvtottot1r.nii.gz\n",
      "Erosion completed and saved to: /Intern Programming/data/output/t1t2gtv_5mm\\UMCG-1474145_gtvtottot2r.nii.gz\n",
      "Erosion completed and saved to: /Intern Programming/data/output/t1t2gtv_5mm\\UMCG-1479802_gtvpttot1r.nii.gz\n",
      "Erosion completed and saved to: /Intern Programming/data/output/t1t2gtv_5mm\\UMCG-1479802_gtvpttot2r.nii.gz\n",
      "Erosion completed and saved to: /Intern Programming/data/output/t1t2gtv_5mm\\UMCG-1479802_gtvtottot1r.nii.gz\n",
      "Erosion completed and saved to: /Intern Programming/data/output/t1t2gtv_5mm\\UMCG-1479802_gtvtottot2r.nii.gz\n",
      "Erosion completed and saved to: /Intern Programming/data/output/t1t2gtv_5mm\\UMCG-1718685_gtvlntot1r.nii.gz\n",
      "Erosion completed and saved to: /Intern Programming/data/output/t1t2gtv_5mm\\UMCG-1718685_gtvlntot2r.nii.gz\n",
      "Erosion completed and saved to: /Intern Programming/data/output/t1t2gtv_5mm\\UMCG-1718685_gtvpttot1r.nii.gz\n",
      "Erosion completed and saved to: /Intern Programming/data/output/t1t2gtv_5mm\\UMCG-1718685_gtvpttot2r.nii.gz\n",
      "Erosion completed and saved to: /Intern Programming/data/output/t1t2gtv_5mm\\UMCG-1718685_gtvtottot1r.nii.gz\n",
      "Erosion completed and saved to: /Intern Programming/data/output/t1t2gtv_5mm\\UMCG-1718685_gtvtottot2r.nii.gz\n",
      "Erosion completed and saved to: /Intern Programming/data/output/t1t2gtv_5mm\\UMCG-1737477_gtvpttot1r.nii.gz\n",
      "Erosion completed and saved to: /Intern Programming/data/output/t1t2gtv_5mm\\UMCG-1737477_gtvpttot2r.nii.gz\n",
      "Erosion completed and saved to: /Intern Programming/data/output/t1t2gtv_5mm\\UMCG-1737477_gtvtottot1r.nii.gz\n",
      "Erosion completed and saved to: /Intern Programming/data/output/t1t2gtv_5mm\\UMCG-1737477_gtvtottot2r.nii.gz\n",
      "Erosion completed and saved to: /Intern Programming/data/output/t1t2gtv_5mm\\UMCG-1777766_gtvlntot1r.nii.gz\n",
      "Erosion completed and saved to: /Intern Programming/data/output/t1t2gtv_5mm\\UMCG-1777766_gtvlntot2r.nii.gz\n",
      "Erosion completed and saved to: /Intern Programming/data/output/t1t2gtv_5mm\\UMCG-1777766_gtvpttot1r.nii.gz\n",
      "Erosion completed and saved to: /Intern Programming/data/output/t1t2gtv_5mm\\UMCG-1777766_gtvpttot2r.nii.gz\n",
      "Erosion completed and saved to: /Intern Programming/data/output/t1t2gtv_5mm\\UMCG-1777766_gtvtottot1r.nii.gz\n",
      "Erosion completed and saved to: /Intern Programming/data/output/t1t2gtv_5mm\\UMCG-1777766_gtvtottot2r.nii.gz\n",
      "Erosion completed and saved to: /Intern Programming/data/output/t1t2gtv_5mm\\UMCG-1872399_gtvlntot1r.nii.gz\n",
      "Erosion completed and saved to: /Intern Programming/data/output/t1t2gtv_5mm\\UMCG-1872399_gtvlntot2r.nii.gz\n",
      "Erosion completed and saved to: /Intern Programming/data/output/t1t2gtv_5mm\\UMCG-1872399_gtvpttot1r.nii.gz\n",
      "Erosion completed and saved to: /Intern Programming/data/output/t1t2gtv_5mm\\UMCG-1872399_gtvpttot2r.nii.gz\n",
      "Erosion completed and saved to: /Intern Programming/data/output/t1t2gtv_5mm\\UMCG-1872399_gtvtottot1r.nii.gz\n",
      "Erosion completed and saved to: /Intern Programming/data/output/t1t2gtv_5mm\\UMCG-1872399_gtvtottot2r.nii.gz\n",
      "Erosion completed and saved to: /Intern Programming/data/output/t1t2gtv_5mm\\UMCG-1942221_gtvlntot1r.nii.gz\n",
      "Erosion completed and saved to: /Intern Programming/data/output/t1t2gtv_5mm\\UMCG-1942221_gtvlntot2r.nii.gz\n",
      "Erosion completed and saved to: /Intern Programming/data/output/t1t2gtv_5mm\\UMCG-1942221_gtvpttot1r.nii.gz\n",
      "Erosion completed and saved to: /Intern Programming/data/output/t1t2gtv_5mm\\UMCG-1942221_gtvpttot2r.nii.gz\n",
      "Erosion completed and saved to: /Intern Programming/data/output/t1t2gtv_5mm\\UMCG-1942221_gtvtottot1r.nii.gz\n",
      "Erosion completed and saved to: /Intern Programming/data/output/t1t2gtv_5mm\\UMCG-1942221_gtvtottot2r.nii.gz\n",
      "Erosion completed and saved to: /Intern Programming/data/output/t1t2gtv_5mm\\UMCG-1946769_gtvpttot1r.nii.gz\n",
      "Erosion completed and saved to: /Intern Programming/data/output/t1t2gtv_5mm\\UMCG-1946769_gtvpttot2r.nii.gz\n",
      "Erosion completed and saved to: /Intern Programming/data/output/t1t2gtv_5mm\\UMCG-1946769_gtvtottot1r.nii.gz\n",
      "Erosion completed and saved to: /Intern Programming/data/output/t1t2gtv_5mm\\UMCG-1946769_gtvtottot2r.nii.gz\n",
      "Erosion completed and saved to: /Intern Programming/data/output/t1t2gtv_5mm\\UMCG-1955182_gtvlntot1r.nii.gz\n",
      "Erosion completed and saved to: /Intern Programming/data/output/t1t2gtv_5mm\\UMCG-1955182_gtvlntot2r.nii.gz\n",
      "Erosion completed and saved to: /Intern Programming/data/output/t1t2gtv_5mm\\UMCG-1955182_gtvpttot1r.nii.gz\n",
      "Erosion completed and saved to: /Intern Programming/data/output/t1t2gtv_5mm\\UMCG-1955182_gtvpttot2r.nii.gz\n",
      "Erosion completed and saved to: /Intern Programming/data/output/t1t2gtv_5mm\\UMCG-1955182_gtvtottot1r.nii.gz\n",
      "Erosion completed and saved to: /Intern Programming/data/output/t1t2gtv_5mm\\UMCG-1955182_gtvtottot2r.nii.gz\n",
      "Erosion completed and saved to: /Intern Programming/data/output/t1t2gtv_5mm\\UMCG-1966976_gtvlntot1r.nii.gz\n",
      "Erosion completed and saved to: /Intern Programming/data/output/t1t2gtv_5mm\\UMCG-1966976_gtvlntot2r.nii.gz\n",
      "Erosion completed and saved to: /Intern Programming/data/output/t1t2gtv_5mm\\UMCG-1966976_gtvpttot1r.nii.gz\n",
      "Erosion completed and saved to: /Intern Programming/data/output/t1t2gtv_5mm\\UMCG-1966976_gtvpttot2r.nii.gz\n",
      "Erosion completed and saved to: /Intern Programming/data/output/t1t2gtv_5mm\\UMCG-1966976_gtvtottot1r.nii.gz\n",
      "Erosion completed and saved to: /Intern Programming/data/output/t1t2gtv_5mm\\UMCG-1966976_gtvtottot2r.nii.gz\n",
      "Erosion completed and saved to: /Intern Programming/data/output/t1t2gtv_5mm\\UMCG-1973344_gtvpttot1r.nii.gz\n",
      "Erosion completed and saved to: /Intern Programming/data/output/t1t2gtv_5mm\\UMCG-1973344_gtvpttot2r.nii.gz\n",
      "Erosion completed and saved to: /Intern Programming/data/output/t1t2gtv_5mm\\UMCG-1973344_gtvtottot1r.nii.gz\n",
      "Erosion completed and saved to: /Intern Programming/data/output/t1t2gtv_5mm\\UMCG-1973344_gtvtottot2r.nii.gz\n",
      "Erosion completed and saved to: /Intern Programming/data/output/t1t2gtv_5mm\\UMCG-2000655_gtvpttot1r.nii.gz\n",
      "Erosion completed and saved to: /Intern Programming/data/output/t1t2gtv_5mm\\UMCG-2000655_gtvpttot2r.nii.gz\n",
      "Erosion completed and saved to: /Intern Programming/data/output/t1t2gtv_5mm\\UMCG-2000655_gtvtottot1r.nii.gz\n",
      "Erosion completed and saved to: /Intern Programming/data/output/t1t2gtv_5mm\\UMCG-2000655_gtvtottot2r.nii.gz\n",
      "Erosion completed and saved to: /Intern Programming/data/output/t1t2gtv_5mm\\UMCG-2002365_gtvpttot1r.nii.gz\n",
      "Erosion completed and saved to: /Intern Programming/data/output/t1t2gtv_5mm\\UMCG-2002365_gtvpttot2r.nii.gz\n",
      "Erosion completed and saved to: /Intern Programming/data/output/t1t2gtv_5mm\\UMCG-2002365_gtvtottot1r.nii.gz\n",
      "Erosion completed and saved to: /Intern Programming/data/output/t1t2gtv_5mm\\UMCG-2002365_gtvtottot2r.nii.gz\n",
      "Erosion completed and saved to: /Intern Programming/data/output/t1t2gtv_5mm\\UMCG-2016613_gtvpttot1r.nii.gz\n",
      "Erosion completed and saved to: /Intern Programming/data/output/t1t2gtv_5mm\\UMCG-2016613_gtvpttot2r.nii.gz\n",
      "Erosion completed and saved to: /Intern Programming/data/output/t1t2gtv_5mm\\UMCG-2016613_gtvtottot1r.nii.gz\n",
      "Erosion completed and saved to: /Intern Programming/data/output/t1t2gtv_5mm\\UMCG-2016613_gtvtottot2r.nii.gz\n",
      "Erosion completed and saved to: /Intern Programming/data/output/t1t2gtv_5mm\\UMCG-2022769_gtvlntot1r.nii.gz\n",
      "Erosion completed and saved to: /Intern Programming/data/output/t1t2gtv_5mm\\UMCG-2022769_gtvlntot2r.nii.gz\n",
      "Erosion completed and saved to: /Intern Programming/data/output/t1t2gtv_5mm\\UMCG-2022769_gtvpttot1r.nii.gz\n",
      "Erosion completed and saved to: /Intern Programming/data/output/t1t2gtv_5mm\\UMCG-2022769_gtvpttot2r.nii.gz\n",
      "Erosion completed and saved to: /Intern Programming/data/output/t1t2gtv_5mm\\UMCG-2022769_gtvtottot1r.nii.gz\n",
      "Erosion completed and saved to: /Intern Programming/data/output/t1t2gtv_5mm\\UMCG-2022769_gtvtottot2r.nii.gz\n",
      "Erosion completed and saved to: /Intern Programming/data/output/t1t2gtv_5mm\\UMCG-2022790_gtvpttot1r.nii.gz\n",
      "Erosion completed and saved to: /Intern Programming/data/output/t1t2gtv_5mm\\UMCG-2022790_gtvpttot2r.nii.gz\n",
      "Erosion completed and saved to: /Intern Programming/data/output/t1t2gtv_5mm\\UMCG-2022790_gtvtottot1r.nii.gz\n",
      "Erosion completed and saved to: /Intern Programming/data/output/t1t2gtv_5mm\\UMCG-2022790_gtvtottot2r.nii.gz\n",
      "Erosion completed and saved to: /Intern Programming/data/output/t1t2gtv_5mm\\UMCG-2024557_gtvpttot1r.nii.gz\n",
      "Erosion completed and saved to: /Intern Programming/data/output/t1t2gtv_5mm\\UMCG-2024557_gtvpttot2r.nii.gz\n",
      "Erosion completed and saved to: /Intern Programming/data/output/t1t2gtv_5mm\\UMCG-2024557_gtvtottot1r.nii.gz\n",
      "Erosion completed and saved to: /Intern Programming/data/output/t1t2gtv_5mm\\UMCG-2024557_gtvtottot2r.nii.gz\n",
      "Erosion completed and saved to: /Intern Programming/data/output/t1t2gtv_5mm\\UMCG-2031147_gtvpttot1r.nii.gz\n",
      "Erosion completed and saved to: /Intern Programming/data/output/t1t2gtv_5mm\\UMCG-2031147_gtvpttot2r.nii.gz\n",
      "Erosion completed and saved to: /Intern Programming/data/output/t1t2gtv_5mm\\UMCG-2031147_gtvtottot1r.nii.gz\n",
      "Erosion completed and saved to: /Intern Programming/data/output/t1t2gtv_5mm\\UMCG-2031147_gtvtottot2r.nii.gz\n",
      "Erosion completed and saved to: /Intern Programming/data/output/t1t2gtv_5mm\\UMCG-2038542_gtvpttot1r.nii.gz\n",
      "Erosion completed and saved to: /Intern Programming/data/output/t1t2gtv_5mm\\UMCG-2038542_gtvpttot2r.nii.gz\n",
      "Erosion completed and saved to: /Intern Programming/data/output/t1t2gtv_5mm\\UMCG-2038542_gtvtottot1r.nii.gz\n",
      "Erosion completed and saved to: /Intern Programming/data/output/t1t2gtv_5mm\\UMCG-2038542_gtvtottot2r.nii.gz\n",
      "Erosion completed and saved to: /Intern Programming/data/output/t1t2gtv_5mm\\UMCG-2051341_gtvpttot1r.nii.gz\n",
      "Erosion completed and saved to: /Intern Programming/data/output/t1t2gtv_5mm\\UMCG-2051341_gtvpttot2r.nii.gz\n",
      "Erosion completed and saved to: /Intern Programming/data/output/t1t2gtv_5mm\\UMCG-2051341_gtvtottot1r.nii.gz\n",
      "Erosion completed and saved to: /Intern Programming/data/output/t1t2gtv_5mm\\UMCG-2051341_gtvtottot2r.nii.gz\n",
      "Erosion completed and saved to: /Intern Programming/data/output/t1t2gtv_5mm\\UMCG-2058876_gtvpttot1r.nii.gz\n",
      "Erosion completed and saved to: /Intern Programming/data/output/t1t2gtv_5mm\\UMCG-2058876_gtvpttot2r.nii.gz\n",
      "Erosion completed and saved to: /Intern Programming/data/output/t1t2gtv_5mm\\UMCG-2058876_gtvtottot1r.nii.gz\n",
      "Erosion completed and saved to: /Intern Programming/data/output/t1t2gtv_5mm\\UMCG-2058876_gtvtottot2r.nii.gz\n",
      "Erosion completed and saved to: /Intern Programming/data/output/t1t2gtv_5mm\\UMCG-2064239_gtvpttot1r.nii.gz\n",
      "Erosion completed and saved to: /Intern Programming/data/output/t1t2gtv_5mm\\UMCG-2064239_gtvpttot2r.nii.gz\n",
      "Erosion completed and saved to: /Intern Programming/data/output/t1t2gtv_5mm\\UMCG-2064239_gtvtottot1r.nii.gz\n",
      "Erosion completed and saved to: /Intern Programming/data/output/t1t2gtv_5mm\\UMCG-2064239_gtvtottot2r.nii.gz\n",
      "Erosion completed and saved to: /Intern Programming/data/output/t1t2gtv_5mm\\UMCG-2073561_gtvpttot1r.nii.gz\n",
      "Erosion completed and saved to: /Intern Programming/data/output/t1t2gtv_5mm\\UMCG-2073561_gtvpttot2r.nii.gz\n",
      "Erosion completed and saved to: /Intern Programming/data/output/t1t2gtv_5mm\\UMCG-2073561_gtvtottot1r.nii.gz\n",
      "Erosion completed and saved to: /Intern Programming/data/output/t1t2gtv_5mm\\UMCG-2073561_gtvtottot2r.nii.gz\n",
      "Erosion completed and saved to: /Intern Programming/data/output/t1t2gtv_5mm\\UMCG-2075963_gtvpttot1r.nii.gz\n",
      "Erosion completed and saved to: /Intern Programming/data/output/t1t2gtv_5mm\\UMCG-2075963_gtvpttot2r.nii.gz\n",
      "Erosion completed and saved to: /Intern Programming/data/output/t1t2gtv_5mm\\UMCG-2075963_gtvtottot1r.nii.gz\n",
      "Erosion completed and saved to: /Intern Programming/data/output/t1t2gtv_5mm\\UMCG-2075963_gtvtottot2r.nii.gz\n",
      "Erosion completed and saved to: /Intern Programming/data/output/t1t2gtv_5mm\\UMCG-2076094_gtvpttot1r.nii.gz\n",
      "Erosion completed and saved to: /Intern Programming/data/output/t1t2gtv_5mm\\UMCG-2076094_gtvpttot2r.nii.gz\n",
      "Erosion completed and saved to: /Intern Programming/data/output/t1t2gtv_5mm\\UMCG-2076094_gtvtottot1r.nii.gz\n",
      "Erosion completed and saved to: /Intern Programming/data/output/t1t2gtv_5mm\\UMCG-2076094_gtvtottot2r.nii.gz\n",
      "Erosion completed and saved to: /Intern Programming/data/output/t1t2gtv_5mm\\UMCG-2078256_gtvpttot1r.nii.gz\n",
      "Erosion completed and saved to: /Intern Programming/data/output/t1t2gtv_5mm\\UMCG-2078256_gtvpttot2r.nii.gz\n",
      "Erosion completed and saved to: /Intern Programming/data/output/t1t2gtv_5mm\\UMCG-2078256_gtvtottot1r.nii.gz\n",
      "Erosion completed and saved to: /Intern Programming/data/output/t1t2gtv_5mm\\UMCG-2078256_gtvtottot2r.nii.gz\n",
      "Erosion completed and saved to: /Intern Programming/data/output/t1t2gtv_5mm\\UMCG-2080097_gtvpttot1r.nii.gz\n",
      "Erosion completed and saved to: /Intern Programming/data/output/t1t2gtv_5mm\\UMCG-2080097_gtvpttot2r.nii.gz\n",
      "Erosion completed and saved to: /Intern Programming/data/output/t1t2gtv_5mm\\UMCG-2080097_gtvtottot1r.nii.gz\n",
      "Erosion completed and saved to: /Intern Programming/data/output/t1t2gtv_5mm\\UMCG-2080097_gtvtottot2r.nii.gz\n",
      "Erosion completed and saved to: /Intern Programming/data/output/t1t2gtv_5mm\\UMCG-2080913_gtvpttot1r.nii.gz\n",
      "Erosion completed and saved to: /Intern Programming/data/output/t1t2gtv_5mm\\UMCG-2080913_gtvpttot2r.nii.gz\n",
      "Erosion completed and saved to: /Intern Programming/data/output/t1t2gtv_5mm\\UMCG-2080913_gtvtottot1r.nii.gz\n",
      "Erosion completed and saved to: /Intern Programming/data/output/t1t2gtv_5mm\\UMCG-2080913_gtvtottot2r.nii.gz\n",
      "Erosion completed and saved to: /Intern Programming/data/output/t1t2gtv_5mm\\UMCG-2083033_gtvpttot1r.nii.gz\n",
      "Erosion completed and saved to: /Intern Programming/data/output/t1t2gtv_5mm\\UMCG-2083033_gtvpttot2r.nii.gz\n",
      "Erosion completed and saved to: /Intern Programming/data/output/t1t2gtv_5mm\\UMCG-2083033_gtvtottot1r.nii.gz\n",
      "Erosion completed and saved to: /Intern Programming/data/output/t1t2gtv_5mm\\UMCG-2083033_gtvtottot2r.nii.gz\n",
      "Erosion completed and saved to: /Intern Programming/data/output/t1t2gtv_5mm\\UMCG-2087361_gtvpttot1r.nii.gz\n",
      "Erosion completed and saved to: /Intern Programming/data/output/t1t2gtv_5mm\\UMCG-2087361_gtvpttot2r.nii.gz\n",
      "Erosion completed and saved to: /Intern Programming/data/output/t1t2gtv_5mm\\UMCG-2087361_gtvtottot1r.nii.gz\n",
      "Erosion completed and saved to: /Intern Programming/data/output/t1t2gtv_5mm\\UMCG-2087361_gtvtottot2r.nii.gz\n",
      "Erosion completed and saved to: /Intern Programming/data/output/t1t2gtv_5mm\\UMCG-2102599_gtvlntot1r.nii.gz\n",
      "Erosion completed and saved to: /Intern Programming/data/output/t1t2gtv_5mm\\UMCG-2102599_gtvlntot2r.nii.gz\n",
      "Erosion completed and saved to: /Intern Programming/data/output/t1t2gtv_5mm\\UMCG-2102599_gtvpttot1r.nii.gz\n",
      "Erosion completed and saved to: /Intern Programming/data/output/t1t2gtv_5mm\\UMCG-2102599_gtvpttot2r.nii.gz\n",
      "Erosion completed and saved to: /Intern Programming/data/output/t1t2gtv_5mm\\UMCG-2102599_gtvtottot1r.nii.gz\n",
      "Erosion completed and saved to: /Intern Programming/data/output/t1t2gtv_5mm\\UMCG-2102599_gtvtottot2r.nii.gz\n",
      "Erosion completed and saved to: /Intern Programming/data/output/t1t2gtv_5mm\\UMCG-2102777_gtvpttot1r.nii.gz\n",
      "Erosion completed and saved to: /Intern Programming/data/output/t1t2gtv_5mm\\UMCG-2102777_gtvpttot2r.nii.gz\n",
      "Erosion completed and saved to: /Intern Programming/data/output/t1t2gtv_5mm\\UMCG-2102777_gtvtottot1r.nii.gz\n",
      "Erosion completed and saved to: /Intern Programming/data/output/t1t2gtv_5mm\\UMCG-2102777_gtvtottot2r.nii.gz\n",
      "Erosion completed and saved to: /Intern Programming/data/output/t1t2gtv_5mm\\UMCG-2110034_gtvlntot1r.nii.gz\n",
      "Erosion completed and saved to: /Intern Programming/data/output/t1t2gtv_5mm\\UMCG-2110034_gtvlntot2r.nii.gz\n",
      "Erosion completed and saved to: /Intern Programming/data/output/t1t2gtv_5mm\\UMCG-2110034_gtvpttot1r.nii.gz\n",
      "Erosion completed and saved to: /Intern Programming/data/output/t1t2gtv_5mm\\UMCG-2110034_gtvpttot2r.nii.gz\n",
      "Erosion completed and saved to: /Intern Programming/data/output/t1t2gtv_5mm\\UMCG-2110034_gtvtottot1r.nii.gz\n",
      "Erosion completed and saved to: /Intern Programming/data/output/t1t2gtv_5mm\\UMCG-2110034_gtvtottot2r.nii.gz\n",
      "Erosion completed and saved to: /Intern Programming/data/output/t1t2gtv_5mm\\UMCG-2111096_gtvpttot1r.nii.gz\n",
      "Erosion completed and saved to: /Intern Programming/data/output/t1t2gtv_5mm\\UMCG-2111096_gtvpttot2r.nii.gz\n",
      "Erosion completed and saved to: /Intern Programming/data/output/t1t2gtv_5mm\\UMCG-2111096_gtvtottot1r.nii.gz\n",
      "Erosion completed and saved to: /Intern Programming/data/output/t1t2gtv_5mm\\UMCG-2111096_gtvtottot2r.nii.gz\n",
      "Erosion completed and saved to: /Intern Programming/data/output/t1t2gtv_5mm\\UMCG-2111510_gtvlntot1r.nii.gz\n",
      "Erosion completed and saved to: /Intern Programming/data/output/t1t2gtv_5mm\\UMCG-2111510_gtvlntot2r.nii.gz\n",
      "Erosion completed and saved to: /Intern Programming/data/output/t1t2gtv_5mm\\UMCG-2111510_gtvpttot1r.nii.gz\n",
      "Erosion completed and saved to: /Intern Programming/data/output/t1t2gtv_5mm\\UMCG-2111510_gtvpttot2r.nii.gz\n",
      "Erosion completed and saved to: /Intern Programming/data/output/t1t2gtv_5mm\\UMCG-2111510_gtvtottot1r.nii.gz\n",
      "Erosion completed and saved to: /Intern Programming/data/output/t1t2gtv_5mm\\UMCG-2111510_gtvtottot2r.nii.gz\n",
      "Erosion completed and saved to: /Intern Programming/data/output/t1t2gtv_5mm\\UMCG-2114930_gtvpttot1r.nii.gz\n",
      "Erosion completed and saved to: /Intern Programming/data/output/t1t2gtv_5mm\\UMCG-2114930_gtvpttot2r.nii.gz\n",
      "Erosion completed and saved to: /Intern Programming/data/output/t1t2gtv_5mm\\UMCG-2114930_gtvtottot1r.nii.gz\n",
      "Erosion completed and saved to: /Intern Programming/data/output/t1t2gtv_5mm\\UMCG-2114930_gtvtottot2r.nii.gz\n",
      "Erosion completed and saved to: /Intern Programming/data/output/t1t2gtv_5mm\\UMCG-2115835_gtvpttot1r.nii.gz\n",
      "Erosion completed and saved to: /Intern Programming/data/output/t1t2gtv_5mm\\UMCG-2115835_gtvpttot2r.nii.gz\n",
      "Erosion completed and saved to: /Intern Programming/data/output/t1t2gtv_5mm\\UMCG-2115835_gtvtottot1r.nii.gz\n",
      "Erosion completed and saved to: /Intern Programming/data/output/t1t2gtv_5mm\\UMCG-2115835_gtvtottot2r.nii.gz\n",
      "Erosion completed and saved to: /Intern Programming/data/output/t1t2gtv_5mm\\UMCG-2116597_gtvpttot1r.nii.gz\n",
      "Erosion completed and saved to: /Intern Programming/data/output/t1t2gtv_5mm\\UMCG-2116597_gtvpttot2r.nii.gz\n",
      "Erosion completed and saved to: /Intern Programming/data/output/t1t2gtv_5mm\\UMCG-2116597_gtvtottot1r.nii.gz\n",
      "Erosion completed and saved to: /Intern Programming/data/output/t1t2gtv_5mm\\UMCG-2116597_gtvtottot2r.nii.gz\n",
      "Erosion completed and saved to: /Intern Programming/data/output/t1t2gtv_5mm\\UMCG-2120032_gtvpttot1r.nii.gz\n",
      "Erosion completed and saved to: /Intern Programming/data/output/t1t2gtv_5mm\\UMCG-2120032_gtvpttot2r.nii.gz\n",
      "Erosion completed and saved to: /Intern Programming/data/output/t1t2gtv_5mm\\UMCG-2120032_gtvtottot1r.nii.gz\n",
      "Erosion completed and saved to: /Intern Programming/data/output/t1t2gtv_5mm\\UMCG-2120032_gtvtottot2r.nii.gz\n",
      "Erosion completed and saved to: /Intern Programming/data/output/t1t2gtv_5mm\\UMCG-2125979_gtvlntot1r.nii.gz\n",
      "Erosion completed and saved to: /Intern Programming/data/output/t1t2gtv_5mm\\UMCG-2125979_gtvlntot2r.nii.gz\n",
      "Erosion completed and saved to: /Intern Programming/data/output/t1t2gtv_5mm\\UMCG-2125979_gtvpttot1r.nii.gz\n",
      "Erosion completed and saved to: /Intern Programming/data/output/t1t2gtv_5mm\\UMCG-2125979_gtvpttot2r.nii.gz\n",
      "Erosion completed and saved to: /Intern Programming/data/output/t1t2gtv_5mm\\UMCG-2125979_gtvtottot1r.nii.gz\n",
      "Erosion completed and saved to: /Intern Programming/data/output/t1t2gtv_5mm\\UMCG-2125979_gtvtottot2r.nii.gz\n",
      "Erosion completed and saved to: /Intern Programming/data/output/t1t2gtv_5mm\\UMCG-2128243_gtvpttot1r.nii.gz\n",
      "Erosion completed and saved to: /Intern Programming/data/output/t1t2gtv_5mm\\UMCG-2128243_gtvtottot1r.nii.gz\n",
      "Erosion completed and saved to: /Intern Programming/data/output/t1t2gtv_5mm\\UMCG-2130043_gtvlntot1r.nii.gz\n",
      "Erosion completed and saved to: /Intern Programming/data/output/t1t2gtv_5mm\\UMCG-2130043_gtvlntot2r.nii.gz\n",
      "Erosion completed and saved to: /Intern Programming/data/output/t1t2gtv_5mm\\UMCG-2130043_gtvpttot1r.nii.gz\n",
      "Erosion completed and saved to: /Intern Programming/data/output/t1t2gtv_5mm\\UMCG-2130043_gtvpttot2r.nii.gz\n",
      "Erosion completed and saved to: /Intern Programming/data/output/t1t2gtv_5mm\\UMCG-2130043_gtvtottot1r.nii.gz\n",
      "Erosion completed and saved to: /Intern Programming/data/output/t1t2gtv_5mm\\UMCG-2130043_gtvtottot2r.nii.gz\n",
      "Erosion completed and saved to: /Intern Programming/data/output/t1t2gtv_5mm\\UMCG-2130970_gtvpttot1r.nii.gz\n",
      "Erosion completed and saved to: /Intern Programming/data/output/t1t2gtv_5mm\\UMCG-2130970_gtvpttot2r.nii.gz\n",
      "Erosion completed and saved to: /Intern Programming/data/output/t1t2gtv_5mm\\UMCG-2130970_gtvtottot1r.nii.gz\n",
      "Erosion completed and saved to: /Intern Programming/data/output/t1t2gtv_5mm\\UMCG-2130970_gtvtottot2r.nii.gz\n",
      "Erosion completed and saved to: /Intern Programming/data/output/t1t2gtv_5mm\\UMCG-2136180_gtvpttot1r.nii.gz\n",
      "Erosion completed and saved to: /Intern Programming/data/output/t1t2gtv_5mm\\UMCG-2136180_gtvpttot2r.nii.gz\n",
      "Erosion completed and saved to: /Intern Programming/data/output/t1t2gtv_5mm\\UMCG-2136180_gtvtottot1r.nii.gz\n",
      "Erosion completed and saved to: /Intern Programming/data/output/t1t2gtv_5mm\\UMCG-2136180_gtvtottot2r.nii.gz\n",
      "Erosion completed and saved to: /Intern Programming/data/output/t1t2gtv_5mm\\UMCG-2145422_gtvlntot1r.nii.gz\n",
      "Erosion completed and saved to: /Intern Programming/data/output/t1t2gtv_5mm\\UMCG-2145422_gtvlntot2r.nii.gz\n",
      "Erosion completed and saved to: /Intern Programming/data/output/t1t2gtv_5mm\\UMCG-2145422_gtvpttot1r.nii.gz\n",
      "Erosion completed and saved to: /Intern Programming/data/output/t1t2gtv_5mm\\UMCG-2145422_gtvpttot2r.nii.gz\n",
      "Erosion completed and saved to: /Intern Programming/data/output/t1t2gtv_5mm\\UMCG-2145422_gtvtottot1r.nii.gz\n",
      "Erosion completed and saved to: /Intern Programming/data/output/t1t2gtv_5mm\\UMCG-2145422_gtvtottot2r.nii.gz\n",
      "Erosion completed and saved to: /Intern Programming/data/output/t1t2gtv_5mm\\UMCG-2145827_gtvpttot1r.nii.gz\n",
      "Erosion completed and saved to: /Intern Programming/data/output/t1t2gtv_5mm\\UMCG-2145827_gtvpttot2r.nii.gz\n",
      "Erosion completed and saved to: /Intern Programming/data/output/t1t2gtv_5mm\\UMCG-2145827_gtvtottot1r.nii.gz\n",
      "Erosion completed and saved to: /Intern Programming/data/output/t1t2gtv_5mm\\UMCG-2145827_gtvtottot2r.nii.gz\n",
      "Erosion completed and saved to: /Intern Programming/data/output/t1t2gtv_5mm\\UMCG-2146594_gtvlntot1r.nii.gz\n",
      "Erosion completed and saved to: /Intern Programming/data/output/t1t2gtv_5mm\\UMCG-2146594_gtvlntot2r.nii.gz\n",
      "Erosion completed and saved to: /Intern Programming/data/output/t1t2gtv_5mm\\UMCG-2146594_gtvpttot1r.nii.gz\n",
      "Erosion completed and saved to: /Intern Programming/data/output/t1t2gtv_5mm\\UMCG-2146594_gtvpttot2r.nii.gz\n",
      "Erosion completed and saved to: /Intern Programming/data/output/t1t2gtv_5mm\\UMCG-2146594_gtvtottot1r.nii.gz\n",
      "Erosion completed and saved to: /Intern Programming/data/output/t1t2gtv_5mm\\UMCG-2146594_gtvtottot2r.nii.gz\n",
      "Erosion completed and saved to: /Intern Programming/data/output/t1t2gtv_5mm\\UMCG-2147034_gtvpttot1r.nii.gz\n",
      "Erosion completed and saved to: /Intern Programming/data/output/t1t2gtv_5mm\\UMCG-2147034_gtvpttot2r.nii.gz\n",
      "Erosion completed and saved to: /Intern Programming/data/output/t1t2gtv_5mm\\UMCG-2147034_gtvtottot1r.nii.gz\n",
      "Erosion completed and saved to: /Intern Programming/data/output/t1t2gtv_5mm\\UMCG-2147034_gtvtottot2r.nii.gz\n",
      "Erosion completed and saved to: /Intern Programming/data/output/t1t2gtv_5mm\\UMCG-2148052_gtvpttot1r.nii.gz\n",
      "Erosion completed and saved to: /Intern Programming/data/output/t1t2gtv_5mm\\UMCG-2148052_gtvpttot2r.nii.gz\n",
      "Erosion completed and saved to: /Intern Programming/data/output/t1t2gtv_5mm\\UMCG-2148052_gtvtottot1r.nii.gz\n",
      "Erosion completed and saved to: /Intern Programming/data/output/t1t2gtv_5mm\\UMCG-2148052_gtvtottot2r.nii.gz\n",
      "Erosion completed and saved to: /Intern Programming/data/output/t1t2gtv_5mm\\UMCG-2149291_gtvlntot1r.nii.gz\n",
      "Erosion completed and saved to: /Intern Programming/data/output/t1t2gtv_5mm\\UMCG-2149291_gtvlntot2r.nii.gz\n",
      "Erosion completed and saved to: /Intern Programming/data/output/t1t2gtv_5mm\\UMCG-2149291_gtvpttot1r.nii.gz\n",
      "Erosion completed and saved to: /Intern Programming/data/output/t1t2gtv_5mm\\UMCG-2149291_gtvpttot2r.nii.gz\n",
      "Erosion completed and saved to: /Intern Programming/data/output/t1t2gtv_5mm\\UMCG-2149291_gtvtottot1r.nii.gz\n",
      "Erosion completed and saved to: /Intern Programming/data/output/t1t2gtv_5mm\\UMCG-2149291_gtvtottot2r.nii.gz\n",
      "Erosion completed and saved to: /Intern Programming/data/output/t1t2gtv_5mm\\UMCG-2153786_gtvpttot1r.nii.gz\n",
      "Erosion completed and saved to: /Intern Programming/data/output/t1t2gtv_5mm\\UMCG-2153786_gtvpttot2r.nii.gz\n",
      "Erosion completed and saved to: /Intern Programming/data/output/t1t2gtv_5mm\\UMCG-2153786_gtvtottot1r.nii.gz\n",
      "Erosion completed and saved to: /Intern Programming/data/output/t1t2gtv_5mm\\UMCG-2153786_gtvtottot2r.nii.gz\n",
      "Erosion completed and saved to: /Intern Programming/data/output/t1t2gtv_5mm\\UMCG-2159400_gtvpttot1r.nii.gz\n",
      "Erosion completed and saved to: /Intern Programming/data/output/t1t2gtv_5mm\\UMCG-2159400_gtvpttot2r.nii.gz\n",
      "Erosion completed and saved to: /Intern Programming/data/output/t1t2gtv_5mm\\UMCG-2159400_gtvtottot1r.nii.gz\n",
      "Erosion completed and saved to: /Intern Programming/data/output/t1t2gtv_5mm\\UMCG-2159400_gtvtottot2r.nii.gz\n",
      "Erosion completed and saved to: /Intern Programming/data/output/t1t2gtv_5mm\\UMCG-2160810_gtvpttot1r.nii.gz\n",
      "Erosion completed and saved to: /Intern Programming/data/output/t1t2gtv_5mm\\UMCG-2160810_gtvpttot2r.nii.gz\n",
      "Erosion completed and saved to: /Intern Programming/data/output/t1t2gtv_5mm\\UMCG-2160810_gtvtottot1r.nii.gz\n",
      "Erosion completed and saved to: /Intern Programming/data/output/t1t2gtv_5mm\\UMCG-2160810_gtvtottot2r.nii.gz\n",
      "Erosion completed and saved to: /Intern Programming/data/output/t1t2gtv_5mm\\UMCG-2167798_gtvlntot1r.nii.gz\n",
      "Erosion completed and saved to: /Intern Programming/data/output/t1t2gtv_5mm\\UMCG-2167798_gtvlntot2r.nii.gz\n",
      "Erosion completed and saved to: /Intern Programming/data/output/t1t2gtv_5mm\\UMCG-2167798_gtvpttot1r.nii.gz\n",
      "Erosion completed and saved to: /Intern Programming/data/output/t1t2gtv_5mm\\UMCG-2167798_gtvpttot2r.nii.gz\n",
      "Erosion completed and saved to: /Intern Programming/data/output/t1t2gtv_5mm\\UMCG-2167798_gtvtottot1r.nii.gz\n",
      "Erosion completed and saved to: /Intern Programming/data/output/t1t2gtv_5mm\\UMCG-2167798_gtvtottot2r.nii.gz\n",
      "Erosion completed and saved to: /Intern Programming/data/output/t1t2gtv_5mm\\UMCG-2171148_gtvlntot1r.nii.gz\n",
      "Erosion completed and saved to: /Intern Programming/data/output/t1t2gtv_5mm\\UMCG-2171148_gtvlntot2r.nii.gz\n",
      "Erosion completed and saved to: /Intern Programming/data/output/t1t2gtv_5mm\\UMCG-2171148_gtvpttot1r.nii.gz\n",
      "Erosion completed and saved to: /Intern Programming/data/output/t1t2gtv_5mm\\UMCG-2171148_gtvpttot2r.nii.gz\n",
      "Erosion completed and saved to: /Intern Programming/data/output/t1t2gtv_5mm\\UMCG-2171148_gtvtottot1r.nii.gz\n",
      "Erosion completed and saved to: /Intern Programming/data/output/t1t2gtv_5mm\\UMCG-2171148_gtvtottot2r.nii.gz\n",
      "Erosion completed and saved to: /Intern Programming/data/output/t1t2gtv_5mm\\UMCG-2176162_gtvlntot1r.nii.gz\n",
      "Erosion completed and saved to: /Intern Programming/data/output/t1t2gtv_5mm\\UMCG-2176162_gtvlntot2r.nii.gz\n",
      "Erosion completed and saved to: /Intern Programming/data/output/t1t2gtv_5mm\\UMCG-2176162_gtvpttot1r.nii.gz\n",
      "Erosion completed and saved to: /Intern Programming/data/output/t1t2gtv_5mm\\UMCG-2176162_gtvpttot2r.nii.gz\n",
      "Erosion completed and saved to: /Intern Programming/data/output/t1t2gtv_5mm\\UMCG-2176162_gtvtottot1r.nii.gz\n",
      "Erosion completed and saved to: /Intern Programming/data/output/t1t2gtv_5mm\\UMCG-2176162_gtvtottot2r.nii.gz\n",
      "Erosion completed and saved to: /Intern Programming/data/output/t1t2gtv_5mm\\UMCG-2179358_gtvlntot1r.nii.gz\n",
      "Erosion completed and saved to: /Intern Programming/data/output/t1t2gtv_5mm\\UMCG-2179358_gtvlntot2r.nii.gz\n",
      "Erosion completed and saved to: /Intern Programming/data/output/t1t2gtv_5mm\\UMCG-2179358_gtvpttot1r.nii.gz\n",
      "Erosion completed and saved to: /Intern Programming/data/output/t1t2gtv_5mm\\UMCG-2179358_gtvpttot2r.nii.gz\n",
      "Erosion completed and saved to: /Intern Programming/data/output/t1t2gtv_5mm\\UMCG-2179358_gtvtottot1r.nii.gz\n",
      "Erosion completed and saved to: /Intern Programming/data/output/t1t2gtv_5mm\\UMCG-2179358_gtvtottot2r.nii.gz\n",
      "Erosion completed and saved to: /Intern Programming/data/output/t1t2gtv_5mm\\UMCG-2186039_gtvpttot1r.nii.gz\n",
      "Erosion completed and saved to: /Intern Programming/data/output/t1t2gtv_5mm\\UMCG-2186039_gtvpttot2r.nii.gz\n",
      "Erosion completed and saved to: /Intern Programming/data/output/t1t2gtv_5mm\\UMCG-2186039_gtvtottot1r.nii.gz\n",
      "Erosion completed and saved to: /Intern Programming/data/output/t1t2gtv_5mm\\UMCG-2186039_gtvtottot2r.nii.gz\n",
      "Erosion completed and saved to: /Intern Programming/data/output/t1t2gtv_5mm\\UMCG-2188517_gtvpttot1r.nii.gz\n",
      "Erosion completed and saved to: /Intern Programming/data/output/t1t2gtv_5mm\\UMCG-2188517_gtvpttot2r.nii.gz\n",
      "Erosion completed and saved to: /Intern Programming/data/output/t1t2gtv_5mm\\UMCG-2188517_gtvtottot1r.nii.gz\n",
      "Erosion completed and saved to: /Intern Programming/data/output/t1t2gtv_5mm\\UMCG-2188517_gtvtottot2r.nii.gz\n",
      "Erosion completed and saved to: /Intern Programming/data/output/t1t2gtv_5mm\\UMCG-2190498_gtvpttot1r.nii.gz\n",
      "Erosion completed and saved to: /Intern Programming/data/output/t1t2gtv_5mm\\UMCG-2190498_gtvpttot2r.nii.gz\n",
      "Erosion completed and saved to: /Intern Programming/data/output/t1t2gtv_5mm\\UMCG-2190498_gtvtottot1r.nii.gz\n",
      "Erosion completed and saved to: /Intern Programming/data/output/t1t2gtv_5mm\\UMCG-2190498_gtvtottot2r.nii.gz\n",
      "Erosion completed and saved to: /Intern Programming/data/output/t1t2gtv_5mm\\UMCG-2191427_gtvpttot1r.nii.gz\n",
      "Erosion completed and saved to: /Intern Programming/data/output/t1t2gtv_5mm\\UMCG-2191427_gtvpttot2r.nii.gz\n",
      "Erosion completed and saved to: /Intern Programming/data/output/t1t2gtv_5mm\\UMCG-2191427_gtvtottot1r.nii.gz\n",
      "Erosion completed and saved to: /Intern Programming/data/output/t1t2gtv_5mm\\UMCG-2191427_gtvtottot2r.nii.gz\n",
      "Erosion completed and saved to: /Intern Programming/data/output/t1t2gtv_5mm\\UMCG-2194374_gtvlntot1r.nii.gz\n",
      "Erosion completed and saved to: /Intern Programming/data/output/t1t2gtv_5mm\\UMCG-2194374_gtvlntot2r.nii.gz\n",
      "Erosion completed and saved to: /Intern Programming/data/output/t1t2gtv_5mm\\UMCG-2194374_gtvpttot1r.nii.gz\n",
      "Erosion completed and saved to: /Intern Programming/data/output/t1t2gtv_5mm\\UMCG-2194374_gtvpttot2r.nii.gz\n",
      "Erosion completed and saved to: /Intern Programming/data/output/t1t2gtv_5mm\\UMCG-2194374_gtvtottot1r.nii.gz\n",
      "Erosion completed and saved to: /Intern Programming/data/output/t1t2gtv_5mm\\UMCG-2194374_gtvtottot2r.nii.gz\n",
      "Erosion completed and saved to: /Intern Programming/data/output/t1t2gtv_5mm\\UMCG-2195692_gtvpttot1r.nii.gz\n",
      "Erosion completed and saved to: /Intern Programming/data/output/t1t2gtv_5mm\\UMCG-2195692_gtvpttot2r.nii.gz\n",
      "Erosion completed and saved to: /Intern Programming/data/output/t1t2gtv_5mm\\UMCG-2195692_gtvtottot1r.nii.gz\n",
      "Erosion completed and saved to: /Intern Programming/data/output/t1t2gtv_5mm\\UMCG-2195692_gtvtottot2r.nii.gz\n",
      "Erosion completed and saved to: /Intern Programming/data/output/t1t2gtv_5mm\\UMCG-2196033_gtvlntot1r.nii.gz\n",
      "Erosion completed and saved to: /Intern Programming/data/output/t1t2gtv_5mm\\UMCG-2196033_gtvlntot2r.nii.gz\n",
      "Erosion completed and saved to: /Intern Programming/data/output/t1t2gtv_5mm\\UMCG-2196033_gtvpttot1r.nii.gz\n",
      "Erosion completed and saved to: /Intern Programming/data/output/t1t2gtv_5mm\\UMCG-2196033_gtvpttot2r.nii.gz\n",
      "Erosion completed and saved to: /Intern Programming/data/output/t1t2gtv_5mm\\UMCG-2196033_gtvtottot1r.nii.gz\n",
      "Erosion completed and saved to: /Intern Programming/data/output/t1t2gtv_5mm\\UMCG-2196033_gtvtottot2r.nii.gz\n",
      "Erosion completed and saved to: /Intern Programming/data/output/t1t2gtv_5mm\\UMCG-2196514_gtvpttot1r.nii.gz\n",
      "Erosion completed and saved to: /Intern Programming/data/output/t1t2gtv_5mm\\UMCG-2196514_gtvpttot2r.nii.gz\n",
      "Erosion completed and saved to: /Intern Programming/data/output/t1t2gtv_5mm\\UMCG-2196514_gtvtottot1r.nii.gz\n",
      "Erosion completed and saved to: /Intern Programming/data/output/t1t2gtv_5mm\\UMCG-2196514_gtvtottot2r.nii.gz\n",
      "Erosion completed and saved to: /Intern Programming/data/output/t1t2gtv_5mm\\UMCG-2197393_gtvpttot1r.nii.gz\n",
      "Erosion completed and saved to: /Intern Programming/data/output/t1t2gtv_5mm\\UMCG-2197393_gtvpttot2r.nii.gz\n",
      "Erosion completed and saved to: /Intern Programming/data/output/t1t2gtv_5mm\\UMCG-2197393_gtvtottot1r.nii.gz\n",
      "Erosion completed and saved to: /Intern Programming/data/output/t1t2gtv_5mm\\UMCG-2197393_gtvtottot2r.nii.gz\n",
      "Erosion completed and saved to: /Intern Programming/data/output/t1t2gtv_5mm\\UMCG-2198770_gtvlntot1r.nii.gz\n",
      "Erosion completed and saved to: /Intern Programming/data/output/t1t2gtv_5mm\\UMCG-2198770_gtvlntot2r.nii.gz\n",
      "Erosion completed and saved to: /Intern Programming/data/output/t1t2gtv_5mm\\UMCG-2198770_gtvpttot1r.nii.gz\n",
      "Erosion completed and saved to: /Intern Programming/data/output/t1t2gtv_5mm\\UMCG-2198770_gtvpttot2r.nii.gz\n",
      "Erosion completed and saved to: /Intern Programming/data/output/t1t2gtv_5mm\\UMCG-2198770_gtvtottot1r.nii.gz\n",
      "Erosion completed and saved to: /Intern Programming/data/output/t1t2gtv_5mm\\UMCG-2198770_gtvtottot2r.nii.gz\n",
      "Erosion completed and saved to: /Intern Programming/data/output/t1t2gtv_5mm\\UMCG-2199947_gtvpttot1r.nii.gz\n",
      "Erosion completed and saved to: /Intern Programming/data/output/t1t2gtv_5mm\\UMCG-2199947_gtvpttot2r.nii.gz\n",
      "Erosion completed and saved to: /Intern Programming/data/output/t1t2gtv_5mm\\UMCG-2199947_gtvtottot1r.nii.gz\n",
      "Erosion completed and saved to: /Intern Programming/data/output/t1t2gtv_5mm\\UMCG-2199947_gtvtottot2r.nii.gz\n",
      "Erosion completed and saved to: /Intern Programming/data/output/t1t2gtv_5mm\\UMCG-2201781_gtvlntot1r.nii.gz\n",
      "Erosion completed and saved to: /Intern Programming/data/output/t1t2gtv_5mm\\UMCG-2201781_gtvlntot2r.nii.gz\n",
      "Erosion completed and saved to: /Intern Programming/data/output/t1t2gtv_5mm\\UMCG-2201781_gtvpttot1r.nii.gz\n",
      "Erosion completed and saved to: /Intern Programming/data/output/t1t2gtv_5mm\\UMCG-2201781_gtvpttot2r.nii.gz\n",
      "Erosion completed and saved to: /Intern Programming/data/output/t1t2gtv_5mm\\UMCG-2201781_gtvtottot1r.nii.gz\n",
      "Erosion completed and saved to: /Intern Programming/data/output/t1t2gtv_5mm\\UMCG-2201781_gtvtottot2r.nii.gz\n",
      "Erosion completed and saved to: /Intern Programming/data/output/t1t2gtv_5mm\\UMCG-2202350_gtvpttot1r.nii.gz\n",
      "Erosion completed and saved to: /Intern Programming/data/output/t1t2gtv_5mm\\UMCG-2202350_gtvpttot2r.nii.gz\n",
      "Erosion completed and saved to: /Intern Programming/data/output/t1t2gtv_5mm\\UMCG-2202350_gtvtottot1r.nii.gz\n",
      "Erosion completed and saved to: /Intern Programming/data/output/t1t2gtv_5mm\\UMCG-2202350_gtvtottot2r.nii.gz\n",
      "Erosion completed and saved to: /Intern Programming/data/output/t1t2gtv_5mm\\UMCG-2202380_gtvlntot1r.nii.gz\n",
      "Erosion completed and saved to: /Intern Programming/data/output/t1t2gtv_5mm\\UMCG-2202380_gtvlntot2r.nii.gz\n",
      "Erosion completed and saved to: /Intern Programming/data/output/t1t2gtv_5mm\\UMCG-2202380_gtvpttot1r.nii.gz\n",
      "Erosion completed and saved to: /Intern Programming/data/output/t1t2gtv_5mm\\UMCG-2202380_gtvpttot2r.nii.gz\n",
      "Erosion completed and saved to: /Intern Programming/data/output/t1t2gtv_5mm\\UMCG-2202380_gtvtottot1r.nii.gz\n",
      "Erosion completed and saved to: /Intern Programming/data/output/t1t2gtv_5mm\\UMCG-2202380_gtvtottot2r.nii.gz\n",
      "Erosion completed and saved to: /Intern Programming/data/output/t1t2gtv_5mm\\UMCG-2204685_gtvpttot1r.nii.gz\n",
      "Erosion completed and saved to: /Intern Programming/data/output/t1t2gtv_5mm\\UMCG-2204685_gtvpttot2r.nii.gz\n",
      "Erosion completed and saved to: /Intern Programming/data/output/t1t2gtv_5mm\\UMCG-2204685_gtvtottot1r.nii.gz\n",
      "Erosion completed and saved to: /Intern Programming/data/output/t1t2gtv_5mm\\UMCG-2204685_gtvtottot2r.nii.gz\n",
      "Erosion completed and saved to: /Intern Programming/data/output/t1t2gtv_5mm\\UMCG-2209398_gtvlntot1r.nii.gz\n",
      "Erosion completed and saved to: /Intern Programming/data/output/t1t2gtv_5mm\\UMCG-2209398_gtvlntot2r.nii.gz\n",
      "Erosion completed and saved to: /Intern Programming/data/output/t1t2gtv_5mm\\UMCG-2209398_gtvpttot1r.nii.gz\n",
      "Erosion completed and saved to: /Intern Programming/data/output/t1t2gtv_5mm\\UMCG-2209398_gtvpttot2r.nii.gz\n",
      "Erosion completed and saved to: /Intern Programming/data/output/t1t2gtv_5mm\\UMCG-2209398_gtvtottot1r.nii.gz\n",
      "Erosion completed and saved to: /Intern Programming/data/output/t1t2gtv_5mm\\UMCG-2209398_gtvtottot2r.nii.gz\n",
      "Erosion completed and saved to: /Intern Programming/data/output/t1t2gtv_5mm\\UMCG-2215342_gtvlntot1r.nii.gz\n",
      "Erosion completed and saved to: /Intern Programming/data/output/t1t2gtv_5mm\\UMCG-2215342_gtvpttot1r.nii.gz\n",
      "Erosion completed and saved to: /Intern Programming/data/output/t1t2gtv_5mm\\UMCG-2215342_gtvpttot2r.nii.gz\n",
      "Erosion completed and saved to: /Intern Programming/data/output/t1t2gtv_5mm\\UMCG-2215342_gtvtottot1r.nii.gz\n",
      "Erosion completed and saved to: /Intern Programming/data/output/t1t2gtv_5mm\\UMCG-2215342_gtvtottot2r.nii.gz\n",
      "Erosion completed and saved to: /Intern Programming/data/output/t1t2gtv_5mm\\UMCG-2220431_gtvpttot1r.nii.gz\n",
      "Erosion completed and saved to: /Intern Programming/data/output/t1t2gtv_5mm\\UMCG-2220431_gtvtottot1r.nii.gz\n",
      "Erosion completed and saved to: /Intern Programming/data/output/t1t2gtv_5mm\\UMCG-2222276_gtvpttot1r.nii.gz\n",
      "Erosion completed and saved to: /Intern Programming/data/output/t1t2gtv_5mm\\UMCG-2222276_gtvpttot2r.nii.gz\n",
      "Erosion completed and saved to: /Intern Programming/data/output/t1t2gtv_5mm\\UMCG-2222276_gtvtottot1r.nii.gz\n",
      "Erosion completed and saved to: /Intern Programming/data/output/t1t2gtv_5mm\\UMCG-2222276_gtvtottot2r.nii.gz\n",
      "Erosion completed and saved to: /Intern Programming/data/output/t1t2gtv_5mm\\UMCG-2233809_gtvpttot1r.nii.gz\n",
      "Erosion completed and saved to: /Intern Programming/data/output/t1t2gtv_5mm\\UMCG-2233809_gtvpttot2r.nii.gz\n",
      "Erosion completed and saved to: /Intern Programming/data/output/t1t2gtv_5mm\\UMCG-2233809_gtvtottot1r.nii.gz\n",
      "Erosion completed and saved to: /Intern Programming/data/output/t1t2gtv_5mm\\UMCG-2233809_gtvtottot2r.nii.gz\n",
      "Erosion completed and saved to: /Intern Programming/data/output/t1t2gtv_5mm\\UMCG-2241013_gtvpttot1r.nii.gz\n",
      "Erosion completed and saved to: /Intern Programming/data/output/t1t2gtv_5mm\\UMCG-2241013_gtvpttot2r.nii.gz\n",
      "Erosion completed and saved to: /Intern Programming/data/output/t1t2gtv_5mm\\UMCG-2241013_gtvtottot1r.nii.gz\n",
      "Erosion completed and saved to: /Intern Programming/data/output/t1t2gtv_5mm\\UMCG-2241013_gtvtottot2r.nii.gz\n",
      "Erosion completed and saved to: /Intern Programming/data/output/t1t2gtv_5mm\\UMCG-2241472_gtvpttot1r.nii.gz\n",
      "Erosion completed and saved to: /Intern Programming/data/output/t1t2gtv_5mm\\UMCG-2241472_gtvpttot2r.nii.gz\n",
      "Erosion completed and saved to: /Intern Programming/data/output/t1t2gtv_5mm\\UMCG-2241472_gtvtottot1r.nii.gz\n",
      "Erosion completed and saved to: /Intern Programming/data/output/t1t2gtv_5mm\\UMCG-2241472_gtvtottot2r.nii.gz\n",
      "Erosion completed and saved to: /Intern Programming/data/output/t1t2gtv_5mm\\UMCG-2246159_gtvpttot1r.nii.gz\n",
      "Erosion completed and saved to: /Intern Programming/data/output/t1t2gtv_5mm\\UMCG-2246159_gtvpttot2r.nii.gz\n",
      "Erosion completed and saved to: /Intern Programming/data/output/t1t2gtv_5mm\\UMCG-2246159_gtvtottot1r.nii.gz\n",
      "Erosion completed and saved to: /Intern Programming/data/output/t1t2gtv_5mm\\UMCG-2246159_gtvtottot2r.nii.gz\n",
      "Erosion completed and saved to: /Intern Programming/data/output/t1t2gtv_5mm\\UMCG-2247074_gtvpttot1r.nii.gz\n",
      "Erosion completed and saved to: /Intern Programming/data/output/t1t2gtv_5mm\\UMCG-2247074_gtvpttot2r.nii.gz\n",
      "Erosion completed and saved to: /Intern Programming/data/output/t1t2gtv_5mm\\UMCG-2247074_gtvtottot1r.nii.gz\n",
      "Erosion completed and saved to: /Intern Programming/data/output/t1t2gtv_5mm\\UMCG-2247074_gtvtottot2r.nii.gz\n",
      "Erosion completed and saved to: /Intern Programming/data/output/t1t2gtv_5mm\\UMCG-2249022_gtvpttot1r.nii.gz\n",
      "Erosion completed and saved to: /Intern Programming/data/output/t1t2gtv_5mm\\UMCG-2249022_gtvpttot2r.nii.gz\n",
      "Erosion completed and saved to: /Intern Programming/data/output/t1t2gtv_5mm\\UMCG-2249022_gtvtottot1r.nii.gz\n",
      "Erosion completed and saved to: /Intern Programming/data/output/t1t2gtv_5mm\\UMCG-2249022_gtvtottot2r.nii.gz\n",
      "Erosion completed and saved to: /Intern Programming/data/output/t1t2gtv_5mm\\UMCG-2251273_gtvpttot1r.nii.gz\n",
      "Erosion completed and saved to: /Intern Programming/data/output/t1t2gtv_5mm\\UMCG-2251273_gtvpttot2r.nii.gz\n",
      "Erosion completed and saved to: /Intern Programming/data/output/t1t2gtv_5mm\\UMCG-2251273_gtvtottot1r.nii.gz\n",
      "Erosion completed and saved to: /Intern Programming/data/output/t1t2gtv_5mm\\UMCG-2251273_gtvtottot2r.nii.gz\n",
      "Erosion completed and saved to: /Intern Programming/data/output/t1t2gtv_5mm\\UMCG-2251515_gtvpttot1r.nii.gz\n",
      "Erosion completed and saved to: /Intern Programming/data/output/t1t2gtv_5mm\\UMCG-2251515_gtvpttot2r.nii.gz\n",
      "Erosion completed and saved to: /Intern Programming/data/output/t1t2gtv_5mm\\UMCG-2251515_gtvtottot1r.nii.gz\n",
      "Erosion completed and saved to: /Intern Programming/data/output/t1t2gtv_5mm\\UMCG-2251515_gtvtottot2r.nii.gz\n",
      "Erosion completed and saved to: /Intern Programming/data/output/t1t2gtv_5mm\\UMCG-2255337_gtvpttot1r.nii.gz\n",
      "Erosion completed and saved to: /Intern Programming/data/output/t1t2gtv_5mm\\UMCG-2255337_gtvpttot2r.nii.gz\n",
      "Erosion completed and saved to: /Intern Programming/data/output/t1t2gtv_5mm\\UMCG-2255337_gtvtottot1r.nii.gz\n",
      "Erosion completed and saved to: /Intern Programming/data/output/t1t2gtv_5mm\\UMCG-2255337_gtvtottot2r.nii.gz\n",
      "Erosion completed and saved to: /Intern Programming/data/output/t1t2gtv_5mm\\UMCG-2255565_gtvpttot1r.nii.gz\n",
      "Erosion completed and saved to: /Intern Programming/data/output/t1t2gtv_5mm\\UMCG-2255565_gtvpttot2r.nii.gz\n",
      "Erosion completed and saved to: /Intern Programming/data/output/t1t2gtv_5mm\\UMCG-2255565_gtvtottot1r.nii.gz\n",
      "Erosion completed and saved to: /Intern Programming/data/output/t1t2gtv_5mm\\UMCG-2255565_gtvtottot2r.nii.gz\n",
      "Erosion completed and saved to: /Intern Programming/data/output/t1t2gtv_5mm\\UMCG-2263740_gtvpttot1r.nii.gz\n",
      "Erosion completed and saved to: /Intern Programming/data/output/t1t2gtv_5mm\\UMCG-2263740_gtvpttot2r.nii.gz\n",
      "Erosion completed and saved to: /Intern Programming/data/output/t1t2gtv_5mm\\UMCG-2263740_gtvtottot1r.nii.gz\n",
      "Erosion completed and saved to: /Intern Programming/data/output/t1t2gtv_5mm\\UMCG-2263740_gtvtottot2r.nii.gz\n",
      "Erosion completed and saved to: /Intern Programming/data/output/t1t2gtv_5mm\\UMCG-2264779_gtvpttot1r.nii.gz\n",
      "Erosion completed and saved to: /Intern Programming/data/output/t1t2gtv_5mm\\UMCG-2264779_gtvpttot2r.nii.gz\n",
      "Erosion completed and saved to: /Intern Programming/data/output/t1t2gtv_5mm\\UMCG-2264779_gtvtottot1r.nii.gz\n",
      "Erosion completed and saved to: /Intern Programming/data/output/t1t2gtv_5mm\\UMCG-2264779_gtvtottot2r.nii.gz\n",
      "Erosion completed and saved to: /Intern Programming/data/output/t1t2gtv_5mm\\UMCG-2264907_gtvpttot1r.nii.gz\n",
      "Erosion completed and saved to: /Intern Programming/data/output/t1t2gtv_5mm\\UMCG-2264907_gtvpttot2r.nii.gz\n",
      "Erosion completed and saved to: /Intern Programming/data/output/t1t2gtv_5mm\\UMCG-2264907_gtvtottot1r.nii.gz\n",
      "Erosion completed and saved to: /Intern Programming/data/output/t1t2gtv_5mm\\UMCG-2264907_gtvtottot2r.nii.gz\n",
      "Erosion completed and saved to: /Intern Programming/data/output/t1t2gtv_5mm\\UMCG-2278873_gtvpttot1r.nii.gz\n",
      "Erosion completed and saved to: /Intern Programming/data/output/t1t2gtv_5mm\\UMCG-2278873_gtvpttot2r.nii.gz\n",
      "Erosion completed and saved to: /Intern Programming/data/output/t1t2gtv_5mm\\UMCG-2278873_gtvtottot1r.nii.gz\n",
      "Erosion completed and saved to: /Intern Programming/data/output/t1t2gtv_5mm\\UMCG-2278873_gtvtottot2r.nii.gz\n",
      "Erosion completed and saved to: /Intern Programming/data/output/t1t2gtv_5mm\\UMCG-2282663_gtvpttot1r.nii.gz\n",
      "Erosion completed and saved to: /Intern Programming/data/output/t1t2gtv_5mm\\UMCG-2282663_gtvpttot2r.nii.gz\n",
      "Erosion completed and saved to: /Intern Programming/data/output/t1t2gtv_5mm\\UMCG-2282663_gtvtottot1r.nii.gz\n",
      "Erosion completed and saved to: /Intern Programming/data/output/t1t2gtv_5mm\\UMCG-2282663_gtvtottot2r.nii.gz\n",
      "Erosion completed and saved to: /Intern Programming/data/output/t1t2gtv_5mm\\UMCG-2285986_gtvpttot1r.nii.gz\n",
      "Erosion completed and saved to: /Intern Programming/data/output/t1t2gtv_5mm\\UMCG-2285986_gtvpttot2r.nii.gz\n",
      "Erosion completed and saved to: /Intern Programming/data/output/t1t2gtv_5mm\\UMCG-2285986_gtvtottot1r.nii.gz\n",
      "Erosion completed and saved to: /Intern Programming/data/output/t1t2gtv_5mm\\UMCG-2285986_gtvtottot2r.nii.gz\n",
      "Erosion completed and saved to: /Intern Programming/data/output/t1t2gtv_5mm\\UMCG-2291679_gtvpttot1r.nii.gz\n",
      "Erosion completed and saved to: /Intern Programming/data/output/t1t2gtv_5mm\\UMCG-2291679_gtvpttot2r.nii.gz\n",
      "Erosion completed and saved to: /Intern Programming/data/output/t1t2gtv_5mm\\UMCG-2291679_gtvtottot1r.nii.gz\n",
      "Erosion completed and saved to: /Intern Programming/data/output/t1t2gtv_5mm\\UMCG-2291679_gtvtottot2r.nii.gz\n",
      "Erosion completed and saved to: /Intern Programming/data/output/t1t2gtv_5mm\\UMCG-2294422_gtvpttot1r.nii.gz\n",
      "Erosion completed and saved to: /Intern Programming/data/output/t1t2gtv_5mm\\UMCG-2294422_gtvpttot2r.nii.gz\n",
      "Erosion completed and saved to: /Intern Programming/data/output/t1t2gtv_5mm\\UMCG-2294422_gtvtottot1r.nii.gz\n",
      "Erosion completed and saved to: /Intern Programming/data/output/t1t2gtv_5mm\\UMCG-2294422_gtvtottot2r.nii.gz\n",
      "Erosion completed and saved to: /Intern Programming/data/output/t1t2gtv_5mm\\UMCG-2297238_gtvpttot1r.nii.gz\n",
      "Erosion completed and saved to: /Intern Programming/data/output/t1t2gtv_5mm\\UMCG-2297238_gtvpttot2r.nii.gz\n",
      "Erosion completed and saved to: /Intern Programming/data/output/t1t2gtv_5mm\\UMCG-2297238_gtvtottot1r.nii.gz\n",
      "Erosion completed and saved to: /Intern Programming/data/output/t1t2gtv_5mm\\UMCG-2297238_gtvtottot2r.nii.gz\n",
      "Erosion completed and saved to: /Intern Programming/data/output/t1t2gtv_5mm\\UMCG-2426659_gtvpttot1r.nii.gz\n",
      "Erosion completed and saved to: /Intern Programming/data/output/t1t2gtv_5mm\\UMCG-2426659_gtvpttot2r.nii.gz\n",
      "Erosion completed and saved to: /Intern Programming/data/output/t1t2gtv_5mm\\UMCG-2426659_gtvtottot1r.nii.gz\n",
      "Erosion completed and saved to: /Intern Programming/data/output/t1t2gtv_5mm\\UMCG-2426659_gtvtottot2r.nii.gz\n",
      "Erosion completed and saved to: /Intern Programming/data/output/t1t2gtv_5mm\\UMCG-2440978_gtvlntot1r.nii.gz\n",
      "Erosion completed and saved to: /Intern Programming/data/output/t1t2gtv_5mm\\UMCG-2440978_gtvlntot2r.nii.gz\n",
      "Erosion completed and saved to: /Intern Programming/data/output/t1t2gtv_5mm\\UMCG-2440978_gtvpttot1r.nii.gz\n",
      "Erosion completed and saved to: /Intern Programming/data/output/t1t2gtv_5mm\\UMCG-2440978_gtvpttot2r.nii.gz\n",
      "Erosion completed and saved to: /Intern Programming/data/output/t1t2gtv_5mm\\UMCG-2440978_gtvtottot1r.nii.gz\n",
      "Erosion completed and saved to: /Intern Programming/data/output/t1t2gtv_5mm\\UMCG-2440978_gtvtottot2r.nii.gz\n",
      "Erosion completed and saved to: /Intern Programming/data/output/t1t2gtv_5mm\\UMCG-2487452_gtvpttot1r.nii.gz\n",
      "Erosion completed and saved to: /Intern Programming/data/output/t1t2gtv_5mm\\UMCG-2487452_gtvpttot2r.nii.gz\n",
      "Erosion completed and saved to: /Intern Programming/data/output/t1t2gtv_5mm\\UMCG-2487452_gtvtottot1r.nii.gz\n",
      "Erosion completed and saved to: /Intern Programming/data/output/t1t2gtv_5mm\\UMCG-2487452_gtvtottot2r.nii.gz\n",
      "Erosion completed and saved to: /Intern Programming/data/output/t1t2gtv_5mm\\UMCG-2523782_gtvpttot1r.nii.gz\n",
      "Erosion completed and saved to: /Intern Programming/data/output/t1t2gtv_5mm\\UMCG-2523782_gtvtottot1r.nii.gz\n",
      "Erosion completed and saved to: /Intern Programming/data/output/t1t2gtv_5mm\\UMCG-2580821_gtvpttot1r.nii.gz\n",
      "Erosion completed and saved to: /Intern Programming/data/output/t1t2gtv_5mm\\UMCG-2580821_gtvpttot2r.nii.gz\n",
      "Erosion completed and saved to: /Intern Programming/data/output/t1t2gtv_5mm\\UMCG-2580821_gtvtottot1r.nii.gz\n",
      "Erosion completed and saved to: /Intern Programming/data/output/t1t2gtv_5mm\\UMCG-2580821_gtvtottot2r.nii.gz\n",
      "Erosion completed and saved to: /Intern Programming/data/output/t1t2gtv_5mm\\UMCG-2690513_gtvpttot1r.nii.gz\n",
      "Erosion completed and saved to: /Intern Programming/data/output/t1t2gtv_5mm\\UMCG-2690513_gtvpttot2r.nii.gz\n",
      "Erosion completed and saved to: /Intern Programming/data/output/t1t2gtv_5mm\\UMCG-2690513_gtvtottot1r.nii.gz\n",
      "Erosion completed and saved to: /Intern Programming/data/output/t1t2gtv_5mm\\UMCG-2690513_gtvtottot2r.nii.gz\n",
      "Erosion completed and saved to: /Intern Programming/data/output/t1t2gtv_5mm\\UMCG-2724732_gtvpttot1r.nii.gz\n",
      "Erosion completed and saved to: /Intern Programming/data/output/t1t2gtv_5mm\\UMCG-2724732_gtvpttot2r.nii.gz\n",
      "Erosion completed and saved to: /Intern Programming/data/output/t1t2gtv_5mm\\UMCG-2724732_gtvtottot1r.nii.gz\n",
      "Erosion completed and saved to: /Intern Programming/data/output/t1t2gtv_5mm\\UMCG-2724732_gtvtottot2r.nii.gz\n",
      "Erosion completed and saved to: /Intern Programming/data/output/t1t2gtv_5mm\\UMCG-2740797_gtvlntot1r.nii.gz\n",
      "Erosion completed and saved to: /Intern Programming/data/output/t1t2gtv_5mm\\UMCG-2740797_gtvlntot2r.nii.gz\n",
      "Erosion completed and saved to: /Intern Programming/data/output/t1t2gtv_5mm\\UMCG-2740797_gtvpttot1r.nii.gz\n",
      "Erosion completed and saved to: /Intern Programming/data/output/t1t2gtv_5mm\\UMCG-2740797_gtvpttot2r.nii.gz\n",
      "Erosion completed and saved to: /Intern Programming/data/output/t1t2gtv_5mm\\UMCG-2740797_gtvtottot1r.nii.gz\n",
      "Erosion completed and saved to: /Intern Programming/data/output/t1t2gtv_5mm\\UMCG-2740797_gtvtottot2r.nii.gz\n",
      "Erosion completed and saved to: /Intern Programming/data/output/t1t2gtv_5mm\\UMCG-2772931_gtvpttot1r.nii.gz\n",
      "Erosion completed and saved to: /Intern Programming/data/output/t1t2gtv_5mm\\UMCG-2772931_gtvtottot1r.nii.gz\n",
      "Erosion completed and saved to: /Intern Programming/data/output/t1t2gtv_5mm\\UMCG-2776839_gtvpttot1r.nii.gz\n",
      "Erosion completed and saved to: /Intern Programming/data/output/t1t2gtv_5mm\\UMCG-2776839_gtvpttot2r.nii.gz\n",
      "Erosion completed and saved to: /Intern Programming/data/output/t1t2gtv_5mm\\UMCG-2776839_gtvtottot1r.nii.gz\n",
      "Erosion completed and saved to: /Intern Programming/data/output/t1t2gtv_5mm\\UMCG-2776839_gtvtottot2r.nii.gz\n",
      "Erosion completed and saved to: /Intern Programming/data/output/t1t2gtv_5mm\\UMCG-2781091_gtvpttot1r.nii.gz\n",
      "Erosion completed and saved to: /Intern Programming/data/output/t1t2gtv_5mm\\UMCG-2781091_gtvpttot2r.nii.gz\n",
      "Erosion completed and saved to: /Intern Programming/data/output/t1t2gtv_5mm\\UMCG-2781091_gtvtottot1r.nii.gz\n",
      "Erosion completed and saved to: /Intern Programming/data/output/t1t2gtv_5mm\\UMCG-2781091_gtvtottot2r.nii.gz\n",
      "Erosion completed and saved to: /Intern Programming/data/output/t1t2gtv_5mm\\UMCG-2783403_gtvpttot1r.nii.gz\n",
      "Erosion completed and saved to: /Intern Programming/data/output/t1t2gtv_5mm\\UMCG-2783403_gtvpttot2r.nii.gz\n",
      "Erosion completed and saved to: /Intern Programming/data/output/t1t2gtv_5mm\\UMCG-2783403_gtvtottot1r.nii.gz\n",
      "Erosion completed and saved to: /Intern Programming/data/output/t1t2gtv_5mm\\UMCG-2783403_gtvtottot2r.nii.gz\n",
      "Erosion completed and saved to: /Intern Programming/data/output/t1t2gtv_5mm\\UMCG-2933472_gtvpttot1r.nii.gz\n",
      "Erosion completed and saved to: /Intern Programming/data/output/t1t2gtv_5mm\\UMCG-2933472_gtvtottot1r.nii.gz\n",
      "Erosion completed and saved to: /Intern Programming/data/output/t1t2gtv_5mm\\UMCG-2950432_gtvpttot1r.nii.gz\n",
      "Erosion completed and saved to: /Intern Programming/data/output/t1t2gtv_5mm\\UMCG-2950432_gtvpttot2r.nii.gz\n",
      "Erosion completed and saved to: /Intern Programming/data/output/t1t2gtv_5mm\\UMCG-2950432_gtvtottot1r.nii.gz\n",
      "Erosion completed and saved to: /Intern Programming/data/output/t1t2gtv_5mm\\UMCG-2950432_gtvtottot2r.nii.gz\n",
      "Erosion completed and saved to: /Intern Programming/data/output/t1t2gtv_5mm\\UMCG-2985041_gtvpttot1r.nii.gz\n",
      "Erosion completed and saved to: /Intern Programming/data/output/t1t2gtv_5mm\\UMCG-2985041_gtvpttot2r.nii.gz\n",
      "Erosion completed and saved to: /Intern Programming/data/output/t1t2gtv_5mm\\UMCG-2985041_gtvtottot1r.nii.gz\n",
      "Erosion completed and saved to: /Intern Programming/data/output/t1t2gtv_5mm\\UMCG-2985041_gtvtottot2r.nii.gz\n",
      "Erosion completed and saved to: /Intern Programming/data/output/t1t2gtv_5mm\\UMCG-3052392_gtvpttot1r.nii.gz\n",
      "Erosion completed and saved to: /Intern Programming/data/output/t1t2gtv_5mm\\UMCG-3052392_gtvpttot2r.nii.gz\n",
      "Erosion completed and saved to: /Intern Programming/data/output/t1t2gtv_5mm\\UMCG-3052392_gtvtottot1r.nii.gz\n",
      "Erosion completed and saved to: /Intern Programming/data/output/t1t2gtv_5mm\\UMCG-3052392_gtvtottot2r.nii.gz\n",
      "Erosion completed and saved to: /Intern Programming/data/output/t1t2gtv_5mm\\UMCG-3184299_gtvlntot1r.nii.gz\n",
      "Erosion completed and saved to: /Intern Programming/data/output/t1t2gtv_5mm\\UMCG-3184299_gtvlntot2r.nii.gz\n",
      "Erosion completed and saved to: /Intern Programming/data/output/t1t2gtv_5mm\\UMCG-3184299_gtvpttot1r.nii.gz\n",
      "Erosion completed and saved to: /Intern Programming/data/output/t1t2gtv_5mm\\UMCG-3184299_gtvpttot2r.nii.gz\n",
      "Erosion completed and saved to: /Intern Programming/data/output/t1t2gtv_5mm\\UMCG-3184299_gtvtottot1r.nii.gz\n",
      "Erosion completed and saved to: /Intern Programming/data/output/t1t2gtv_5mm\\UMCG-3184299_gtvtottot2r.nii.gz\n",
      "Erosion completed and saved to: /Intern Programming/data/output/t1t2gtv_5mm\\UMCG-3220326_gtvpttot1r.nii.gz\n",
      "Erosion completed and saved to: /Intern Programming/data/output/t1t2gtv_5mm\\UMCG-3220326_gtvpttot2r.nii.gz\n",
      "Erosion completed and saved to: /Intern Programming/data/output/t1t2gtv_5mm\\UMCG-3220326_gtvtottot1r.nii.gz\n",
      "Erosion completed and saved to: /Intern Programming/data/output/t1t2gtv_5mm\\UMCG-3220326_gtvtottot2r.nii.gz\n",
      "Erosion completed and saved to: /Intern Programming/data/output/t1t2gtv_5mm\\UMCG-3232494_gtvpttot1r.nii.gz\n",
      "Erosion completed and saved to: /Intern Programming/data/output/t1t2gtv_5mm\\UMCG-3232494_gtvpttot2r.nii.gz\n",
      "Erosion completed and saved to: /Intern Programming/data/output/t1t2gtv_5mm\\UMCG-3232494_gtvtottot1r.nii.gz\n",
      "Erosion completed and saved to: /Intern Programming/data/output/t1t2gtv_5mm\\UMCG-3232494_gtvtottot2r.nii.gz\n",
      "Erosion completed and saved to: /Intern Programming/data/output/t1t2gtv_5mm\\UMCG-3274619_gtvpttot1r.nii.gz\n",
      "Erosion completed and saved to: /Intern Programming/data/output/t1t2gtv_5mm\\UMCG-3274619_gtvpttot2r.nii.gz\n",
      "Erosion completed and saved to: /Intern Programming/data/output/t1t2gtv_5mm\\UMCG-3274619_gtvtottot1r.nii.gz\n",
      "Erosion completed and saved to: /Intern Programming/data/output/t1t2gtv_5mm\\UMCG-3274619_gtvtottot2r.nii.gz\n",
      "Erosion completed and saved to: /Intern Programming/data/output/t1t2gtv_5mm\\UMCG-3302076_gtvpttot1r.nii.gz\n",
      "Erosion completed and saved to: /Intern Programming/data/output/t1t2gtv_5mm\\UMCG-3302076_gtvtottot1r.nii.gz\n",
      "Erosion completed and saved to: /Intern Programming/data/output/t1t2gtv_5mm\\UMCG-3307103_gtvpttot1r.nii.gz\n",
      "Erosion completed and saved to: /Intern Programming/data/output/t1t2gtv_5mm\\UMCG-3307103_gtvpttot2r.nii.gz\n",
      "Erosion completed and saved to: /Intern Programming/data/output/t1t2gtv_5mm\\UMCG-3307103_gtvtottot1r.nii.gz\n",
      "Erosion completed and saved to: /Intern Programming/data/output/t1t2gtv_5mm\\UMCG-3307103_gtvtottot2r.nii.gz\n",
      "Erosion completed and saved to: /Intern Programming/data/output/t1t2gtv_5mm\\UMCG-3325216_gtvpttot1r.nii.gz\n",
      "Erosion completed and saved to: /Intern Programming/data/output/t1t2gtv_5mm\\UMCG-3325216_gtvpttot2r.nii.gz\n",
      "Erosion completed and saved to: /Intern Programming/data/output/t1t2gtv_5mm\\UMCG-3325216_gtvtottot1r.nii.gz\n",
      "Erosion completed and saved to: /Intern Programming/data/output/t1t2gtv_5mm\\UMCG-3325216_gtvtottot2r.nii.gz\n",
      "Erosion completed and saved to: /Intern Programming/data/output/t1t2gtv_5mm\\UMCG-3358240_gtvpttot1r.nii.gz\n",
      "Erosion completed and saved to: /Intern Programming/data/output/t1t2gtv_5mm\\UMCG-3358240_gtvtottot1r.nii.gz\n",
      "Erosion completed and saved to: /Intern Programming/data/output/t1t2gtv_5mm\\UMCG-3378098_gtvpttot1r.nii.gz\n",
      "Erosion completed and saved to: /Intern Programming/data/output/t1t2gtv_5mm\\UMCG-3378098_gtvpttot2r.nii.gz\n",
      "Erosion completed and saved to: /Intern Programming/data/output/t1t2gtv_5mm\\UMCG-3378098_gtvtottot1r.nii.gz\n",
      "Erosion completed and saved to: /Intern Programming/data/output/t1t2gtv_5mm\\UMCG-3378098_gtvtottot2r.nii.gz\n",
      "Erosion completed and saved to: /Intern Programming/data/output/t1t2gtv_5mm\\UMCG-3453949_gtvpttot1r.nii.gz\n",
      "Erosion completed and saved to: /Intern Programming/data/output/t1t2gtv_5mm\\UMCG-3453949_gtvpttot2r.nii.gz\n",
      "Erosion completed and saved to: /Intern Programming/data/output/t1t2gtv_5mm\\UMCG-3453949_gtvtottot1r.nii.gz\n",
      "Erosion completed and saved to: /Intern Programming/data/output/t1t2gtv_5mm\\UMCG-3453949_gtvtottot2r.nii.gz\n",
      "Erosion completed and saved to: /Intern Programming/data/output/t1t2gtv_5mm\\UMCG-3482925_gtvpttot1r.nii.gz\n",
      "Erosion completed and saved to: /Intern Programming/data/output/t1t2gtv_5mm\\UMCG-3482925_gtvpttot2r.nii.gz\n",
      "Erosion completed and saved to: /Intern Programming/data/output/t1t2gtv_5mm\\UMCG-3482925_gtvtottot1r.nii.gz\n",
      "Erosion completed and saved to: /Intern Programming/data/output/t1t2gtv_5mm\\UMCG-3482925_gtvtottot2r.nii.gz\n",
      "Erosion completed and saved to: /Intern Programming/data/output/t1t2gtv_5mm\\UMCG-3608845_gtvpttot1r.nii.gz\n",
      "Erosion completed and saved to: /Intern Programming/data/output/t1t2gtv_5mm\\UMCG-3608845_gtvtottot1r.nii.gz\n",
      "Erosion completed and saved to: /Intern Programming/data/output/t1t2gtv_5mm\\UMCG-3628692_gtvpttot1r.nii.gz\n",
      "Erosion completed and saved to: /Intern Programming/data/output/t1t2gtv_5mm\\UMCG-3628692_gtvpttot2r.nii.gz\n",
      "Erosion completed and saved to: /Intern Programming/data/output/t1t2gtv_5mm\\UMCG-3628692_gtvtottot1r.nii.gz\n",
      "Erosion completed and saved to: /Intern Programming/data/output/t1t2gtv_5mm\\UMCG-3628692_gtvtottot2r.nii.gz\n",
      "Erosion completed and saved to: /Intern Programming/data/output/t1t2gtv_5mm\\UMCG-3731205_gtvpttot1r.nii.gz\n",
      "Erosion completed and saved to: /Intern Programming/data/output/t1t2gtv_5mm\\UMCG-3731205_gtvpttot2r.nii.gz\n",
      "Erosion completed and saved to: /Intern Programming/data/output/t1t2gtv_5mm\\UMCG-3731205_gtvtottot1r.nii.gz\n",
      "Erosion completed and saved to: /Intern Programming/data/output/t1t2gtv_5mm\\UMCG-3731205_gtvtottot2r.nii.gz\n",
      "Erosion completed and saved to: /Intern Programming/data/output/t1t2gtv_5mm\\UMCG-3738311_gtvpttot1r.nii.gz\n",
      "Erosion completed and saved to: /Intern Programming/data/output/t1t2gtv_5mm\\UMCG-3738311_gtvpttot2r.nii.gz\n",
      "Erosion completed and saved to: /Intern Programming/data/output/t1t2gtv_5mm\\UMCG-3738311_gtvtottot1r.nii.gz\n",
      "Erosion completed and saved to: /Intern Programming/data/output/t1t2gtv_5mm\\UMCG-3738311_gtvtottot2r.nii.gz\n",
      "Erosion completed and saved to: /Intern Programming/data/output/t1t2gtv_5mm\\UMCG-3761226_gtvpttot1r.nii.gz\n",
      "Erosion completed and saved to: /Intern Programming/data/output/t1t2gtv_5mm\\UMCG-3761226_gtvpttot2r.nii.gz\n",
      "Erosion completed and saved to: /Intern Programming/data/output/t1t2gtv_5mm\\UMCG-3761226_gtvtottot1r.nii.gz\n",
      "Erosion completed and saved to: /Intern Programming/data/output/t1t2gtv_5mm\\UMCG-3761226_gtvtottot2r.nii.gz\n",
      "Erosion completed and saved to: /Intern Programming/data/output/t1t2gtv_5mm\\UMCG-3824931_gtvpttot1r.nii.gz\n",
      "Erosion completed and saved to: /Intern Programming/data/output/t1t2gtv_5mm\\UMCG-3824931_gtvtottot1r.nii.gz\n",
      "Erosion completed and saved to: /Intern Programming/data/output/t1t2gtv_5mm\\UMCG-3833960_gtvpttot1r.nii.gz\n",
      "Erosion completed and saved to: /Intern Programming/data/output/t1t2gtv_5mm\\UMCG-3833960_gtvpttot2r.nii.gz\n",
      "Erosion completed and saved to: /Intern Programming/data/output/t1t2gtv_5mm\\UMCG-3833960_gtvtottot1r.nii.gz\n",
      "Erosion completed and saved to: /Intern Programming/data/output/t1t2gtv_5mm\\UMCG-3833960_gtvtottot2r.nii.gz\n",
      "Erosion completed and saved to: /Intern Programming/data/output/t1t2gtv_5mm\\UMCG-3851899_gtvlntot1r.nii.gz\n",
      "Erosion completed and saved to: /Intern Programming/data/output/t1t2gtv_5mm\\UMCG-3851899_gtvpttot1r.nii.gz\n",
      "Erosion completed and saved to: /Intern Programming/data/output/t1t2gtv_5mm\\UMCG-3851899_gtvtottot1r.nii.gz\n",
      "Erosion completed and saved to: /Intern Programming/data/output/t1t2gtv_5mm\\UMCG-3857371_gtvpttot1r.nii.gz\n",
      "Erosion completed and saved to: /Intern Programming/data/output/t1t2gtv_5mm\\UMCG-3857371_gtvpttot2r.nii.gz\n",
      "Erosion completed and saved to: /Intern Programming/data/output/t1t2gtv_5mm\\UMCG-3857371_gtvtottot1r.nii.gz\n",
      "Erosion completed and saved to: /Intern Programming/data/output/t1t2gtv_5mm\\UMCG-3857371_gtvtottot2r.nii.gz\n",
      "Erosion completed and saved to: /Intern Programming/data/output/t1t2gtv_5mm\\UMCG-3979255_gtvlntot1r.nii.gz\n",
      "Erosion completed and saved to: /Intern Programming/data/output/t1t2gtv_5mm\\UMCG-3979255_gtvlntot2r.nii.gz\n",
      "Erosion completed and saved to: /Intern Programming/data/output/t1t2gtv_5mm\\UMCG-3979255_gtvpttot1r.nii.gz\n",
      "Erosion completed and saved to: /Intern Programming/data/output/t1t2gtv_5mm\\UMCG-3979255_gtvpttot2r.nii.gz\n",
      "Erosion completed and saved to: /Intern Programming/data/output/t1t2gtv_5mm\\UMCG-3979255_gtvtottot1r.nii.gz\n",
      "Erosion completed and saved to: /Intern Programming/data/output/t1t2gtv_5mm\\UMCG-3979255_gtvtottot2r.nii.gz\n",
      "Erosion completed and saved to: /Intern Programming/data/output/t1t2gtv_5mm\\UMCG-4022677_gtvpttot1r.nii.gz\n",
      "Erosion completed and saved to: /Intern Programming/data/output/t1t2gtv_5mm\\UMCG-4022677_gtvpttot2r.nii.gz\n",
      "Erosion completed and saved to: /Intern Programming/data/output/t1t2gtv_5mm\\UMCG-4022677_gtvtottot1r.nii.gz\n",
      "Erosion completed and saved to: /Intern Programming/data/output/t1t2gtv_5mm\\UMCG-4022677_gtvtottot2r.nii.gz\n",
      "Erosion completed and saved to: /Intern Programming/data/output/t1t2gtv_5mm\\UMCG-4055202_gtvlntot1r.nii.gz\n",
      "Erosion completed and saved to: /Intern Programming/data/output/t1t2gtv_5mm\\UMCG-4055202_gtvlntot2r.nii.gz\n",
      "Erosion completed and saved to: /Intern Programming/data/output/t1t2gtv_5mm\\UMCG-4055202_gtvpttot1r.nii.gz\n",
      "Erosion completed and saved to: /Intern Programming/data/output/t1t2gtv_5mm\\UMCG-4055202_gtvpttot2r.nii.gz\n",
      "Erosion completed and saved to: /Intern Programming/data/output/t1t2gtv_5mm\\UMCG-4055202_gtvtottot1r.nii.gz\n",
      "Erosion completed and saved to: /Intern Programming/data/output/t1t2gtv_5mm\\UMCG-4055202_gtvtottot2r.nii.gz\n",
      "Erosion completed and saved to: /Intern Programming/data/output/t1t2gtv_5mm\\UMCG-4081263_gtvlntot1r.nii.gz\n",
      "Erosion completed and saved to: /Intern Programming/data/output/t1t2gtv_5mm\\UMCG-4081263_gtvlntot2r.nii.gz\n",
      "Erosion completed and saved to: /Intern Programming/data/output/t1t2gtv_5mm\\UMCG-4081263_gtvpttot1r.nii.gz\n",
      "Erosion completed and saved to: /Intern Programming/data/output/t1t2gtv_5mm\\UMCG-4081263_gtvpttot2r.nii.gz\n",
      "Erosion completed and saved to: /Intern Programming/data/output/t1t2gtv_5mm\\UMCG-4081263_gtvtottot1r.nii.gz\n",
      "Erosion completed and saved to: /Intern Programming/data/output/t1t2gtv_5mm\\UMCG-4081263_gtvtottot2r.nii.gz\n",
      "Erosion completed and saved to: /Intern Programming/data/output/t1t2gtv_5mm\\UMCG-4084679_gtvpttot1r.nii.gz\n",
      "Erosion completed and saved to: /Intern Programming/data/output/t1t2gtv_5mm\\UMCG-4084679_gtvtottot1r.nii.gz\n",
      "Erosion completed and saved to: /Intern Programming/data/output/t1t2gtv_5mm\\UMCG-4134310_gtvpttot1r.nii.gz\n",
      "Erosion completed and saved to: /Intern Programming/data/output/t1t2gtv_5mm\\UMCG-4134310_gtvpttot2r.nii.gz\n",
      "Erosion completed and saved to: /Intern Programming/data/output/t1t2gtv_5mm\\UMCG-4134310_gtvtottot1r.nii.gz\n",
      "Erosion completed and saved to: /Intern Programming/data/output/t1t2gtv_5mm\\UMCG-4134310_gtvtottot2r.nii.gz\n",
      "Erosion completed and saved to: /Intern Programming/data/output/t1t2gtv_5mm\\UMCG-4160083_gtvlntot1r.nii.gz\n",
      "Erosion completed and saved to: /Intern Programming/data/output/t1t2gtv_5mm\\UMCG-4160083_gtvlntot2r.nii.gz\n",
      "Erosion completed and saved to: /Intern Programming/data/output/t1t2gtv_5mm\\UMCG-4160083_gtvpttot1r.nii.gz\n",
      "Erosion completed and saved to: /Intern Programming/data/output/t1t2gtv_5mm\\UMCG-4160083_gtvpttot2r.nii.gz\n",
      "Erosion completed and saved to: /Intern Programming/data/output/t1t2gtv_5mm\\UMCG-4160083_gtvtottot1r.nii.gz\n",
      "Erosion completed and saved to: /Intern Programming/data/output/t1t2gtv_5mm\\UMCG-4160083_gtvtottot2r.nii.gz\n",
      "Erosion completed and saved to: /Intern Programming/data/output/t1t2gtv_5mm\\UMCG-4165333_gtvpttot1r.nii.gz\n",
      "Erosion completed and saved to: /Intern Programming/data/output/t1t2gtv_5mm\\UMCG-4165333_gtvpttot2r.nii.gz\n",
      "Erosion completed and saved to: /Intern Programming/data/output/t1t2gtv_5mm\\UMCG-4165333_gtvtottot1r.nii.gz\n",
      "Erosion completed and saved to: /Intern Programming/data/output/t1t2gtv_5mm\\UMCG-4165333_gtvtottot2r.nii.gz\n",
      "Erosion completed and saved to: /Intern Programming/data/output/t1t2gtv_5mm\\UMCG-4223355_gtvpttot1r.nii.gz\n",
      "Erosion completed and saved to: /Intern Programming/data/output/t1t2gtv_5mm\\UMCG-4223355_gtvpttot2r.nii.gz\n",
      "Erosion completed and saved to: /Intern Programming/data/output/t1t2gtv_5mm\\UMCG-4223355_gtvtottot1r.nii.gz\n",
      "Erosion completed and saved to: /Intern Programming/data/output/t1t2gtv_5mm\\UMCG-4223355_gtvtottot2r.nii.gz\n",
      "Erosion completed and saved to: /Intern Programming/data/output/t1t2gtv_5mm\\UMCG-4224256_gtvpttot1r.nii.gz\n",
      "Erosion completed and saved to: /Intern Programming/data/output/t1t2gtv_5mm\\UMCG-4224256_gtvpttot2r.nii.gz\n",
      "Erosion completed and saved to: /Intern Programming/data/output/t1t2gtv_5mm\\UMCG-4224256_gtvtottot1r.nii.gz\n",
      "Erosion completed and saved to: /Intern Programming/data/output/t1t2gtv_5mm\\UMCG-4224256_gtvtottot2r.nii.gz\n",
      "Erosion completed and saved to: /Intern Programming/data/output/t1t2gtv_5mm\\UMCG-4391448_gtvpttot1r.nii.gz\n",
      "Erosion completed and saved to: /Intern Programming/data/output/t1t2gtv_5mm\\UMCG-4391448_gtvpttot2r.nii.gz\n",
      "Erosion completed and saved to: /Intern Programming/data/output/t1t2gtv_5mm\\UMCG-4391448_gtvtottot1r.nii.gz\n",
      "Erosion completed and saved to: /Intern Programming/data/output/t1t2gtv_5mm\\UMCG-4391448_gtvtottot2r.nii.gz\n",
      "Erosion completed and saved to: /Intern Programming/data/output/t1t2gtv_5mm\\UMCG-4392265_gtvlntot1r.nii.gz\n",
      "Erosion completed and saved to: /Intern Programming/data/output/t1t2gtv_5mm\\UMCG-4392265_gtvlntot2r.nii.gz\n",
      "Erosion completed and saved to: /Intern Programming/data/output/t1t2gtv_5mm\\UMCG-4392265_gtvpttot1r.nii.gz\n",
      "Erosion completed and saved to: /Intern Programming/data/output/t1t2gtv_5mm\\UMCG-4392265_gtvpttot2r.nii.gz\n",
      "Erosion completed and saved to: /Intern Programming/data/output/t1t2gtv_5mm\\UMCG-4392265_gtvtottot1r.nii.gz\n",
      "Erosion completed and saved to: /Intern Programming/data/output/t1t2gtv_5mm\\UMCG-4392265_gtvtottot2r.nii.gz\n",
      "Erosion completed and saved to: /Intern Programming/data/output/t1t2gtv_5mm\\UMCG-4459240_gtvpttot1r.nii.gz\n",
      "Erosion completed and saved to: /Intern Programming/data/output/t1t2gtv_5mm\\UMCG-4459240_gtvpttot2r.nii.gz\n",
      "Erosion completed and saved to: /Intern Programming/data/output/t1t2gtv_5mm\\UMCG-4459240_gtvtottot1r.nii.gz\n",
      "Erosion completed and saved to: /Intern Programming/data/output/t1t2gtv_5mm\\UMCG-4459240_gtvtottot2r.nii.gz\n",
      "Erosion completed and saved to: /Intern Programming/data/output/t1t2gtv_5mm\\UMCG-4606701_gtvpttot1r.nii.gz\n",
      "Erosion completed and saved to: /Intern Programming/data/output/t1t2gtv_5mm\\UMCG-4606701_gtvtottot1r.nii.gz\n",
      "Erosion completed and saved to: /Intern Programming/data/output/t1t2gtv_5mm\\UMCG-4640464_gtvlntot1r.nii.gz\n",
      "Erosion completed and saved to: /Intern Programming/data/output/t1t2gtv_5mm\\UMCG-4640464_gtvlntot2r.nii.gz\n",
      "Erosion completed and saved to: /Intern Programming/data/output/t1t2gtv_5mm\\UMCG-4640464_gtvpttot1r.nii.gz\n",
      "Erosion completed and saved to: /Intern Programming/data/output/t1t2gtv_5mm\\UMCG-4640464_gtvpttot2r.nii.gz\n",
      "Erosion completed and saved to: /Intern Programming/data/output/t1t2gtv_5mm\\UMCG-4640464_gtvtottot1r.nii.gz\n",
      "Erosion completed and saved to: /Intern Programming/data/output/t1t2gtv_5mm\\UMCG-4640464_gtvtottot2r.nii.gz\n",
      "Erosion completed and saved to: /Intern Programming/data/output/t1t2gtv_5mm\\UMCG-4667104_gtvlntot1r.nii.gz\n",
      "Erosion completed and saved to: /Intern Programming/data/output/t1t2gtv_5mm\\UMCG-4667104_gtvpttot1r.nii.gz\n",
      "Erosion completed and saved to: /Intern Programming/data/output/t1t2gtv_5mm\\UMCG-4667104_gtvtottot1r.nii.gz\n",
      "Erosion completed and saved to: /Intern Programming/data/output/t1t2gtv_5mm\\UMCG-4668588_gtvpttot1r.nii.gz\n",
      "Erosion completed and saved to: /Intern Programming/data/output/t1t2gtv_5mm\\UMCG-4668588_gtvpttot2r.nii.gz\n",
      "Erosion completed and saved to: /Intern Programming/data/output/t1t2gtv_5mm\\UMCG-4668588_gtvtottot1r.nii.gz\n",
      "Erosion completed and saved to: /Intern Programming/data/output/t1t2gtv_5mm\\UMCG-4668588_gtvtottot2r.nii.gz\n",
      "Erosion completed and saved to: /Intern Programming/data/output/t1t2gtv_5mm\\UMCG-4673928_gtvpttot1r.nii.gz\n",
      "Erosion completed and saved to: /Intern Programming/data/output/t1t2gtv_5mm\\UMCG-4673928_gtvpttot2r.nii.gz\n",
      "Erosion completed and saved to: /Intern Programming/data/output/t1t2gtv_5mm\\UMCG-4673928_gtvtottot1r.nii.gz\n",
      "Erosion completed and saved to: /Intern Programming/data/output/t1t2gtv_5mm\\UMCG-4673928_gtvtottot2r.nii.gz\n",
      "Erosion completed and saved to: /Intern Programming/data/output/t1t2gtv_5mm\\UMCG-4777783_gtvpttot1r.nii.gz\n",
      "Erosion completed and saved to: /Intern Programming/data/output/t1t2gtv_5mm\\UMCG-4777783_gtvpttot2r.nii.gz\n",
      "Erosion completed and saved to: /Intern Programming/data/output/t1t2gtv_5mm\\UMCG-4777783_gtvtottot1r.nii.gz\n",
      "Erosion completed and saved to: /Intern Programming/data/output/t1t2gtv_5mm\\UMCG-4777783_gtvtottot2r.nii.gz\n",
      "Erosion completed and saved to: /Intern Programming/data/output/t1t2gtv_5mm\\UMCG-4787329_gtvpttot1r.nii.gz\n",
      "Erosion completed and saved to: /Intern Programming/data/output/t1t2gtv_5mm\\UMCG-4787329_gtvpttot2r.nii.gz\n",
      "Erosion completed and saved to: /Intern Programming/data/output/t1t2gtv_5mm\\UMCG-4787329_gtvtottot1r.nii.gz\n",
      "Erosion completed and saved to: /Intern Programming/data/output/t1t2gtv_5mm\\UMCG-4787329_gtvtottot2r.nii.gz\n",
      "Erosion completed and saved to: /Intern Programming/data/output/t1t2gtv_5mm\\UMCG-4832658_gtvpttot1r.nii.gz\n",
      "Erosion completed and saved to: /Intern Programming/data/output/t1t2gtv_5mm\\UMCG-4832658_gtvtottot1r.nii.gz\n",
      "Erosion completed and saved to: /Intern Programming/data/output/t1t2gtv_5mm\\UMCG-4882128_gtvlntot1r.nii.gz\n",
      "Erosion completed and saved to: /Intern Programming/data/output/t1t2gtv_5mm\\UMCG-4882128_gtvpttot1r.nii.gz\n",
      "Erosion completed and saved to: /Intern Programming/data/output/t1t2gtv_5mm\\UMCG-4882128_gtvtottot1r.nii.gz\n",
      "Erosion completed and saved to: /Intern Programming/data/output/t1t2gtv_5mm\\UMCG-4883318_gtvpttot1r.nii.gz\n",
      "Erosion completed and saved to: /Intern Programming/data/output/t1t2gtv_5mm\\UMCG-4883318_gtvpttot2r.nii.gz\n",
      "Erosion completed and saved to: /Intern Programming/data/output/t1t2gtv_5mm\\UMCG-4883318_gtvtottot1r.nii.gz\n",
      "Erosion completed and saved to: /Intern Programming/data/output/t1t2gtv_5mm\\UMCG-4883318_gtvtottot2r.nii.gz\n",
      "Erosion completed and saved to: /Intern Programming/data/output/t1t2gtv_5mm\\UMCG-4939497_gtvpttot1r.nii.gz\n",
      "Erosion completed and saved to: /Intern Programming/data/output/t1t2gtv_5mm\\UMCG-4939497_gtvtottot1r.nii.gz\n",
      "Erosion completed and saved to: /Intern Programming/data/output/t1t2gtv_5mm\\UMCG-4969603_gtvpttot1r.nii.gz\n",
      "Erosion completed and saved to: /Intern Programming/data/output/t1t2gtv_5mm\\UMCG-4969603_gtvtottot1r.nii.gz\n",
      "Erosion completed and saved to: /Intern Programming/data/output/t1t2gtv_5mm\\UMCG-4984631_gtvpttot1r.nii.gz\n",
      "Erosion completed and saved to: /Intern Programming/data/output/t1t2gtv_5mm\\UMCG-4984631_gtvtottot1r.nii.gz\n",
      "Erosion completed and saved to: /Intern Programming/data/output/t1t2gtv_5mm\\UMCG-5088300_gtvpttot1r.nii.gz\n",
      "Erosion completed and saved to: /Intern Programming/data/output/t1t2gtv_5mm\\UMCG-5088300_gtvpttot2r.nii.gz\n",
      "Erosion completed and saved to: /Intern Programming/data/output/t1t2gtv_5mm\\UMCG-5088300_gtvtottot1r.nii.gz\n",
      "Erosion completed and saved to: /Intern Programming/data/output/t1t2gtv_5mm\\UMCG-5088300_gtvtottot2r.nii.gz\n",
      "Erosion completed and saved to: /Intern Programming/data/output/t1t2gtv_5mm\\UMCG-5113659_gtvlntot1r.nii.gz\n",
      "Erosion completed and saved to: /Intern Programming/data/output/t1t2gtv_5mm\\UMCG-5113659_gtvpttot1r.nii.gz\n",
      "Erosion completed and saved to: /Intern Programming/data/output/t1t2gtv_5mm\\UMCG-5113659_gtvtottot1r.nii.gz\n",
      "Erosion completed and saved to: /Intern Programming/data/output/t1t2gtv_5mm\\UMCG-5256295_gtvlntot1r.nii.gz\n",
      "Erosion completed and saved to: /Intern Programming/data/output/t1t2gtv_5mm\\UMCG-5256295_gtvpttot1r.nii.gz\n",
      "Erosion completed and saved to: /Intern Programming/data/output/t1t2gtv_5mm\\UMCG-5256295_gtvtottot1r.nii.gz\n",
      "Erosion completed and saved to: /Intern Programming/data/output/t1t2gtv_5mm\\UMCG-5262401_gtvpttot1r.nii.gz\n",
      "Erosion completed and saved to: /Intern Programming/data/output/t1t2gtv_5mm\\UMCG-5262401_gtvpttot2r.nii.gz\n",
      "Erosion completed and saved to: /Intern Programming/data/output/t1t2gtv_5mm\\UMCG-5262401_gtvtottot1r.nii.gz\n",
      "Erosion completed and saved to: /Intern Programming/data/output/t1t2gtv_5mm\\UMCG-5262401_gtvtottot2r.nii.gz\n",
      "Erosion completed and saved to: /Intern Programming/data/output/t1t2gtv_5mm\\UMCG-5325319_gtvpttot1r.nii.gz\n",
      "Erosion completed and saved to: /Intern Programming/data/output/t1t2gtv_5mm\\UMCG-5325319_gtvpttot2r.nii.gz\n",
      "Erosion completed and saved to: /Intern Programming/data/output/t1t2gtv_5mm\\UMCG-5325319_gtvtottot1r.nii.gz\n",
      "Erosion completed and saved to: /Intern Programming/data/output/t1t2gtv_5mm\\UMCG-5325319_gtvtottot2r.nii.gz\n",
      "Erosion completed and saved to: /Intern Programming/data/output/t1t2gtv_5mm\\UMCG-5333571_gtvpttot1r.nii.gz\n",
      "Erosion completed and saved to: /Intern Programming/data/output/t1t2gtv_5mm\\UMCG-5333571_gtvtottot1r.nii.gz\n",
      "Erosion completed and saved to: /Intern Programming/data/output/t1t2gtv_5mm\\UMCG-5355109_gtvpttot1r.nii.gz\n",
      "Erosion completed and saved to: /Intern Programming/data/output/t1t2gtv_5mm\\UMCG-5355109_gtvpttot2r.nii.gz\n",
      "Erosion completed and saved to: /Intern Programming/data/output/t1t2gtv_5mm\\UMCG-5355109_gtvtottot1r.nii.gz\n",
      "Erosion completed and saved to: /Intern Programming/data/output/t1t2gtv_5mm\\UMCG-5355109_gtvtottot2r.nii.gz\n",
      "Erosion completed and saved to: /Intern Programming/data/output/t1t2gtv_5mm\\UMCG-5368939_gtvpttot1r.nii.gz\n",
      "Erosion completed and saved to: /Intern Programming/data/output/t1t2gtv_5mm\\UMCG-5368939_gtvtottot1r.nii.gz\n",
      "Erosion completed and saved to: /Intern Programming/data/output/t1t2gtv_5mm\\UMCG-5399483_gtvpttot1r.nii.gz\n",
      "Erosion completed and saved to: /Intern Programming/data/output/t1t2gtv_5mm\\UMCG-5399483_gtvpttot2r.nii.gz\n",
      "Erosion completed and saved to: /Intern Programming/data/output/t1t2gtv_5mm\\UMCG-5399483_gtvtottot1r.nii.gz\n",
      "Erosion completed and saved to: /Intern Programming/data/output/t1t2gtv_5mm\\UMCG-5399483_gtvtottot2r.nii.gz\n",
      "Erosion completed and saved to: /Intern Programming/data/output/t1t2gtv_5mm\\UMCG-5426388_gtvlntot1r.nii.gz\n",
      "Erosion completed and saved to: /Intern Programming/data/output/t1t2gtv_5mm\\UMCG-5426388_gtvlntot2r.nii.gz\n",
      "Erosion completed and saved to: /Intern Programming/data/output/t1t2gtv_5mm\\UMCG-5426388_gtvpttot1r.nii.gz\n",
      "Erosion completed and saved to: /Intern Programming/data/output/t1t2gtv_5mm\\UMCG-5426388_gtvpttot2r.nii.gz\n",
      "Erosion completed and saved to: /Intern Programming/data/output/t1t2gtv_5mm\\UMCG-5426388_gtvtottot1r.nii.gz\n",
      "Erosion completed and saved to: /Intern Programming/data/output/t1t2gtv_5mm\\UMCG-5426388_gtvtottot2r.nii.gz\n",
      "Erosion completed and saved to: /Intern Programming/data/output/t1t2gtv_5mm\\UMCG-5471790_gtvpttot1r.nii.gz\n",
      "Erosion completed and saved to: /Intern Programming/data/output/t1t2gtv_5mm\\UMCG-5471790_gtvpttot2r.nii.gz\n",
      "Erosion completed and saved to: /Intern Programming/data/output/t1t2gtv_5mm\\UMCG-5471790_gtvtottot1r.nii.gz\n",
      "Erosion completed and saved to: /Intern Programming/data/output/t1t2gtv_5mm\\UMCG-5471790_gtvtottot2r.nii.gz\n",
      "Erosion completed and saved to: /Intern Programming/data/output/t1t2gtv_5mm\\UMCG-5586522_gtvpttot1r.nii.gz\n",
      "Erosion completed and saved to: /Intern Programming/data/output/t1t2gtv_5mm\\UMCG-5586522_gtvpttot2r.nii.gz\n",
      "Erosion completed and saved to: /Intern Programming/data/output/t1t2gtv_5mm\\UMCG-5586522_gtvtottot1r.nii.gz\n",
      "Erosion completed and saved to: /Intern Programming/data/output/t1t2gtv_5mm\\UMCG-5586522_gtvtottot2r.nii.gz\n",
      "Erosion completed and saved to: /Intern Programming/data/output/t1t2gtv_5mm\\UMCG-5625197_gtvpttot1r.nii.gz\n",
      "Erosion completed and saved to: /Intern Programming/data/output/t1t2gtv_5mm\\UMCG-5625197_gtvtottot1r.nii.gz\n",
      "Erosion completed and saved to: /Intern Programming/data/output/t1t2gtv_5mm\\UMCG-5717206_gtvpttot1r.nii.gz\n",
      "Erosion completed and saved to: /Intern Programming/data/output/t1t2gtv_5mm\\UMCG-5717206_gtvpttot2r.nii.gz\n",
      "Erosion completed and saved to: /Intern Programming/data/output/t1t2gtv_5mm\\UMCG-5717206_gtvtottot1r.nii.gz\n",
      "Erosion completed and saved to: /Intern Programming/data/output/t1t2gtv_5mm\\UMCG-5717206_gtvtottot2r.nii.gz\n",
      "Erosion completed and saved to: /Intern Programming/data/output/t1t2gtv_5mm\\UMCG-5732305_gtvpttot1r.nii.gz\n",
      "Erosion completed and saved to: /Intern Programming/data/output/t1t2gtv_5mm\\UMCG-5732305_gtvpttot2r.nii.gz\n",
      "Erosion completed and saved to: /Intern Programming/data/output/t1t2gtv_5mm\\UMCG-5732305_gtvtottot1r.nii.gz\n",
      "Erosion completed and saved to: /Intern Programming/data/output/t1t2gtv_5mm\\UMCG-5732305_gtvtottot2r.nii.gz\n",
      "Erosion completed and saved to: /Intern Programming/data/output/t1t2gtv_5mm\\UMCG-5762672_gtvpttot1r.nii.gz\n",
      "Erosion completed and saved to: /Intern Programming/data/output/t1t2gtv_5mm\\UMCG-5762672_gtvpttot2r.nii.gz\n",
      "Erosion completed and saved to: /Intern Programming/data/output/t1t2gtv_5mm\\UMCG-5762672_gtvtottot1r.nii.gz\n",
      "Erosion completed and saved to: /Intern Programming/data/output/t1t2gtv_5mm\\UMCG-5762672_gtvtottot2r.nii.gz\n",
      "Erosion completed and saved to: /Intern Programming/data/output/t1t2gtv_5mm\\UMCG-5776290_gtvpttot1r.nii.gz\n",
      "Erosion completed and saved to: /Intern Programming/data/output/t1t2gtv_5mm\\UMCG-5776290_gtvpttot2r.nii.gz\n",
      "Erosion completed and saved to: /Intern Programming/data/output/t1t2gtv_5mm\\UMCG-5776290_gtvtottot1r.nii.gz\n",
      "Erosion completed and saved to: /Intern Programming/data/output/t1t2gtv_5mm\\UMCG-5776290_gtvtottot2r.nii.gz\n",
      "Erosion completed and saved to: /Intern Programming/data/output/t1t2gtv_5mm\\UMCG-5860527_gtvpttot1r.nii.gz\n",
      "Erosion completed and saved to: /Intern Programming/data/output/t1t2gtv_5mm\\UMCG-5860527_gtvpttot2r.nii.gz\n",
      "Erosion completed and saved to: /Intern Programming/data/output/t1t2gtv_5mm\\UMCG-5860527_gtvtottot1r.nii.gz\n",
      "Erosion completed and saved to: /Intern Programming/data/output/t1t2gtv_5mm\\UMCG-5860527_gtvtottot2r.nii.gz\n",
      "Erosion completed and saved to: /Intern Programming/data/output/t1t2gtv_5mm\\UMCG-5896858_gtvpttot1r.nii.gz\n",
      "Erosion completed and saved to: /Intern Programming/data/output/t1t2gtv_5mm\\UMCG-5896858_gtvpttot2r.nii.gz\n",
      "Erosion completed and saved to: /Intern Programming/data/output/t1t2gtv_5mm\\UMCG-5896858_gtvtottot1r.nii.gz\n",
      "Erosion completed and saved to: /Intern Programming/data/output/t1t2gtv_5mm\\UMCG-5896858_gtvtottot2r.nii.gz\n",
      "Erosion completed and saved to: /Intern Programming/data/output/t1t2gtv_5mm\\UMCG-5908531_gtvpttot1r.nii.gz\n",
      "Erosion completed and saved to: /Intern Programming/data/output/t1t2gtv_5mm\\UMCG-5908531_gtvpttot2r.nii.gz\n",
      "Erosion completed and saved to: /Intern Programming/data/output/t1t2gtv_5mm\\UMCG-5908531_gtvtottot1r.nii.gz\n",
      "Erosion completed and saved to: /Intern Programming/data/output/t1t2gtv_5mm\\UMCG-5908531_gtvtottot2r.nii.gz\n",
      "Erosion completed and saved to: /Intern Programming/data/output/t1t2gtv_5mm\\UMCG-5938385_gtvpttot1r.nii.gz\n",
      "Erosion completed and saved to: /Intern Programming/data/output/t1t2gtv_5mm\\UMCG-5938385_gtvtottot1r.nii.gz\n",
      "Erosion completed and saved to: /Intern Programming/data/output/t1t2gtv_5mm\\UMCG-5952236_gtvpttot1r.nii.gz\n",
      "Erosion completed and saved to: /Intern Programming/data/output/t1t2gtv_5mm\\UMCG-5952236_gtvpttot2r.nii.gz\n",
      "Erosion completed and saved to: /Intern Programming/data/output/t1t2gtv_5mm\\UMCG-5952236_gtvtottot1r.nii.gz\n",
      "Erosion completed and saved to: /Intern Programming/data/output/t1t2gtv_5mm\\UMCG-5952236_gtvtottot2r.nii.gz\n",
      "Erosion completed and saved to: /Intern Programming/data/output/t1t2gtv_5mm\\UMCG-6038065_gtvpttot1r.nii.gz\n",
      "Erosion completed and saved to: /Intern Programming/data/output/t1t2gtv_5mm\\UMCG-6038065_gtvpttot2r.nii.gz\n",
      "Erosion completed and saved to: /Intern Programming/data/output/t1t2gtv_5mm\\UMCG-6038065_gtvtottot1r.nii.gz\n",
      "Erosion completed and saved to: /Intern Programming/data/output/t1t2gtv_5mm\\UMCG-6038065_gtvtottot2r.nii.gz\n",
      "Erosion completed and saved to: /Intern Programming/data/output/t1t2gtv_5mm\\UMCG-6356348_gtvpttot1r.nii.gz\n",
      "Erosion completed and saved to: /Intern Programming/data/output/t1t2gtv_5mm\\UMCG-6356348_gtvtottot1r.nii.gz\n",
      "Erosion completed and saved to: /Intern Programming/data/output/t1t2gtv_5mm\\UMCG-6378659_gtvlntot1r.nii.gz\n",
      "Erosion completed and saved to: /Intern Programming/data/output/t1t2gtv_5mm\\UMCG-6378659_gtvlntot2r.nii.gz\n",
      "Erosion completed and saved to: /Intern Programming/data/output/t1t2gtv_5mm\\UMCG-6378659_gtvpttot1r.nii.gz\n",
      "Erosion completed and saved to: /Intern Programming/data/output/t1t2gtv_5mm\\UMCG-6378659_gtvpttot2r.nii.gz\n",
      "Erosion completed and saved to: /Intern Programming/data/output/t1t2gtv_5mm\\UMCG-6378659_gtvtottot1r.nii.gz\n",
      "Erosion completed and saved to: /Intern Programming/data/output/t1t2gtv_5mm\\UMCG-6378659_gtvtottot2r.nii.gz\n",
      "Erosion completed and saved to: /Intern Programming/data/output/t1t2gtv_5mm\\UMCG-6380664_gtvpttot1r.nii.gz\n",
      "Erosion completed and saved to: /Intern Programming/data/output/t1t2gtv_5mm\\UMCG-6380664_gtvpttot2r.nii.gz\n",
      "Erosion completed and saved to: /Intern Programming/data/output/t1t2gtv_5mm\\UMCG-6380664_gtvtottot1r.nii.gz\n",
      "Erosion completed and saved to: /Intern Programming/data/output/t1t2gtv_5mm\\UMCG-6380664_gtvtottot2r.nii.gz\n",
      "Erosion completed and saved to: /Intern Programming/data/output/t1t2gtv_5mm\\UMCG-6395952_gtvpttot1r.nii.gz\n",
      "Erosion completed and saved to: /Intern Programming/data/output/t1t2gtv_5mm\\UMCG-6395952_gtvpttot2r.nii.gz\n",
      "Erosion completed and saved to: /Intern Programming/data/output/t1t2gtv_5mm\\UMCG-6395952_gtvtottot1r.nii.gz\n",
      "Erosion completed and saved to: /Intern Programming/data/output/t1t2gtv_5mm\\UMCG-6395952_gtvtottot2r.nii.gz\n",
      "Erosion completed and saved to: /Intern Programming/data/output/t1t2gtv_5mm\\UMCG-6403282_gtvpttot1r.nii.gz\n",
      "Erosion completed and saved to: /Intern Programming/data/output/t1t2gtv_5mm\\UMCG-6403282_gtvtottot1r.nii.gz\n",
      "Erosion completed and saved to: /Intern Programming/data/output/t1t2gtv_5mm\\UMCG-6469382_gtvlntot1r.nii.gz\n",
      "Erosion completed and saved to: /Intern Programming/data/output/t1t2gtv_5mm\\UMCG-6469382_gtvlntot2r.nii.gz\n",
      "Erosion completed and saved to: /Intern Programming/data/output/t1t2gtv_5mm\\UMCG-6469382_gtvpttot1r.nii.gz\n",
      "Erosion completed and saved to: /Intern Programming/data/output/t1t2gtv_5mm\\UMCG-6469382_gtvpttot2r.nii.gz\n",
      "Erosion completed and saved to: /Intern Programming/data/output/t1t2gtv_5mm\\UMCG-6469382_gtvtottot1r.nii.gz\n",
      "Erosion completed and saved to: /Intern Programming/data/output/t1t2gtv_5mm\\UMCG-6469382_gtvtottot2r.nii.gz\n",
      "Erosion completed and saved to: /Intern Programming/data/output/t1t2gtv_5mm\\UMCG-6504420_gtvlntot1r.nii.gz\n",
      "Erosion completed and saved to: /Intern Programming/data/output/t1t2gtv_5mm\\UMCG-6504420_gtvlntot2r.nii.gz\n",
      "Erosion completed and saved to: /Intern Programming/data/output/t1t2gtv_5mm\\UMCG-6504420_gtvpttot1r.nii.gz\n",
      "Erosion completed and saved to: /Intern Programming/data/output/t1t2gtv_5mm\\UMCG-6504420_gtvpttot2r.nii.gz\n",
      "Erosion completed and saved to: /Intern Programming/data/output/t1t2gtv_5mm\\UMCG-6504420_gtvtottot1r.nii.gz\n",
      "Erosion completed and saved to: /Intern Programming/data/output/t1t2gtv_5mm\\UMCG-6504420_gtvtottot2r.nii.gz\n",
      "Erosion completed and saved to: /Intern Programming/data/output/t1t2gtv_5mm\\UMCG-6505862_gtvpttot1r.nii.gz\n",
      "Erosion completed and saved to: /Intern Programming/data/output/t1t2gtv_5mm\\UMCG-6505862_gtvpttot2r.nii.gz\n",
      "Erosion completed and saved to: /Intern Programming/data/output/t1t2gtv_5mm\\UMCG-6505862_gtvtottot1r.nii.gz\n",
      "Erosion completed and saved to: /Intern Programming/data/output/t1t2gtv_5mm\\UMCG-6505862_gtvtottot2r.nii.gz\n",
      "Erosion completed and saved to: /Intern Programming/data/output/t1t2gtv_5mm\\UMCG-6596681_gtvpttot1r.nii.gz\n",
      "Erosion completed and saved to: /Intern Programming/data/output/t1t2gtv_5mm\\UMCG-6596681_gtvpttot2r.nii.gz\n",
      "Erosion completed and saved to: /Intern Programming/data/output/t1t2gtv_5mm\\UMCG-6596681_gtvtottot1r.nii.gz\n",
      "Erosion completed and saved to: /Intern Programming/data/output/t1t2gtv_5mm\\UMCG-6596681_gtvtottot2r.nii.gz\n",
      "Erosion completed and saved to: /Intern Programming/data/output/t1t2gtv_5mm\\UMCG-6754277_gtvpttot1r.nii.gz\n",
      "Erosion completed and saved to: /Intern Programming/data/output/t1t2gtv_5mm\\UMCG-6754277_gtvpttot2r.nii.gz\n",
      "Erosion completed and saved to: /Intern Programming/data/output/t1t2gtv_5mm\\UMCG-6754277_gtvtottot1r.nii.gz\n",
      "Erosion completed and saved to: /Intern Programming/data/output/t1t2gtv_5mm\\UMCG-6754277_gtvtottot2r.nii.gz\n",
      "Erosion completed and saved to: /Intern Programming/data/output/t1t2gtv_5mm\\UMCG-6803098_gtvpttot1r.nii.gz\n",
      "Erosion completed and saved to: /Intern Programming/data/output/t1t2gtv_5mm\\UMCG-6803098_gtvpttot2r.nii.gz\n",
      "Erosion completed and saved to: /Intern Programming/data/output/t1t2gtv_5mm\\UMCG-6803098_gtvtottot1r.nii.gz\n",
      "Erosion completed and saved to: /Intern Programming/data/output/t1t2gtv_5mm\\UMCG-6803098_gtvtottot2r.nii.gz\n",
      "Erosion completed and saved to: /Intern Programming/data/output/t1t2gtv_5mm\\UMCG-7000793_gtvpttot1r.nii.gz\n",
      "Erosion completed and saved to: /Intern Programming/data/output/t1t2gtv_5mm\\UMCG-7000793_gtvpttot2r.nii.gz\n",
      "Erosion completed and saved to: /Intern Programming/data/output/t1t2gtv_5mm\\UMCG-7000793_gtvtottot1r.nii.gz\n",
      "Erosion completed and saved to: /Intern Programming/data/output/t1t2gtv_5mm\\UMCG-7000793_gtvtottot2r.nii.gz\n",
      "Erosion completed and saved to: /Intern Programming/data/output/t1t2gtv_5mm\\UMCG-7040261_gtvpttot1r.nii.gz\n",
      "Erosion completed and saved to: /Intern Programming/data/output/t1t2gtv_5mm\\UMCG-7040261_gtvpttot2r.nii.gz\n",
      "Erosion completed and saved to: /Intern Programming/data/output/t1t2gtv_5mm\\UMCG-7040261_gtvtottot1r.nii.gz\n",
      "Erosion completed and saved to: /Intern Programming/data/output/t1t2gtv_5mm\\UMCG-7040261_gtvtottot2r.nii.gz\n",
      "Erosion completed and saved to: /Intern Programming/data/output/t1t2gtv_5mm\\UMCG-7154941_gtvpttot1r.nii.gz\n",
      "Erosion completed and saved to: /Intern Programming/data/output/t1t2gtv_5mm\\UMCG-7154941_gtvtottot1r.nii.gz\n",
      "Erosion completed and saved to: /Intern Programming/data/output/t1t2gtv_5mm\\UMCG-7169502_gtvpttot1r.nii.gz\n",
      "Erosion completed and saved to: /Intern Programming/data/output/t1t2gtv_5mm\\UMCG-7169502_gtvpttot2r.nii.gz\n",
      "Erosion completed and saved to: /Intern Programming/data/output/t1t2gtv_5mm\\UMCG-7169502_gtvtottot1r.nii.gz\n",
      "Erosion completed and saved to: /Intern Programming/data/output/t1t2gtv_5mm\\UMCG-7169502_gtvtottot2r.nii.gz\n",
      "Erosion completed and saved to: /Intern Programming/data/output/t1t2gtv_5mm\\UMCG-7209497_gtvpttot1r.nii.gz\n",
      "Erosion completed and saved to: /Intern Programming/data/output/t1t2gtv_5mm\\UMCG-7209497_gtvpttot2r.nii.gz\n",
      "Erosion completed and saved to: /Intern Programming/data/output/t1t2gtv_5mm\\UMCG-7209497_gtvtottot1r.nii.gz\n",
      "Erosion completed and saved to: /Intern Programming/data/output/t1t2gtv_5mm\\UMCG-7209497_gtvtottot2r.nii.gz\n",
      "Erosion completed and saved to: /Intern Programming/data/output/t1t2gtv_5mm\\UMCG-7230221_gtvpttot1r.nii.gz\n",
      "Erosion completed and saved to: /Intern Programming/data/output/t1t2gtv_5mm\\UMCG-7230221_gtvpttot2r.nii.gz\n",
      "Erosion completed and saved to: /Intern Programming/data/output/t1t2gtv_5mm\\UMCG-7230221_gtvtottot1r.nii.gz\n",
      "Erosion completed and saved to: /Intern Programming/data/output/t1t2gtv_5mm\\UMCG-7230221_gtvtottot2r.nii.gz\n",
      "Erosion completed and saved to: /Intern Programming/data/output/t1t2gtv_5mm\\UMCG-7234433_gtvpttot1r.nii.gz\n",
      "Erosion completed and saved to: /Intern Programming/data/output/t1t2gtv_5mm\\UMCG-7234433_gtvtottot1r.nii.gz\n",
      "Erosion completed and saved to: /Intern Programming/data/output/t1t2gtv_5mm\\UMCG-7236768_gtvpttot1r.nii.gz\n",
      "Erosion completed and saved to: /Intern Programming/data/output/t1t2gtv_5mm\\UMCG-7236768_gtvtottot1r.nii.gz\n",
      "Erosion completed and saved to: /Intern Programming/data/output/t1t2gtv_5mm\\UMCG-7285754_gtvlntot1r.nii.gz\n",
      "Erosion completed and saved to: /Intern Programming/data/output/t1t2gtv_5mm\\UMCG-7285754_gtvlntot2r.nii.gz\n",
      "Erosion completed and saved to: /Intern Programming/data/output/t1t2gtv_5mm\\UMCG-7285754_gtvpttot1r.nii.gz\n",
      "Erosion completed and saved to: /Intern Programming/data/output/t1t2gtv_5mm\\UMCG-7285754_gtvpttot2r.nii.gz\n",
      "Erosion completed and saved to: /Intern Programming/data/output/t1t2gtv_5mm\\UMCG-7285754_gtvtottot1r.nii.gz\n",
      "Erosion completed and saved to: /Intern Programming/data/output/t1t2gtv_5mm\\UMCG-7285754_gtvtottot2r.nii.gz\n",
      "Erosion completed and saved to: /Intern Programming/data/output/t1t2gtv_5mm\\UMCG-7351271_gtvlntot1r.nii.gz\n",
      "Erosion completed and saved to: /Intern Programming/data/output/t1t2gtv_5mm\\UMCG-7351271_gtvlntot2r.nii.gz\n",
      "Erosion completed and saved to: /Intern Programming/data/output/t1t2gtv_5mm\\UMCG-7351271_gtvpttot1r.nii.gz\n",
      "Erosion completed and saved to: /Intern Programming/data/output/t1t2gtv_5mm\\UMCG-7351271_gtvpttot2r.nii.gz\n",
      "Erosion completed and saved to: /Intern Programming/data/output/t1t2gtv_5mm\\UMCG-7351271_gtvtottot1r.nii.gz\n",
      "Erosion completed and saved to: /Intern Programming/data/output/t1t2gtv_5mm\\UMCG-7351271_gtvtottot2r.nii.gz\n",
      "Erosion completed and saved to: /Intern Programming/data/output/t1t2gtv_5mm\\UMCG-7390463_gtvpttot1r.nii.gz\n",
      "Erosion completed and saved to: /Intern Programming/data/output/t1t2gtv_5mm\\UMCG-7390463_gtvpttot2r.nii.gz\n",
      "Erosion completed and saved to: /Intern Programming/data/output/t1t2gtv_5mm\\UMCG-7390463_gtvtottot1r.nii.gz\n",
      "Erosion completed and saved to: /Intern Programming/data/output/t1t2gtv_5mm\\UMCG-7390463_gtvtottot2r.nii.gz\n",
      "Erosion completed and saved to: /Intern Programming/data/output/t1t2gtv_5mm\\UMCG-7474022_gtvpttot1r.nii.gz\n",
      "Erosion completed and saved to: /Intern Programming/data/output/t1t2gtv_5mm\\UMCG-7474022_gtvtottot1r.nii.gz\n",
      "Erosion completed and saved to: /Intern Programming/data/output/t1t2gtv_5mm\\UMCG-7517714_gtvpttot1r.nii.gz\n",
      "Erosion completed and saved to: /Intern Programming/data/output/t1t2gtv_5mm\\UMCG-7517714_gtvpttot2r.nii.gz\n",
      "Erosion completed and saved to: /Intern Programming/data/output/t1t2gtv_5mm\\UMCG-7517714_gtvtottot1r.nii.gz\n",
      "Erosion completed and saved to: /Intern Programming/data/output/t1t2gtv_5mm\\UMCG-7517714_gtvtottot2r.nii.gz\n",
      "Erosion completed and saved to: /Intern Programming/data/output/t1t2gtv_5mm\\UMCG-7579675_gtvpttot1r.nii.gz\n",
      "Erosion completed and saved to: /Intern Programming/data/output/t1t2gtv_5mm\\UMCG-7579675_gtvpttot2r.nii.gz\n",
      "Erosion completed and saved to: /Intern Programming/data/output/t1t2gtv_5mm\\UMCG-7579675_gtvtottot1r.nii.gz\n",
      "Erosion completed and saved to: /Intern Programming/data/output/t1t2gtv_5mm\\UMCG-7579675_gtvtottot2r.nii.gz\n",
      "Erosion completed and saved to: /Intern Programming/data/output/t1t2gtv_5mm\\UMCG-7632467_gtvpttot1r.nii.gz\n",
      "Erosion completed and saved to: /Intern Programming/data/output/t1t2gtv_5mm\\UMCG-7632467_gtvpttot2r.nii.gz\n",
      "Erosion completed and saved to: /Intern Programming/data/output/t1t2gtv_5mm\\UMCG-7632467_gtvtottot1r.nii.gz\n",
      "Erosion completed and saved to: /Intern Programming/data/output/t1t2gtv_5mm\\UMCG-7632467_gtvtottot2r.nii.gz\n",
      "Erosion completed and saved to: /Intern Programming/data/output/t1t2gtv_5mm\\UMCG-7718506_gtvpttot1r.nii.gz\n",
      "Erosion completed and saved to: /Intern Programming/data/output/t1t2gtv_5mm\\UMCG-7718506_gtvpttot2r.nii.gz\n",
      "Erosion completed and saved to: /Intern Programming/data/output/t1t2gtv_5mm\\UMCG-7718506_gtvtottot1r.nii.gz\n",
      "Erosion completed and saved to: /Intern Programming/data/output/t1t2gtv_5mm\\UMCG-7718506_gtvtottot2r.nii.gz\n",
      "Erosion completed and saved to: /Intern Programming/data/output/t1t2gtv_5mm\\UMCG-7771889_gtvpttot1r.nii.gz\n",
      "Erosion completed and saved to: /Intern Programming/data/output/t1t2gtv_5mm\\UMCG-7771889_gtvtottot1r.nii.gz\n",
      "Erosion completed and saved to: /Intern Programming/data/output/t1t2gtv_5mm\\UMCG-7776845_gtvpttot1r.nii.gz\n",
      "Erosion completed and saved to: /Intern Programming/data/output/t1t2gtv_5mm\\UMCG-7776845_gtvpttot2r.nii.gz\n",
      "Erosion completed and saved to: /Intern Programming/data/output/t1t2gtv_5mm\\UMCG-7776845_gtvtottot1r.nii.gz\n",
      "Erosion completed and saved to: /Intern Programming/data/output/t1t2gtv_5mm\\UMCG-7776845_gtvtottot2r.nii.gz\n",
      "Erosion completed and saved to: /Intern Programming/data/output/t1t2gtv_5mm\\UMCG-7805267_gtvpttot1r.nii.gz\n",
      "Erosion completed and saved to: /Intern Programming/data/output/t1t2gtv_5mm\\UMCG-7805267_gtvpttot2r.nii.gz\n",
      "Erosion completed and saved to: /Intern Programming/data/output/t1t2gtv_5mm\\UMCG-7805267_gtvtottot1r.nii.gz\n",
      "Erosion completed and saved to: /Intern Programming/data/output/t1t2gtv_5mm\\UMCG-7805267_gtvtottot2r.nii.gz\n",
      "Erosion completed and saved to: /Intern Programming/data/output/t1t2gtv_5mm\\UMCG-7808550_gtvpttot1r.nii.gz\n",
      "Erosion completed and saved to: /Intern Programming/data/output/t1t2gtv_5mm\\UMCG-7808550_gtvtottot1r.nii.gz\n",
      "Erosion completed and saved to: /Intern Programming/data/output/t1t2gtv_5mm\\UMCG-7859122_gtvpttot1r.nii.gz\n",
      "Erosion completed and saved to: /Intern Programming/data/output/t1t2gtv_5mm\\UMCG-7859122_gtvpttot2r.nii.gz\n",
      "Erosion completed and saved to: /Intern Programming/data/output/t1t2gtv_5mm\\UMCG-7859122_gtvtottot1r.nii.gz\n",
      "Erosion completed and saved to: /Intern Programming/data/output/t1t2gtv_5mm\\UMCG-7859122_gtvtottot2r.nii.gz\n",
      "Erosion completed and saved to: /Intern Programming/data/output/t1t2gtv_5mm\\UMCG-7873700_gtvpttot1r.nii.gz\n",
      "Erosion completed and saved to: /Intern Programming/data/output/t1t2gtv_5mm\\UMCG-7873700_gtvpttot2r.nii.gz\n",
      "Erosion completed and saved to: /Intern Programming/data/output/t1t2gtv_5mm\\UMCG-7873700_gtvtottot1r.nii.gz\n",
      "Erosion completed and saved to: /Intern Programming/data/output/t1t2gtv_5mm\\UMCG-7873700_gtvtottot2r.nii.gz\n",
      "Erosion completed and saved to: /Intern Programming/data/output/t1t2gtv_5mm\\UMCG-7876032_gtvlntot1r.nii.gz\n",
      "Erosion completed and saved to: /Intern Programming/data/output/t1t2gtv_5mm\\UMCG-7876032_gtvlntot2r.nii.gz\n",
      "Erosion completed and saved to: /Intern Programming/data/output/t1t2gtv_5mm\\UMCG-7876032_gtvpttot1r.nii.gz\n",
      "Erosion completed and saved to: /Intern Programming/data/output/t1t2gtv_5mm\\UMCG-7876032_gtvpttot2r.nii.gz\n",
      "Erosion completed and saved to: /Intern Programming/data/output/t1t2gtv_5mm\\UMCG-7876032_gtvtottot1r.nii.gz\n",
      "Erosion completed and saved to: /Intern Programming/data/output/t1t2gtv_5mm\\UMCG-7876032_gtvtottot2r.nii.gz\n",
      "Erosion completed and saved to: /Intern Programming/data/output/t1t2gtv_5mm\\UMCG-7914173_gtvlntot1r.nii.gz\n",
      "Erosion completed and saved to: /Intern Programming/data/output/t1t2gtv_5mm\\UMCG-7914173_gtvlntot2r.nii.gz\n",
      "Erosion completed and saved to: /Intern Programming/data/output/t1t2gtv_5mm\\UMCG-7914173_gtvpttot1r.nii.gz\n",
      "Erosion completed and saved to: /Intern Programming/data/output/t1t2gtv_5mm\\UMCG-7914173_gtvpttot2r.nii.gz\n",
      "Erosion completed and saved to: /Intern Programming/data/output/t1t2gtv_5mm\\UMCG-7914173_gtvtottot1r.nii.gz\n",
      "Erosion completed and saved to: /Intern Programming/data/output/t1t2gtv_5mm\\UMCG-7914173_gtvtottot2r.nii.gz\n",
      "Erosion completed and saved to: /Intern Programming/data/output/t1t2gtv_5mm\\UMCG-7959273_gtvpttot1r.nii.gz\n",
      "Erosion completed and saved to: /Intern Programming/data/output/t1t2gtv_5mm\\UMCG-7959273_gtvtottot1r.nii.gz\n",
      "Erosion completed and saved to: /Intern Programming/data/output/t1t2gtv_5mm\\UMCG-7982805_gtvpttot1r.nii.gz\n",
      "Erosion completed and saved to: /Intern Programming/data/output/t1t2gtv_5mm\\UMCG-7982805_gtvpttot2r.nii.gz\n",
      "Erosion completed and saved to: /Intern Programming/data/output/t1t2gtv_5mm\\UMCG-7982805_gtvtottot1r.nii.gz\n",
      "Erosion completed and saved to: /Intern Programming/data/output/t1t2gtv_5mm\\UMCG-7982805_gtvtottot2r.nii.gz\n",
      "Erosion completed and saved to: /Intern Programming/data/output/t1t2gtv_5mm\\UMCG-7987157_gtvpttot1r.nii.gz\n",
      "Erosion completed and saved to: /Intern Programming/data/output/t1t2gtv_5mm\\UMCG-7987157_gtvpttot2r.nii.gz\n",
      "Erosion completed and saved to: /Intern Programming/data/output/t1t2gtv_5mm\\UMCG-7987157_gtvtottot1r.nii.gz\n",
      "Erosion completed and saved to: /Intern Programming/data/output/t1t2gtv_5mm\\UMCG-7987157_gtvtottot2r.nii.gz\n",
      "Erosion completed and saved to: /Intern Programming/data/output/t1t2gtv_5mm\\UMCG-8038025_gtvpttot1r.nii.gz\n",
      "Erosion completed and saved to: /Intern Programming/data/output/t1t2gtv_5mm\\UMCG-8038025_gtvpttot2r.nii.gz\n",
      "Erosion completed and saved to: /Intern Programming/data/output/t1t2gtv_5mm\\UMCG-8038025_gtvtottot1r.nii.gz\n",
      "Erosion completed and saved to: /Intern Programming/data/output/t1t2gtv_5mm\\UMCG-8038025_gtvtottot2r.nii.gz\n",
      "Erosion completed and saved to: /Intern Programming/data/output/t1t2gtv_5mm\\UMCG-8039540_gtvpttot1r.nii.gz\n",
      "Erosion completed and saved to: /Intern Programming/data/output/t1t2gtv_5mm\\UMCG-8039540_gtvpttot2r.nii.gz\n",
      "Erosion completed and saved to: /Intern Programming/data/output/t1t2gtv_5mm\\UMCG-8039540_gtvtottot1r.nii.gz\n",
      "Erosion completed and saved to: /Intern Programming/data/output/t1t2gtv_5mm\\UMCG-8039540_gtvtottot2r.nii.gz\n",
      "Erosion completed and saved to: /Intern Programming/data/output/t1t2gtv_5mm\\UMCG-8082674_gtvpttot1r.nii.gz\n",
      "Erosion completed and saved to: /Intern Programming/data/output/t1t2gtv_5mm\\UMCG-8082674_gtvtottot1r.nii.gz\n",
      "Erosion completed and saved to: /Intern Programming/data/output/t1t2gtv_5mm\\UMCG-8174842_gtvpttot1r.nii.gz\n",
      "Erosion completed and saved to: /Intern Programming/data/output/t1t2gtv_5mm\\UMCG-8174842_gtvtottot1r.nii.gz\n",
      "Erosion completed and saved to: /Intern Programming/data/output/t1t2gtv_5mm\\UMCG-8343775_gtvpttot1r.nii.gz\n",
      "Erosion completed and saved to: /Intern Programming/data/output/t1t2gtv_5mm\\UMCG-8343775_gtvpttot2r.nii.gz\n",
      "Erosion completed and saved to: /Intern Programming/data/output/t1t2gtv_5mm\\UMCG-8343775_gtvtottot1r.nii.gz\n",
      "Erosion completed and saved to: /Intern Programming/data/output/t1t2gtv_5mm\\UMCG-8343775_gtvtottot2r.nii.gz\n",
      "Erosion completed and saved to: /Intern Programming/data/output/t1t2gtv_5mm\\UMCG-8363492_gtvpttot1r.nii.gz\n",
      "Erosion completed and saved to: /Intern Programming/data/output/t1t2gtv_5mm\\UMCG-8363492_gtvtottot1r.nii.gz\n",
      "Erosion completed and saved to: /Intern Programming/data/output/t1t2gtv_5mm\\UMCG-8393821_gtvpttot1r.nii.gz\n",
      "Erosion completed and saved to: /Intern Programming/data/output/t1t2gtv_5mm\\UMCG-8393821_gtvtottot1r.nii.gz\n",
      "Erosion completed and saved to: /Intern Programming/data/output/t1t2gtv_5mm\\UMCG-8397975_gtvpttot1r.nii.gz\n",
      "Erosion completed and saved to: /Intern Programming/data/output/t1t2gtv_5mm\\UMCG-8397975_gtvpttot2r.nii.gz\n",
      "Erosion completed and saved to: /Intern Programming/data/output/t1t2gtv_5mm\\UMCG-8397975_gtvtottot1r.nii.gz\n",
      "Erosion completed and saved to: /Intern Programming/data/output/t1t2gtv_5mm\\UMCG-8397975_gtvtottot2r.nii.gz\n",
      "Erosion completed and saved to: /Intern Programming/data/output/t1t2gtv_5mm\\UMCG-8431300_gtvpttot1r.nii.gz\n",
      "Erosion completed and saved to: /Intern Programming/data/output/t1t2gtv_5mm\\UMCG-8431300_gtvpttot2r.nii.gz\n",
      "Erosion completed and saved to: /Intern Programming/data/output/t1t2gtv_5mm\\UMCG-8431300_gtvtottot1r.nii.gz\n",
      "Erosion completed and saved to: /Intern Programming/data/output/t1t2gtv_5mm\\UMCG-8431300_gtvtottot2r.nii.gz\n",
      "Erosion completed and saved to: /Intern Programming/data/output/t1t2gtv_5mm\\UMCG-8469887_gtvpttot1r.nii.gz\n",
      "Erosion completed and saved to: /Intern Programming/data/output/t1t2gtv_5mm\\UMCG-8469887_gtvtottot1r.nii.gz\n",
      "Erosion completed and saved to: /Intern Programming/data/output/t1t2gtv_5mm\\UMCG-8472245_gtvpttot1r.nii.gz\n",
      "Erosion completed and saved to: /Intern Programming/data/output/t1t2gtv_5mm\\UMCG-8472245_gtvtottot1r.nii.gz\n",
      "Erosion completed and saved to: /Intern Programming/data/output/t1t2gtv_5mm\\UMCG-8476506_gtvlntot1r.nii.gz\n",
      "Erosion completed and saved to: /Intern Programming/data/output/t1t2gtv_5mm\\UMCG-8476506_gtvlntot2r.nii.gz\n",
      "Erosion completed and saved to: /Intern Programming/data/output/t1t2gtv_5mm\\UMCG-8476506_gtvpttot1r.nii.gz\n",
      "Erosion completed and saved to: /Intern Programming/data/output/t1t2gtv_5mm\\UMCG-8476506_gtvpttot2r.nii.gz\n",
      "Erosion completed and saved to: /Intern Programming/data/output/t1t2gtv_5mm\\UMCG-8476506_gtvtottot1r.nii.gz\n",
      "Erosion completed and saved to: /Intern Programming/data/output/t1t2gtv_5mm\\UMCG-8476506_gtvtottot2r.nii.gz\n",
      "Erosion completed and saved to: /Intern Programming/data/output/t1t2gtv_5mm\\UMCG-8529090_gtvpttot1r.nii.gz\n",
      "Erosion completed and saved to: /Intern Programming/data/output/t1t2gtv_5mm\\UMCG-8529090_gtvpttot2r.nii.gz\n",
      "Erosion completed and saved to: /Intern Programming/data/output/t1t2gtv_5mm\\UMCG-8529090_gtvtottot1r.nii.gz\n",
      "Erosion completed and saved to: /Intern Programming/data/output/t1t2gtv_5mm\\UMCG-8529090_gtvtottot2r.nii.gz\n",
      "Erosion completed and saved to: /Intern Programming/data/output/t1t2gtv_5mm\\UMCG-8534991_gtvpttot1r.nii.gz\n",
      "Erosion completed and saved to: /Intern Programming/data/output/t1t2gtv_5mm\\UMCG-8534991_gtvpttot2r.nii.gz\n",
      "Erosion completed and saved to: /Intern Programming/data/output/t1t2gtv_5mm\\UMCG-8534991_gtvtottot1r.nii.gz\n",
      "Erosion completed and saved to: /Intern Programming/data/output/t1t2gtv_5mm\\UMCG-8534991_gtvtottot2r.nii.gz\n",
      "Erosion completed and saved to: /Intern Programming/data/output/t1t2gtv_5mm\\UMCG-8611611_gtvpttot1r.nii.gz\n",
      "Erosion completed and saved to: /Intern Programming/data/output/t1t2gtv_5mm\\UMCG-8611611_gtvtottot1r.nii.gz\n",
      "Erosion completed and saved to: /Intern Programming/data/output/t1t2gtv_5mm\\UMCG-8617391_gtvlntot1r.nii.gz\n",
      "Erosion completed and saved to: /Intern Programming/data/output/t1t2gtv_5mm\\UMCG-8617391_gtvpttot1r.nii.gz\n",
      "Erosion completed and saved to: /Intern Programming/data/output/t1t2gtv_5mm\\UMCG-8617391_gtvtottot1r.nii.gz\n",
      "Erosion completed and saved to: /Intern Programming/data/output/t1t2gtv_5mm\\UMCG-8624550_gtvpttot1r.nii.gz\n",
      "Erosion completed and saved to: /Intern Programming/data/output/t1t2gtv_5mm\\UMCG-8624550_gtvtottot1r.nii.gz\n",
      "Erosion completed and saved to: /Intern Programming/data/output/t1t2gtv_5mm\\UMCG-8649177_gtvlntot1r.nii.gz\n",
      "Erosion completed and saved to: /Intern Programming/data/output/t1t2gtv_5mm\\UMCG-8649177_gtvpttot1r.nii.gz\n",
      "Erosion completed and saved to: /Intern Programming/data/output/t1t2gtv_5mm\\UMCG-8649177_gtvtottot1r.nii.gz\n",
      "Erosion completed and saved to: /Intern Programming/data/output/t1t2gtv_5mm\\UMCG-8716940_gtvpttot1r.nii.gz\n",
      "Erosion completed and saved to: /Intern Programming/data/output/t1t2gtv_5mm\\UMCG-8716940_gtvtottot1r.nii.gz\n",
      "Erosion completed and saved to: /Intern Programming/data/output/t1t2gtv_5mm\\UMCG-8756306_gtvpttot1r.nii.gz\n",
      "Erosion completed and saved to: /Intern Programming/data/output/t1t2gtv_5mm\\UMCG-8756306_gtvpttot2r.nii.gz\n",
      "Erosion completed and saved to: /Intern Programming/data/output/t1t2gtv_5mm\\UMCG-8756306_gtvtottot1r.nii.gz\n",
      "Erosion completed and saved to: /Intern Programming/data/output/t1t2gtv_5mm\\UMCG-8756306_gtvtottot2r.nii.gz\n",
      "Erosion completed and saved to: /Intern Programming/data/output/t1t2gtv_5mm\\UMCG-8780297_gtvpttot1r.nii.gz\n",
      "Erosion completed and saved to: /Intern Programming/data/output/t1t2gtv_5mm\\UMCG-8780297_gtvpttot2r.nii.gz\n",
      "Erosion completed and saved to: /Intern Programming/data/output/t1t2gtv_5mm\\UMCG-8780297_gtvtottot1r.nii.gz\n",
      "Erosion completed and saved to: /Intern Programming/data/output/t1t2gtv_5mm\\UMCG-8780297_gtvtottot2r.nii.gz\n",
      "Erosion completed and saved to: /Intern Programming/data/output/t1t2gtv_5mm\\UMCG-8799950_gtvpttot1r.nii.gz\n",
      "Erosion completed and saved to: /Intern Programming/data/output/t1t2gtv_5mm\\UMCG-8799950_gtvtottot1r.nii.gz\n",
      "Erosion completed and saved to: /Intern Programming/data/output/t1t2gtv_5mm\\UMCG-8959829_gtvlntot1r.nii.gz\n",
      "Erosion completed and saved to: /Intern Programming/data/output/t1t2gtv_5mm\\UMCG-8959829_gtvlntot2r.nii.gz\n",
      "Erosion completed and saved to: /Intern Programming/data/output/t1t2gtv_5mm\\UMCG-8959829_gtvpttot1r.nii.gz\n",
      "Erosion completed and saved to: /Intern Programming/data/output/t1t2gtv_5mm\\UMCG-8959829_gtvpttot2r.nii.gz\n",
      "Erosion completed and saved to: /Intern Programming/data/output/t1t2gtv_5mm\\UMCG-8959829_gtvtottot1r.nii.gz\n",
      "Erosion completed and saved to: /Intern Programming/data/output/t1t2gtv_5mm\\UMCG-8959829_gtvtottot2r.nii.gz\n",
      "Erosion completed and saved to: /Intern Programming/data/output/t1t2gtv_5mm\\UMCG-8963085_gtvpttot1r.nii.gz\n",
      "Erosion completed and saved to: /Intern Programming/data/output/t1t2gtv_5mm\\UMCG-8963085_gtvpttot2r.nii.gz\n",
      "Erosion completed and saved to: /Intern Programming/data/output/t1t2gtv_5mm\\UMCG-8963085_gtvtottot1r.nii.gz\n",
      "Erosion completed and saved to: /Intern Programming/data/output/t1t2gtv_5mm\\UMCG-8963085_gtvtottot2r.nii.gz\n",
      "Erosion completed and saved to: /Intern Programming/data/output/t1t2gtv_5mm\\UMCG-8966495_gtvpttot1r.nii.gz\n",
      "Erosion completed and saved to: /Intern Programming/data/output/t1t2gtv_5mm\\UMCG-8966495_gtvpttot2r.nii.gz\n",
      "Erosion completed and saved to: /Intern Programming/data/output/t1t2gtv_5mm\\UMCG-8966495_gtvtottot1r.nii.gz\n",
      "Erosion completed and saved to: /Intern Programming/data/output/t1t2gtv_5mm\\UMCG-8966495_gtvtottot2r.nii.gz\n",
      "Erosion completed and saved to: /Intern Programming/data/output/t1t2gtv_5mm\\UMCG-9007625_gtvpttot1r.nii.gz\n",
      "Erosion completed and saved to: /Intern Programming/data/output/t1t2gtv_5mm\\UMCG-9007625_gtvpttot2r.nii.gz\n",
      "Erosion completed and saved to: /Intern Programming/data/output/t1t2gtv_5mm\\UMCG-9007625_gtvtottot1r.nii.gz\n",
      "Erosion completed and saved to: /Intern Programming/data/output/t1t2gtv_5mm\\UMCG-9007625_gtvtottot2r.nii.gz\n",
      "Erosion completed and saved to: /Intern Programming/data/output/t1t2gtv_5mm\\UMCG-9016739_gtvpttot1r.nii.gz\n",
      "Erosion completed and saved to: /Intern Programming/data/output/t1t2gtv_5mm\\UMCG-9016739_gtvtottot1r.nii.gz\n",
      "Erosion completed and saved to: /Intern Programming/data/output/t1t2gtv_5mm\\UMCG-9065771_gtvpttot1r.nii.gz\n",
      "Erosion completed and saved to: /Intern Programming/data/output/t1t2gtv_5mm\\UMCG-9065771_gtvtottot1r.nii.gz\n",
      "Erosion completed and saved to: /Intern Programming/data/output/t1t2gtv_5mm\\UMCG-9070500_gtvpttot1r.nii.gz\n",
      "Erosion completed and saved to: /Intern Programming/data/output/t1t2gtv_5mm\\UMCG-9070500_gtvtottot1r.nii.gz\n",
      "Erosion completed and saved to: /Intern Programming/data/output/t1t2gtv_5mm\\UMCG-9091814_gtvpttot1r.nii.gz\n",
      "Erosion completed and saved to: /Intern Programming/data/output/t1t2gtv_5mm\\UMCG-9091814_gtvpttot2r.nii.gz\n",
      "Erosion completed and saved to: /Intern Programming/data/output/t1t2gtv_5mm\\UMCG-9091814_gtvtottot1r.nii.gz\n",
      "Erosion completed and saved to: /Intern Programming/data/output/t1t2gtv_5mm\\UMCG-9091814_gtvtottot2r.nii.gz\n",
      "Erosion completed and saved to: /Intern Programming/data/output/t1t2gtv_5mm\\UMCG-9146365_gtvpttot1r.nii.gz\n",
      "Erosion completed and saved to: /Intern Programming/data/output/t1t2gtv_5mm\\UMCG-9146365_gtvpttot2r.nii.gz\n",
      "Erosion completed and saved to: /Intern Programming/data/output/t1t2gtv_5mm\\UMCG-9146365_gtvtottot1r.nii.gz\n",
      "Erosion completed and saved to: /Intern Programming/data/output/t1t2gtv_5mm\\UMCG-9146365_gtvtottot2r.nii.gz\n",
      "Erosion completed and saved to: /Intern Programming/data/output/t1t2gtv_5mm\\UMCG-9152961_gtvlntot1r.nii.gz\n",
      "Erosion completed and saved to: /Intern Programming/data/output/t1t2gtv_5mm\\UMCG-9152961_gtvlntot2r.nii.gz\n",
      "Erosion completed and saved to: /Intern Programming/data/output/t1t2gtv_5mm\\UMCG-9152961_gtvpttot1r.nii.gz\n",
      "Erosion completed and saved to: /Intern Programming/data/output/t1t2gtv_5mm\\UMCG-9152961_gtvpttot2r.nii.gz\n",
      "Erosion completed and saved to: /Intern Programming/data/output/t1t2gtv_5mm\\UMCG-9152961_gtvtottot1r.nii.gz\n",
      "Erosion completed and saved to: /Intern Programming/data/output/t1t2gtv_5mm\\UMCG-9152961_gtvtottot2r.nii.gz\n",
      "Erosion completed and saved to: /Intern Programming/data/output/t1t2gtv_5mm\\UMCG-9251943_gtvpttot1r.nii.gz\n",
      "Erosion completed and saved to: /Intern Programming/data/output/t1t2gtv_5mm\\UMCG-9251943_gtvtottot1r.nii.gz\n",
      "Erosion completed and saved to: /Intern Programming/data/output/t1t2gtv_5mm\\UMCG-9260834_gtvpttot1r.nii.gz\n",
      "Erosion completed and saved to: /Intern Programming/data/output/t1t2gtv_5mm\\UMCG-9260834_gtvtottot1r.nii.gz\n",
      "Erosion completed and saved to: /Intern Programming/data/output/t1t2gtv_5mm\\UMCG-9280356_gtvlntot1r.nii.gz\n",
      "Erosion completed and saved to: /Intern Programming/data/output/t1t2gtv_5mm\\UMCG-9280356_gtvpttot1r.nii.gz\n",
      "Erosion completed and saved to: /Intern Programming/data/output/t1t2gtv_5mm\\UMCG-9280356_gtvtottot1r.nii.gz\n",
      "Erosion completed and saved to: /Intern Programming/data/output/t1t2gtv_5mm\\UMCG-9325321_gtvlntot1r.nii.gz\n",
      "Erosion completed and saved to: /Intern Programming/data/output/t1t2gtv_5mm\\UMCG-9325321_gtvlntot2r.nii.gz\n",
      "Erosion completed and saved to: /Intern Programming/data/output/t1t2gtv_5mm\\UMCG-9325321_gtvpttot1r.nii.gz\n",
      "Erosion completed and saved to: /Intern Programming/data/output/t1t2gtv_5mm\\UMCG-9325321_gtvpttot2r.nii.gz\n",
      "Erosion completed and saved to: /Intern Programming/data/output/t1t2gtv_5mm\\UMCG-9325321_gtvtottot1r.nii.gz\n",
      "Erosion completed and saved to: /Intern Programming/data/output/t1t2gtv_5mm\\UMCG-9325321_gtvtottot2r.nii.gz\n",
      "Erosion completed and saved to: /Intern Programming/data/output/t1t2gtv_5mm\\UMCG-9375739_gtvpttot1r.nii.gz\n",
      "Erosion completed and saved to: /Intern Programming/data/output/t1t2gtv_5mm\\UMCG-9375739_gtvtottot1r.nii.gz\n",
      "Erosion completed and saved to: /Intern Programming/data/output/t1t2gtv_5mm\\UMCG-9399073_gtvpttot1r.nii.gz\n",
      "Erosion completed and saved to: /Intern Programming/data/output/t1t2gtv_5mm\\UMCG-9399073_gtvtottot1r.nii.gz\n",
      "Erosion completed and saved to: /Intern Programming/data/output/t1t2gtv_5mm\\UMCG-9415901_gtvpttot1r.nii.gz\n",
      "Erosion completed and saved to: /Intern Programming/data/output/t1t2gtv_5mm\\UMCG-9415901_gtvtottot1r.nii.gz\n",
      "Erosion completed and saved to: /Intern Programming/data/output/t1t2gtv_5mm\\UMCG-9444148_gtvpttot1r.nii.gz\n",
      "Erosion completed and saved to: /Intern Programming/data/output/t1t2gtv_5mm\\UMCG-9444148_gtvpttot2r.nii.gz\n",
      "Erosion completed and saved to: /Intern Programming/data/output/t1t2gtv_5mm\\UMCG-9444148_gtvtottot1r.nii.gz\n",
      "Erosion completed and saved to: /Intern Programming/data/output/t1t2gtv_5mm\\UMCG-9444148_gtvtottot2r.nii.gz\n",
      "Erosion completed and saved to: /Intern Programming/data/output/t1t2gtv_5mm\\UMCG-9445856_gtvpttot1r.nii.gz\n",
      "Erosion completed and saved to: /Intern Programming/data/output/t1t2gtv_5mm\\UMCG-9445856_gtvpttot2r.nii.gz\n",
      "Erosion completed and saved to: /Intern Programming/data/output/t1t2gtv_5mm\\UMCG-9445856_gtvtottot1r.nii.gz\n",
      "Erosion completed and saved to: /Intern Programming/data/output/t1t2gtv_5mm\\UMCG-9445856_gtvtottot2r.nii.gz\n",
      "Erosion completed and saved to: /Intern Programming/data/output/t1t2gtv_5mm\\UMCG-9462318_gtvpttot1r.nii.gz\n",
      "Erosion completed and saved to: /Intern Programming/data/output/t1t2gtv_5mm\\UMCG-9462318_gtvpttot2r.nii.gz\n",
      "Erosion completed and saved to: /Intern Programming/data/output/t1t2gtv_5mm\\UMCG-9462318_gtvtottot1r.nii.gz\n",
      "Erosion completed and saved to: /Intern Programming/data/output/t1t2gtv_5mm\\UMCG-9462318_gtvtottot2r.nii.gz\n",
      "Erosion completed and saved to: /Intern Programming/data/output/t1t2gtv_5mm\\UMCG-9516522_gtvpttot1r.nii.gz\n",
      "Erosion completed and saved to: /Intern Programming/data/output/t1t2gtv_5mm\\UMCG-9516522_gtvtottot1r.nii.gz\n",
      "Erosion completed and saved to: /Intern Programming/data/output/t1t2gtv_5mm\\UMCG-9577277_gtvpttot1r.nii.gz\n",
      "Erosion completed and saved to: /Intern Programming/data/output/t1t2gtv_5mm\\UMCG-9577277_gtvpttot2r.nii.gz\n",
      "Erosion completed and saved to: /Intern Programming/data/output/t1t2gtv_5mm\\UMCG-9577277_gtvtottot1r.nii.gz\n",
      "Erosion completed and saved to: /Intern Programming/data/output/t1t2gtv_5mm\\UMCG-9577277_gtvtottot2r.nii.gz\n",
      "Erosion completed and saved to: /Intern Programming/data/output/t1t2gtv_5mm\\UMCG-9597467_gtvpttot1r.nii.gz\n",
      "Erosion completed and saved to: /Intern Programming/data/output/t1t2gtv_5mm\\UMCG-9597467_gtvtottot1r.nii.gz\n",
      "Erosion completed and saved to: /Intern Programming/data/output/t1t2gtv_5mm\\UMCG-9618642_gtvpttot1r.nii.gz\n",
      "Erosion completed and saved to: /Intern Programming/data/output/t1t2gtv_5mm\\UMCG-9618642_gtvtottot1r.nii.gz\n",
      "Erosion completed and saved to: /Intern Programming/data/output/t1t2gtv_5mm\\UMCG-9653665_gtvlntot1r.nii.gz\n",
      "Erosion completed and saved to: /Intern Programming/data/output/t1t2gtv_5mm\\UMCG-9653665_gtvpttot1r.nii.gz\n",
      "Erosion completed and saved to: /Intern Programming/data/output/t1t2gtv_5mm\\UMCG-9653665_gtvtottot1r.nii.gz\n",
      "Erosion completed and saved to: /Intern Programming/data/output/t1t2gtv_5mm\\UMCG-9692367_gtvlntot1r.nii.gz\n",
      "Erosion completed and saved to: /Intern Programming/data/output/t1t2gtv_5mm\\UMCG-9692367_gtvlntot2r.nii.gz\n",
      "Erosion completed and saved to: /Intern Programming/data/output/t1t2gtv_5mm\\UMCG-9692367_gtvpttot1r.nii.gz\n",
      "Erosion completed and saved to: /Intern Programming/data/output/t1t2gtv_5mm\\UMCG-9692367_gtvpttot2r.nii.gz\n",
      "Erosion completed and saved to: /Intern Programming/data/output/t1t2gtv_5mm\\UMCG-9692367_gtvtottot1r.nii.gz\n",
      "Erosion completed and saved to: /Intern Programming/data/output/t1t2gtv_5mm\\UMCG-9692367_gtvtottot2r.nii.gz\n",
      "Erosion completed and saved to: /Intern Programming/data/output/t1t2gtv_5mm\\UMCG-9715913_gtvlntot1r.nii.gz\n",
      "Erosion completed and saved to: /Intern Programming/data/output/t1t2gtv_5mm\\UMCG-9715913_gtvpttot1r.nii.gz\n",
      "Erosion completed and saved to: /Intern Programming/data/output/t1t2gtv_5mm\\UMCG-9715913_gtvtottot1r.nii.gz\n",
      "Erosion completed and saved to: /Intern Programming/data/output/t1t2gtv_5mm\\UMCG-9724043_gtvpttot1r.nii.gz\n",
      "Erosion completed and saved to: /Intern Programming/data/output/t1t2gtv_5mm\\UMCG-9724043_gtvtottot1r.nii.gz\n",
      "Erosion completed and saved to: /Intern Programming/data/output/t1t2gtv_5mm\\UMCG-9731237_gtvpttot1r.nii.gz\n",
      "Erosion completed and saved to: /Intern Programming/data/output/t1t2gtv_5mm\\UMCG-9731237_gtvtottot1r.nii.gz\n",
      "Erosion completed and saved to: /Intern Programming/data/output/t1t2gtv_5mm\\UMCG-9735198_gtvpttot1r.nii.gz\n",
      "Erosion completed and saved to: /Intern Programming/data/output/t1t2gtv_5mm\\UMCG-9735198_gtvtottot1r.nii.gz\n",
      "Erosion completed and saved to: /Intern Programming/data/output/t1t2gtv_5mm\\UMCG-9743734_gtvpttot1r.nii.gz\n",
      "Erosion completed and saved to: /Intern Programming/data/output/t1t2gtv_5mm\\UMCG-9743734_gtvtottot1r.nii.gz\n",
      "Erosion completed and saved to: /Intern Programming/data/output/t1t2gtv_5mm\\UMCG-9848352_gtvpttot1r.nii.gz\n",
      "Erosion completed and saved to: /Intern Programming/data/output/t1t2gtv_5mm\\UMCG-9848352_gtvpttot2r.nii.gz\n",
      "Erosion completed and saved to: /Intern Programming/data/output/t1t2gtv_5mm\\UMCG-9848352_gtvtottot1r.nii.gz\n",
      "Erosion completed and saved to: /Intern Programming/data/output/t1t2gtv_5mm\\UMCG-9848352_gtvtottot2r.nii.gz\n",
      "Erosion completed and saved to: /Intern Programming/data/output/t1t2gtv_5mm\\UMCG-9867081_gtvpttot1r.nii.gz\n",
      "Erosion completed and saved to: /Intern Programming/data/output/t1t2gtv_5mm\\UMCG-9867081_gtvpttot2r.nii.gz\n",
      "Erosion completed and saved to: /Intern Programming/data/output/t1t2gtv_5mm\\UMCG-9867081_gtvtottot1r.nii.gz\n",
      "Erosion completed and saved to: /Intern Programming/data/output/t1t2gtv_5mm\\UMCG-9867081_gtvtottot2r.nii.gz\n",
      "Erosion completed and saved to: /Intern Programming/data/output/t1t2gtv_5mm\\UMCG-9869113_gtvpttot1r.nii.gz\n",
      "Erosion completed and saved to: /Intern Programming/data/output/t1t2gtv_5mm\\UMCG-9869113_gtvpttot2r.nii.gz\n",
      "Erosion completed and saved to: /Intern Programming/data/output/t1t2gtv_5mm\\UMCG-9869113_gtvtottot1r.nii.gz\n",
      "Erosion completed and saved to: /Intern Programming/data/output/t1t2gtv_5mm\\UMCG-9869113_gtvtottot2r.nii.gz\n",
      "Erosion completed and saved to: /Intern Programming/data/output/t1t2gtv_5mm\\UMCG-9878177_gtvpttot1r.nii.gz\n",
      "Erosion completed and saved to: /Intern Programming/data/output/t1t2gtv_5mm\\UMCG-9878177_gtvpttot2r.nii.gz\n",
      "Erosion completed and saved to: /Intern Programming/data/output/t1t2gtv_5mm\\UMCG-9878177_gtvtottot1r.nii.gz\n",
      "Erosion completed and saved to: /Intern Programming/data/output/t1t2gtv_5mm\\UMCG-9878177_gtvtottot2r.nii.gz\n",
      "Erosion completed and saved to: /Intern Programming/data/output/t1t2gtv_5mm\\UMCG-9899837_gtvpttot1r.nii.gz\n",
      "Erosion completed and saved to: /Intern Programming/data/output/t1t2gtv_5mm\\UMCG-9899837_gtvpttot2r.nii.gz\n",
      "Erosion completed and saved to: /Intern Programming/data/output/t1t2gtv_5mm\\UMCG-9899837_gtvtottot1r.nii.gz\n",
      "Erosion completed and saved to: /Intern Programming/data/output/t1t2gtv_5mm\\UMCG-9899837_gtvtottot2r.nii.gz\n",
      "Erosion completed and saved to: /Intern Programming/data/output/t1t2gtv_5mm\\UMCG-9919987_gtvpttot1r.nii.gz\n",
      "Erosion completed and saved to: /Intern Programming/data/output/t1t2gtv_5mm\\UMCG-9919987_gtvpttot2r.nii.gz\n",
      "Erosion completed and saved to: /Intern Programming/data/output/t1t2gtv_5mm\\UMCG-9919987_gtvtottot1r.nii.gz\n",
      "Erosion completed and saved to: /Intern Programming/data/output/t1t2gtv_5mm\\UMCG-9919987_gtvtottot2r.nii.gz\n",
      "Erosion completed and saved to: /Intern Programming/data/output/t1t2gtv_5mm\\UMCG-9946201_gtvpttot1r.nii.gz\n",
      "Erosion completed and saved to: /Intern Programming/data/output/t1t2gtv_5mm\\UMCG-9946201_gtvpttot2r.nii.gz\n",
      "Erosion completed and saved to: /Intern Programming/data/output/t1t2gtv_5mm\\UMCG-9946201_gtvtottot1r.nii.gz\n",
      "Erosion completed and saved to: /Intern Programming/data/output/t1t2gtv_5mm\\UMCG-9946201_gtvtottot2r.nii.gz\n",
      "Erosion completed and saved to: /Intern Programming/data/output/t1t2gtv_5mm\\UMCG-9980149_gtvpttot1r.nii.gz\n",
      "Erosion completed and saved to: /Intern Programming/data/output/t1t2gtv_5mm\\UMCG-9980149_gtvpttot2r.nii.gz\n",
      "Erosion completed and saved to: /Intern Programming/data/output/t1t2gtv_5mm\\UMCG-9980149_gtvtottot1r.nii.gz\n",
      "Erosion completed and saved to: /Intern Programming/data/output/t1t2gtv_5mm\\UMCG-9980149_gtvtottot2r.nii.gz\n"
     ]
    }
   ],
   "source": [
    "import os\n",
    "import numpy as np\n",
    "import nibabel as nib\n",
    "from scipy.ndimage import binary_erosion\n",
    "\n",
    "# Function to perform erosion on an MRI scan and save the result\n",
    "def perform_erosion(input_path, output_path, structuring_element):\n",
    "    # Load MRI scan data using nibabel\n",
    "    mri_scan = nib.load(input_path)\n",
    "    mri_data = mri_scan.get_fdata()\n",
    "\n",
    "    # Perform erosion on the MRI data\n",
    "    eroded_data = binary_erosion(mri_data, structure=structuring_element)\n",
    "\n",
    "    # Create a new NIfTI image from the eroded data\n",
    "    eroded_mri_scan = nib.Nifti1Image(eroded_data, affine=mri_scan.affine, header=mri_scan.header)\n",
    "\n",
    "    # Save the eroded MRI scan to the specified output path\n",
    "    nib.save(eroded_mri_scan, output_path)\n",
    "    print(f\"Erosion completed and saved to: {output_path}\")\n",
    "\n",
    "input_folder = \"/Intern Programming/data/t1t2_gtv\"\n",
    "output_folder = '/Intern Programming/data/output/t1t2gtv_5mm'\n",
    "\n",
    "# Define the structuring element for erosion (e.g., 3x3x3 cube)\n",
    "structuring_element = np.ones((5, 5, 5))\n",
    "\n",
    "# Iterate over each MRI scan file in the input folder\n",
    "for filename in os.listdir(input_folder):\n",
    "    if filename.endswith('.nii.gz') or filename.endswith('.nii'):\n",
    "        # Construct full paths for input and output files\n",
    "        input_path = os.path.join(input_folder, filename)\n",
    "        output_path = os.path.join(output_folder, f'{filename}')  # Modify output filename if needed\n",
    "\n",
    "        # Perform erosion on the MRI scan and save the result\n",
    "        perform_erosion(input_path, output_path, structuring_element)\n"
   ]
  },
  {
   "cell_type": "code",
   "execution_count": null,
   "metadata": {},
   "outputs": [],
   "source": [
    "df = pd.DataFrame(all_features)\n",
    "df.head()"
   ]
  },
  {
   "cell_type": "code",
   "execution_count": 2,
   "metadata": {},
   "outputs": [
    {
     "name": "stdout",
     "output_type": "stream",
     "text": [
      "[200, 200, 155]\n",
      "[200, 200, 129]\n",
      "[200, 200, 126]\n",
      "[200, 200, 126]\n",
      "[200, 200, 155]\n",
      "[200, 200, 129]\n",
      "[200, 200, 130]\n",
      "[200, 200, 126]\n",
      "[200, 200, 155]\n",
      "[200, 200, 126]\n",
      "[180, 180, 126]\n",
      "[200, 200, 126]\n",
      "[200, 200, 176]\n",
      "[200, 200, 129]\n",
      "[180, 180, 126]\n",
      "[200, 200, 126]\n",
      "[180, 180, 126]\n",
      "[200, 200, 126]\n",
      "[200, 200, 126]\n",
      "[200, 200, 126]\n",
      "[200, 200, 126]\n",
      "[200, 200, 126]\n",
      "[200, 200, 155]\n",
      "[200, 200, 135]\n",
      "[180, 180, 151]\n",
      "[220, 220, 144]\n",
      "[200, 200, 126]\n",
      "[200, 200, 126]\n",
      "[200, 200, 126]\n",
      "[200, 200, 126]\n",
      "[200, 200, 126]\n",
      "[200, 200, 140]\n",
      "[200, 200, 155]\n",
      "[200, 200, 129]\n",
      "[200, 200, 155]\n",
      "[200, 200, 129]\n",
      "[180, 180, 126]\n",
      "[200, 200, 126]\n",
      "[200, 200, 155]\n",
      "[200, 200, 142]\n",
      "[200, 200, 155]\n",
      "[200, 200, 129]\n",
      "[200, 200, 126]\n",
      "[200, 200, 126]\n",
      "[200, 200, 126]\n",
      "[200, 200, 169]\n",
      "[200, 200, 126]\n",
      "[200, 200, 126]\n",
      "[200, 200, 126]\n",
      "[180, 180, 140]\n",
      "[200, 200, 126]\n",
      "[180, 180, 140]\n",
      "[200, 200, 133]\n",
      "[200, 200, 126]\n",
      "[208, 230, 140]\n",
      "[208, 230, 140]\n",
      "[200, 200, 140]\n",
      "[200, 200, 126]\n",
      "[180, 180, 126]\n",
      "[200, 200, 126]\n",
      "[180, 180, 126]\n",
      "[200, 200, 126]\n",
      "[200, 200, 126]\n",
      "[200, 200, 126]\n",
      "[180, 180, 126]\n",
      "[200, 200, 126]\n",
      "[200, 200, 155]\n",
      "[200, 200, 129]\n",
      "[200, 200, 155]\n",
      "[200, 200, 129]\n",
      "[180, 180, 140]\n",
      "[200, 200, 126]\n",
      "[200, 200, 155]\n",
      "[200, 200, 129]\n",
      "[200, 200, 126]\n",
      "[200, 200, 126]\n",
      "[180, 180, 126]\n",
      "[200, 200, 133]\n",
      "[180, 180, 140]\n",
      "[200, 200, 126]\n",
      "[200, 200, 155]\n",
      "[200, 200, 129]\n",
      "[200, 200, 155]\n",
      "[200, 200, 129]\n",
      "[200, 200, 155]\n",
      "[200, 200, 155]\n",
      "[200, 200, 126]\n",
      "[200, 200, 126]\n",
      "[180, 180, 126]\n",
      "[200, 200, 126]\n",
      "[180, 180, 126]\n",
      "[200, 200, 126]\n",
      "[208, 230, 140]\n",
      "[200, 200, 126]\n",
      "[200, 200, 126]\n",
      "[200, 200, 144]\n",
      "[200, 200, 140]\n",
      "[180, 180, 148]\n",
      "[200, 200, 126]\n",
      "[208, 230, 140]\n",
      "[200, 200, 126]\n",
      "[200, 200, 126]\n",
      "[180, 180, 126]\n",
      "[200, 200, 126]\n",
      "[200, 200, 155]\n",
      "[200, 200, 149]\n",
      "[200, 200, 126]\n",
      "[200, 200, 126]\n",
      "[200, 200, 198]\n",
      "[220, 220, 129]\n",
      "[200, 200, 126]\n",
      "[200, 200, 140]\n",
      "[200, 200, 155]\n",
      "[200, 200, 129]\n",
      "[200, 200, 155]\n",
      "[200, 200, 116]\n",
      "[200, 200, 155]\n",
      "[200, 200, 129]\n",
      "[200, 200, 155]\n",
      "[200, 200, 129]\n",
      "[200, 200, 126]\n",
      "[200, 200, 126]\n",
      "[180, 230, 110]\n",
      "[199, 250, 116]\n",
      "[289, 220, 119]\n",
      "[250, 250, 116]\n",
      "[200, 200, 155]\n",
      "[200, 200, 135]\n",
      "[200, 200, 155]\n",
      "[200, 200, 129]\n",
      "[200, 200, 155]\n",
      "[200, 200, 129]\n",
      "[200, 200, 155]\n",
      "[200, 200, 129]\n",
      "[200, 200, 155]\n",
      "[200, 200, 135]\n",
      "[200, 200, 155]\n",
      "[200, 200, 129]\n",
      "[200, 200, 155]\n",
      "[200, 200, 129]\n",
      "[180, 180, 126]\n",
      "[200, 200, 126]\n",
      "[200, 200, 155]\n",
      "[200, 200, 129]\n",
      "[200, 200, 155]\n",
      "[200, 200, 129]\n",
      "[200, 200, 155]\n",
      "[200, 200, 129]\n",
      "[200, 200, 155]\n",
      "[200, 200, 129]\n",
      "[200, 200, 155]\n",
      "[200, 200, 142]\n",
      "[200, 200, 162]\n",
      "[200, 200, 129]\n",
      "[200, 200, 155]\n",
      "[200, 200, 135]\n",
      "[200, 200, 155]\n",
      "[200, 200, 129]\n",
      "[200, 200, 155]\n",
      "[200, 200, 129]\n",
      "[200, 200, 155]\n",
      "[200, 200, 129]\n",
      "[200, 200, 155]\n",
      "[200, 200, 142]\n",
      "[200, 200, 155]\n",
      "[200, 200, 129]\n",
      "[200, 200, 155]\n",
      "[200, 200, 129]\n",
      "[200, 200, 155]\n",
      "[200, 200, 129]\n",
      "[200, 200, 155]\n",
      "[200, 200, 129]\n",
      "[200, 200, 155]\n",
      "[200, 200, 129]\n",
      "[200, 200, 155]\n",
      "[200, 200, 129]\n",
      "[200, 200, 155]\n",
      "[200, 200, 129]\n",
      "[200, 200, 155]\n",
      "[200, 200, 129]\n",
      "[200, 200, 155]\n",
      "[200, 200, 129]\n",
      "[200, 200, 155]\n",
      "[200, 200, 129]\n",
      "[200, 200, 155]\n",
      "[200, 200, 129]\n",
      "[208, 230, 140]\n",
      "[200, 200, 155]\n",
      "[200, 200, 129]\n",
      "[200, 200, 155]\n",
      "[200, 200, 129]\n",
      "[200, 200, 155]\n",
      "[200, 200, 129]\n",
      "[200, 200, 155]\n",
      "[200, 200, 129]\n",
      "[200, 200, 155]\n",
      "[200, 200, 129]\n",
      "[200, 200, 155]\n",
      "[200, 200, 129]\n",
      "[200, 200, 155]\n",
      "[200, 200, 129]\n",
      "[200, 200, 155]\n",
      "[200, 200, 129]\n",
      "[200, 200, 155]\n",
      "[200, 200, 129]\n",
      "[200, 200, 155]\n",
      "[200, 200, 135]\n",
      "[200, 200, 155]\n",
      "[200, 200, 129]\n",
      "[200, 200, 155]\n",
      "[200, 200, 129]\n",
      "[200, 200, 155]\n",
      "[200, 200, 129]\n",
      "[200, 200, 155]\n",
      "[200, 200, 142]\n",
      "[200, 200, 126]\n",
      "[200, 200, 126]\n",
      "[200, 200, 155]\n",
      "[200, 200, 142]\n",
      "[200, 200, 155]\n",
      "[200, 200, 129]\n",
      "[200, 200, 155]\n",
      "[200, 200, 129]\n",
      "[200, 200, 155]\n",
      "[200, 200, 129]\n",
      "[200, 200, 155]\n",
      "[200, 200, 129]\n",
      "[200, 200, 155]\n",
      "[200, 200, 142]\n",
      "[200, 200, 155]\n",
      "[200, 200, 129]\n",
      "[200, 200, 155]\n",
      "[200, 200, 129]\n",
      "[200, 200, 155]\n",
      "[200, 200, 129]\n",
      "[200, 200, 155]\n",
      "[200, 200, 129]\n",
      "[200, 200, 155]\n",
      "[200, 200, 129]\n",
      "[200, 200, 162]\n",
      "[200, 200, 142]\n",
      "[200, 200, 155]\n",
      "[200, 200, 129]\n",
      "[200, 200, 155]\n",
      "[200, 200, 129]\n",
      "[200, 200, 155]\n",
      "[200, 200, 129]\n",
      "[200, 200, 155]\n",
      "[200, 200, 135]\n",
      "[200, 200, 162]\n",
      "[200, 200, 129]\n",
      "[180, 180, 155]\n",
      "[200, 200, 129]\n",
      "[208, 230, 140]\n",
      "[200, 200, 155]\n",
      "[200, 200, 129]\n",
      "[200, 200, 155]\n",
      "[200, 200, 129]\n",
      "[200, 200, 155]\n",
      "[200, 200, 129]\n",
      "[200, 200, 155]\n",
      "[200, 200, 129]\n",
      "[200, 200, 155]\n",
      "[200, 200, 129]\n",
      "[200, 200, 155]\n",
      "[200, 200, 149]\n",
      "[200, 200, 155]\n",
      "[200, 200, 129]\n",
      "[200, 200, 155]\n",
      "[200, 200, 129]\n",
      "[200, 200, 155]\n",
      "[200, 200, 129]\n",
      "[200, 200, 155]\n",
      "[200, 200, 129]\n",
      "[200, 200, 155]\n",
      "[200, 200, 129]\n",
      "[200, 200, 155]\n",
      "[200, 200, 129]\n",
      "[200, 200, 155]\n",
      "[200, 200, 129]\n",
      "[200, 200, 155]\n",
      "[200, 200, 129]\n",
      "[200, 200, 155]\n",
      "[200, 200, 129]\n",
      "[180, 180, 144]\n",
      "[200, 200, 126]\n",
      "[200, 200, 155]\n",
      "[200, 200, 129]\n",
      "[200, 200, 155]\n",
      "[200, 200, 129]\n",
      "[200, 200, 155]\n",
      "[200, 200, 129]\n",
      "[200, 200, 155]\n",
      "[200, 200, 129]\n",
      "[200, 200, 126]\n",
      "[200, 200, 126]\n",
      "[200, 200, 155]\n",
      "[200, 200, 149]\n",
      "[200, 200, 126]\n",
      "[200, 200, 126]\n",
      "[194, 230, 160]\n",
      "[200, 200, 158]\n",
      "[200, 200, 135]\n",
      "[200, 200, 126]\n",
      "[200, 200, 126]\n",
      "[200, 200, 155]\n",
      "[200, 200, 126]\n",
      "[200, 200, 155]\n",
      "[200, 200, 129]\n",
      "[208, 230, 140]\n",
      "[200, 200, 126]\n",
      "[200, 200, 126]\n",
      "[200, 200, 155]\n",
      "[200, 200, 129]\n",
      "[200, 200, 158]\n",
      "[200, 200, 129]\n",
      "[208, 230, 172]\n",
      "[200, 200, 126]\n",
      "[200, 200, 126]\n",
      "[200, 200, 155]\n",
      "[200, 200, 129]\n",
      "[200, 200, 155]\n",
      "[200, 200, 129]\n",
      "[200, 200, 126]\n",
      "[200, 200, 133]\n",
      "[200, 200, 155]\n",
      "[200, 200, 129]\n",
      "[180, 180, 126]\n",
      "[200, 200, 126]\n",
      "[200, 200, 155]\n",
      "[200, 200, 139]\n",
      "[208, 230, 140]\n",
      "[200, 200, 155]\n",
      "[200, 200, 129]\n",
      "[200, 200, 155]\n",
      "[200, 200, 129]\n",
      "[208, 230, 148]\n",
      "[200, 200, 126]\n",
      "[200, 200, 133]\n",
      "[200, 200, 126]\n",
      "[200, 200, 140]\n",
      "[200, 200, 155]\n",
      "[200, 200, 142]\n",
      "[289, 220, 140]\n",
      "[180, 180, 126]\n",
      "[200, 200, 126]\n",
      "[200, 200, 162]\n",
      "[200, 200, 126]\n",
      "[200, 200, 155]\n",
      "[200, 200, 129]\n",
      "[200, 200, 155]\n",
      "[200, 200, 129]\n",
      "[208, 230, 140]\n",
      "[200, 200, 126]\n",
      "[200, 200, 126]\n",
      "[180, 180, 155]\n",
      "[200, 200, 126]\n",
      "[200, 200, 126]\n",
      "[200, 200, 155]\n",
      "[200, 200, 135]\n",
      "[200, 200, 155]\n",
      "[200, 200, 129]\n",
      "[200, 200, 126]\n",
      "[200, 200, 140]\n",
      "[200, 200, 155]\n",
      "[200, 200, 129]\n",
      "[208, 230, 140]\n",
      "[200, 200, 176]\n",
      "[200, 200, 129]\n",
      "[200, 200, 155]\n",
      "[200, 200, 129]\n",
      "[180, 180, 151]\n",
      "[200, 200, 126]\n",
      "[200, 200, 155]\n",
      "[200, 200, 129]\n",
      "[200, 200, 155]\n",
      "[200, 200, 129]\n",
      "[200, 200, 126]\n",
      "[200, 200, 133]\n",
      "[200, 200, 126]\n",
      "[200, 200, 126]\n",
      "[200, 200, 155]\n",
      "[200, 200, 129]\n",
      "[208, 230, 140]\n",
      "[200, 200, 155]\n",
      "[200, 200, 129]\n",
      "[200, 200, 155]\n",
      "[200, 200, 140]\n",
      "[200, 200, 126]\n",
      "[200, 200, 155]\n",
      "[200, 200, 129]\n",
      "[200, 200, 155]\n",
      "[200, 200, 129]\n",
      "[200, 200, 155]\n",
      "[200, 200, 129]\n",
      "[208, 230, 140]\n",
      "[194, 230, 172]\n",
      "[180, 180, 126]\n",
      "[200, 200, 126]\n",
      "[208, 230, 140]\n",
      "[180, 230, 110]\n",
      "[289, 220, 148]\n",
      "[200, 200, 126]\n",
      "[200, 200, 126]\n",
      "[208, 230, 140]\n",
      "[206, 230, 148]\n",
      "[200, 200, 155]\n",
      "[200, 200, 129]\n",
      "[200, 200, 155]\n",
      "[200, 200, 129]\n",
      "[180, 230, 120]\n",
      "[200, 200, 126]\n",
      "[200, 200, 126]\n",
      "[208, 230, 144]\n",
      "[200, 200, 155]\n",
      "[200, 200, 126]\n",
      "[180, 180, 126]\n",
      "[200, 200, 133]\n",
      "[200, 200, 155]\n",
      "[200, 200, 129]\n",
      "[200, 200, 176]\n",
      "[220, 220, 142]\n",
      "[208, 230, 140]\n",
      "[180, 180, 126]\n",
      "[200, 200, 126]\n",
      "[200, 200, 126]\n",
      "[200, 200, 133]\n",
      "[200, 200, 155]\n",
      "[200, 200, 129]\n",
      "[200, 200, 155]\n",
      "[200, 200, 129]\n",
      "[200, 200, 155]\n",
      "[200, 200, 129]\n",
      "[200, 200, 155]\n",
      "[200, 200, 129]\n",
      "[200, 200, 155]\n",
      "[200, 200, 129]\n",
      "[208, 230, 140]\n",
      "[200, 200, 155]\n",
      "[200, 200, 149]\n",
      "[200, 200, 155]\n",
      "[200, 200, 129]\n",
      "[208, 230, 148]\n",
      "[200, 200, 155]\n",
      "[200, 200, 129]\n",
      "[200, 200, 162]\n",
      "[200, 200, 162]\n",
      "[200, 200, 148]\n",
      "[200, 200, 126]\n",
      "[208, 230, 140]\n",
      "[200, 200, 169]\n",
      "[200, 200, 129]\n",
      "[200, 200, 155]\n",
      "[200, 200, 129]\n",
      "[180, 180, 140]\n",
      "[200, 200, 140]\n",
      "[200, 200, 169]\n",
      "[200, 200, 129]\n",
      "[200, 200, 126]\n",
      "[200, 200, 126]\n",
      "[200, 200, 155]\n",
      "[200, 200, 142]\n",
      "[200, 200, 155]\n",
      "[200, 200, 129]\n",
      "[200, 200, 155]\n",
      "[200, 200, 129]\n",
      "[208, 230, 140]\n",
      "[200, 200, 155]\n",
      "[200, 200, 129]\n",
      "[200, 200, 155]\n",
      "[200, 200, 129]\n",
      "[200, 200, 126]\n",
      "[200, 200, 126]\n",
      "[208, 230, 140]\n",
      "[208, 230, 180]\n",
      "[180, 180, 126]\n",
      "[200, 200, 126]\n",
      "[200, 200, 155]\n",
      "[200, 200, 129]\n",
      "[200, 200, 155]\n",
      "[200, 200, 148]\n",
      "[208, 230, 140]\n",
      "[180, 180, 126]\n",
      "[200, 200, 126]\n",
      "[200, 200, 126]\n",
      "[200, 200, 126]\n",
      "[200, 200, 126]\n",
      "[200, 200, 140]\n",
      "[200, 200, 126]\n",
      "[200, 200, 126]\n",
      "[208, 230, 140]\n",
      "[200, 200, 155]\n",
      "[200, 200, 129]\n",
      "[200, 200, 155]\n",
      "[200, 200, 129]\n",
      "[206, 230, 148]\n",
      "[200, 200, 126]\n",
      "[200, 200, 126]\n",
      "[200, 200, 155]\n",
      "[200, 200, 129]\n",
      "[200, 200, 155]\n",
      "[200, 200, 135]\n",
      "[180, 180, 126]\n",
      "[200, 200, 126]\n",
      "[208, 230, 140]\n",
      "[200, 200, 155]\n",
      "[200, 200, 129]\n",
      "[200, 200, 155]\n",
      "[200, 200, 129]\n",
      "[200, 200, 126]\n",
      "[200, 200, 126]\n",
      "[200, 200, 126]\n",
      "[200, 200, 126]\n",
      "[208, 230, 148]\n",
      "[208, 230, 160]\n",
      "[200, 200, 155]\n",
      "[200, 200, 129]\n",
      "[289, 220, 155]\n",
      "[208, 230, 140]\n",
      "[180, 180, 126]\n",
      "[200, 200, 126]\n",
      "[180, 180, 126]\n",
      "[200, 200, 126]\n",
      "[208, 230, 140]\n",
      "[208, 230, 140]\n",
      "[200, 200, 140]\n",
      "[200, 200, 140]\n",
      "[200, 200, 155]\n",
      "[200, 200, 129]\n",
      "[200, 200, 155]\n",
      "[200, 200, 135]\n",
      "[208, 230, 140]\n",
      "[218, 240, 148]\n",
      "[194, 230, 244]\n",
      "[208, 230, 180]\n",
      "[208, 230, 140]\n",
      "[200, 200, 155]\n",
      "[200, 200, 129]\n",
      "[200, 200, 155]\n",
      "[200, 200, 129]\n",
      "[208, 230, 140]\n",
      "[200, 200, 180]\n",
      "[220, 220, 142]\n",
      "[180, 180, 126]\n",
      "[200, 200, 126]\n",
      "[200, 200, 155]\n",
      "[200, 200, 129]\n",
      "[180, 180, 126]\n",
      "[200, 200, 126]\n",
      "[208, 230, 140]\n",
      "[208, 230, 140]\n",
      "[230, 208, 200]\n",
      "[200, 200, 155]\n",
      "[200, 200, 129]\n",
      "[200, 200, 126]\n",
      "[200, 200, 126]\n",
      "[200, 200, 155]\n",
      "[200, 200, 129]\n",
      "[289, 220, 140]\n",
      "[289, 220, 140]\n",
      "[208, 230, 180]\n",
      "[200, 200, 155]\n",
      "[200, 200, 129]\n",
      "[289, 220, 140]\n",
      "[208, 230, 140]\n",
      "[208, 230, 140]\n",
      "[200, 200, 126]\n",
      "[200, 200, 133]\n",
      "[200, 200, 162]\n",
      "[200, 200, 148]\n",
      "[200, 200, 155]\n",
      "[200, 200, 129]\n",
      "[208, 230, 140]\n",
      "[200, 200, 155]\n",
      "[200, 200, 129]\n",
      "[230, 230, 164]\n",
      "[208, 230, 140]\n",
      "[208, 230, 140]\n",
      "[200, 200, 155]\n",
      "[200, 200, 129]\n",
      "[208, 230, 140]\n",
      "[208, 230, 140]\n",
      "[208, 230, 180]\n",
      "[208, 230, 180]\n",
      "[208, 230, 140]\n",
      "[180, 180, 126]\n",
      "[200, 200, 126]\n",
      "[200, 200, 155]\n",
      "[200, 200, 129]\n",
      "[200, 200, 126]\n",
      "[200, 200, 126]\n",
      "[208, 230, 96]\n",
      "[200, 200, 126]\n",
      "[200, 200, 126]\n",
      "[200, 200, 126]\n",
      "[180, 180, 126]\n",
      "[200, 200, 126]\n",
      "[200, 200, 155]\n",
      "[200, 200, 129]\n",
      "[200, 200, 155]\n",
      "[200, 200, 129]\n",
      "[200, 200, 155]\n",
      "(155, 200, 200)\n",
      "[200, 200, 129]\n",
      "(129, 200, 200)\n",
      "[200, 200, 155]\n",
      "(155, 200, 200)\n",
      "[200, 200, 129]\n",
      "(129, 200, 200)\n",
      "[200, 200, 126]\n",
      "(126, 200, 200)\n",
      "[200, 200, 126]\n",
      "(126, 200, 200)\n",
      "[200, 200, 126]\n",
      "(126, 200, 200)\n",
      "[200, 200, 126]\n",
      "(126, 200, 200)\n",
      "[200, 200, 155]\n",
      "(155, 200, 200)\n",
      "[200, 200, 129]\n",
      "(129, 200, 200)\n",
      "[200, 200, 155]\n",
      "(155, 200, 200)\n",
      "[200, 200, 129]\n",
      "(129, 200, 200)\n",
      "[200, 200, 130]\n",
      "(130, 200, 200)\n",
      "[200, 200, 126]\n",
      "(126, 200, 200)\n",
      "[200, 200, 130]\n",
      "(130, 200, 200)\n",
      "[200, 200, 126]\n",
      "(126, 200, 200)\n",
      "[200, 200, 155]\n",
      "(155, 200, 200)\n",
      "[200, 200, 126]\n",
      "(126, 200, 200)\n",
      "[200, 200, 155]\n",
      "(155, 200, 200)\n",
      "[200, 200, 126]\n",
      "(126, 200, 200)\n",
      "[180, 180, 126]\n",
      "(126, 180, 180)\n",
      "[200, 200, 126]\n",
      "(126, 200, 200)\n",
      "[180, 180, 126]\n",
      "(126, 180, 180)\n",
      "[200, 200, 126]\n",
      "(126, 200, 200)\n",
      "[200, 200, 176]\n",
      "(176, 200, 200)\n",
      "[200, 200, 129]\n",
      "(129, 200, 200)\n",
      "[200, 200, 176]\n",
      "(176, 200, 200)\n",
      "[200, 200, 129]\n",
      "(129, 200, 200)\n",
      "[180, 180, 126]\n",
      "(126, 180, 180)\n",
      "[200, 200, 126]\n",
      "(126, 200, 200)\n",
      "[180, 180, 126]\n",
      "(126, 180, 180)\n",
      "[200, 200, 126]\n",
      "(126, 200, 200)\n",
      "[180, 180, 126]\n",
      "(126, 180, 180)\n",
      "[200, 200, 126]\n",
      "(126, 200, 200)\n",
      "[180, 180, 126]\n",
      "(126, 180, 180)\n",
      "[200, 200, 126]\n",
      "(126, 200, 200)\n",
      "[180, 180, 126]\n",
      "(126, 180, 180)\n",
      "[200, 200, 126]\n",
      "(126, 200, 200)\n",
      "[180, 180, 126]\n",
      "(126, 180, 180)\n",
      "[200, 200, 126]\n",
      "(126, 200, 200)\n",
      "[200, 200, 126]\n",
      "(126, 200, 200)\n",
      "[200, 200, 126]\n",
      "(126, 200, 200)\n",
      "[200, 200, 126]\n",
      "(126, 200, 200)\n",
      "[200, 200, 126]\n",
      "(126, 200, 200)\n",
      "[200, 200, 126]\n",
      "(126, 200, 200)\n",
      "[200, 200, 126]\n",
      "(126, 200, 200)\n",
      "[200, 200, 126]\n",
      "(126, 200, 200)\n",
      "[200, 200, 126]\n",
      "(126, 200, 200)\n",
      "[200, 200, 155]\n",
      "(155, 200, 200)\n",
      "[200, 200, 135]\n",
      "(135, 200, 200)\n",
      "[200, 200, 155]\n",
      "(155, 200, 200)\n",
      "[200, 200, 135]\n",
      "(135, 200, 200)\n",
      "[180, 180, 151]\n",
      "(151, 180, 180)\n",
      "[220, 220, 144]\n",
      "(144, 220, 220)\n",
      "[180, 180, 151]\n",
      "(151, 180, 180)\n",
      "[220, 220, 144]\n",
      "(144, 220, 220)\n",
      "[200, 200, 126]\n",
      "(126, 200, 200)\n",
      "[200, 200, 126]\n",
      "(126, 200, 200)\n",
      "[200, 200, 126]\n",
      "(126, 200, 200)\n",
      "[200, 200, 126]\n",
      "(126, 200, 200)\n",
      "[200, 200, 126]\n",
      "(126, 200, 200)\n",
      "[200, 200, 126]\n",
      "(126, 200, 200)\n",
      "[200, 200, 126]\n",
      "(126, 200, 200)\n",
      "[200, 200, 126]\n",
      "(126, 200, 200)\n",
      "[200, 200, 126]\n",
      "(126, 200, 200)\n",
      "[200, 200, 140]\n",
      "(140, 200, 200)\n",
      "[200, 200, 126]\n",
      "(126, 200, 200)\n",
      "[200, 200, 140]\n",
      "(140, 200, 200)\n",
      "[200, 200, 126]\n",
      "(126, 200, 200)\n",
      "[200, 200, 140]\n",
      "(140, 200, 200)\n",
      "[200, 200, 155]\n",
      "(155, 200, 200)\n",
      "[200, 200, 129]\n",
      "(129, 200, 200)\n",
      "[200, 200, 155]\n",
      "(155, 200, 200)\n",
      "[200, 200, 129]\n",
      "(129, 200, 200)\n",
      "[200, 200, 155]\n",
      "(155, 200, 200)\n",
      "[200, 200, 129]\n",
      "(129, 200, 200)\n",
      "[200, 200, 155]\n",
      "(155, 200, 200)\n",
      "[200, 200, 129]\n",
      "(129, 200, 200)\n",
      "[180, 180, 126]\n",
      "(126, 180, 180)\n",
      "[200, 200, 126]\n",
      "(126, 200, 200)\n",
      "[180, 180, 126]\n",
      "(126, 180, 180)\n",
      "[200, 200, 126]\n",
      "(126, 200, 200)\n",
      "[200, 200, 155]\n",
      "(155, 200, 200)\n",
      "[200, 200, 142]\n",
      "(142, 200, 200)\n",
      "[200, 200, 155]\n",
      "(155, 200, 200)\n",
      "[200, 200, 142]\n",
      "(142, 200, 200)\n",
      "[200, 200, 155]\n",
      "(155, 200, 200)\n",
      "[200, 200, 129]\n",
      "(129, 200, 200)\n",
      "[200, 200, 155]\n",
      "(155, 200, 200)\n",
      "[200, 200, 129]\n",
      "(129, 200, 200)\n",
      "[200, 200, 126]\n",
      "(126, 200, 200)\n",
      "[200, 200, 126]\n",
      "(126, 200, 200)\n",
      "[200, 200, 126]\n",
      "(126, 200, 200)\n",
      "[200, 200, 126]\n",
      "(126, 200, 200)\n",
      "[200, 200, 126]\n",
      "(126, 200, 200)\n",
      "[200, 200, 126]\n",
      "(126, 200, 200)\n",
      "[200, 200, 169]\n",
      "(169, 200, 200)\n",
      "[200, 200, 126]\n",
      "(126, 200, 200)\n",
      "[200, 200, 169]\n",
      "(169, 200, 200)\n",
      "[200, 200, 126]\n",
      "(126, 200, 200)\n",
      "[200, 200, 169]\n",
      "(169, 200, 200)\n",
      "[200, 200, 126]\n",
      "(126, 200, 200)\n",
      "[200, 200, 126]\n",
      "(126, 200, 200)\n",
      "[200, 200, 126]\n",
      "(126, 200, 200)\n",
      "[200, 200, 126]\n",
      "(126, 200, 200)\n",
      "[200, 200, 126]\n",
      "(126, 200, 200)\n",
      "[180, 180, 140]\n",
      "(140, 180, 180)\n",
      "[200, 200, 126]\n",
      "(126, 200, 200)\n",
      "[180, 180, 140]\n",
      "(140, 180, 180)\n",
      "[200, 200, 126]\n",
      "(126, 200, 200)\n",
      "[180, 180, 140]\n",
      "(140, 180, 180)\n",
      "[200, 200, 133]\n",
      "(133, 200, 200)\n",
      "[180, 180, 140]\n",
      "(140, 180, 180)\n",
      "[200, 200, 133]\n",
      "(133, 200, 200)\n",
      "[200, 200, 126]\n",
      "(126, 200, 200)\n",
      "[200, 200, 126]\n",
      "(126, 200, 200)\n",
      "[208, 230, 140]\n",
      "(140, 230, 208)\n",
      "[208, 230, 140]\n",
      "(140, 230, 208)\n",
      "[208, 230, 140]\n",
      "(140, 230, 208)\n",
      "[208, 230, 140]\n",
      "(140, 230, 208)\n",
      "[200, 200, 140]\n",
      "(140, 200, 200)\n",
      "[200, 200, 126]\n",
      "(126, 200, 200)\n",
      "[200, 200, 140]\n",
      "(140, 200, 200)\n",
      "[200, 200, 126]\n",
      "(126, 200, 200)\n",
      "[180, 180, 126]\n",
      "(126, 180, 180)\n",
      "[200, 200, 126]\n",
      "(126, 200, 200)\n",
      "[180, 180, 126]\n",
      "(126, 180, 180)\n",
      "[200, 200, 126]\n",
      "(126, 200, 200)\n",
      "[180, 180, 126]\n",
      "(126, 180, 180)\n",
      "[200, 200, 126]\n",
      "(126, 200, 200)\n",
      "[180, 180, 126]\n",
      "(126, 180, 180)\n",
      "[200, 200, 126]\n",
      "(126, 200, 200)\n",
      "[180, 180, 126]\n",
      "(126, 180, 180)\n",
      "[200, 200, 126]\n",
      "(126, 200, 200)\n",
      "[180, 180, 126]\n",
      "(126, 180, 180)\n",
      "[200, 200, 126]\n",
      "(126, 200, 200)\n",
      "[200, 200, 126]\n",
      "(126, 200, 200)\n",
      "[200, 200, 126]\n",
      "(126, 200, 200)\n",
      "[200, 200, 126]\n",
      "(126, 200, 200)\n",
      "[200, 200, 126]\n",
      "(126, 200, 200)\n",
      "[180, 180, 126]\n",
      "(126, 180, 180)\n",
      "[200, 200, 126]\n",
      "(126, 200, 200)\n",
      "[180, 180, 126]\n",
      "(126, 180, 180)\n",
      "[200, 200, 126]\n",
      "(126, 200, 200)\n",
      "[200, 200, 155]\n",
      "(155, 200, 200)\n",
      "[200, 200, 129]\n",
      "(129, 200, 200)\n",
      "[200, 200, 155]\n",
      "(155, 200, 200)\n",
      "[200, 200, 129]\n",
      "(129, 200, 200)\n",
      "[200, 200, 155]\n",
      "(155, 200, 200)\n",
      "[200, 200, 129]\n",
      "(129, 200, 200)\n",
      "[200, 200, 155]\n",
      "(155, 200, 200)\n",
      "[200, 200, 129]\n",
      "(129, 200, 200)\n",
      "[200, 200, 155]\n",
      "(155, 200, 200)\n",
      "[200, 200, 129]\n",
      "(129, 200, 200)\n",
      "[180, 180, 140]\n",
      "(140, 180, 180)\n",
      "[200, 200, 126]\n",
      "(126, 200, 200)\n",
      "[180, 180, 140]\n",
      "(140, 180, 180)\n",
      "[200, 200, 126]\n",
      "(126, 200, 200)\n",
      "[200, 200, 155]\n",
      "(155, 200, 200)\n",
      "[200, 200, 129]\n",
      "(129, 200, 200)\n",
      "[200, 200, 155]\n",
      "(155, 200, 200)\n",
      "[200, 200, 129]\n",
      "(129, 200, 200)\n",
      "[200, 200, 126]\n",
      "(126, 200, 200)\n",
      "[200, 200, 126]\n",
      "(126, 200, 200)\n",
      "[200, 200, 126]\n",
      "(126, 200, 200)\n",
      "[200, 200, 126]\n",
      "(126, 200, 200)\n",
      "[180, 180, 126]\n",
      "(126, 180, 180)\n",
      "[200, 200, 133]\n",
      "(133, 200, 200)\n",
      "[180, 180, 126]\n",
      "(126, 180, 180)\n",
      "[200, 200, 133]\n",
      "(133, 200, 200)\n",
      "[180, 180, 140]\n",
      "(140, 180, 180)\n",
      "[200, 200, 126]\n",
      "(126, 200, 200)\n",
      "[180, 180, 140]\n",
      "(140, 180, 180)\n",
      "[200, 200, 126]\n",
      "(126, 200, 200)\n",
      "[200, 200, 155]\n",
      "(155, 200, 200)\n",
      "[200, 200, 129]\n",
      "(129, 200, 200)\n",
      "[200, 200, 155]\n",
      "(155, 200, 200)\n",
      "[200, 200, 129]\n",
      "(129, 200, 200)\n",
      "[200, 200, 155]\n",
      "(155, 200, 200)\n",
      "[200, 200, 129]\n",
      "(129, 200, 200)\n",
      "[200, 200, 155]\n",
      "(155, 200, 200)\n",
      "[200, 200, 129]\n",
      "(129, 200, 200)\n",
      "[200, 200, 155]\n",
      "(155, 200, 200)\n",
      "[200, 200, 155]\n",
      "(155, 200, 200)\n",
      "[200, 200, 155]\n",
      "(155, 200, 200)\n",
      "[200, 200, 155]\n",
      "(155, 200, 200)\n",
      "[200, 200, 126]\n",
      "(126, 200, 200)\n",
      "[200, 200, 126]\n",
      "(126, 200, 200)\n",
      "[200, 200, 126]\n",
      "(126, 200, 200)\n",
      "[200, 200, 126]\n",
      "(126, 200, 200)\n",
      "[200, 200, 126]\n",
      "(126, 200, 200)\n",
      "[200, 200, 126]\n",
      "(126, 200, 200)\n",
      "[180, 180, 126]\n",
      "(126, 180, 180)\n",
      "[200, 200, 126]\n",
      "(126, 200, 200)\n",
      "[180, 180, 126]\n",
      "(126, 180, 180)\n",
      "[200, 200, 126]\n",
      "(126, 200, 200)\n",
      "[180, 180, 126]\n",
      "(126, 180, 180)\n",
      "[200, 200, 126]\n",
      "(126, 200, 200)\n",
      "[180, 180, 126]\n",
      "(126, 180, 180)\n",
      "[200, 200, 126]\n",
      "(126, 200, 200)\n",
      "[208, 230, 140]\n",
      "(140, 230, 208)\n",
      "[208, 230, 140]\n",
      "(140, 230, 208)\n",
      "[200, 200, 126]\n",
      "(126, 200, 200)\n",
      "[200, 200, 126]\n",
      "(126, 200, 200)\n",
      "[200, 200, 126]\n",
      "(126, 200, 200)\n",
      "[200, 200, 126]\n",
      "(126, 200, 200)\n",
      "[200, 200, 144]\n",
      "(144, 200, 200)\n",
      "[200, 200, 140]\n",
      "(140, 200, 200)\n",
      "[200, 200, 144]\n",
      "(144, 200, 200)\n",
      "[200, 200, 140]\n",
      "(140, 200, 200)\n",
      "[180, 180, 148]\n",
      "(148, 180, 180)\n",
      "[200, 200, 126]\n",
      "(126, 200, 200)\n",
      "[180, 180, 148]\n",
      "(148, 180, 180)\n",
      "[200, 200, 126]\n",
      "(126, 200, 200)\n",
      "[208, 230, 140]\n",
      "(140, 230, 208)\n",
      "[208, 230, 140]\n",
      "(140, 230, 208)\n",
      "[200, 200, 126]\n",
      "(126, 200, 200)\n",
      "[200, 200, 126]\n",
      "(126, 200, 200)\n",
      "[200, 200, 126]\n",
      "(126, 200, 200)\n",
      "[200, 200, 126]\n",
      "(126, 200, 200)\n",
      "[180, 180, 126]\n",
      "(126, 180, 180)\n",
      "[200, 200, 126]\n",
      "(126, 200, 200)\n",
      "[180, 180, 126]\n",
      "(126, 180, 180)\n",
      "[200, 200, 126]\n",
      "(126, 200, 200)\n",
      "[200, 200, 155]\n",
      "(155, 200, 200)\n",
      "[200, 200, 149]\n",
      "(149, 200, 200)\n",
      "[200, 200, 155]\n",
      "(155, 200, 200)\n",
      "[200, 200, 149]\n",
      "(149, 200, 200)\n",
      "[200, 200, 126]\n",
      "(126, 200, 200)\n",
      "[200, 200, 126]\n",
      "(126, 200, 200)\n",
      "[200, 200, 126]\n",
      "(126, 200, 200)\n",
      "[200, 200, 126]\n",
      "(126, 200, 200)\n",
      "[200, 200, 198]\n",
      "(198, 200, 200)\n",
      "[220, 220, 129]\n",
      "(129, 220, 220)\n",
      "[200, 200, 198]\n",
      "(198, 200, 200)\n",
      "[220, 220, 129]\n",
      "(129, 220, 220)\n",
      "[200, 200, 126]\n",
      "(126, 200, 200)\n",
      "[200, 200, 140]\n",
      "(140, 200, 200)\n",
      "[200, 200, 126]\n",
      "(126, 200, 200)\n",
      "[200, 200, 140]\n",
      "(140, 200, 200)\n",
      "[200, 200, 126]\n",
      "(126, 200, 200)\n",
      "[200, 200, 140]\n",
      "(140, 200, 200)\n",
      "[200, 200, 155]\n",
      "(155, 200, 200)\n",
      "[200, 200, 129]\n",
      "(129, 200, 200)\n",
      "[200, 200, 155]\n",
      "(155, 200, 200)\n",
      "[200, 200, 129]\n",
      "(129, 200, 200)\n",
      "[200, 200, 155]\n",
      "(155, 200, 200)\n",
      "[200, 200, 116]\n",
      "(116, 200, 200)\n",
      "[200, 200, 155]\n",
      "(155, 200, 200)\n",
      "[200, 200, 116]\n",
      "(116, 200, 200)\n",
      "[200, 200, 155]\n",
      "(155, 200, 200)\n",
      "[200, 200, 116]\n",
      "(116, 200, 200)\n",
      "[200, 200, 155]\n",
      "(155, 200, 200)\n",
      "[200, 200, 129]\n",
      "(129, 200, 200)\n",
      "[200, 200, 155]\n",
      "(155, 200, 200)\n",
      "[200, 200, 129]\n",
      "(129, 200, 200)\n",
      "[200, 200, 155]\n",
      "(155, 200, 200)\n",
      "[200, 200, 129]\n",
      "(129, 200, 200)\n",
      "[200, 200, 155]\n",
      "(155, 200, 200)\n",
      "[200, 200, 129]\n",
      "(129, 200, 200)\n",
      "[200, 200, 155]\n",
      "(155, 200, 200)\n",
      "[200, 200, 129]\n",
      "(129, 200, 200)\n",
      "[200, 200, 155]\n",
      "(155, 200, 200)\n",
      "[200, 200, 129]\n",
      "(129, 200, 200)\n",
      "[200, 200, 126]\n",
      "(126, 200, 200)\n",
      "[200, 200, 126]\n",
      "(126, 200, 200)\n",
      "[200, 200, 126]\n",
      "(126, 200, 200)\n",
      "[200, 200, 126]\n",
      "(126, 200, 200)\n",
      "[180, 230, 110]\n",
      "(110, 230, 180)\n",
      "[199, 250, 116]\n",
      "(116, 250, 199)\n",
      "[180, 230, 110]\n",
      "(110, 230, 180)\n",
      "[199, 250, 116]\n",
      "(116, 250, 199)\n",
      "[180, 230, 110]\n",
      "(110, 230, 180)\n",
      "[199, 250, 116]\n",
      "(116, 250, 199)\n",
      "[289, 220, 119]\n",
      "(119, 220, 289)\n",
      "[250, 250, 116]\n",
      "(116, 250, 250)\n",
      "[289, 220, 119]\n",
      "(119, 220, 289)\n",
      "[250, 250, 116]\n",
      "(116, 250, 250)\n",
      "[289, 220, 119]\n",
      "(119, 220, 289)\n",
      "[250, 250, 116]\n",
      "(116, 250, 250)\n",
      "[200, 200, 155]\n",
      "(155, 200, 200)\n",
      "[200, 200, 135]\n",
      "(135, 200, 200)\n",
      "[200, 200, 155]\n",
      "(155, 200, 200)\n",
      "[200, 200, 135]\n",
      "(135, 200, 200)\n",
      "[200, 200, 155]\n",
      "(155, 200, 200)\n",
      "[200, 200, 129]\n",
      "(129, 200, 200)\n",
      "[200, 200, 155]\n",
      "(155, 200, 200)\n",
      "[200, 200, 129]\n",
      "(129, 200, 200)\n",
      "[200, 200, 155]\n",
      "(155, 200, 200)\n",
      "[200, 200, 129]\n",
      "(129, 200, 200)\n",
      "[200, 200, 155]\n",
      "(155, 200, 200)\n",
      "[200, 200, 129]\n",
      "(129, 200, 200)\n",
      "[200, 200, 155]\n",
      "(155, 200, 200)\n",
      "[200, 200, 129]\n",
      "(129, 200, 200)\n",
      "[200, 200, 155]\n",
      "(155, 200, 200)\n",
      "[200, 200, 129]\n",
      "(129, 200, 200)\n",
      "[200, 200, 155]\n",
      "(155, 200, 200)\n",
      "[200, 200, 135]\n",
      "(135, 200, 200)\n",
      "[200, 200, 155]\n",
      "(155, 200, 200)\n",
      "[200, 200, 135]\n",
      "(135, 200, 200)\n",
      "[200, 200, 155]\n",
      "(155, 200, 200)\n",
      "[200, 200, 135]\n",
      "(135, 200, 200)\n",
      "[200, 200, 155]\n",
      "(155, 200, 200)\n",
      "[200, 200, 129]\n",
      "(129, 200, 200)\n",
      "[200, 200, 155]\n",
      "(155, 200, 200)\n",
      "[200, 200, 129]\n",
      "(129, 200, 200)\n",
      "[200, 200, 155]\n",
      "(155, 200, 200)\n",
      "[200, 200, 129]\n",
      "(129, 200, 200)\n",
      "[200, 200, 155]\n",
      "(155, 200, 200)\n",
      "[200, 200, 129]\n",
      "(129, 200, 200)\n",
      "[180, 180, 126]\n",
      "(126, 180, 180)\n",
      "[200, 200, 126]\n",
      "(126, 200, 200)\n",
      "[180, 180, 126]\n",
      "(126, 180, 180)\n",
      "[200, 200, 126]\n",
      "(126, 200, 200)\n",
      "[200, 200, 155]\n",
      "(155, 200, 200)\n",
      "[200, 200, 129]\n",
      "(129, 200, 200)\n",
      "[200, 200, 155]\n",
      "(155, 200, 200)\n",
      "[200, 200, 129]\n",
      "(129, 200, 200)\n",
      "[200, 200, 155]\n",
      "(155, 200, 200)\n",
      "[200, 200, 129]\n",
      "(129, 200, 200)\n",
      "[200, 200, 155]\n",
      "(155, 200, 200)\n",
      "[200, 200, 129]\n",
      "(129, 200, 200)\n",
      "[200, 200, 155]\n",
      "(155, 200, 200)\n",
      "[200, 200, 129]\n",
      "(129, 200, 200)\n",
      "[200, 200, 155]\n",
      "(155, 200, 200)\n",
      "[200, 200, 129]\n",
      "(129, 200, 200)\n",
      "[200, 200, 155]\n",
      "(155, 200, 200)\n",
      "[200, 200, 129]\n",
      "(129, 200, 200)\n",
      "[200, 200, 155]\n",
      "(155, 200, 200)\n",
      "[200, 200, 129]\n",
      "(129, 200, 200)\n",
      "[200, 200, 155]\n",
      "(155, 200, 200)\n",
      "[200, 200, 142]\n",
      "(142, 200, 200)\n",
      "[200, 200, 155]\n",
      "(155, 200, 200)\n",
      "[200, 200, 142]\n",
      "(142, 200, 200)\n",
      "[200, 200, 162]\n",
      "(162, 200, 200)\n",
      "[200, 200, 129]\n",
      "(129, 200, 200)\n",
      "[200, 200, 162]\n",
      "(162, 200, 200)\n",
      "[200, 200, 129]\n",
      "(129, 200, 200)\n",
      "[200, 200, 155]\n",
      "(155, 200, 200)\n",
      "[200, 200, 135]\n",
      "(135, 200, 200)\n",
      "[200, 200, 155]\n",
      "(155, 200, 200)\n",
      "[200, 200, 135]\n",
      "(135, 200, 200)\n",
      "[200, 200, 155]\n",
      "(155, 200, 200)\n",
      "[200, 200, 129]\n",
      "(129, 200, 200)\n",
      "[200, 200, 155]\n",
      "(155, 200, 200)\n",
      "[200, 200, 129]\n",
      "(129, 200, 200)\n",
      "[200, 200, 155]\n",
      "(155, 200, 200)\n",
      "[200, 200, 129]\n",
      "(129, 200, 200)\n",
      "[200, 200, 155]\n",
      "(155, 200, 200)\n",
      "[200, 200, 129]\n",
      "(129, 200, 200)\n",
      "[200, 200, 155]\n",
      "(155, 200, 200)\n",
      "[200, 200, 129]\n",
      "(129, 200, 200)\n",
      "[200, 200, 155]\n",
      "(155, 200, 200)\n",
      "[200, 200, 129]\n",
      "(129, 200, 200)\n",
      "[200, 200, 155]\n",
      "(155, 200, 200)\n",
      "[200, 200, 142]\n",
      "(142, 200, 200)\n",
      "[200, 200, 155]\n",
      "(155, 200, 200)\n",
      "[200, 200, 142]\n",
      "(142, 200, 200)\n",
      "[200, 200, 155]\n",
      "(155, 200, 200)\n",
      "[200, 200, 129]\n",
      "(129, 200, 200)\n",
      "[200, 200, 155]\n",
      "(155, 200, 200)\n",
      "[200, 200, 129]\n",
      "(129, 200, 200)\n",
      "[200, 200, 155]\n",
      "(155, 200, 200)\n",
      "[200, 200, 129]\n",
      "(129, 200, 200)\n",
      "[200, 200, 155]\n",
      "(155, 200, 200)\n",
      "[200, 200, 129]\n",
      "(129, 200, 200)\n",
      "[200, 200, 155]\n",
      "(155, 200, 200)\n",
      "[200, 200, 129]\n",
      "(129, 200, 200)\n",
      "[200, 200, 155]\n",
      "(155, 200, 200)\n",
      "[200, 200, 129]\n",
      "(129, 200, 200)\n",
      "[200, 200, 155]\n",
      "(155, 200, 200)\n",
      "[200, 200, 129]\n",
      "(129, 200, 200)\n",
      "[200, 200, 155]\n",
      "(155, 200, 200)\n",
      "[200, 200, 129]\n",
      "(129, 200, 200)\n",
      "[200, 200, 155]\n",
      "(155, 200, 200)\n",
      "[200, 200, 129]\n",
      "(129, 200, 200)\n",
      "[200, 200, 155]\n",
      "(155, 200, 200)\n",
      "[200, 200, 129]\n",
      "(129, 200, 200)\n",
      "[200, 200, 155]\n",
      "(155, 200, 200)\n",
      "[200, 200, 129]\n",
      "(129, 200, 200)\n",
      "[200, 200, 155]\n",
      "(155, 200, 200)\n",
      "[200, 200, 129]\n",
      "(129, 200, 200)\n",
      "[200, 200, 155]\n",
      "(155, 200, 200)\n",
      "[200, 200, 129]\n",
      "(129, 200, 200)\n",
      "[200, 200, 155]\n",
      "(155, 200, 200)\n",
      "[200, 200, 129]\n",
      "(129, 200, 200)\n",
      "[200, 200, 155]\n",
      "(155, 200, 200)\n",
      "[200, 200, 129]\n",
      "(129, 200, 200)\n",
      "[200, 200, 155]\n",
      "(155, 200, 200)\n",
      "[200, 200, 129]\n",
      "(129, 200, 200)\n",
      "[200, 200, 155]\n",
      "(155, 200, 200)\n",
      "[200, 200, 129]\n",
      "(129, 200, 200)\n",
      "[200, 200, 155]\n",
      "(155, 200, 200)\n",
      "[200, 200, 129]\n",
      "(129, 200, 200)\n",
      "[200, 200, 155]\n",
      "(155, 200, 200)\n",
      "[200, 200, 129]\n",
      "(129, 200, 200)\n",
      "[200, 200, 155]\n",
      "(155, 200, 200)\n",
      "[200, 200, 129]\n",
      "(129, 200, 200)\n",
      "[200, 200, 155]\n",
      "(155, 200, 200)\n",
      "[200, 200, 129]\n",
      "(129, 200, 200)\n",
      "[200, 200, 155]\n",
      "(155, 200, 200)\n",
      "[200, 200, 129]\n",
      "(129, 200, 200)\n",
      "[200, 200, 155]\n",
      "(155, 200, 200)\n",
      "[200, 200, 129]\n",
      "(129, 200, 200)\n",
      "[200, 200, 155]\n",
      "(155, 200, 200)\n",
      "[200, 200, 129]\n",
      "(129, 200, 200)\n",
      "[200, 200, 155]\n",
      "(155, 200, 200)\n",
      "[200, 200, 129]\n",
      "(129, 200, 200)\n",
      "[200, 200, 155]\n",
      "(155, 200, 200)\n",
      "[200, 200, 129]\n",
      "(129, 200, 200)\n",
      "[208, 230, 140]\n",
      "(140, 230, 208)\n",
      "[208, 230, 140]\n",
      "(140, 230, 208)\n",
      "[200, 200, 155]\n",
      "(155, 200, 200)\n",
      "[200, 200, 129]\n",
      "(129, 200, 200)\n",
      "[200, 200, 155]\n",
      "(155, 200, 200)\n",
      "[200, 200, 129]\n",
      "(129, 200, 200)\n",
      "[200, 200, 155]\n",
      "(155, 200, 200)\n",
      "[200, 200, 129]\n",
      "(129, 200, 200)\n",
      "[200, 200, 155]\n",
      "(155, 200, 200)\n",
      "[200, 200, 129]\n",
      "(129, 200, 200)\n",
      "[200, 200, 155]\n",
      "(155, 200, 200)\n",
      "[200, 200, 129]\n",
      "(129, 200, 200)\n",
      "[200, 200, 155]\n",
      "(155, 200, 200)\n",
      "[200, 200, 129]\n",
      "(129, 200, 200)\n",
      "[200, 200, 155]\n",
      "(155, 200, 200)\n",
      "[200, 200, 129]\n",
      "(129, 200, 200)\n",
      "[200, 200, 155]\n",
      "(155, 200, 200)\n",
      "[200, 200, 129]\n",
      "(129, 200, 200)\n",
      "[200, 200, 155]\n",
      "(155, 200, 200)\n",
      "[200, 200, 129]\n",
      "(129, 200, 200)\n",
      "[200, 200, 155]\n",
      "(155, 200, 200)\n",
      "[200, 200, 129]\n",
      "(129, 200, 200)\n",
      "[200, 200, 155]\n",
      "(155, 200, 200)\n",
      "[200, 200, 129]\n",
      "(129, 200, 200)\n",
      "[200, 200, 155]\n",
      "(155, 200, 200)\n",
      "[200, 200, 129]\n",
      "(129, 200, 200)\n",
      "[200, 200, 155]\n",
      "(155, 200, 200)\n",
      "[200, 200, 129]\n",
      "(129, 200, 200)\n",
      "[200, 200, 155]\n",
      "(155, 200, 200)\n",
      "[200, 200, 129]\n",
      "(129, 200, 200)\n",
      "[200, 200, 155]\n",
      "(155, 200, 200)\n",
      "[200, 200, 129]\n",
      "(129, 200, 200)\n",
      "[200, 200, 155]\n",
      "(155, 200, 200)\n",
      "[200, 200, 129]\n",
      "(129, 200, 200)\n",
      "[200, 200, 155]\n",
      "(155, 200, 200)\n",
      "[200, 200, 129]\n",
      "(129, 200, 200)\n",
      "[200, 200, 155]\n",
      "(155, 200, 200)\n",
      "[200, 200, 129]\n",
      "(129, 200, 200)\n",
      "[200, 200, 155]\n",
      "(155, 200, 200)\n",
      "[200, 200, 129]\n",
      "(129, 200, 200)\n",
      "[200, 200, 155]\n",
      "(155, 200, 200)\n",
      "[200, 200, 129]\n",
      "(129, 200, 200)\n",
      "[200, 200, 155]\n",
      "(155, 200, 200)\n",
      "[200, 200, 129]\n",
      "(129, 200, 200)\n",
      "[200, 200, 155]\n",
      "(155, 200, 200)\n",
      "[200, 200, 129]\n",
      "(129, 200, 200)\n",
      "[200, 200, 155]\n",
      "(155, 200, 200)\n",
      "[200, 200, 135]\n",
      "(135, 200, 200)\n",
      "[200, 200, 155]\n",
      "(155, 200, 200)\n",
      "[200, 200, 135]\n",
      "(135, 200, 200)\n",
      "[200, 200, 155]\n",
      "(155, 200, 200)\n",
      "[200, 200, 129]\n",
      "(129, 200, 200)\n",
      "[200, 200, 155]\n",
      "(155, 200, 200)\n",
      "[200, 200, 129]\n",
      "(129, 200, 200)\n",
      "[200, 200, 155]\n",
      "(155, 200, 200)\n",
      "[200, 200, 129]\n",
      "(129, 200, 200)\n",
      "[200, 200, 155]\n",
      "(155, 200, 200)\n",
      "[200, 200, 129]\n",
      "(129, 200, 200)\n",
      "[200, 200, 155]\n",
      "(155, 200, 200)\n",
      "[200, 200, 129]\n",
      "(129, 200, 200)\n",
      "[200, 200, 155]\n",
      "(155, 200, 200)\n",
      "[200, 200, 129]\n",
      "(129, 200, 200)\n",
      "[200, 200, 155]\n",
      "(155, 200, 200)\n",
      "[200, 200, 129]\n",
      "(129, 200, 200)\n",
      "[200, 200, 155]\n",
      "(155, 200, 200)\n",
      "[200, 200, 142]\n",
      "(142, 200, 200)\n",
      "[200, 200, 155]\n",
      "(155, 200, 200)\n",
      "[200, 200, 142]\n",
      "(142, 200, 200)\n",
      "[200, 200, 155]\n",
      "(155, 200, 200)\n",
      "[200, 200, 142]\n",
      "(142, 200, 200)\n",
      "[200, 200, 126]\n",
      "(126, 200, 200)\n",
      "[200, 200, 126]\n",
      "(126, 200, 200)\n",
      "[200, 200, 126]\n",
      "(126, 200, 200)\n",
      "[200, 200, 126]\n",
      "(126, 200, 200)\n",
      "[200, 200, 126]\n",
      "(126, 200, 200)\n",
      "[200, 200, 126]\n",
      "(126, 200, 200)\n",
      "[200, 200, 155]\n",
      "(155, 200, 200)\n",
      "[200, 200, 142]\n",
      "(142, 200, 200)\n",
      "[200, 200, 155]\n",
      "(155, 200, 200)\n",
      "[200, 200, 142]\n",
      "(142, 200, 200)\n",
      "[200, 200, 155]\n",
      "(155, 200, 200)\n",
      "[200, 200, 142]\n",
      "(142, 200, 200)\n",
      "[200, 200, 155]\n",
      "(155, 200, 200)\n",
      "[200, 200, 129]\n",
      "(129, 200, 200)\n",
      "[200, 200, 155]\n",
      "(155, 200, 200)\n",
      "[200, 200, 129]\n",
      "(129, 200, 200)\n",
      "[200, 200, 155]\n",
      "(155, 200, 200)\n",
      "[200, 200, 129]\n",
      "(129, 200, 200)\n",
      "[200, 200, 155]\n",
      "(155, 200, 200)\n",
      "[200, 200, 129]\n",
      "(129, 200, 200)\n",
      "[200, 200, 155]\n",
      "(155, 200, 200)\n",
      "[200, 200, 129]\n",
      "(129, 200, 200)\n",
      "[200, 200, 155]\n",
      "(155, 200, 200)\n",
      "[200, 200, 129]\n",
      "(129, 200, 200)\n",
      "[200, 200, 155]\n",
      "(155, 200, 200)\n",
      "[200, 200, 129]\n",
      "(129, 200, 200)\n",
      "[200, 200, 155]\n",
      "(155, 200, 200)\n",
      "[200, 200, 129]\n",
      "(129, 200, 200)\n",
      "[200, 200, 155]\n",
      "(155, 200, 200)\n",
      "[200, 200, 142]\n",
      "(142, 200, 200)\n",
      "[200, 200, 155]\n",
      "(155, 200, 200)\n",
      "[200, 200, 142]\n",
      "(142, 200, 200)\n",
      "[200, 200, 155]\n",
      "(155, 200, 200)\n",
      "[200, 200, 142]\n",
      "(142, 200, 200)\n",
      "[200, 200, 155]\n",
      "(155, 200, 200)\n",
      "[200, 200, 129]\n",
      "(129, 200, 200)\n",
      "[200, 200, 155]\n",
      "(155, 200, 200)\n",
      "[200, 200, 129]\n",
      "(129, 200, 200)\n",
      "[200, 200, 155]\n",
      "(155, 200, 200)\n",
      "[200, 200, 129]\n",
      "(129, 200, 200)\n",
      "[200, 200, 155]\n",
      "(155, 200, 200)\n",
      "[200, 200, 129]\n",
      "(129, 200, 200)\n",
      "[200, 200, 155]\n",
      "(155, 200, 200)\n",
      "[200, 200, 129]\n",
      "(129, 200, 200)\n",
      "[200, 200, 155]\n",
      "(155, 200, 200)\n",
      "[200, 200, 129]\n",
      "(129, 200, 200)\n",
      "[200, 200, 155]\n",
      "(155, 200, 200)\n",
      "[200, 200, 129]\n",
      "(129, 200, 200)\n",
      "[200, 200, 155]\n",
      "(155, 200, 200)\n",
      "[200, 200, 129]\n",
      "(129, 200, 200)\n",
      "[200, 200, 155]\n",
      "(155, 200, 200)\n",
      "[200, 200, 129]\n",
      "(129, 200, 200)\n",
      "[200, 200, 155]\n",
      "(155, 200, 200)\n",
      "[200, 200, 129]\n",
      "(129, 200, 200)\n",
      "[200, 200, 155]\n",
      "(155, 200, 200)\n",
      "[200, 200, 129]\n",
      "(129, 200, 200)\n",
      "[200, 200, 155]\n",
      "(155, 200, 200)\n",
      "[200, 200, 129]\n",
      "(129, 200, 200)\n",
      "[200, 200, 162]\n",
      "(162, 200, 200)\n",
      "[200, 200, 142]\n",
      "(142, 200, 200)\n",
      "[200, 200, 162]\n",
      "(162, 200, 200)\n",
      "[200, 200, 142]\n",
      "(142, 200, 200)\n",
      "[200, 200, 155]\n",
      "(155, 200, 200)\n",
      "[200, 200, 129]\n",
      "(129, 200, 200)\n",
      "[200, 200, 155]\n",
      "(155, 200, 200)\n",
      "[200, 200, 129]\n",
      "(129, 200, 200)\n",
      "[200, 200, 155]\n",
      "(155, 200, 200)\n",
      "[200, 200, 129]\n",
      "(129, 200, 200)\n",
      "[200, 200, 155]\n",
      "(155, 200, 200)\n",
      "[200, 200, 129]\n",
      "(129, 200, 200)\n",
      "[200, 200, 155]\n",
      "(155, 200, 200)\n",
      "[200, 200, 129]\n",
      "(129, 200, 200)\n",
      "[200, 200, 155]\n",
      "(155, 200, 200)\n",
      "[200, 200, 129]\n",
      "(129, 200, 200)\n",
      "[200, 200, 155]\n",
      "(155, 200, 200)\n",
      "[200, 200, 129]\n",
      "(129, 200, 200)\n",
      "[200, 200, 155]\n",
      "(155, 200, 200)\n",
      "[200, 200, 129]\n",
      "(129, 200, 200)\n",
      "[200, 200, 155]\n",
      "(155, 200, 200)\n",
      "[200, 200, 135]\n",
      "(135, 200, 200)\n",
      "[200, 200, 155]\n",
      "(155, 200, 200)\n",
      "[200, 200, 135]\n",
      "(135, 200, 200)\n",
      "[200, 200, 162]\n",
      "(162, 200, 200)\n",
      "[200, 200, 129]\n",
      "(129, 200, 200)\n",
      "[200, 200, 162]\n",
      "(162, 200, 200)\n",
      "[200, 200, 129]\n",
      "(129, 200, 200)\n",
      "[200, 200, 162]\n",
      "(162, 200, 200)\n",
      "[200, 200, 129]\n",
      "(129, 200, 200)\n",
      "[180, 180, 155]\n",
      "(155, 180, 180)\n",
      "[180, 180, 155]\n",
      "(155, 180, 180)\n",
      "[200, 200, 129]\n",
      "(129, 200, 200)\n",
      "[180, 180, 155]\n",
      "(155, 180, 180)\n",
      "[200, 200, 129]\n",
      "(129, 200, 200)\n",
      "[208, 230, 140]\n",
      "(140, 230, 208)\n",
      "[208, 230, 140]\n",
      "(140, 230, 208)\n",
      "[200, 200, 155]\n",
      "(155, 200, 200)\n",
      "[200, 200, 129]\n",
      "(129, 200, 200)\n",
      "[200, 200, 155]\n",
      "(155, 200, 200)\n",
      "[200, 200, 129]\n",
      "(129, 200, 200)\n",
      "[200, 200, 155]\n",
      "(155, 200, 200)\n",
      "[200, 200, 129]\n",
      "(129, 200, 200)\n",
      "[200, 200, 155]\n",
      "(155, 200, 200)\n",
      "[200, 200, 129]\n",
      "(129, 200, 200)\n",
      "[200, 200, 155]\n",
      "(155, 200, 200)\n",
      "[200, 200, 129]\n",
      "(129, 200, 200)\n",
      "[200, 200, 155]\n",
      "(155, 200, 200)\n",
      "[200, 200, 129]\n",
      "(129, 200, 200)\n",
      "[200, 200, 155]\n",
      "(155, 200, 200)\n",
      "[200, 200, 129]\n",
      "(129, 200, 200)\n",
      "[200, 200, 155]\n",
      "(155, 200, 200)\n",
      "[200, 200, 129]\n",
      "(129, 200, 200)\n",
      "[200, 200, 155]\n",
      "(155, 200, 200)\n",
      "[200, 200, 129]\n",
      "(129, 200, 200)\n",
      "[200, 200, 155]\n",
      "(155, 200, 200)\n",
      "[200, 200, 129]\n",
      "(129, 200, 200)\n",
      "[200, 200, 155]\n",
      "(155, 200, 200)\n",
      "[200, 200, 149]\n",
      "(149, 200, 200)\n",
      "[200, 200, 155]\n",
      "(155, 200, 200)\n",
      "[200, 200, 149]\n",
      "(149, 200, 200)\n",
      "[200, 200, 155]\n",
      "(155, 200, 200)\n",
      "[200, 200, 129]\n",
      "(129, 200, 200)\n",
      "[200, 200, 155]\n",
      "(155, 200, 200)\n",
      "[200, 200, 129]\n",
      "(129, 200, 200)\n",
      "[200, 200, 155]\n",
      "(155, 200, 200)\n",
      "[200, 200, 129]\n",
      "(129, 200, 200)\n",
      "[200, 200, 155]\n",
      "(155, 200, 200)\n",
      "[200, 200, 129]\n",
      "(129, 200, 200)\n",
      "[200, 200, 155]\n",
      "(155, 200, 200)\n",
      "[200, 200, 129]\n",
      "(129, 200, 200)\n",
      "[200, 200, 155]\n",
      "(155, 200, 200)\n",
      "[200, 200, 129]\n",
      "(129, 200, 200)\n",
      "[200, 200, 155]\n",
      "(155, 200, 200)\n",
      "[200, 200, 129]\n",
      "(129, 200, 200)\n",
      "[200, 200, 155]\n",
      "(155, 200, 200)\n",
      "[200, 200, 129]\n",
      "(129, 200, 200)\n",
      "[200, 200, 155]\n",
      "(155, 200, 200)\n",
      "[200, 200, 129]\n",
      "(129, 200, 200)\n",
      "[200, 200, 155]\n",
      "(155, 200, 200)\n",
      "[200, 200, 129]\n",
      "(129, 200, 200)\n",
      "[200, 200, 155]\n",
      "(155, 200, 200)\n",
      "[200, 200, 129]\n",
      "(129, 200, 200)\n",
      "[200, 200, 155]\n",
      "(155, 200, 200)\n",
      "[200, 200, 129]\n",
      "(129, 200, 200)\n",
      "[200, 200, 155]\n",
      "(155, 200, 200)\n",
      "[200, 200, 129]\n",
      "(129, 200, 200)\n",
      "[200, 200, 155]\n",
      "(155, 200, 200)\n",
      "[200, 200, 129]\n",
      "(129, 200, 200)\n",
      "[200, 200, 155]\n",
      "(155, 200, 200)\n",
      "[200, 200, 129]\n",
      "(129, 200, 200)\n",
      "[200, 200, 155]\n",
      "(155, 200, 200)\n",
      "[200, 200, 129]\n",
      "(129, 200, 200)\n",
      "[200, 200, 155]\n",
      "(155, 200, 200)\n",
      "[200, 200, 129]\n",
      "(129, 200, 200)\n",
      "[200, 200, 155]\n",
      "(155, 200, 200)\n",
      "[200, 200, 129]\n",
      "(129, 200, 200)\n",
      "[180, 180, 144]\n",
      "(144, 180, 180)\n",
      "[200, 200, 126]\n",
      "(126, 200, 200)\n",
      "[180, 180, 144]\n",
      "(144, 180, 180)\n",
      "[200, 200, 126]\n",
      "(126, 200, 200)\n",
      "[200, 200, 155]\n",
      "(155, 200, 200)\n",
      "[200, 200, 129]\n",
      "(129, 200, 200)\n",
      "[200, 200, 155]\n",
      "(155, 200, 200)\n",
      "[200, 200, 129]\n",
      "(129, 200, 200)\n",
      "[200, 200, 155]\n",
      "(155, 200, 200)\n",
      "[200, 200, 129]\n",
      "(129, 200, 200)\n",
      "[200, 200, 155]\n",
      "(155, 200, 200)\n",
      "[200, 200, 129]\n",
      "(129, 200, 200)\n",
      "[200, 200, 155]\n",
      "(155, 200, 200)\n",
      "[200, 200, 129]\n",
      "(129, 200, 200)\n",
      "[200, 200, 155]\n",
      "(155, 200, 200)\n",
      "[200, 200, 129]\n",
      "(129, 200, 200)\n",
      "[200, 200, 155]\n",
      "(155, 200, 200)\n",
      "[200, 200, 129]\n",
      "(129, 200, 200)\n",
      "[200, 200, 155]\n",
      "(155, 200, 200)\n",
      "[200, 200, 129]\n",
      "(129, 200, 200)\n",
      "[200, 200, 126]\n",
      "(126, 200, 200)\n",
      "[200, 200, 126]\n",
      "(126, 200, 200)\n",
      "[200, 200, 126]\n",
      "(126, 200, 200)\n",
      "[200, 200, 126]\n",
      "(126, 200, 200)\n",
      "[200, 200, 155]\n",
      "(155, 200, 200)\n",
      "[200, 200, 149]\n",
      "(149, 200, 200)\n",
      "[200, 200, 155]\n",
      "(155, 200, 200)\n",
      "[200, 200, 149]\n",
      "(149, 200, 200)\n",
      "[200, 200, 155]\n",
      "(155, 200, 200)\n",
      "[200, 200, 149]\n",
      "(149, 200, 200)\n",
      "[200, 200, 126]\n",
      "(126, 200, 200)\n",
      "[200, 200, 126]\n",
      "(126, 200, 200)\n",
      "[200, 200, 126]\n",
      "(126, 200, 200)\n",
      "[200, 200, 126]\n",
      "(126, 200, 200)\n",
      "[194, 230, 160]\n",
      "(160, 230, 194)\n",
      "[194, 230, 160]\n",
      "(160, 230, 194)\n",
      "[200, 200, 158]\n",
      "(158, 200, 200)\n",
      "[200, 200, 135]\n",
      "(135, 200, 200)\n",
      "[200, 200, 158]\n",
      "(158, 200, 200)\n",
      "[200, 200, 135]\n",
      "(135, 200, 200)\n",
      "[200, 200, 126]\n",
      "(126, 200, 200)\n",
      "[200, 200, 126]\n",
      "(126, 200, 200)\n",
      "[200, 200, 126]\n",
      "(126, 200, 200)\n",
      "[200, 200, 126]\n",
      "(126, 200, 200)\n",
      "[200, 200, 155]\n",
      "(155, 200, 200)\n",
      "[200, 200, 126]\n",
      "(126, 200, 200)\n",
      "[200, 200, 155]\n",
      "(155, 200, 200)\n",
      "[200, 200, 126]\n",
      "(126, 200, 200)\n",
      "[200, 200, 155]\n",
      "(155, 200, 200)\n",
      "[200, 200, 129]\n",
      "(129, 200, 200)\n",
      "[200, 200, 155]\n",
      "(155, 200, 200)\n",
      "[200, 200, 129]\n",
      "(129, 200, 200)\n",
      "[200, 200, 155]\n",
      "(155, 200, 200)\n",
      "[200, 200, 129]\n",
      "(129, 200, 200)\n",
      "[208, 230, 140]\n",
      "(140, 230, 208)\n",
      "[208, 230, 140]\n",
      "(140, 230, 208)\n",
      "[200, 200, 126]\n",
      "(126, 200, 200)\n",
      "[200, 200, 126]\n",
      "(126, 200, 200)\n",
      "[200, 200, 126]\n",
      "(126, 200, 200)\n",
      "[200, 200, 126]\n",
      "(126, 200, 200)\n",
      "[200, 200, 155]\n",
      "(155, 200, 200)\n",
      "[200, 200, 129]\n",
      "(129, 200, 200)\n",
      "[200, 200, 155]\n",
      "(155, 200, 200)\n",
      "[200, 200, 129]\n",
      "(129, 200, 200)\n",
      "[200, 200, 158]\n",
      "(158, 200, 200)\n",
      "[200, 200, 129]\n",
      "(129, 200, 200)\n",
      "[200, 200, 158]\n",
      "(158, 200, 200)\n",
      "[200, 200, 129]\n",
      "(129, 200, 200)\n",
      "[208, 230, 172]\n",
      "(172, 230, 208)\n",
      "[208, 230, 172]\n",
      "(172, 230, 208)\n",
      "[200, 200, 126]\n",
      "(126, 200, 200)\n",
      "[200, 200, 126]\n",
      "(126, 200, 200)\n",
      "[200, 200, 126]\n",
      "(126, 200, 200)\n",
      "[200, 200, 126]\n",
      "(126, 200, 200)\n",
      "[200, 200, 155]\n",
      "(155, 200, 200)\n",
      "[200, 200, 129]\n",
      "(129, 200, 200)\n",
      "[200, 200, 155]\n",
      "(155, 200, 200)\n",
      "[200, 200, 129]\n",
      "(129, 200, 200)\n",
      "[200, 200, 155]\n",
      "(155, 200, 200)\n",
      "[200, 200, 129]\n",
      "(129, 200, 200)\n",
      "[200, 200, 155]\n",
      "(155, 200, 200)\n",
      "[200, 200, 129]\n",
      "(129, 200, 200)\n",
      "[200, 200, 126]\n",
      "(126, 200, 200)\n",
      "[200, 200, 133]\n",
      "(133, 200, 200)\n",
      "[200, 200, 126]\n",
      "(126, 200, 200)\n",
      "[200, 200, 133]\n",
      "(133, 200, 200)\n",
      "[200, 200, 126]\n",
      "(126, 200, 200)\n",
      "[200, 200, 133]\n",
      "(133, 200, 200)\n",
      "[200, 200, 155]\n",
      "(155, 200, 200)\n",
      "[200, 200, 129]\n",
      "(129, 200, 200)\n",
      "[200, 200, 155]\n",
      "(155, 200, 200)\n",
      "[200, 200, 129]\n",
      "(129, 200, 200)\n",
      "[180, 180, 126]\n",
      "(126, 180, 180)\n",
      "[200, 200, 126]\n",
      "(126, 200, 200)\n",
      "[180, 180, 126]\n",
      "(126, 180, 180)\n",
      "[200, 200, 126]\n",
      "(126, 200, 200)\n",
      "[200, 200, 155]\n",
      "(155, 200, 200)\n",
      "[200, 200, 139]\n",
      "(139, 200, 200)\n",
      "[200, 200, 155]\n",
      "(155, 200, 200)\n",
      "[200, 200, 139]\n",
      "(139, 200, 200)\n",
      "[208, 230, 140]\n",
      "(140, 230, 208)\n",
      "[208, 230, 140]\n",
      "(140, 230, 208)\n",
      "[200, 200, 155]\n",
      "(155, 200, 200)\n",
      "[200, 200, 129]\n",
      "(129, 200, 200)\n",
      "[200, 200, 155]\n",
      "(155, 200, 200)\n",
      "[200, 200, 129]\n",
      "(129, 200, 200)\n",
      "[200, 200, 155]\n",
      "(155, 200, 200)\n",
      "[200, 200, 129]\n",
      "(129, 200, 200)\n",
      "[200, 200, 155]\n",
      "(155, 200, 200)\n",
      "[200, 200, 129]\n",
      "(129, 200, 200)\n",
      "[208, 230, 148]\n",
      "(148, 230, 208)\n",
      "[208, 230, 148]\n",
      "(148, 230, 208)\n",
      "[200, 200, 126]\n",
      "(126, 200, 200)\n",
      "[200, 200, 133]\n",
      "(133, 200, 200)\n",
      "[200, 200, 126]\n",
      "(126, 200, 200)\n",
      "[200, 200, 133]\n",
      "(133, 200, 200)\n",
      "[200, 200, 126]\n",
      "(126, 200, 200)\n",
      "[200, 200, 140]\n",
      "(140, 200, 200)\n",
      "[200, 200, 126]\n",
      "(126, 200, 200)\n",
      "[200, 200, 140]\n",
      "(140, 200, 200)\n",
      "[200, 200, 155]\n",
      "(155, 200, 200)\n",
      "[200, 200, 142]\n",
      "(142, 200, 200)\n",
      "[200, 200, 155]\n",
      "(155, 200, 200)\n",
      "[200, 200, 142]\n",
      "(142, 200, 200)\n",
      "[289, 220, 140]\n",
      "(140, 220, 289)\n",
      "[289, 220, 140]\n",
      "(140, 220, 289)\n",
      "[180, 180, 126]\n",
      "(126, 180, 180)\n",
      "[200, 200, 126]\n",
      "(126, 200, 200)\n",
      "[180, 180, 126]\n",
      "(126, 180, 180)\n",
      "[200, 200, 126]\n",
      "(126, 200, 200)\n",
      "[200, 200, 162]\n",
      "(162, 200, 200)\n",
      "[200, 200, 126]\n",
      "(126, 200, 200)\n",
      "[200, 200, 162]\n",
      "(162, 200, 200)\n",
      "[200, 200, 126]\n",
      "(126, 200, 200)\n",
      "[200, 200, 155]\n",
      "(155, 200, 200)\n",
      "[200, 200, 129]\n",
      "(129, 200, 200)\n",
      "[200, 200, 155]\n",
      "(155, 200, 200)\n",
      "[200, 200, 129]\n",
      "(129, 200, 200)\n",
      "[200, 200, 155]\n",
      "(155, 200, 200)\n",
      "[200, 200, 129]\n",
      "(129, 200, 200)\n",
      "[200, 200, 155]\n",
      "(155, 200, 200)\n",
      "[200, 200, 129]\n",
      "(129, 200, 200)\n",
      "[208, 230, 140]\n",
      "(140, 230, 208)\n",
      "[208, 230, 140]\n",
      "(140, 230, 208)\n",
      "[200, 200, 126]\n",
      "(126, 200, 200)\n",
      "[200, 200, 126]\n",
      "(126, 200, 200)\n",
      "[200, 200, 126]\n",
      "(126, 200, 200)\n",
      "[200, 200, 126]\n",
      "(126, 200, 200)\n",
      "[180, 180, 155]\n",
      "(155, 180, 180)\n",
      "[180, 180, 155]\n",
      "(155, 180, 180)\n",
      "[180, 180, 155]\n",
      "(155, 180, 180)\n",
      "[200, 200, 126]\n",
      "(126, 200, 200)\n",
      "[200, 200, 126]\n",
      "(126, 200, 200)\n",
      "[200, 200, 126]\n",
      "(126, 200, 200)\n",
      "[200, 200, 126]\n",
      "(126, 200, 200)\n",
      "[200, 200, 155]\n",
      "(155, 200, 200)\n",
      "[200, 200, 135]\n",
      "(135, 200, 200)\n",
      "[200, 200, 155]\n",
      "(155, 200, 200)\n",
      "[200, 200, 135]\n",
      "(135, 200, 200)\n",
      "[200, 200, 155]\n",
      "(155, 200, 200)\n",
      "[200, 200, 135]\n",
      "(135, 200, 200)\n",
      "[200, 200, 155]\n",
      "(155, 200, 200)\n",
      "[200, 200, 129]\n",
      "(129, 200, 200)\n",
      "[200, 200, 155]\n",
      "(155, 200, 200)\n",
      "[200, 200, 129]\n",
      "(129, 200, 200)\n",
      "[200, 200, 126]\n",
      "(126, 200, 200)\n",
      "[200, 200, 140]\n",
      "(140, 200, 200)\n",
      "[200, 200, 126]\n",
      "(126, 200, 200)\n",
      "[200, 200, 140]\n",
      "(140, 200, 200)\n",
      "[200, 200, 126]\n",
      "(126, 200, 200)\n",
      "[200, 200, 140]\n",
      "(140, 200, 200)\n",
      "[200, 200, 155]\n",
      "(155, 200, 200)\n",
      "[200, 200, 129]\n",
      "(129, 200, 200)\n",
      "[200, 200, 155]\n",
      "(155, 200, 200)\n",
      "[200, 200, 129]\n",
      "(129, 200, 200)\n",
      "[200, 200, 155]\n",
      "(155, 200, 200)\n",
      "[200, 200, 129]\n",
      "(129, 200, 200)\n",
      "[208, 230, 140]\n",
      "(140, 230, 208)\n",
      "[208, 230, 140]\n",
      "(140, 230, 208)\n",
      "[200, 200, 176]\n",
      "(176, 200, 200)\n",
      "[200, 200, 129]\n",
      "(129, 200, 200)\n",
      "[200, 200, 176]\n",
      "(176, 200, 200)\n",
      "[200, 200, 129]\n",
      "(129, 200, 200)\n",
      "[200, 200, 155]\n",
      "(155, 200, 200)\n",
      "[200, 200, 129]\n",
      "(129, 200, 200)\n",
      "[200, 200, 155]\n",
      "(155, 200, 200)\n",
      "[200, 200, 129]\n",
      "(129, 200, 200)\n",
      "[200, 200, 155]\n",
      "(155, 200, 200)\n",
      "[200, 200, 129]\n",
      "(129, 200, 200)\n",
      "[180, 180, 151]\n",
      "(151, 180, 180)\n",
      "[200, 200, 126]\n",
      "(126, 200, 200)\n",
      "[180, 180, 151]\n",
      "(151, 180, 180)\n",
      "[200, 200, 126]\n",
      "(126, 200, 200)\n",
      "[200, 200, 155]\n",
      "(155, 200, 200)\n",
      "[200, 200, 129]\n",
      "(129, 200, 200)\n",
      "[200, 200, 155]\n",
      "(155, 200, 200)\n",
      "[200, 200, 129]\n",
      "(129, 200, 200)\n",
      "[200, 200, 155]\n",
      "(155, 200, 200)\n",
      "[200, 200, 129]\n",
      "(129, 200, 200)\n",
      "[200, 200, 155]\n",
      "(155, 200, 200)\n",
      "[200, 200, 129]\n",
      "(129, 200, 200)\n",
      "[200, 200, 126]\n",
      "(126, 200, 200)\n",
      "[200, 200, 133]\n",
      "(133, 200, 200)\n",
      "[200, 200, 126]\n",
      "(126, 200, 200)\n",
      "[200, 200, 133]\n",
      "(133, 200, 200)\n",
      "[200, 200, 126]\n",
      "(126, 200, 200)\n",
      "[200, 200, 126]\n",
      "(126, 200, 200)\n",
      "[200, 200, 126]\n",
      "(126, 200, 200)\n",
      "[200, 200, 126]\n",
      "(126, 200, 200)\n",
      "[200, 200, 126]\n",
      "(126, 200, 200)\n",
      "[200, 200, 126]\n",
      "(126, 200, 200)\n",
      "[200, 200, 155]\n",
      "(155, 200, 200)\n",
      "[200, 200, 129]\n",
      "(129, 200, 200)\n",
      "[200, 200, 155]\n",
      "(155, 200, 200)\n",
      "[200, 200, 129]\n",
      "(129, 200, 200)\n",
      "[208, 230, 140]\n",
      "(140, 230, 208)\n",
      "[208, 230, 140]\n",
      "(140, 230, 208)\n",
      "[200, 200, 155]\n",
      "(155, 200, 200)\n",
      "[200, 200, 129]\n",
      "(129, 200, 200)\n",
      "[200, 200, 155]\n",
      "(155, 200, 200)\n",
      "[200, 200, 129]\n",
      "(129, 200, 200)\n",
      "[200, 200, 155]\n",
      "(155, 200, 200)\n",
      "[200, 200, 129]\n",
      "(129, 200, 200)\n",
      "[200, 200, 155]\n",
      "(155, 200, 200)\n",
      "[200, 200, 155]\n",
      "(155, 200, 200)\n",
      "[200, 200, 155]\n",
      "(155, 200, 200)\n",
      "[200, 200, 140]\n",
      "(140, 200, 200)\n",
      "[200, 200, 126]\n",
      "(126, 200, 200)\n",
      "[200, 200, 140]\n",
      "(140, 200, 200)\n",
      "[200, 200, 126]\n",
      "(126, 200, 200)\n",
      "[200, 200, 155]\n",
      "(155, 200, 200)\n",
      "[200, 200, 129]\n",
      "(129, 200, 200)\n",
      "[200, 200, 155]\n",
      "(155, 200, 200)\n",
      "[200, 200, 129]\n",
      "(129, 200, 200)\n",
      "[200, 200, 155]\n",
      "(155, 200, 200)\n",
      "[200, 200, 129]\n",
      "(129, 200, 200)\n",
      "[200, 200, 155]\n",
      "(155, 200, 200)\n",
      "[200, 200, 129]\n",
      "(129, 200, 200)\n",
      "[200, 200, 155]\n",
      "(155, 200, 200)\n",
      "[200, 200, 129]\n",
      "(129, 200, 200)\n",
      "[200, 200, 155]\n",
      "(155, 200, 200)\n",
      "[200, 200, 129]\n",
      "(129, 200, 200)\n",
      "[208, 230, 140]\n",
      "(140, 230, 208)\n",
      "[208, 230, 140]\n",
      "(140, 230, 208)\n",
      "[194, 230, 172]\n",
      "(172, 230, 194)\n",
      "[194, 230, 172]\n",
      "(172, 230, 194)\n",
      "[194, 230, 172]\n",
      "(172, 230, 194)\n",
      "[180, 180, 126]\n",
      "(126, 180, 180)\n",
      "[200, 200, 126]\n",
      "(126, 200, 200)\n",
      "[180, 180, 126]\n",
      "(126, 180, 180)\n",
      "[200, 200, 126]\n",
      "(126, 200, 200)\n",
      "[208, 230, 140]\n",
      "(140, 230, 208)\n",
      "[208, 230, 140]\n",
      "(140, 230, 208)\n",
      "[180, 230, 110]\n",
      "(110, 230, 180)\n",
      "[180, 230, 110]\n",
      "(110, 230, 180)\n",
      "[289, 220, 148]\n",
      "(148, 220, 289)\n",
      "[289, 220, 148]\n",
      "(148, 220, 289)\n",
      "[200, 200, 126]\n",
      "(126, 200, 200)\n",
      "[200, 200, 126]\n",
      "(126, 200, 200)\n",
      "[200, 200, 126]\n",
      "(126, 200, 200)\n",
      "[200, 200, 126]\n",
      "(126, 200, 200)\n",
      "[208, 230, 140]\n",
      "(140, 230, 208)\n",
      "[208, 230, 140]\n",
      "(140, 230, 208)\n",
      "[208, 230, 140]\n",
      "(140, 230, 208)\n",
      "[206, 230, 148]\n",
      "(148, 230, 206)\n",
      "[206, 230, 148]\n",
      "(148, 230, 206)\n",
      "[206, 230, 148]\n",
      "(148, 230, 206)\n",
      "[200, 200, 155]\n",
      "(155, 200, 200)\n",
      "[200, 200, 129]\n",
      "(129, 200, 200)\n",
      "[200, 200, 155]\n",
      "(155, 200, 200)\n",
      "[200, 200, 129]\n",
      "(129, 200, 200)\n",
      "[200, 200, 155]\n",
      "(155, 200, 200)\n",
      "[200, 200, 129]\n",
      "(129, 200, 200)\n",
      "[200, 200, 155]\n",
      "(155, 200, 200)\n",
      "[200, 200, 129]\n",
      "(129, 200, 200)\n",
      "[180, 230, 120]\n",
      "(120, 230, 180)\n",
      "[180, 230, 120]\n",
      "(120, 230, 180)\n",
      "[200, 200, 126]\n",
      "(126, 200, 200)\n",
      "[200, 200, 126]\n",
      "(126, 200, 200)\n",
      "[200, 200, 126]\n",
      "(126, 200, 200)\n",
      "[200, 200, 126]\n",
      "(126, 200, 200)\n",
      "[208, 230, 144]\n",
      "(144, 230, 208)\n",
      "[208, 230, 144]\n",
      "(144, 230, 208)\n",
      "[200, 200, 155]\n",
      "(155, 200, 200)\n",
      "[200, 200, 126]\n",
      "(126, 200, 200)\n",
      "[200, 200, 155]\n",
      "(155, 200, 200)\n",
      "[200, 200, 126]\n",
      "(126, 200, 200)\n",
      "[180, 180, 126]\n",
      "(126, 180, 180)\n",
      "[200, 200, 133]\n",
      "(133, 200, 200)\n",
      "[180, 180, 126]\n",
      "(126, 180, 180)\n",
      "[200, 200, 133]\n",
      "(133, 200, 200)\n",
      "[180, 180, 126]\n",
      "(126, 180, 180)\n",
      "[200, 200, 133]\n",
      "(133, 200, 200)\n",
      "[200, 200, 155]\n",
      "(155, 200, 200)\n",
      "[200, 200, 129]\n",
      "(129, 200, 200)\n",
      "[200, 200, 155]\n",
      "(155, 200, 200)\n",
      "[200, 200, 129]\n",
      "(129, 200, 200)\n",
      "[200, 200, 176]\n",
      "(176, 200, 200)\n",
      "[220, 220, 142]\n",
      "(142, 220, 220)\n",
      "[200, 200, 176]\n",
      "(176, 200, 200)\n",
      "[220, 220, 142]\n",
      "(142, 220, 220)\n",
      "[208, 230, 140]\n",
      "(140, 230, 208)\n",
      "[208, 230, 140]\n",
      "(140, 230, 208)\n",
      "[180, 180, 126]\n",
      "(126, 180, 180)\n",
      "[200, 200, 126]\n",
      "(126, 200, 200)\n",
      "[180, 180, 126]\n",
      "(126, 180, 180)\n",
      "[200, 200, 126]\n",
      "(126, 200, 200)\n",
      "[200, 200, 126]\n",
      "(126, 200, 200)\n",
      "[200, 200, 133]\n",
      "(133, 200, 200)\n",
      "[200, 200, 126]\n",
      "(126, 200, 200)\n",
      "[200, 200, 133]\n",
      "(133, 200, 200)\n",
      "[200, 200, 155]\n",
      "(155, 200, 200)\n",
      "[200, 200, 129]\n",
      "(129, 200, 200)\n",
      "[200, 200, 155]\n",
      "(155, 200, 200)\n",
      "[200, 200, 129]\n",
      "(129, 200, 200)\n",
      "[200, 200, 155]\n",
      "(155, 200, 200)\n",
      "[200, 200, 129]\n",
      "(129, 200, 200)\n",
      "[200, 200, 155]\n",
      "(155, 200, 200)\n",
      "[200, 200, 129]\n",
      "(129, 200, 200)\n",
      "[200, 200, 155]\n",
      "(155, 200, 200)\n",
      "[200, 200, 129]\n",
      "(129, 200, 200)\n",
      "[200, 200, 155]\n",
      "(155, 200, 200)\n",
      "[200, 200, 129]\n",
      "(129, 200, 200)\n",
      "[200, 200, 155]\n",
      "(155, 200, 200)\n",
      "[200, 200, 129]\n",
      "(129, 200, 200)\n",
      "[200, 200, 155]\n",
      "(155, 200, 200)\n",
      "[200, 200, 129]\n",
      "(129, 200, 200)\n",
      "[200, 200, 155]\n",
      "(155, 200, 200)\n",
      "[200, 200, 129]\n",
      "(129, 200, 200)\n",
      "[200, 200, 155]\n",
      "(155, 200, 200)\n",
      "[200, 200, 129]\n",
      "(129, 200, 200)\n",
      "[208, 230, 140]\n",
      "(140, 230, 208)\n",
      "[208, 230, 140]\n",
      "(140, 230, 208)\n",
      "[200, 200, 155]\n",
      "(155, 200, 200)\n",
      "[200, 200, 149]\n",
      "(149, 200, 200)\n",
      "[200, 200, 155]\n",
      "(155, 200, 200)\n",
      "[200, 200, 149]\n",
      "(149, 200, 200)\n",
      "[200, 200, 155]\n",
      "(155, 200, 200)\n",
      "[200, 200, 129]\n",
      "(129, 200, 200)\n",
      "[200, 200, 155]\n",
      "(155, 200, 200)\n",
      "[200, 200, 129]\n",
      "(129, 200, 200)\n",
      "[208, 230, 148]\n",
      "(148, 230, 208)\n",
      "[208, 230, 148]\n",
      "(148, 230, 208)\n",
      "[200, 200, 155]\n",
      "(155, 200, 200)\n",
      "[200, 200, 129]\n",
      "(129, 200, 200)\n",
      "[200, 200, 155]\n",
      "(155, 200, 200)\n",
      "[200, 200, 129]\n",
      "(129, 200, 200)\n",
      "[200, 200, 155]\n",
      "(155, 200, 200)\n",
      "[200, 200, 129]\n",
      "(129, 200, 200)\n",
      "[200, 200, 162]\n",
      "(162, 200, 200)\n",
      "[200, 200, 162]\n",
      "(162, 200, 200)\n",
      "[200, 200, 162]\n",
      "(162, 200, 200)\n",
      "[200, 200, 162]\n",
      "(162, 200, 200)\n",
      "[200, 200, 148]\n",
      "(148, 200, 200)\n",
      "[200, 200, 126]\n",
      "(126, 200, 200)\n",
      "[200, 200, 148]\n",
      "(148, 200, 200)\n",
      "[200, 200, 126]\n",
      "(126, 200, 200)\n",
      "[208, 230, 140]\n",
      "(140, 230, 208)\n",
      "[208, 230, 140]\n",
      "(140, 230, 208)\n",
      "[200, 200, 169]\n",
      "(169, 200, 200)\n",
      "[200, 200, 129]\n",
      "(129, 200, 200)\n",
      "[200, 200, 169]\n",
      "(169, 200, 200)\n",
      "[200, 200, 129]\n",
      "(129, 200, 200)\n",
      "[200, 200, 169]\n",
      "(169, 200, 200)\n",
      "[200, 200, 129]\n",
      "(129, 200, 200)\n",
      "[200, 200, 155]\n",
      "(155, 200, 200)\n",
      "[200, 200, 129]\n",
      "(129, 200, 200)\n",
      "[200, 200, 155]\n",
      "(155, 200, 200)\n",
      "[200, 200, 129]\n",
      "(129, 200, 200)\n",
      "[200, 200, 155]\n",
      "(155, 200, 200)\n",
      "[200, 200, 129]\n",
      "(129, 200, 200)\n",
      "[180, 180, 140]\n",
      "(140, 180, 180)\n",
      "[200, 200, 140]\n",
      "(140, 200, 200)\n",
      "[180, 180, 140]\n",
      "(140, 180, 180)\n",
      "[200, 200, 140]\n",
      "(140, 200, 200)\n",
      "[200, 200, 169]\n",
      "(169, 200, 200)\n",
      "[200, 200, 129]\n",
      "(129, 200, 200)\n",
      "[200, 200, 169]\n",
      "(169, 200, 200)\n",
      "[200, 200, 129]\n",
      "(129, 200, 200)\n",
      "[200, 200, 126]\n",
      "(126, 200, 200)\n",
      "[200, 200, 126]\n",
      "(126, 200, 200)\n",
      "[200, 200, 126]\n",
      "(126, 200, 200)\n",
      "[200, 200, 126]\n",
      "(126, 200, 200)\n",
      "[200, 200, 155]\n",
      "(155, 200, 200)\n",
      "[200, 200, 142]\n",
      "(142, 200, 200)\n",
      "[200, 200, 155]\n",
      "(155, 200, 200)\n",
      "[200, 200, 142]\n",
      "(142, 200, 200)\n",
      "[200, 200, 155]\n",
      "(155, 200, 200)\n",
      "[200, 200, 129]\n",
      "(129, 200, 200)\n",
      "[200, 200, 155]\n",
      "(155, 200, 200)\n",
      "[200, 200, 129]\n",
      "(129, 200, 200)\n",
      "[200, 200, 155]\n",
      "(155, 200, 200)\n",
      "[200, 200, 129]\n",
      "(129, 200, 200)\n",
      "[200, 200, 155]\n",
      "(155, 200, 200)\n",
      "[200, 200, 129]\n",
      "(129, 200, 200)\n",
      "[208, 230, 140]\n",
      "(140, 230, 208)\n",
      "[208, 230, 140]\n",
      "(140, 230, 208)\n",
      "[200, 200, 155]\n",
      "(155, 200, 200)\n",
      "[200, 200, 129]\n",
      "(129, 200, 200)\n",
      "[200, 200, 155]\n",
      "(155, 200, 200)\n",
      "[200, 200, 129]\n",
      "(129, 200, 200)\n",
      "[200, 200, 155]\n",
      "(155, 200, 200)\n",
      "[200, 200, 129]\n",
      "(129, 200, 200)\n",
      "[200, 200, 155]\n",
      "(155, 200, 200)\n",
      "[200, 200, 129]\n",
      "(129, 200, 200)\n",
      "[200, 200, 126]\n",
      "(126, 200, 200)\n",
      "[200, 200, 126]\n",
      "(126, 200, 200)\n",
      "[200, 200, 126]\n",
      "(126, 200, 200)\n",
      "[200, 200, 126]\n",
      "(126, 200, 200)\n",
      "[208, 230, 140]\n",
      "(140, 230, 208)\n",
      "[208, 230, 140]\n",
      "(140, 230, 208)\n",
      "[208, 230, 180]\n",
      "(180, 230, 208)\n",
      "[208, 230, 180]\n",
      "(180, 230, 208)\n",
      "[180, 180, 126]\n",
      "(126, 180, 180)\n",
      "[200, 200, 126]\n",
      "(126, 200, 200)\n",
      "[180, 180, 126]\n",
      "(126, 180, 180)\n",
      "[200, 200, 126]\n",
      "(126, 200, 200)\n",
      "[180, 180, 126]\n",
      "(126, 180, 180)\n",
      "[200, 200, 126]\n",
      "(126, 200, 200)\n",
      "[200, 200, 155]\n",
      "(155, 200, 200)\n",
      "[200, 200, 129]\n",
      "(129, 200, 200)\n",
      "[200, 200, 155]\n",
      "(155, 200, 200)\n",
      "[200, 200, 129]\n",
      "(129, 200, 200)\n",
      "[200, 200, 155]\n",
      "(155, 200, 200)\n",
      "[200, 200, 129]\n",
      "(129, 200, 200)\n",
      "[200, 200, 155]\n",
      "(155, 200, 200)\n",
      "[200, 200, 148]\n",
      "(148, 200, 200)\n",
      "[200, 200, 155]\n",
      "(155, 200, 200)\n",
      "[200, 200, 148]\n",
      "(148, 200, 200)\n",
      "[208, 230, 140]\n",
      "(140, 230, 208)\n",
      "[208, 230, 140]\n",
      "(140, 230, 208)\n",
      "[180, 180, 126]\n",
      "(126, 180, 180)\n",
      "[200, 200, 126]\n",
      "(126, 200, 200)\n",
      "[180, 180, 126]\n",
      "(126, 180, 180)\n",
      "[200, 200, 126]\n",
      "(126, 200, 200)\n",
      "[200, 200, 126]\n",
      "(126, 200, 200)\n",
      "[200, 200, 126]\n",
      "(126, 200, 200)\n",
      "[200, 200, 126]\n",
      "(126, 200, 200)\n",
      "[200, 200, 126]\n",
      "(126, 200, 200)\n",
      "[200, 200, 126]\n",
      "(126, 200, 200)\n",
      "[200, 200, 140]\n",
      "(140, 200, 200)\n",
      "[200, 200, 126]\n",
      "(126, 200, 200)\n",
      "[200, 200, 140]\n",
      "(140, 200, 200)\n",
      "[200, 200, 126]\n",
      "(126, 200, 200)\n",
      "[200, 200, 126]\n",
      "(126, 200, 200)\n",
      "[200, 200, 126]\n",
      "(126, 200, 200)\n",
      "[200, 200, 126]\n",
      "(126, 200, 200)\n",
      "[208, 230, 140]\n",
      "(140, 230, 208)\n",
      "[208, 230, 140]\n",
      "(140, 230, 208)\n",
      "[200, 200, 155]\n",
      "(155, 200, 200)\n",
      "[200, 200, 129]\n",
      "(129, 200, 200)\n",
      "[200, 200, 155]\n",
      "(155, 200, 200)\n",
      "[200, 200, 129]\n",
      "(129, 200, 200)\n",
      "[200, 200, 155]\n",
      "(155, 200, 200)\n",
      "[200, 200, 129]\n",
      "(129, 200, 200)\n",
      "[200, 200, 155]\n",
      "(155, 200, 200)\n",
      "[200, 200, 129]\n",
      "(129, 200, 200)\n",
      "[206, 230, 148]\n",
      "(148, 230, 206)\n",
      "[206, 230, 148]\n",
      "(148, 230, 206)\n",
      "[200, 200, 126]\n",
      "(126, 200, 200)\n",
      "[200, 200, 126]\n",
      "(126, 200, 200)\n",
      "[200, 200, 126]\n",
      "(126, 200, 200)\n",
      "[200, 200, 126]\n",
      "(126, 200, 200)\n",
      "[200, 200, 155]\n",
      "(155, 200, 200)\n",
      "[200, 200, 129]\n",
      "(129, 200, 200)\n",
      "[200, 200, 155]\n",
      "(155, 200, 200)\n",
      "[200, 200, 129]\n",
      "(129, 200, 200)\n",
      "[200, 200, 155]\n",
      "(155, 200, 200)\n",
      "[200, 200, 135]\n",
      "(135, 200, 200)\n",
      "[200, 200, 155]\n",
      "(155, 200, 200)\n",
      "[200, 200, 135]\n",
      "(135, 200, 200)\n",
      "[200, 200, 155]\n",
      "(155, 200, 200)\n",
      "[200, 200, 135]\n",
      "(135, 200, 200)\n",
      "[180, 180, 126]\n",
      "(126, 180, 180)\n",
      "[200, 200, 126]\n",
      "(126, 200, 200)\n",
      "[180, 180, 126]\n",
      "(126, 180, 180)\n",
      "[200, 200, 126]\n",
      "(126, 200, 200)\n",
      "[180, 180, 126]\n",
      "(126, 180, 180)\n",
      "[200, 200, 126]\n",
      "(126, 200, 200)\n",
      "[208, 230, 140]\n",
      "(140, 230, 208)\n",
      "[208, 230, 140]\n",
      "(140, 230, 208)\n",
      "[200, 200, 155]\n",
      "(155, 200, 200)\n",
      "[200, 200, 129]\n",
      "(129, 200, 200)\n",
      "[200, 200, 155]\n",
      "(155, 200, 200)\n",
      "[200, 200, 129]\n",
      "(129, 200, 200)\n",
      "[200, 200, 155]\n",
      "(155, 200, 200)\n",
      "[200, 200, 129]\n",
      "(129, 200, 200)\n",
      "[200, 200, 155]\n",
      "(155, 200, 200)\n",
      "[200, 200, 129]\n",
      "(129, 200, 200)\n",
      "[200, 200, 126]\n",
      "(126, 200, 200)\n",
      "[200, 200, 126]\n",
      "(126, 200, 200)\n",
      "[200, 200, 126]\n",
      "(126, 200, 200)\n",
      "[200, 200, 126]\n",
      "(126, 200, 200)\n",
      "[200, 200, 126]\n",
      "(126, 200, 200)\n",
      "[200, 200, 126]\n",
      "(126, 200, 200)\n",
      "[200, 200, 126]\n",
      "(126, 200, 200)\n",
      "[200, 200, 126]\n",
      "(126, 200, 200)\n",
      "[208, 230, 148]\n",
      "(148, 230, 208)\n",
      "[208, 230, 148]\n",
      "(148, 230, 208)\n",
      "[208, 230, 160]\n",
      "(160, 230, 208)\n",
      "[208, 230, 160]\n",
      "(160, 230, 208)\n",
      "[200, 200, 155]\n",
      "(155, 200, 200)\n",
      "[200, 200, 129]\n",
      "(129, 200, 200)\n",
      "[200, 200, 155]\n",
      "(155, 200, 200)\n",
      "[200, 200, 129]\n",
      "(129, 200, 200)\n",
      "[289, 220, 155]\n",
      "(155, 220, 289)\n",
      "[289, 220, 155]\n",
      "(155, 220, 289)\n",
      "[208, 230, 140]\n",
      "(140, 230, 208)\n",
      "[208, 230, 140]\n",
      "(140, 230, 208)\n",
      "[180, 180, 126]\n",
      "(126, 180, 180)\n",
      "[200, 200, 126]\n",
      "(126, 200, 200)\n",
      "[180, 180, 126]\n",
      "(126, 180, 180)\n",
      "[200, 200, 126]\n",
      "(126, 200, 200)\n",
      "[180, 180, 126]\n",
      "(126, 180, 180)\n",
      "[200, 200, 126]\n",
      "(126, 200, 200)\n",
      "[180, 180, 126]\n",
      "(126, 180, 180)\n",
      "[200, 200, 126]\n",
      "(126, 200, 200)\n",
      "[208, 230, 140]\n",
      "(140, 230, 208)\n",
      "[208, 230, 140]\n",
      "(140, 230, 208)\n",
      "[208, 230, 140]\n",
      "(140, 230, 208)\n",
      "[208, 230, 140]\n",
      "(140, 230, 208)\n",
      "[200, 200, 140]\n",
      "(140, 200, 200)\n",
      "[200, 200, 140]\n",
      "(140, 200, 200)\n",
      "[200, 200, 140]\n",
      "(140, 200, 200)\n",
      "[200, 200, 140]\n",
      "(140, 200, 200)\n",
      "[200, 200, 140]\n",
      "(140, 200, 200)\n",
      "[200, 200, 140]\n",
      "(140, 200, 200)\n",
      "[200, 200, 155]\n",
      "(155, 200, 200)\n",
      "[200, 200, 129]\n",
      "(129, 200, 200)\n",
      "[200, 200, 155]\n",
      "(155, 200, 200)\n",
      "[200, 200, 129]\n",
      "(129, 200, 200)\n",
      "[200, 200, 155]\n",
      "(155, 200, 200)\n",
      "[200, 200, 135]\n",
      "(135, 200, 200)\n",
      "[200, 200, 155]\n",
      "(155, 200, 200)\n",
      "[200, 200, 135]\n",
      "(135, 200, 200)\n",
      "[208, 230, 140]\n",
      "(140, 230, 208)\n",
      "[208, 230, 140]\n",
      "(140, 230, 208)\n",
      "[218, 240, 148]\n",
      "(148, 240, 218)\n",
      "[218, 240, 148]\n",
      "(148, 240, 218)\n",
      "[218, 240, 148]\n",
      "(148, 240, 218)\n",
      "[194, 230, 244]\n",
      "(244, 230, 194)\n",
      "[194, 230, 244]\n",
      "(244, 230, 194)\n",
      "[208, 230, 180]\n",
      "(180, 230, 208)\n",
      "[208, 230, 180]\n",
      "(180, 230, 208)\n",
      "[208, 230, 180]\n",
      "(180, 230, 208)\n",
      "[208, 230, 140]\n",
      "(140, 230, 208)\n",
      "[208, 230, 140]\n",
      "(140, 230, 208)\n",
      "[200, 200, 155]\n",
      "(155, 200, 200)\n",
      "[200, 200, 129]\n",
      "(129, 200, 200)\n",
      "[200, 200, 155]\n",
      "(155, 200, 200)\n",
      "[200, 200, 129]\n",
      "(129, 200, 200)\n",
      "[200, 200, 155]\n",
      "(155, 200, 200)\n",
      "[200, 200, 129]\n",
      "(129, 200, 200)\n",
      "[200, 200, 155]\n",
      "(155, 200, 200)\n",
      "[200, 200, 129]\n",
      "(129, 200, 200)\n",
      "[208, 230, 140]\n",
      "(140, 230, 208)\n",
      "[208, 230, 140]\n",
      "(140, 230, 208)\n",
      "[200, 200, 180]\n",
      "(180, 200, 200)\n",
      "[220, 220, 142]\n",
      "(142, 220, 220)\n",
      "[200, 200, 180]\n",
      "(180, 200, 200)\n",
      "[220, 220, 142]\n",
      "(142, 220, 220)\n",
      "[200, 200, 180]\n",
      "(180, 200, 200)\n",
      "[220, 220, 142]\n",
      "(142, 220, 220)\n",
      "[180, 180, 126]\n",
      "(126, 180, 180)\n",
      "[200, 200, 126]\n",
      "(126, 200, 200)\n",
      "[180, 180, 126]\n",
      "(126, 180, 180)\n",
      "[200, 200, 126]\n",
      "(126, 200, 200)\n",
      "[200, 200, 155]\n",
      "(155, 200, 200)\n",
      "[200, 200, 129]\n",
      "(129, 200, 200)\n",
      "[200, 200, 155]\n",
      "(155, 200, 200)\n",
      "[200, 200, 129]\n",
      "(129, 200, 200)\n",
      "[180, 180, 126]\n",
      "(126, 180, 180)\n",
      "[200, 200, 126]\n",
      "(126, 200, 200)\n",
      "[180, 180, 126]\n",
      "(126, 180, 180)\n",
      "[200, 200, 126]\n",
      "(126, 200, 200)\n",
      "[208, 230, 140]\n",
      "(140, 230, 208)\n",
      "[208, 230, 140]\n",
      "(140, 230, 208)\n",
      "[208, 230, 140]\n",
      "(140, 230, 208)\n",
      "[208, 230, 140]\n",
      "(140, 230, 208)\n",
      "[230, 208, 200]\n",
      "(200, 208, 230)\n",
      "[230, 208, 200]\n",
      "(200, 208, 230)\n",
      "[200, 200, 155]\n",
      "(155, 200, 200)\n",
      "[200, 200, 129]\n",
      "(129, 200, 200)\n",
      "[200, 200, 155]\n",
      "(155, 200, 200)\n",
      "[200, 200, 129]\n",
      "(129, 200, 200)\n",
      "[200, 200, 126]\n",
      "(126, 200, 200)\n",
      "[200, 200, 126]\n",
      "(126, 200, 200)\n",
      "[200, 200, 126]\n",
      "(126, 200, 200)\n",
      "[200, 200, 126]\n",
      "(126, 200, 200)\n",
      "[200, 200, 155]\n",
      "(155, 200, 200)\n",
      "[200, 200, 129]\n",
      "(129, 200, 200)\n",
      "[200, 200, 155]\n",
      "(155, 200, 200)\n",
      "[200, 200, 129]\n",
      "(129, 200, 200)\n",
      "[200, 200, 155]\n",
      "(155, 200, 200)\n",
      "[200, 200, 129]\n",
      "(129, 200, 200)\n",
      "[289, 220, 140]\n",
      "(140, 220, 289)\n",
      "[289, 220, 140]\n",
      "(140, 220, 289)\n",
      "[289, 220, 140]\n",
      "(140, 220, 289)\n",
      "[289, 220, 140]\n",
      "(140, 220, 289)\n",
      "[208, 230, 180]\n",
      "(180, 230, 208)\n",
      "[208, 230, 180]\n",
      "(180, 230, 208)\n",
      "[208, 230, 180]\n",
      "(180, 230, 208)\n",
      "[200, 200, 155]\n",
      "(155, 200, 200)\n",
      "[200, 200, 129]\n",
      "(129, 200, 200)\n",
      "[200, 200, 155]\n",
      "(155, 200, 200)\n",
      "[200, 200, 129]\n",
      "(129, 200, 200)\n",
      "[200, 200, 155]\n",
      "(155, 200, 200)\n",
      "[200, 200, 129]\n",
      "(129, 200, 200)\n",
      "[289, 220, 140]\n",
      "(140, 220, 289)\n",
      "[289, 220, 140]\n",
      "(140, 220, 289)\n",
      "[208, 230, 140]\n",
      "(140, 230, 208)\n",
      "[208, 230, 140]\n",
      "(140, 230, 208)\n",
      "[208, 230, 140]\n",
      "(140, 230, 208)\n",
      "[208, 230, 140]\n",
      "(140, 230, 208)\n",
      "[200, 200, 126]\n",
      "(126, 200, 200)\n",
      "[200, 200, 133]\n",
      "(133, 200, 200)\n",
      "[200, 200, 126]\n",
      "(126, 200, 200)\n",
      "[200, 200, 133]\n",
      "(133, 200, 200)\n",
      "[200, 200, 162]\n",
      "(162, 200, 200)\n",
      "[200, 200, 148]\n",
      "(148, 200, 200)\n",
      "[200, 200, 162]\n",
      "(162, 200, 200)\n",
      "[200, 200, 148]\n",
      "(148, 200, 200)\n",
      "[200, 200, 155]\n",
      "(155, 200, 200)\n",
      "[200, 200, 129]\n",
      "(129, 200, 200)\n",
      "[200, 200, 155]\n",
      "(155, 200, 200)\n",
      "[200, 200, 129]\n",
      "(129, 200, 200)\n",
      "[208, 230, 140]\n",
      "(140, 230, 208)\n",
      "[208, 230, 140]\n",
      "(140, 230, 208)\n",
      "[200, 200, 155]\n",
      "(155, 200, 200)\n",
      "[200, 200, 129]\n",
      "(129, 200, 200)\n",
      "[200, 200, 155]\n",
      "(155, 200, 200)\n",
      "[200, 200, 129]\n",
      "(129, 200, 200)\n",
      "[230, 230, 164]\n",
      "(164, 230, 230)\n",
      "[230, 230, 164]\n",
      "(164, 230, 230)\n",
      "[208, 230, 140]\n",
      "(140, 230, 208)\n",
      "[208, 230, 140]\n",
      "(140, 230, 208)\n",
      "[208, 230, 140]\n",
      "(140, 230, 208)\n",
      "[208, 230, 140]\n",
      "(140, 230, 208)\n",
      "[208, 230, 140]\n",
      "(140, 230, 208)\n",
      "[200, 200, 155]\n",
      "(155, 200, 200)\n",
      "[200, 200, 129]\n",
      "(129, 200, 200)\n",
      "[200, 200, 155]\n",
      "(155, 200, 200)\n",
      "[200, 200, 129]\n",
      "(129, 200, 200)\n",
      "[200, 200, 155]\n",
      "(155, 200, 200)\n",
      "[200, 200, 129]\n",
      "(129, 200, 200)\n",
      "[208, 230, 140]\n",
      "(140, 230, 208)\n",
      "[208, 230, 140]\n",
      "(140, 230, 208)\n",
      "[208, 230, 140]\n",
      "(140, 230, 208)\n",
      "[208, 230, 140]\n",
      "(140, 230, 208)\n",
      "[208, 230, 140]\n",
      "(140, 230, 208)\n",
      "[208, 230, 180]\n",
      "(180, 230, 208)\n",
      "[208, 230, 180]\n",
      "(180, 230, 208)\n",
      "[208, 230, 180]\n",
      "(180, 230, 208)\n",
      "[208, 230, 180]\n",
      "(180, 230, 208)\n",
      "[208, 230, 140]\n",
      "(140, 230, 208)\n",
      "[208, 230, 140]\n",
      "(140, 230, 208)\n",
      "[180, 180, 126]\n",
      "(126, 180, 180)\n",
      "[200, 200, 126]\n",
      "(126, 200, 200)\n",
      "[180, 180, 126]\n",
      "(126, 180, 180)\n",
      "[200, 200, 126]\n",
      "(126, 200, 200)\n",
      "[200, 200, 155]\n",
      "(155, 200, 200)\n",
      "[200, 200, 129]\n",
      "(129, 200, 200)\n",
      "[200, 200, 155]\n",
      "(155, 200, 200)\n",
      "[200, 200, 129]\n",
      "(129, 200, 200)\n",
      "[200, 200, 126]\n",
      "(126, 200, 200)\n",
      "[200, 200, 126]\n",
      "(126, 200, 200)\n",
      "[200, 200, 126]\n",
      "(126, 200, 200)\n",
      "[200, 200, 126]\n",
      "(126, 200, 200)\n",
      "[208, 230, 96]\n",
      "(96, 230, 208)\n",
      "[200, 200, 126]\n",
      "(126, 200, 200)\n",
      "[208, 230, 96]\n",
      "(96, 230, 208)\n",
      "[200, 200, 126]\n",
      "(126, 200, 200)\n",
      "[200, 200, 126]\n",
      "(126, 200, 200)\n",
      "[200, 200, 126]\n",
      "(126, 200, 200)\n",
      "[200, 200, 126]\n",
      "(126, 200, 200)\n",
      "[200, 200, 126]\n",
      "(126, 200, 200)\n",
      "[180, 180, 126]\n",
      "(126, 180, 180)\n",
      "[200, 200, 126]\n",
      "(126, 200, 200)\n",
      "[180, 180, 126]\n",
      "(126, 180, 180)\n",
      "[200, 200, 126]\n",
      "(126, 200, 200)\n",
      "[200, 200, 155]\n",
      "(155, 200, 200)\n",
      "[200, 200, 129]\n",
      "(129, 200, 200)\n",
      "[200, 200, 155]\n",
      "(155, 200, 200)\n",
      "[200, 200, 129]\n",
      "(129, 200, 200)\n",
      "[200, 200, 155]\n",
      "(155, 200, 200)\n",
      "[200, 200, 129]\n",
      "(129, 200, 200)\n",
      "[200, 200, 155]\n",
      "(155, 200, 200)\n",
      "[200, 200, 129]\n",
      "(129, 200, 200)\n"
     ]
    }
   ],
   "source": [
    "# -*- coding: utf-8 -*-\n",
    "\"\"\"\n",
    "Created on Mon Mar 25 14:32:24 2024\n",
    "\n",
    "@author: MaB\n",
    "\"\"\"\n",
    "import numpy as np\n",
    "import SimpleITK as sitk\n",
    "import os\n",
    "\n",
    "def resample_image(itk_image, out_spacing=[1.0, 1.0, 1.0], is_label=False):\n",
    "    original_spacing = itk_image.GetSpacing()\n",
    "    \n",
    "    original_size = itk_image.GetSize()\n",
    "    out_size = [\n",
    "        int(np.round(original_size[0] * (original_spacing[0] / out_spacing[0]))),\n",
    "        int(np.round(original_size[1] * (original_spacing[1] / out_spacing[1]))),\n",
    "        int(np.round(original_size[2] * (original_spacing[2] / out_spacing[2])))\n",
    "    ]\n",
    "  \n",
    "    '''\n",
    "    # keep the same size with Spacing_function in MONAI.  \n",
    "    out_size = [\n",
    "        int(original_size[0] * (original_spacing[0] / out_spacing[0])),\n",
    "        int(original_size[1] * (original_spacing[1] / out_spacing[1])),\n",
    "        int(original_size[2] * (original_spacing[2] / out_spacing[2]))\n",
    "    ]\n",
    "    '''\n",
    "    \n",
    "    print ( out_size )\n",
    "\n",
    "    resample = sitk.ResampleImageFilter()\n",
    "    resample.SetOutputSpacing(out_spacing)\n",
    "    resample.SetSize(out_size)\n",
    "    resample.SetOutputDirection(itk_image.GetDirection())\n",
    "    resample.SetOutputOrigin(itk_image.GetOrigin())\n",
    "    resample.SetTransform(sitk.Transform())\n",
    "    #resample.SetDefaultPixelValue(itk_image.GetPixelIDValue())\n",
    "    \n",
    "    if is_label:\n",
    "        resample.SetInterpolator(sitk.sitkNearestNeighbor)\n",
    "        resample.SetDefaultPixelValue( 0 )\n",
    "    else:\n",
    "        resample.SetInterpolator(sitk.sitkLinear)\n",
    "        resample.SetDefaultPixelValue( np.min( sitk.GetArrayFromImage(itk_image)) )\n",
    "\n",
    "    return resample.Execute(itk_image) \n",
    "\n",
    "\n",
    "\n",
    "# for all patients together for t1 and t2\n",
    "# load path\n",
    "path_to_sitk_image = \"/Intern Programming/data/UMCGOPC_MRI_nii_zscoreinHNmask\"\n",
    "# save path\n",
    "path_to_save  = r'E:\\Intern Programming\\data\\output\\UMCGOPC_MRI_nii_zscoreinHNmask_1mm'\n",
    "image_names = os.listdir( path_to_sitk_image )\n",
    "\n",
    "image_names =  sorted( image_names )\n",
    "\n",
    "for image_name in image_names:\n",
    "    image_name_long = os.path.join( path_to_sitk_image, image_name )\n",
    "    image =  sitk.ReadImage( image_name_long )\n",
    "    newimage  = resample_image( image, out_spacing = [1.0, 1.0, 1.0], is_label = False )\n",
    "    sitk.WriteImage( newimage, os.path.join( path_to_save, image_name[ 0 : 15] + 'r.nii.gz'  ) )   \n",
    "\n",
    "\n",
    "\n",
    "# for all patients together for t1_gtv and t2_gtv\n",
    "# load path\n",
    "path_to_sitk_image = \"/Intern Programming/data/t1t2_gtv\"\n",
    "path_to_save  = r'E:\\Intern Programming\\data\\output\\t1t2gtv_1mm'\n",
    "image_names = os.listdir( path_to_sitk_image )   \n",
    "\n",
    "image_names =  sorted( image_names )   \n",
    "#image_names = [ 'UMCG-2116597_gtvpttot1.nii.gz' ] \n",
    "\n",
    "for image_name in image_names:   \n",
    "    \n",
    "    image_name_long = os.path.join( path_to_sitk_image, image_name )   \n",
    "    image =  sitk.ReadImage( image_name_long )   \n",
    "    newimage  = resample_image( image, out_spacing = [1.0, 1.0, 1.0], is_label = True )   \n",
    "    \n",
    "    name_part, extension_part = image_name.split('.', 1)   \n",
    "    newimage[ newimage > 0 ] = 1   \n",
    "    \n",
    "    print ( sitk.GetArrayFromImage(newimage).shape )   \n",
    "    sitk.WriteImage( newimage, os.path.join( path_to_save, name_part + 'r.nii.gz'  ) )   \n",
    "\n",
    "    "
   ]
  }
 ],
 "metadata": {
  "kernelspec": {
   "display_name": "Python 3",
   "language": "python",
   "name": "python3"
  },
  "language_info": {
   "codemirror_mode": {
    "name": "ipython",
    "version": 3
   },
   "file_extension": ".py",
   "mimetype": "text/x-python",
   "name": "python",
   "nbconvert_exporter": "python",
   "pygments_lexer": "ipython3",
   "version": "3.9.18"
  }
 },
 "nbformat": 4,
 "nbformat_minor": 2
}
